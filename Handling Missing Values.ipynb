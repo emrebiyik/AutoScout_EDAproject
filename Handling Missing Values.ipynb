{
 "cells": [
  {
   "cell_type": "markdown",
   "id": "476c9c7c-d054-441c-80e7-b81d64464af7",
   "metadata": {},
   "source": [
    "<p style=\"text-align: center;\"><img src=\"https://i.ibb.co/Rpz9L36/clarusway-logo-black.png\" width=\"450\" height=\"200\" class=\"img-fluid\" alt=\"CLRSWY_LOGO\"></p>\n",
    "\n",
    "<p style=\"background-color:#E51A59; font-family:newtimeroman; color:#FDFEFE; font-size:130%; text-align:center; border-radius:10px 10px;\">WAY TO REINVENT YOURSELF</p>\n",
    "\n",
    "<p style=\"background-color:#FDFEFE; font-family:newtimeroman; color:#060108; font-size:300%; text-align:center; border-radius:10px 10px;\">Data Analytics Module Completion Project</p>\n",
    "\n",
    "<p style=\"text-align: center;\"><img src=\"https://i.ibb.co/wJW61Y2/Used-cars.jpg\" width=\"600\" height=\"200\" class=\"img-fluid\" alt=\"AutoScout\"></p>\n",
    "\n",
    "<p style=\"background-color:#FDFEFE; font-family:newtimeroman; color:#060108; font-size:200%; text-align:center; border-radius:10px 10px;\"><mark><u>AutoScout Car Price Prediction Exploratory Data Analysis (EDA) Project</u></mark></p>\n",
    "\n",
    "<p style=\"background-color:#E51A59; font-family:newtimeroman; color:#FDFEFE; font-size:175%; text-align:left; border-radius:0px 0px;\">Introduction</p>\n",
    "\n",
    "<p dir=\"ltr\">Welcome to <b>\"AutoScout Exploratory Data Analysis (EDA) Project\"</b>. This is the project of completing <b>Data Analysis &amp; Data Visualization</b> Courses and a successful hand-over is mandatory for getting certification for both courses. <b>AutoScout</b> data used in this project scraped from the Website of an online car trading company in 2022, and contains many features of 13 different car makes including 594 models. In this project, you will have the opportunity to apply many commonly used algorithms for Data Cleaning and Exploratory Data Analysis by using a variety of Python libraries, such as <a href=\"https://lms.clarusway.com/course/view.php?id=37&amp;section=1\" target=\"_blank\">Numpy</a>, <a href=\"https://lms.clarusway.com/course/view.php?id=37&amp;section=2\" target=\"_blank\">Pandas</a>, <a href=\"https://lms.clarusway.com/course/view.php?id=38&amp;section=1\" target=\"_blank\">Matplotlib</a>, <a href=\"https://lms.clarusway.com/course/view.php?id=38&amp;section=2\" target=\"_blank\">Seaborn</a>, <a href=\"https://scipy.org/\" target=\"_blank\">Scipy</a>, and then you will get a clean dataset for your analysis and predictive modelling in Machine Learning Path. So you will have the chance to use all the skills you have already learned in the Data Analysis and Visualization courses.</p>\n",
    "\n",
    "<p dir=\"ltr\"><b>In this context, the project consists of <mark><u>3 parts</u></mark> in general:</b></p>\n",
    "\n",
    "<ol>\n",
    "    <li><b>The first part</b> is related to 'Data Cleaning'. It deals with Incorrect Headers, Incorrect Format, Anomalies, and Dropping useless columns.</li>\n",
    "    <li><b>The second part</b> is related to 'Filling Data', in other words 'Imputation'. It deals with Missing Values. Categorical to numeric transformation, Encoding, is done as well.</li>\n",
    "    <li><b>The third part</b> is related to 'Handling Outliers of Data' via Visualization libraries. So, some insights will be extracted.</li>\n",
    "</ol>\n",
    "\n",
    "<p dir=\"ltr\"><mark><b><u>SPECIAL NOTE:</u></b></mark>&nbsp; However, you are <b>free to create your own style</b>. You do <b>NOT</b> have to stick to the steps above. Nevertheless, we, the DA &amp; DV instructors, recommend you study each part separately to create a source notebook for your further studies.&nbsp;</p>\n",
    "\n",
    "<p>In order to build your Portfolio in terms of the&nbsp;<b>GitHub</b>&nbsp;account, you need to push your solution file up to your own&nbsp;<b>repository.</b><br></p>\n",
    "\n",
    "<p><mark><b><b>Please after solving the task/project, commit your solution notebook to your personal GitHub Repository and SUBMIT its GITHUB LINK to the related LMS page.</b><br></b></mark></p>\n",
    "\n",
    "<p><b><mark><b><u>BE NOTED:</u></b></mark></b> Please <mark><b><u>DO NOT FORGET</u></b></mark> to click the <mark><b><u>SUBMIT button on LMS submission page.</u></b></mark></p>\n",
    "\n",
    "<p style=\"background-color:#E51A59; font-family:newtimeroman; color:#FDFEFE; font-size:175%; text-align:left; border-radius:0px 0px;\">👉 Some Reminders on Exploratory Data Analysis (EDA) 👈</p>\n",
    "\n",
    "<p dir=\"ltr\">Exploratory data analysis (EDA) is an especially important activity in the routine of a data analyst or scientist. It enables an in depth understanding of the dataset, define or discard hypotheses and create predictive models on a solid basis. It uses data manipulation techniques and several statistical tools to describe and understand the relationship between variables and how these can impact business. By means of EDA, we can obtain meaningful insights that can impact analysis under the following questions (If a checklist is good enough for pilots to use every flight, it’s good enough for data scientists to use with every dataset).</p>\n",
    "\n",
    "<ol type=\"I\">\n",
    "    <li>What question are you trying to solve (or prove wrong)?</li>\n",
    "    <li>What kind of data do you have?</li>\n",
    "    <li>What’s missing from the data?</li>\n",
    "    <li>Where are the outliers?</li>\n",
    "    <li>How can you add, change or remove features (Feature Engineering) to get more out of your data?</li>\n",
    "</ol>\n",
    "\n",
    "<p dir=\"ltr\"><b>Exploratory data analysis (EDA)</b> is often an <b>iterative brainstorming process</b> where you pose a question, review the data, and develop further questions to investigate before beginning model development work. The image below shows how the brainstorming phase is connected with that of understanding the variables and how this in turn is connected again with the brainstorming phase.</p>\n",
    "\n",
    "<p style=\"text-align: center;\"><img src=\"https://i.ibb.co/k0MC950/EDA-Process.png\"  width=\"300\" height=\"200\" class=\"img-fluid\" alt=\"EDA_Workflow\"></p>\n",
    "\n",
    "<a href=\"https://towardsdatascience.com/exploratory-data-analysis-in-python-a-step-by-step-process-d0dfa6bf94ee\" target=\"_blank\"><u>Image Credit: Andrew D.</u></a>.<br><br>"
   ]
  },
  {
   "cell_type": "code",
   "execution_count": 399,
   "id": "c15ac034-76e6-4889-a45b-9078fa98d258",
   "metadata": {
    "tags": []
   },
   "outputs": [],
   "source": [
    "import re\n",
    "import numpy as np\n",
    "import pandas as pd\n",
    "import matplotlib.pyplot as plt\n",
    "import seaborn as sns\n",
    "import json\n",
    "# Statistics functions\n",
    "from scipy import stats\n",
    "from sklearn.ensemble import RandomForestClassifier\n",
    "from sklearn.model_selection import train_test_split\n",
    "from sklearn.metrics import accuracy_score\n",
    "from sklearn.preprocessing import LabelEncoder"
   ]
  },
  {
   "cell_type": "code",
   "execution_count": 400,
   "id": "78e84a5b-f2b4-406c-8fe4-12a07d0da282",
   "metadata": {
    "tags": []
   },
   "outputs": [],
   "source": [
    "data = pd.read_csv('Cleaned_Data_Autoscout.csv',low_memory=False)"
   ]
  },
  {
   "cell_type": "code",
   "execution_count": 401,
   "id": "33f278cb-17a6-4813-a757-73710564ada0",
   "metadata": {
    "tags": []
   },
   "outputs": [
    {
     "data": {
      "text/html": [
       "<div>\n",
       "<style scoped>\n",
       "    .dataframe tbody tr th:only-of-type {\n",
       "        vertical-align: middle;\n",
       "    }\n",
       "\n",
       "    .dataframe tbody tr th {\n",
       "        vertical-align: top;\n",
       "    }\n",
       "\n",
       "    .dataframe thead th {\n",
       "        text-align: right;\n",
       "    }\n",
       "</style>\n",
       "<table border=\"1\" class=\"dataframe\">\n",
       "  <thead>\n",
       "    <tr style=\"text-align: right;\">\n",
       "      <th></th>\n",
       "      <th>make_model</th>\n",
       "      <th>short_description</th>\n",
       "      <th>make</th>\n",
       "      <th>model</th>\n",
       "      <th>price</th>\n",
       "      <th>body_type</th>\n",
       "      <th>type</th>\n",
       "      <th>doors</th>\n",
       "      <th>country_version</th>\n",
       "      <th>offer_number</th>\n",
       "      <th>...</th>\n",
       "      <th>safety_security_str</th>\n",
       "      <th>extras_str</th>\n",
       "      <th>prev_km</th>\n",
       "      <th>prev_date</th>\n",
       "      <th>owner_count</th>\n",
       "      <th>power_cons_wltp_numeric</th>\n",
       "      <th>power_cons_numeric</th>\n",
       "      <th>fuel_wltp_numeric</th>\n",
       "      <th>co2_wltp_numeric</th>\n",
       "      <th>avg_elec_range</th>\n",
       "    </tr>\n",
       "  </thead>\n",
       "  <tbody>\n",
       "    <tr>\n",
       "      <th>0</th>\n",
       "      <td>Mercedes-Benz A 160</td>\n",
       "      <td>CDi</td>\n",
       "      <td>Mercedes-Benz</td>\n",
       "      <td>A 160</td>\n",
       "      <td>16950.0</td>\n",
       "      <td>Compact</td>\n",
       "      <td>Used</td>\n",
       "      <td>5.0</td>\n",
       "      <td>Spain</td>\n",
       "      <td>7468157</td>\n",
       "      <td>...</td>\n",
       "      <td>NaN</td>\n",
       "      <td>NaN</td>\n",
       "      <td>NaN</td>\n",
       "      <td>NaN</td>\n",
       "      <td>NaN</td>\n",
       "      <td>NaN</td>\n",
       "      <td>NaN</td>\n",
       "      <td>NaN</td>\n",
       "      <td>NaN</td>\n",
       "      <td>NaN</td>\n",
       "    </tr>\n",
       "    <tr>\n",
       "      <th>1</th>\n",
       "      <td>Mercedes-Benz EQE 350</td>\n",
       "      <td>350+</td>\n",
       "      <td>Mercedes-Benz</td>\n",
       "      <td>EQE 350</td>\n",
       "      <td>80900.0</td>\n",
       "      <td>Compact</td>\n",
       "      <td>Pre-registered</td>\n",
       "      <td>4.0</td>\n",
       "      <td>Spain</td>\n",
       "      <td>7054863</td>\n",
       "      <td>...</td>\n",
       "      <td>NaN</td>\n",
       "      <td>NaN</td>\n",
       "      <td>NaN</td>\n",
       "      <td>NaN</td>\n",
       "      <td>NaN</td>\n",
       "      <td>NaN</td>\n",
       "      <td>NaN</td>\n",
       "      <td>NaN</td>\n",
       "      <td>NaN</td>\n",
       "      <td>NaN</td>\n",
       "    </tr>\n",
       "    <tr>\n",
       "      <th>2</th>\n",
       "      <td>Mercedes-Benz A 45 AMG</td>\n",
       "      <td>S 4Matic+ 8G-DCT</td>\n",
       "      <td>Mercedes-Benz</td>\n",
       "      <td>A 45 AMG</td>\n",
       "      <td>69900.0</td>\n",
       "      <td>Compact</td>\n",
       "      <td>Used</td>\n",
       "      <td>5.0</td>\n",
       "      <td>Spain</td>\n",
       "      <td>7410454</td>\n",
       "      <td>...</td>\n",
       "      <td>NaN</td>\n",
       "      <td>NaN</td>\n",
       "      <td>NaN</td>\n",
       "      <td>NaN</td>\n",
       "      <td>NaN</td>\n",
       "      <td>NaN</td>\n",
       "      <td>NaN</td>\n",
       "      <td>NaN</td>\n",
       "      <td>NaN</td>\n",
       "      <td>NaN</td>\n",
       "    </tr>\n",
       "    <tr>\n",
       "      <th>3</th>\n",
       "      <td>Mercedes-Benz A 35 AMG</td>\n",
       "      <td>4Matic+ 7G-DCT</td>\n",
       "      <td>Mercedes-Benz</td>\n",
       "      <td>A 35 AMG</td>\n",
       "      <td>46990.0</td>\n",
       "      <td>Compact</td>\n",
       "      <td>Used</td>\n",
       "      <td>5.0</td>\n",
       "      <td>Spain</td>\n",
       "      <td>7464503</td>\n",
       "      <td>...</td>\n",
       "      <td>ABS, Central door lock, Driver-side airbag, El...</td>\n",
       "      <td>Sport seats</td>\n",
       "      <td>NaN</td>\n",
       "      <td>NaN</td>\n",
       "      <td>NaN</td>\n",
       "      <td>NaN</td>\n",
       "      <td>NaN</td>\n",
       "      <td>NaN</td>\n",
       "      <td>NaN</td>\n",
       "      <td>NaN</td>\n",
       "    </tr>\n",
       "    <tr>\n",
       "      <th>4</th>\n",
       "      <td>Mercedes-Benz A 45 AMG</td>\n",
       "      <td>200CDI BE Line 4M 7G-DCT</td>\n",
       "      <td>Mercedes-Benz</td>\n",
       "      <td>A 45 AMG</td>\n",
       "      <td>16800.0</td>\n",
       "      <td>Compact</td>\n",
       "      <td>Used</td>\n",
       "      <td>5.0</td>\n",
       "      <td>Spain</td>\n",
       "      <td>7127931</td>\n",
       "      <td>...</td>\n",
       "      <td>ABS, Central door lock, Driver-side airbag, El...</td>\n",
       "      <td>NaN</td>\n",
       "      <td>NaN</td>\n",
       "      <td>NaN</td>\n",
       "      <td>NaN</td>\n",
       "      <td>NaN</td>\n",
       "      <td>NaN</td>\n",
       "      <td>NaN</td>\n",
       "      <td>NaN</td>\n",
       "      <td>NaN</td>\n",
       "    </tr>\n",
       "    <tr>\n",
       "      <th>...</th>\n",
       "      <td>...</td>\n",
       "      <td>...</td>\n",
       "      <td>...</td>\n",
       "      <td>...</td>\n",
       "      <td>...</td>\n",
       "      <td>...</td>\n",
       "      <td>...</td>\n",
       "      <td>...</td>\n",
       "      <td>...</td>\n",
       "      <td>...</td>\n",
       "      <td>...</td>\n",
       "      <td>...</td>\n",
       "      <td>...</td>\n",
       "      <td>...</td>\n",
       "      <td>...</td>\n",
       "      <td>...</td>\n",
       "      <td>...</td>\n",
       "      <td>...</td>\n",
       "      <td>...</td>\n",
       "      <td>...</td>\n",
       "      <td>...</td>\n",
       "    </tr>\n",
       "    <tr>\n",
       "      <th>29475</th>\n",
       "      <td>Volvo S40</td>\n",
       "      <td>2.4i Momentum/ Airco/ NAP/ APK/ Elek. Ramen</td>\n",
       "      <td>Volvo</td>\n",
       "      <td>S40</td>\n",
       "      <td>5499.0</td>\n",
       "      <td>Sedan</td>\n",
       "      <td>Used</td>\n",
       "      <td>4.0</td>\n",
       "      <td>NaN</td>\n",
       "      <td>09-PF-XS</td>\n",
       "      <td>...</td>\n",
       "      <td>ABS, Central door lock, Central door lock with...</td>\n",
       "      <td>Alloy wheels (16\"), Trailer hitch</td>\n",
       "      <td>NaN</td>\n",
       "      <td>NaN</td>\n",
       "      <td>NaN</td>\n",
       "      <td>NaN</td>\n",
       "      <td>NaN</td>\n",
       "      <td>NaN</td>\n",
       "      <td>NaN</td>\n",
       "      <td>NaN</td>\n",
       "    </tr>\n",
       "    <tr>\n",
       "      <th>29476</th>\n",
       "      <td>Volvo C30</td>\n",
       "      <td>1.6 D DRIVe Start/Stop R-design</td>\n",
       "      <td>Volvo</td>\n",
       "      <td>C30</td>\n",
       "      <td>7300.0</td>\n",
       "      <td>Sedan</td>\n",
       "      <td>Used</td>\n",
       "      <td>3.0</td>\n",
       "      <td>Belgium</td>\n",
       "      <td>NaN</td>\n",
       "      <td>...</td>\n",
       "      <td>ABS, Alarm system, Central door lock with remo...</td>\n",
       "      <td>Alloy wheels, Automatically dimming interior m...</td>\n",
       "      <td>96000.0</td>\n",
       "      <td>2011-04-01</td>\n",
       "      <td>1.0</td>\n",
       "      <td>NaN</td>\n",
       "      <td>NaN</td>\n",
       "      <td>NaN</td>\n",
       "      <td>NaN</td>\n",
       "      <td>NaN</td>\n",
       "    </tr>\n",
       "    <tr>\n",
       "      <th>29477</th>\n",
       "      <td>Volvo S90</td>\n",
       "      <td>T5 AUT(8) MOMENTUM BUSINESS SCHUIFDAK 360GR CA...</td>\n",
       "      <td>Volvo</td>\n",
       "      <td>S90</td>\n",
       "      <td>29900.0</td>\n",
       "      <td>Sedan</td>\n",
       "      <td>Used</td>\n",
       "      <td>4.0</td>\n",
       "      <td>NaN</td>\n",
       "      <td>2791</td>\n",
       "      <td>...</td>\n",
       "      <td>Adaptive Cruise Control, Adaptive headlights, ...</td>\n",
       "      <td>Alloy wheels (18\"), Automatically dimming inte...</td>\n",
       "      <td>NaN</td>\n",
       "      <td>NaN</td>\n",
       "      <td>NaN</td>\n",
       "      <td>NaN</td>\n",
       "      <td>NaN</td>\n",
       "      <td>NaN</td>\n",
       "      <td>NaN</td>\n",
       "      <td>NaN</td>\n",
       "    </tr>\n",
       "    <tr>\n",
       "      <th>29478</th>\n",
       "      <td>Volvo S80</td>\n",
       "      <td>2.9 Executive G. NETTE AUTO! LEER! NAVI! CRUIS...</td>\n",
       "      <td>Volvo</td>\n",
       "      <td>S80</td>\n",
       "      <td>4440.0</td>\n",
       "      <td>Sedan</td>\n",
       "      <td>Used</td>\n",
       "      <td>4.0</td>\n",
       "      <td>NaN</td>\n",
       "      <td>43-JR-LR</td>\n",
       "      <td>...</td>\n",
       "      <td>ABS, Alarm system, Central door lock, Central ...</td>\n",
       "      <td>Alloy wheels, Automatically dimming interior m...</td>\n",
       "      <td>230047.0</td>\n",
       "      <td>2002-07-01</td>\n",
       "      <td>5.0</td>\n",
       "      <td>NaN</td>\n",
       "      <td>NaN</td>\n",
       "      <td>NaN</td>\n",
       "      <td>NaN</td>\n",
       "      <td>NaN</td>\n",
       "    </tr>\n",
       "    <tr>\n",
       "      <th>29479</th>\n",
       "      <td>NaN</td>\n",
       "      <td>NaN</td>\n",
       "      <td>NaN</td>\n",
       "      <td>NaN</td>\n",
       "      <td>NaN</td>\n",
       "      <td>NaN</td>\n",
       "      <td>NaN</td>\n",
       "      <td>NaN</td>\n",
       "      <td>NaN</td>\n",
       "      <td>NaN</td>\n",
       "      <td>...</td>\n",
       "      <td>NaN</td>\n",
       "      <td>NaN</td>\n",
       "      <td>NaN</td>\n",
       "      <td>NaN</td>\n",
       "      <td>NaN</td>\n",
       "      <td>NaN</td>\n",
       "      <td>NaN</td>\n",
       "      <td>NaN</td>\n",
       "      <td>NaN</td>\n",
       "      <td>NaN</td>\n",
       "    </tr>\n",
       "  </tbody>\n",
       "</table>\n",
       "<p>29480 rows × 64 columns</p>\n",
       "</div>"
      ],
      "text/plain": [
       "                   make_model  \\\n",
       "0         Mercedes-Benz A 160   \n",
       "1       Mercedes-Benz EQE 350   \n",
       "2      Mercedes-Benz A 45 AMG   \n",
       "3      Mercedes-Benz A 35 AMG   \n",
       "4      Mercedes-Benz A 45 AMG   \n",
       "...                       ...   \n",
       "29475               Volvo S40   \n",
       "29476               Volvo C30   \n",
       "29477               Volvo S90   \n",
       "29478               Volvo S80   \n",
       "29479                     NaN   \n",
       "\n",
       "                                       short_description           make  \\\n",
       "0                                                    CDi  Mercedes-Benz   \n",
       "1                                                   350+  Mercedes-Benz   \n",
       "2                                       S 4Matic+ 8G-DCT  Mercedes-Benz   \n",
       "3                                         4Matic+ 7G-DCT  Mercedes-Benz   \n",
       "4                               200CDI BE Line 4M 7G-DCT  Mercedes-Benz   \n",
       "...                                                  ...            ...   \n",
       "29475        2.4i Momentum/ Airco/ NAP/ APK/ Elek. Ramen          Volvo   \n",
       "29476                    1.6 D DRIVe Start/Stop R-design          Volvo   \n",
       "29477  T5 AUT(8) MOMENTUM BUSINESS SCHUIFDAK 360GR CA...          Volvo   \n",
       "29478  2.9 Executive G. NETTE AUTO! LEER! NAVI! CRUIS...          Volvo   \n",
       "29479                                                NaN            NaN   \n",
       "\n",
       "            model    price body_type             type  doors country_version  \\\n",
       "0          A 160   16950.0   Compact             Used    5.0           Spain   \n",
       "1        EQE 350   80900.0   Compact   Pre-registered    4.0           Spain   \n",
       "2       A 45 AMG   69900.0   Compact             Used    5.0           Spain   \n",
       "3       A 35 AMG   46990.0   Compact             Used    5.0           Spain   \n",
       "4       A 45 AMG   16800.0   Compact             Used    5.0           Spain   \n",
       "...           ...      ...       ...              ...    ...             ...   \n",
       "29475        S40    5499.0     Sedan             Used    4.0             NaN   \n",
       "29476        C30    7300.0     Sedan             Used    3.0         Belgium   \n",
       "29477        S90   29900.0     Sedan             Used    4.0             NaN   \n",
       "29478        S80    4440.0     Sedan             Used    4.0             NaN   \n",
       "29479         NaN      NaN       NaN              NaN    NaN             NaN   \n",
       "\n",
       "      offer_number  ...                                safety_security_str  \\\n",
       "0          7468157  ...                                                NaN   \n",
       "1          7054863  ...                                                NaN   \n",
       "2          7410454  ...                                                NaN   \n",
       "3          7464503  ...  ABS, Central door lock, Driver-side airbag, El...   \n",
       "4          7127931  ...  ABS, Central door lock, Driver-side airbag, El...   \n",
       "...            ...  ...                                                ...   \n",
       "29475     09-PF-XS  ...  ABS, Central door lock, Central door lock with...   \n",
       "29476          NaN  ...  ABS, Alarm system, Central door lock with remo...   \n",
       "29477         2791  ...  Adaptive Cruise Control, Adaptive headlights, ...   \n",
       "29478     43-JR-LR  ...  ABS, Alarm system, Central door lock, Central ...   \n",
       "29479          NaN  ...                                                NaN   \n",
       "\n",
       "                                              extras_str   prev_km  \\\n",
       "0                                                    NaN       NaN   \n",
       "1                                                    NaN       NaN   \n",
       "2                                                    NaN       NaN   \n",
       "3                                            Sport seats       NaN   \n",
       "4                                                    NaN       NaN   \n",
       "...                                                  ...       ...   \n",
       "29475                  Alloy wheels (16\"), Trailer hitch       NaN   \n",
       "29476  Alloy wheels, Automatically dimming interior m...   96000.0   \n",
       "29477  Alloy wheels (18\"), Automatically dimming inte...       NaN   \n",
       "29478  Alloy wheels, Automatically dimming interior m...  230047.0   \n",
       "29479                                                NaN       NaN   \n",
       "\n",
       "        prev_date owner_count power_cons_wltp_numeric power_cons_numeric  \\\n",
       "0             NaN         NaN                     NaN                NaN   \n",
       "1             NaN         NaN                     NaN                NaN   \n",
       "2             NaN         NaN                     NaN                NaN   \n",
       "3             NaN         NaN                     NaN                NaN   \n",
       "4             NaN         NaN                     NaN                NaN   \n",
       "...           ...         ...                     ...                ...   \n",
       "29475         NaN         NaN                     NaN                NaN   \n",
       "29476  2011-04-01         1.0                     NaN                NaN   \n",
       "29477         NaN         NaN                     NaN                NaN   \n",
       "29478  2002-07-01         5.0                     NaN                NaN   \n",
       "29479         NaN         NaN                     NaN                NaN   \n",
       "\n",
       "      fuel_wltp_numeric  co2_wltp_numeric  avg_elec_range  \n",
       "0                   NaN               NaN             NaN  \n",
       "1                   NaN               NaN             NaN  \n",
       "2                   NaN               NaN             NaN  \n",
       "3                   NaN               NaN             NaN  \n",
       "4                   NaN               NaN             NaN  \n",
       "...                 ...               ...             ...  \n",
       "29475               NaN               NaN             NaN  \n",
       "29476               NaN               NaN             NaN  \n",
       "29477               NaN               NaN             NaN  \n",
       "29478               NaN               NaN             NaN  \n",
       "29479               NaN               NaN             NaN  \n",
       "\n",
       "[29480 rows x 64 columns]"
      ]
     },
     "execution_count": 401,
     "metadata": {},
     "output_type": "execute_result"
    }
   ],
   "source": [
    "df = data.copy()\n",
    "df"
   ]
  },
  {
   "cell_type": "code",
   "execution_count": 402,
   "id": "a1f2ca94-2f2b-4c16-8af3-58bf2eb99e57",
   "metadata": {
    "tags": []
   },
   "outputs": [
    {
     "data": {
      "text/plain": [
       "0       NaT\n",
       "1       NaT\n",
       "2       NaT\n",
       "3       NaT\n",
       "4       NaT\n",
       "         ..\n",
       "29475   NaT\n",
       "29476   NaT\n",
       "29477   NaT\n",
       "29478   NaT\n",
       "29479   NaT\n",
       "Name: last_service, Length: 29480, dtype: datetime64[ns]"
      ]
     },
     "execution_count": 402,
     "metadata": {},
     "output_type": "execute_result"
    }
   ],
   "source": [
    "# Convert the 'last_service' column to datetime format\n",
    "df['last_service'] = pd.to_datetime(df['last_service'], format='%m/%Y')\n",
    "df['last_service']"
   ]
  },
  {
   "cell_type": "code",
   "execution_count": 403,
   "id": "d71a2c9d-7369-40fe-acf9-e45c5fea6b46",
   "metadata": {
    "tags": []
   },
   "outputs": [
    {
     "data": {
      "text/plain": [
       "0       NaT\n",
       "1       NaT\n",
       "2       NaT\n",
       "3       NaT\n",
       "4       NaT\n",
       "         ..\n",
       "29475   NaT\n",
       "29476   NaT\n",
       "29477   NaT\n",
       "29478   NaT\n",
       "29479   NaT\n",
       "Name: last_timing_belt, Length: 29480, dtype: datetime64[ns]"
      ]
     },
     "execution_count": 403,
     "metadata": {},
     "output_type": "execute_result"
    }
   ],
   "source": [
    "# Convert the 'last_timing_belt' column to datetime format\n",
    "df['last_timing_belt'] = pd.to_datetime(df['last_timing_belt'], format='%m/%Y')\n",
    "df['last_timing_belt']"
   ]
  },
  {
   "cell_type": "code",
   "execution_count": 404,
   "id": "5c0d84f1-18d6-4722-b5ee-b2b9faaffc05",
   "metadata": {
    "tags": []
   },
   "outputs": [
    {
     "data": {
      "text/plain": [
       "0              NaT\n",
       "1              NaT\n",
       "2              NaT\n",
       "3              NaT\n",
       "4              NaT\n",
       "           ...    \n",
       "29475          NaT\n",
       "29476   2011-04-01\n",
       "29477          NaT\n",
       "29478   2002-07-01\n",
       "29479          NaT\n",
       "Name: prev_date, Length: 29480, dtype: datetime64[ns]"
      ]
     },
     "execution_count": 404,
     "metadata": {},
     "output_type": "execute_result"
    }
   ],
   "source": [
    "# Convert 'prev_date' to datetime, handling different formats and errors\n",
    "df['prev_date'] = pd.to_datetime(df['prev_date'], errors='coerce')\n",
    "df['prev_date']"
   ]
  },
  {
   "cell_type": "code",
   "execution_count": 405,
   "id": "997a379c",
   "metadata": {},
   "outputs": [
    {
     "data": {
      "text/plain": [
       "2618"
      ]
     },
     "execution_count": 405,
     "metadata": {},
     "output_type": "execute_result"
    }
   ],
   "source": [
    "df.duplicated().sum()"
   ]
  },
  {
   "cell_type": "code",
   "execution_count": 406,
   "id": "0e6d7def",
   "metadata": {},
   "outputs": [],
   "source": [
    "df.drop_duplicates(inplace = True)"
   ]
  },
  {
   "cell_type": "code",
   "execution_count": 407,
   "id": "92ce074a-18d2-4e77-8e9c-031f14b2e97f",
   "metadata": {
    "scrolled": true
   },
   "outputs": [
    {
     "name": "stdout",
     "output_type": "stream",
     "text": [
      "<class 'pandas.core.frame.DataFrame'>\n",
      "Index: 26862 entries, 0 to 29478\n",
      "Data columns (total 64 columns):\n",
      " #   Column                    Non-Null Count  Dtype         \n",
      "---  ------                    --------------  -----         \n",
      " 0   make_model                26861 non-null  object        \n",
      " 1   short_description         26657 non-null  object        \n",
      " 2   make                      26861 non-null  object        \n",
      " 3   model                     26861 non-null  object        \n",
      " 4   price                     26861 non-null  float64       \n",
      " 5   body_type                 26861 non-null  object        \n",
      " 6   type                      26861 non-null  object        \n",
      " 7   doors                     26520 non-null  float64       \n",
      " 8   country_version           15946 non-null  object        \n",
      " 9   offer_number              21681 non-null  object        \n",
      " 10  warranty                  14803 non-null  object        \n",
      " 11  mileage                   26860 non-null  float64       \n",
      " 12  first_registration        26859 non-null  object        \n",
      " 13  gearbox                   26627 non-null  object        \n",
      " 14  fuel_type                 25182 non-null  object        \n",
      " 15  colour                    25187 non-null  object        \n",
      " 16  paint                     13488 non-null  object        \n",
      " 17  seller                    26861 non-null  object        \n",
      " 18  seats                     23861 non-null  float64       \n",
      " 19  engine_size               25506 non-null  float64       \n",
      " 20  gears                     17712 non-null  float64       \n",
      " 21  co2_emissions             17401 non-null  float64       \n",
      " 22  manu_color                20380 non-null  object        \n",
      " 23  drivetrain                15630 non-null  object        \n",
      " 24  cylinders                 17533 non-null  float64       \n",
      " 25  empty_weight              16494 non-null  float64       \n",
      " 26  model_code                7926 non-null   object        \n",
      " 27  gen_inspection            5911 non-null   object        \n",
      " 28  last_service              1850 non-null   datetime64[ns]\n",
      " 29  service_history           11729 non-null  object        \n",
      " 30  non_smoker                10918 non-null  object        \n",
      " 31  emission_class            16729 non-null  object        \n",
      " 32  emission_sticker          8990 non-null   object        \n",
      " 33  upholstery_color          13694 non-null  object        \n",
      " 34  upholstery                17401 non-null  object        \n",
      " 35  pro_date                  5541 non-null   object        \n",
      " 36  other_fuel                2117 non-null   object        \n",
      " 37  energy_class              7337 non-null   object        \n",
      " 38  co2_efficiency            7337 non-null   object        \n",
      " 39  available                 386 non-null    object        \n",
      " 40  taxi_rental               381 non-null    object        \n",
      " 41  availability              280 non-null    float64       \n",
      " 42  last_timing_belt          499 non-null    datetime64[ns]\n",
      " 43  battery_owner             7 non-null      object        \n",
      " 44  power_kW                  26296 non-null  float64       \n",
      " 45  power_hp                  26296 non-null  float64       \n",
      " 46  fuel_consumption_comb     18511 non-null  float64       \n",
      " 47  fuel_consumption_city     16200 non-null  float64       \n",
      " 48  fuel_consumption_country  16157 non-null  float64       \n",
      " 49  location_country          26861 non-null  object        \n",
      " 50  location_city             26850 non-null  object        \n",
      " 51  ent_media_str             22208 non-null  object        \n",
      " 52  desc_str                  26217 non-null  object        \n",
      " 53  comfort_convenience_str   23771 non-null  object        \n",
      " 54  safety_security_str       23767 non-null  object        \n",
      " 55  extras_str                21903 non-null  object        \n",
      " 56  prev_km                   13108 non-null  float64       \n",
      " 57  prev_date                 13108 non-null  datetime64[ns]\n",
      " 58  owner_count               13108 non-null  float64       \n",
      " 59  power_cons_wltp_numeric   16 non-null     float64       \n",
      " 60  power_cons_numeric        463 non-null    float64       \n",
      " 61  fuel_wltp_numeric         99 non-null     float64       \n",
      " 62  co2_wltp_numeric          113 non-null    float64       \n",
      " 63  avg_elec_range            16 non-null     float64       \n",
      "dtypes: datetime64[ns](3), float64(22), object(39)\n",
      "memory usage: 13.3+ MB\n"
     ]
    }
   ],
   "source": [
    "df.info()"
   ]
  },
  {
   "cell_type": "code",
   "execution_count": 408,
   "id": "5af8a590-2c1d-4c45-96ad-91a1fe25f37e",
   "metadata": {},
   "outputs": [
    {
     "data": {
      "text/plain": [
       "0                                                      CDi\n",
       "1                                                     350+\n",
       "2                                         S 4Matic+ 8G-DCT\n",
       "3                                           4Matic+ 7G-DCT\n",
       "4                                 200CDI BE Line 4M 7G-DCT\n",
       "                               ...                        \n",
       "29474                       T8 Twin Business Plus AWD Aut.\n",
       "29475          2.4i Momentum/ Airco/ NAP/ APK/ Elek. Ramen\n",
       "29476                      1.6 D DRIVe Start/Stop R-design\n",
       "29477    T5 AUT(8) MOMENTUM BUSINESS SCHUIFDAK 360GR CA...\n",
       "29478    2.9 Executive G. NETTE AUTO! LEER! NAVI! CRUIS...\n",
       "Name: short_description, Length: 26862, dtype: object"
      ]
     },
     "execution_count": 408,
     "metadata": {},
     "output_type": "execute_result"
    }
   ],
   "source": [
    "df.short_description"
   ]
  },
  {
   "cell_type": "markdown",
   "id": "178cb43b-debb-4902-baf0-38ff1f1cbf30",
   "metadata": {},
   "source": [
    "# 1. make_model\n"
   ]
  },
  {
   "cell_type": "code",
   "execution_count": 410,
   "id": "faf07eb1-1dcc-49ae-b56e-c39235cc611f",
   "metadata": {},
   "outputs": [
    {
     "data": {
      "text/html": [
       "<div>\n",
       "<style scoped>\n",
       "    .dataframe tbody tr th:only-of-type {\n",
       "        vertical-align: middle;\n",
       "    }\n",
       "\n",
       "    .dataframe tbody tr th {\n",
       "        vertical-align: top;\n",
       "    }\n",
       "\n",
       "    .dataframe thead th {\n",
       "        text-align: right;\n",
       "    }\n",
       "</style>\n",
       "<table border=\"1\" class=\"dataframe\">\n",
       "  <thead>\n",
       "    <tr style=\"text-align: right;\">\n",
       "      <th></th>\n",
       "      <th>make_model</th>\n",
       "      <th>short_description</th>\n",
       "      <th>make</th>\n",
       "      <th>model</th>\n",
       "      <th>price</th>\n",
       "      <th>body_type</th>\n",
       "      <th>type</th>\n",
       "      <th>doors</th>\n",
       "      <th>country_version</th>\n",
       "      <th>offer_number</th>\n",
       "      <th>...</th>\n",
       "      <th>safety_security_str</th>\n",
       "      <th>extras_str</th>\n",
       "      <th>prev_km</th>\n",
       "      <th>prev_date</th>\n",
       "      <th>owner_count</th>\n",
       "      <th>power_cons_wltp_numeric</th>\n",
       "      <th>power_cons_numeric</th>\n",
       "      <th>fuel_wltp_numeric</th>\n",
       "      <th>co2_wltp_numeric</th>\n",
       "      <th>avg_elec_range</th>\n",
       "    </tr>\n",
       "  </thead>\n",
       "  <tbody>\n",
       "    <tr>\n",
       "      <th>1785</th>\n",
       "      <td>NaN</td>\n",
       "      <td>NaN</td>\n",
       "      <td>NaN</td>\n",
       "      <td>NaN</td>\n",
       "      <td>NaN</td>\n",
       "      <td>NaN</td>\n",
       "      <td>NaN</td>\n",
       "      <td>NaN</td>\n",
       "      <td>NaN</td>\n",
       "      <td>NaN</td>\n",
       "      <td>...</td>\n",
       "      <td>NaN</td>\n",
       "      <td>NaN</td>\n",
       "      <td>NaN</td>\n",
       "      <td>NaT</td>\n",
       "      <td>NaN</td>\n",
       "      <td>NaN</td>\n",
       "      <td>NaN</td>\n",
       "      <td>NaN</td>\n",
       "      <td>NaN</td>\n",
       "      <td>NaN</td>\n",
       "    </tr>\n",
       "  </tbody>\n",
       "</table>\n",
       "<p>1 rows × 64 columns</p>\n",
       "</div>"
      ],
      "text/plain": [
       "     make_model short_description make model  price body_type type  doors  \\\n",
       "1785        NaN               NaN  NaN   NaN    NaN       NaN  NaN    NaN   \n",
       "\n",
       "     country_version offer_number  ... safety_security_str  extras_str  \\\n",
       "1785             NaN          NaN  ...                 NaN         NaN   \n",
       "\n",
       "     prev_km prev_date owner_count power_cons_wltp_numeric power_cons_numeric  \\\n",
       "1785     NaN       NaT         NaN                     NaN                NaN   \n",
       "\n",
       "     fuel_wltp_numeric  co2_wltp_numeric  avg_elec_range  \n",
       "1785               NaN               NaN             NaN  \n",
       "\n",
       "[1 rows x 64 columns]"
      ]
     },
     "execution_count": 410,
     "metadata": {},
     "output_type": "execute_result"
    }
   ],
   "source": [
    "missing_make_model_index = df[(df['make_model'].isna()) | (df['make_model'].str.strip() == '')].index\n",
    "result1 = df.loc[missing_make_model_index]\n",
    "result1"
   ]
  },
  {
   "cell_type": "code",
   "execution_count": 411,
   "id": "565b9a1f-72e9-4593-b1d8-73c4782bf629",
   "metadata": {},
   "outputs": [],
   "source": [
    "df.drop(index=missing_make_model_index, inplace=True)"
   ]
  },
  {
   "cell_type": "code",
   "execution_count": 412,
   "id": "e1051a51-f56f-4d08-a910-40978a4ff657",
   "metadata": {},
   "outputs": [],
   "source": [
    "df = df.reset_index()"
   ]
  },
  {
   "cell_type": "code",
   "execution_count": 413,
   "id": "13297b90",
   "metadata": {},
   "outputs": [],
   "source": [
    "df.drop(columns= 'index', inplace = True)"
   ]
  },
  {
   "cell_type": "code",
   "execution_count": 414,
   "id": "d8161f61-8e89-4fa4-82f5-30c6c0b7bf93",
   "metadata": {
    "scrolled": true
   },
   "outputs": [
    {
     "name": "stdout",
     "output_type": "stream",
     "text": [
      "<class 'pandas.core.frame.DataFrame'>\n",
      "RangeIndex: 26861 entries, 0 to 26860\n",
      "Data columns (total 64 columns):\n",
      " #   Column                    Non-Null Count  Dtype         \n",
      "---  ------                    --------------  -----         \n",
      " 0   make_model                26861 non-null  object        \n",
      " 1   short_description         26657 non-null  object        \n",
      " 2   make                      26861 non-null  object        \n",
      " 3   model                     26861 non-null  object        \n",
      " 4   price                     26861 non-null  float64       \n",
      " 5   body_type                 26861 non-null  object        \n",
      " 6   type                      26861 non-null  object        \n",
      " 7   doors                     26520 non-null  float64       \n",
      " 8   country_version           15946 non-null  object        \n",
      " 9   offer_number              21681 non-null  object        \n",
      " 10  warranty                  14803 non-null  object        \n",
      " 11  mileage                   26860 non-null  float64       \n",
      " 12  first_registration        26859 non-null  object        \n",
      " 13  gearbox                   26627 non-null  object        \n",
      " 14  fuel_type                 25182 non-null  object        \n",
      " 15  colour                    25187 non-null  object        \n",
      " 16  paint                     13488 non-null  object        \n",
      " 17  seller                    26861 non-null  object        \n",
      " 18  seats                     23861 non-null  float64       \n",
      " 19  engine_size               25506 non-null  float64       \n",
      " 20  gears                     17712 non-null  float64       \n",
      " 21  co2_emissions             17401 non-null  float64       \n",
      " 22  manu_color                20380 non-null  object        \n",
      " 23  drivetrain                15630 non-null  object        \n",
      " 24  cylinders                 17533 non-null  float64       \n",
      " 25  empty_weight              16494 non-null  float64       \n",
      " 26  model_code                7926 non-null   object        \n",
      " 27  gen_inspection            5911 non-null   object        \n",
      " 28  last_service              1850 non-null   datetime64[ns]\n",
      " 29  service_history           11729 non-null  object        \n",
      " 30  non_smoker                10918 non-null  object        \n",
      " 31  emission_class            16729 non-null  object        \n",
      " 32  emission_sticker          8990 non-null   object        \n",
      " 33  upholstery_color          13694 non-null  object        \n",
      " 34  upholstery                17401 non-null  object        \n",
      " 35  pro_date                  5541 non-null   object        \n",
      " 36  other_fuel                2117 non-null   object        \n",
      " 37  energy_class              7337 non-null   object        \n",
      " 38  co2_efficiency            7337 non-null   object        \n",
      " 39  available                 386 non-null    object        \n",
      " 40  taxi_rental               381 non-null    object        \n",
      " 41  availability              280 non-null    float64       \n",
      " 42  last_timing_belt          499 non-null    datetime64[ns]\n",
      " 43  battery_owner             7 non-null      object        \n",
      " 44  power_kW                  26296 non-null  float64       \n",
      " 45  power_hp                  26296 non-null  float64       \n",
      " 46  fuel_consumption_comb     18511 non-null  float64       \n",
      " 47  fuel_consumption_city     16200 non-null  float64       \n",
      " 48  fuel_consumption_country  16157 non-null  float64       \n",
      " 49  location_country          26861 non-null  object        \n",
      " 50  location_city             26850 non-null  object        \n",
      " 51  ent_media_str             22208 non-null  object        \n",
      " 52  desc_str                  26217 non-null  object        \n",
      " 53  comfort_convenience_str   23771 non-null  object        \n",
      " 54  safety_security_str       23767 non-null  object        \n",
      " 55  extras_str                21903 non-null  object        \n",
      " 56  prev_km                   13108 non-null  float64       \n",
      " 57  prev_date                 13108 non-null  datetime64[ns]\n",
      " 58  owner_count               13108 non-null  float64       \n",
      " 59  power_cons_wltp_numeric   16 non-null     float64       \n",
      " 60  power_cons_numeric        463 non-null    float64       \n",
      " 61  fuel_wltp_numeric         99 non-null     float64       \n",
      " 62  co2_wltp_numeric          113 non-null    float64       \n",
      " 63  avg_elec_range            16 non-null     float64       \n",
      "dtypes: datetime64[ns](3), float64(22), object(39)\n",
      "memory usage: 13.1+ MB\n"
     ]
    }
   ],
   "source": [
    "df.info()"
   ]
  },
  {
   "cell_type": "code",
   "execution_count": 415,
   "id": "1642949b",
   "metadata": {},
   "outputs": [],
   "source": [
    "car_models_customized = [\n",
    "    'A 160', 'A 180', 'A 200', 'B 160', 'B 180', 'B 200','B 220', 'S 580e', \n",
    "    'C 180', 'C 200', 'C 300', 'E 200', 'E 300', 'E 400',\n",
    "    'S 400', 'S 500', 'CLA 180', 'CLA 200', 'CLS 350',\n",
    "    'GLA 200', 'GLA 250', 'GLB 200', 'GLB 250', 'GLC 300',\n",
    "    'GLE 350', 'GLE 450', 'GLS 450', 'G 500', 'G 63', 'EQC 400',\n",
    "    'Corsa 1.2', 'Corsa 1.4', 'Astra 1.4', 'Astra 1.6',\n",
    "    'Crossland 1.2', 'Crossland 1.5', 'Grandland 1.2', 'Grandland 1.5',\n",
    "    'Insignia 1.5', 'Insignia 2.0', 'Mokka 1.2', 'Mokka 1.5',\n",
    "    'Combo 1.5', 'Vivaro 1.5', 'Movano 2.3','MUSTANG V 5.0 V8',\n",
    "    'Clio 1.0', 'Clio 1.2', 'Captur 1.0', 'Captur 1.3',\n",
    "    'Megane 1.3', 'Megane 1.5', 'Kadjar 1.3', 'Kadjar 1.5',\n",
    "    'Scenic 1.3', 'Scenic 1.5', 'Talisman 1.6', 'Talisman 2.0',\n",
    "    'Koleos 1.6', 'Koleos 2.0', 'Twingo 1.0', 'Zoe 52 kWh',\n",
    "    'Kangoo 1.5', 'Trafic 1.6', 'Master 2.3',\n",
    "    '108 1.0', '208 1.2', '308 1.2', '308 1.6',\n",
    "    '2008 1.2', '2008 1.5', '3008 1.2', '3008 1.6',\n",
    "    '5008 1.6', '5008 2.0', 'Rifter 1.5', 'Partner 1.5',\n",
    "    'Expert 1.6', 'Traveller 2.0',\n",
    "    '500 1.2', '500 1.4', 'Panda 1.2', 'Panda 0.9',\n",
    "    'Tipo 1.4', 'Tipo 1.6', '500X 1.3', '500L 1.4',\n",
    "    '500e 42 kWh', 'Ducato 2.3', 'Talento 1.6', 'Doblo 1.6',\n",
    "    'Ibiza 1.0', 'Ibiza 1.2', 'Leon 1.4', 'Leon 1.5',\n",
    "    'Arona 1.0', 'Arona 1.5', 'Ateca 1.5', 'Tarraco 1.5',\n",
    "    'Alhambra 2.0', 'Mii Electric', 'El-Born Electric',\n",
    "    'Fabia 1.0', 'Fabia 1.2', 'Octavia 1.4', 'Octavia 1.5',\n",
    "    'Scala 1.0', 'Superb 1.8', 'Kamiq 1.0', 'Kamiq 1.5',\n",
    "    'Karoq 1.5', 'Kodiaq 2.0', 'Citigo-e iV',\n",
    "    'Sandero 1.0', 'Logan 1.0', 'Duster 1.5', 'Dokker 1.5',\n",
    "    'Lodgy 1.5', 'INTERMECCANICA SPYDER', 'Roadster', \n",
    "    'Aygo 1.0', 'Yaris 1.5', 'Corolla 1.8', 'Corolla 2.0',\n",
    "    'Camry 2.5', 'Prius 1.8', 'RAV4 2.5', 'Highlander 2.5',\n",
    "    'Land Cruiser 2.8', 'Hilux 2.4', 'Proace 2.0', 'Mirai Hydrogen',\n",
    "    'Micra 1.0', 'Juke 1.0', 'Qashqai 1.3', 'Qashqai 1.5',\n",
    "    'X-Trail 1.7', 'Leaf 40 kWh', 'Ariya 63 kWh', 'Note 1.2',\n",
    "    'Navara 2.3', 'NV200 1.5', 'V8', 'T-Bird', 'XL 500', 'V 8'\n",
    "    'Fiesta 1.0', 'Fiesta 1.1', 'Focus 1.0', 'Focus 1.5',\n",
    "    'Puma 1.0', 'Kuga 1.5', 'Mondeo 2.0', 'EcoSport 1.0',\n",
    "    'Mustang V 5.0', 'Ranger 2.0', 'Transit 2.0', 'Tourneo 2.0',\n",
    "    'i10 1.0', 'i10 1.2', 'i20 1.0', 'i20 1.2', 'C 43 AMG', \n",
    "    'i30 1.0', 'i30 1.5', 'Kona 1.0', 'Kona Electric',\n",
    "    'Tucson 1.6', 'Santa Fe 2.2', 'Ioniq Hybrid', 'Nexo Hydrogen',\n",
    "    'H-1 2.5', 'V6', 'RS200', 'RAPTOR F 150', 'ROADSTER'\n",
    "    'S60 T5', 'S90 T6', 'V60 T5', 'V90 T6', 'GLE 63', 'E 63 AMG',\n",
    "    'XC40 T3', 'XC60 T5', 'XC90 T6', 'V40 T3',\n",
    "    'V50 T5', 'V70 T6', 'C30 T5', 'C70 T5'\n",
    "]\n",
    "\n",
    "# Fonksiyon tanımlama\n",
    "def find_model_in_description(description, models):\n",
    "    if isinstance(description, str):  # Sadece string değerlerle işlem yap\n",
    "        for model in models:\n",
    "            # Modelin kısmi eşleşmesini kontrol et\n",
    "            if re.search(r'\\b' + re.escape(model) + r'\\b', description):\n",
    "                return model\n",
    "    return np.nan\n",
    "\n",
    "# Yeni sütunu oluşturma\n",
    "df['model1'] = df['short_description'].apply(find_model_in_description, models=car_models_customized)\n"
   ]
  },
  {
   "cell_type": "code",
   "execution_count": 416,
   "id": "a2d04772",
   "metadata": {},
   "outputs": [],
   "source": [
    "df['make_model'] = df.apply(lambda row: f\"{row['make_model']} {row['model1']}\" if pd.notnull(row['model1']) else row['make_model'], axis=1)"
   ]
  },
  {
   "cell_type": "code",
   "execution_count": 417,
   "id": "93b0386b",
   "metadata": {},
   "outputs": [
    {
     "name": "stdout",
     "output_type": "stream",
     "text": [
      "           make_model model                                  short_description\n",
      "319    Mercedes-Benz          MERCEDES-BENZ Clase GLK Pequeño  Automático de 5\n",
      "427    Mercedes-Benz           SL 43 DIGITAL LIGHT+BURMESTER+DISTRO+HUD+MEMORY\n",
      "442    Mercedes-Benz         MERCEDES-BENZ Clase SL Descapotable  Automático d\n",
      "471    Mercedes-Benz                   ANDERE 43 Premium-Navi*360°Ka.*AIRSCARF\n",
      "474    Mercedes-Benz                     AMG-Night MBUX+360°+Distronic+DIG-LED\n",
      "607    Mercedes-Benz         ANDERE AMG Night+AIRSCARF+DISTRONIC+DIGITAL-LIGHT\n",
      "649    Mercedes-Benz             220 d AMG Line+Alcantara+MulitBeamLED+Keyless\n",
      "764    Mercedes-Benz           C 63 S AMG Cabrio *AMG-DRIVERS*PERF-ABGAS*VOLL*\n",
      "853    Mercedes-Benz                  E 500 AMG-Paket Harman Kardon APS Comand\n",
      "858    Mercedes-Benz          AMG GT S E AMG PERFORMANCE grau magno HUD+CARBON\n",
      "1222   Mercedes-Benz           ANDERE AMG UNTERBODEN GESTRAHLT KONSERVIERT/SHZ\n",
      "2097   Mercedes-Benz                  e 4M L AMG-CHAUFFEUR-PANO-EXKLUSIV PAKET\n",
      "2103   Mercedes-Benz                           AMG Autom. Leder ACC Xenon VOLL\n",
      "2212   Mercedes-Benz                     + EDITION 1-HEADUP-PANO-AIRMATIC-360°\n",
      "2349   Mercedes-Benz                4M EDITION ONE AMG-DISTR-PREMIUM-PANO-360°\n",
      "2892            Opel                            2.0 CDTi S/S 165 CV Excellence\n",
      "2896            Opel                            2.0 CDTi S/S 165 CV Excellence\n",
      "2898            Opel                           Cabrio 1.6T S&S Excellence Aut.\n",
      "2899            Opel                                      1.4 Turbo Excellence\n",
      "2901            Opel                                      1.4 T S/S Excellence\n",
      "2902            Opel                                      1.4 Turbo Excellence\n",
      "2903            Opel                                Cabrio 1.4T S&S Excellence\n",
      "2906            Opel                           Cabrio 1.6T S&S Excellence Aut.\n",
      "2907            Opel                           Cabrio 1.6T S&S Excellence Aut.\n",
      "2908            Opel                                      1.4 Turbo Excellence\n",
      "2909            Opel                                      1.4 Turbo Excellence\n",
      "2911            Opel                                      1.4 T S/S Excellence\n",
      "2914            Opel                                Cabrio 1.4T S&S Excellence\n",
      "2917            Opel                                      1.4 Turbo Excellence\n",
      "2918            Opel                                Cabrio 1.6T S&S Excellence\n",
      "2919            Opel                                Cabrio 1.4T S&S Excellence\n",
      "2920            Opel                            2.0 CDTi S/S 165 CV Excellence\n",
      "2923            Opel                                Cabrio 1.4T S&S Excellence\n",
      "2924            Opel                                Cabrio 1.4T S&S Excellence\n",
      "2925            Opel                                Cabrio 1.4T S&S Excellence\n",
      "2926            Opel                         Cabrio 2.0CDTi S&S Excellence 165\n",
      "2927            Opel                                Cabrio 1.4T S&S Excellence\n",
      "2928            Opel                                Cabrio 1.4T S&S Excellence\n",
      "2929            Opel                                Cabrio 1.4T S&S Excellence\n",
      "2933            Opel                                Cabrio 1.4T S&S Excellence\n",
      "2934            Opel                                Cabrio 1.4T S&S Excellence\n",
      "2935            Opel                                Cabrio 1.4T S&S Excellence\n",
      "2936            Opel                                Cabrio 1.4T S&S Excellence\n",
      "2937            Opel                                Cabrio 1.4T S&S Excellence\n",
      "2939            Opel                                      1.4 T S/S Excellence\n",
      "2940            Opel                                Cabrio 1.4T S&S Excellence\n",
      "2941            Opel                                Cabrio 1.4T S&S Excellence\n",
      "2942            Opel                                Cabrio 1.4T S&S Excellence\n",
      "2943            Opel                                Cabrio 1.4T S&S Excellence\n",
      "2944            Opel                                Cabrio 1.4T S&S Excellence\n",
      "2945            Opel                                Cabrio 1.4T S&S Excellence\n",
      "2946            Opel                                Cabrio 1.4T S&S Excellence\n",
      "2947            Opel                                Cabrio 1.4T S&S Excellence\n",
      "2948            Opel                                Cabrio 1.4T S&S Excellence\n",
      "2949            Opel                                Cabrio 1.4T S&S Excellence\n",
      "2950            Opel                                Cabrio 1.4T S&S Excellence\n",
      "2951            Opel                                Cabrio 1.4T S&S Excellence\n",
      "2953            Opel                                Cabrio 1.4T S&S Excellence\n",
      "2954            Opel                                Cabrio 1.4T S&S Excellence\n",
      "2955            Opel                                Cabrio 1.4T S&S Excellence\n",
      "2956            Opel                                Cabrio 1.4T S&S Excellence\n",
      "2957            Opel                                Cabrio 1.4T S&S Excellence\n",
      "2958            Opel                                Cabrio 1.4T S&S Excellence\n",
      "2959            Opel                                Cabrio 1.4T S&S Excellence\n",
      "2960            Opel                                Cabrio 1.4T S&S Excellence\n",
      "2962            Opel                                Cabrio 1.4T S&S Excellence\n",
      "2964            Opel                                Cabrio 1.4T S&S Excellence\n",
      "2965            Opel                                Cabrio 1.4T S&S Excellence\n",
      "2966            Opel                                Cabrio 1.4T S&S Excellence\n",
      "2967            Opel                                Cabrio 1.4T S&S Excellence\n",
      "2968            Opel                                Cabrio 1.4T S&S Excellence\n",
      "2970            Opel                                Cabrio 1.4T S&S Excellence\n",
      "2971            Opel                                Cabrio 1.4T S&S Excellence\n",
      "2972            Opel                                Cabrio 1.4T S&S Excellence\n",
      "2973            Opel                                Cabrio 1.4T S&S Excellence\n",
      "2974            Opel                                Cabrio 1.4T S&S Excellence\n",
      "2975            Opel                                Cabrio 1.4T S&S Excellence\n",
      "2976            Opel                                Cabrio 1.4T S&S Excellence\n",
      "2977            Opel                                Cabrio 1.4T S&S Excellence\n",
      "2978            Opel                                Cabrio 1.4T S&S Excellence\n",
      "2979            Opel                                Cabrio 1.4T S&S Excellence\n",
      "2980            Opel                                Cabrio 1.4T S&S Excellence\n",
      "2981            Opel                                Cabrio 1.4T S&S Excellence\n",
      "2982            Opel                                Cabrio 1.4T S&S Excellence\n",
      "2983            Opel                                Cabrio 1.4T S&S Excellence\n",
      "2984            Opel                                Cabrio 1.4T S&S Excellence\n",
      "2985            Opel                                Cabrio 1.4T S&S Excellence\n",
      "2986            Opel                                Cabrio 1.4T S&S Excellence\n",
      "2988            Opel                                Cabrio 1.4T S&S Excellence\n",
      "2989            Opel                                Cabrio 1.4T S&S Excellence\n",
      "2990            Opel                                Cabrio 1.4T S&S Excellence\n",
      "2991            Opel                                Cabrio 1.4T S&S Excellence\n",
      "2992            Opel                                Cabrio 1.4T S&S Excellence\n",
      "2993            Opel                                Cabrio 1.4T S&S Excellence\n",
      "2994            Opel                                Cabrio 1.4T S&S Excellence\n",
      "2995            Opel                                Cabrio 1.4T S&S Excellence\n",
      "2996            Opel                                Cabrio 1.4T S&S Excellence\n",
      "2997            Opel                                Cabrio 1.4T S&S Excellence\n",
      "2998            Opel                                Cabrio 1.4T S&S Excellence\n",
      "2999            Opel                                Cabrio 1.4T S&S Excellence\n",
      "3001            Opel                                Cabrio 1.4T S&S Excellence\n",
      "3002            Opel                                Cabrio 1.4T S&S Excellence\n",
      "3003            Opel                                Cabrio 1.4T S&S Excellence\n",
      "3004            Opel                                Cabrio 1.4T S&S Excellence\n",
      "3005            Opel                                Cabrio 1.4T S&S Excellence\n",
      "3006            Opel                                Cabrio 1.4T S&S Excellence\n",
      "3007            Opel                                Cabrio 1.4T S&S Excellence\n",
      "3008            Opel                                Cabrio 1.4T S&S Excellence\n",
      "3010            Opel                                Cabrio 1.4T S&S Excellence\n",
      "3012            Opel                                Cabrio 1.4T S&S Excellence\n",
      "3013            Opel                                Cabrio 1.4T S&S Excellence\n",
      "3014            Opel                                Cabrio 1.4T S&S Excellence\n",
      "3015            Opel                                Cabrio 1.4T S&S Excellence\n",
      "3016            Opel                                Cabrio 1.4T S&S Excellence\n",
      "3017            Opel                                Cabrio 1.4T S&S Excellence\n",
      "3335            Opel                                                   Olympia\n",
      "3355            Opel                                      Astra H GTC Opc Line\n",
      "5138         Renault                                Twizy 45 Intens Black Flex\n",
      "5265         Renault                                         4cv * DECOUVRABLE\n",
      "5266         Renault                                              Spider Sport\n",
      "5344         Renault               Sport Spider 2.0 Windschutz-Scheibe 1. Hand\n",
      "5543         Renault                            Alpine  A110S *KLIMA*NAVI*PDC*\n",
      "5559         Renault                                    III 2.0 16V 265 S&S RS\n",
      "5593         Renault          Alpine A610 Turbo, 83tkm, perfekt gepflegt,Klima\n",
      "5677         Renault                                                   TURBO 1\n",
      "6007         Renault         Zen 1.3 TCe  LED+Navi+Keyless+Rückfahrkam.+PDC...\n",
      "6030         Renault                  Intens 1.3 TCe 140 EDC EU6d Winter-Paket\n",
      "6046         Renault                  Intens 1.3 TCe 140 EDC EU6d Winter-Paket\n",
      "6055         Renault                       R.S. Line TCe 140 *Navi *360°*KLIMA\n",
      "6060         Renault                            Zen 1.3 TCe NAVI PDC BLUETOOTH\n",
      "6550         Renault                               Zen Energy dCi 81kW (110CV)\n",
      "6632         Renault                           Blue dCi 200 EDC Initiale Paris\n",
      "6653         Renault                           Blue dCi 190 EDC Initiale Paris\n",
      "7729         Peugeot                                                     <NULL\n",
      "7994         Peugeot                                                   201 '30\n",
      "9062         Peugeot             403 Oldtimer/ Sammler /Rarität/Black Panther/\n",
      "9068         Peugeot                                           Berline Bj.1956\n",
      "9228         Peugeot                                               403 Berlina\n",
      "9620            Fiat         Neuer 500 ICON 42kWh MJ22 ICON NAVI SITZHZG. M...\n",
      "9849            Fiat           124 Spyder Lusso+LED+Navi+BOSE+Vollleder+Kamera\n",
      "9947            Fiat                                   PININFARINA Spider 2000\n",
      "9956            Fiat                                            522L Cabriolet\n",
      "9994            Fiat             124 Spider 1.4 MultiAir Turbo Lusso Automatik\n",
      "10164           Fiat          124 Spider Lusso Leder Klima Rückfahrkamera 1 HA\n",
      "10274           Fiat                                                850c coupe\n",
      "10275           Fiat                                 128 A1 Coupe Moretti 1300\n",
      "10317           Fiat                                   Fiat 124 BC1 , BJ. 1971\n",
      "10318           Fiat                                              2300 S Coupe\n",
      "10320           Fiat                                        1300 coupe Raritat\n",
      "10323           Fiat                                              2300 S COUPÈ\n",
      "10331           Fiat         Coupé 20V Turbo Leder Radio CD Brembo  2. Hand...\n",
      "10337           Fiat                       Other Coupè 2.0 i.e. turbo 16V Plus\n",
      "10353           Fiat                                                     Coupè\n",
      "10368           Fiat                                                 850 Coupè\n",
      "10412           Fiat                                           2300 Coupé Ghia\n",
      "10419           Fiat                                  Other Coupè 1.8 i.e. 16V\n",
      "10440           Fiat                            *Fiat 850 Coupe´Serie 1*TÜV+H*\n",
      "10470           Fiat                                    1500 VIGNALE 1Â° SERIE\n",
      "10471           Fiat                                                     COUPE\n",
      "10496           Fiat                            1100/103 TV COUPE' PININFARINA\n",
      "10498           Fiat                                          Other 595-Abarth\n",
      "10564           Fiat           Action-Topolino Lotus Edition, Modellreihe 2022\n",
      "11043           Fiat                                       Qubo 1,4 73 Dynamic\n",
      "11067           Fiat               Qubo 1,3 16V Multijet II 75 Dynamic DPF AHV\n",
      "11160           Fiat                                   Fiat 1500 Familiare OSI\n",
      "11513           Fiat                                                     1100D\n",
      "11860           SEAT                                                  Seat 600\n",
      "12161           SEAT                                                       850\n",
      "12173           SEAT                                                 128 sport\n",
      "12904           SEAT                    Cupra DSG 4Dr. RfKamera/Fahrassist.-P.\n",
      "14804          Skoda                 Spaceback Monte Carlo 1.0 TSI RFK/PDC/SHZ\n",
      "15083          Dacia                                         Electric Business\n",
      "15123          Dacia                   Essential NAVI+KAMERA+CARPLAY+KLIMA+LED\n",
      "15124          Dacia                   Essential NAVI+KAMERA+CARPLAY+KLIMA+LED\n",
      "16145          Dacia                  COMFORT TCe 110 KLIMAAUTOMATIK+RADIO+ZV+\n",
      "16440          Dacia                              1300, Oldtimer, H-Zulassung.\n",
      "17018         Toyota                                      LJ70 2.4 Turbo D '92\n",
      "17029         Toyota                                             1.8-16v VVT-i\n",
      "17030         Toyota                                                   Tornado\n",
      "17041         Toyota                                                  BJ40 '78\n",
      "17069         Toyota                                         140 VVT-i SMT bva\n",
      "17076         Toyota                1.8 16v VVT-i Special edition semiautomaat\n",
      "17120         Toyota              GR Supra Dynamic Kamera,Navigation, Sitzhzg.\n",
      "17383         Toyota                                       GR Supra 3.0 LEGEND\n",
      "17385         Toyota                                        2,0 T-Bar GT-i 16V\n",
      "17600         Toyota                         X-MODE Comfort- und Technik-Paket\n",
      "17776         Toyota                         RAV4 2.0i 4WD LMV 2 X DAK LPG APK\n",
      "17793         Toyota                                         bj 42 4 marce asi\n",
      "17846         Toyota         RAV 2.5 Hybrid PlugIn 4x4 Technik-P., Klimaaut...\n",
      "18014         Toyota                      Auris Touring Sports 1.6 D-4D Active\n",
      "18025         Toyota                    Auris Touring Sports 1.8 Hybrid Active\n",
      "18075         Toyota                        1.5D 96kW (130CV) Family Active L1\n",
      "19181         Nissan                                                       NaN\n",
      "19322         Nissan                                 Skyline r34 gtt/gtr umbau\n",
      "19358         Nissan                                                     240 Z\n",
      "19364         Nissan          370 Z Nismo*Schale*BOSE*Kamera*DEUTSCH*SportAGA*\n",
      "19407         Nissan                                              Skyline gtst\n",
      "19420         Nissan                Datsun 260 z   voll restauriert ,  wie neu\n",
      "19424         Nissan                Datsun 240 z   voll restauriert ,  wie neu\n",
      "19436         Nissan               Autech Zagato Stelvio AZ1 900 kms d'origine\n",
      "19447         Nissan             Datsun 280Z   2 +2    top Zustand restauriert\n",
      "21219           Ford          Mitecki Dragster Straßenzul. mit Bremsfallschirm\n",
      "21233           Ford                          Oldtimer Ford V 8 Cabrio 4 türig\n",
      "21249           Ford                                                       NaN\n",
      "21256           Ford                T ROADSTER  open tourer *CABRIOLET* *1928*\n",
      "21269           Ford                                                         -\n",
      "21338           Ford                                                    Cabrio\n",
      "22055           Ford         Mach E AWD Leder LED Navi Kurvenlicht e-Sitze ACC\n",
      "22999        Hyundai                1.0 T-GDI iMT 48V Intro Plus LED Alu17 DAB\n",
      "23888        Hyundai         1.0 T-GDI 48V Mild-Hybrid Intro Edition 100PS ...\n",
      "23914        Hyundai         Select Mild-Hybrid 2WD 1.0 T-GDI EU6d Fernlich...\n",
      "23915        Hyundai         1.0 T-GDI 48V Select Einparkhilfe/Tempomat/Alu...\n",
      "23921        Hyundai         Mild-Hybrid 2WD T-GDI EU6d Prime 1.0, Navigati...\n",
      "23931        Hyundai         Mild-Hybrid 2WD T-GDI EU6d Prime 1.0, Navigati...\n",
      "23963        Hyundai         Mild-Hybrid 2WD T-GDI EU6d Prime 1.0 , Navigat...\n",
      "23992        Hyundai         Select Mild-Hybrid 1.0 T-GDI Bluetooth - USB -...\n",
      "24369        Hyundai                                         I30 N Performance\n",
      "24370        Hyundai                          CRDI 7 plazas 4x2 35 aniversario\n",
      "24386        Hyundai                      BAYON 1.0 T-GDi Select #Winterpaket*\n",
      "24478        Hyundai           I30N Perf M/T AHK Navip. N-Sportsitze,Leder,LED\n",
      "24479        Hyundai               I30N Perf M/T Navip. N-Sportsitze,Leder,LED\n",
      "24523        Hyundai         1.0 T-GDi IntroEdition+Navigation+Rückfahrkame...\n",
      "25485          Volvo                                 2.4 Momentum *Youngtimer*\n",
      "25547          Volvo                                              Amazon coupe\n",
      "25553          Volvo                            P 1800 E Automatik Restauriert\n",
      "25602          Volvo                           PV544 Sport B18 B20 Buckelvolvo\n",
      "25607          Volvo                                             444 kattenrug\n",
      "25645          Volvo                                            VOLVO  P1800 S\n",
      "25691          Volvo                                              Buckel Volvo\n",
      "25706          Volvo                                                    P1800E\n",
      "25827          Volvo         Ultimate AWD Recharge Pure Electric Twin getön...\n",
      "25843          Volvo               1st Edition AWD Recharge Pure Electric Twin\n",
      "25885          Volvo               1st Edition AWD Recharge Pure Electric Twin\n"
     ]
    }
   ],
   "source": [
    "pd.set_option('display.max_rows', 280)\n",
    "df['make_model'] = df['make_model'].fillna('')\n",
    "# Find word counts for each entry in the 'make_model' column\n",
    "word_counts = df['make_model'].apply(lambda x: len(str(x).split()))\n",
    "# Filter rows where word_counts is 1\n",
    "rows_with_word_count_1 = df[word_counts == 1]\n",
    "# Display the filtered rows\n",
    "print(rows_with_word_count_1[['make_model','model','short_description']])"
   ]
  },
  {
   "cell_type": "code",
   "execution_count": 418,
   "id": "f427e227",
   "metadata": {},
   "outputs": [],
   "source": [
    "df.drop(columns = 'model1', inplace=True)\n",
    "\n",
    "# İndeksleri sıfırlama, eski indeksleri sütun olarak eklememek için drop=True\n",
    "df.reset_index(drop=True, inplace=True)"
   ]
  },
  {
   "cell_type": "code",
   "execution_count": 419,
   "id": "2914b777",
   "metadata": {},
   "outputs": [
    {
     "name": "stdout",
     "output_type": "stream",
     "text": [
      "<class 'pandas.core.frame.DataFrame'>\n",
      "RangeIndex: 26861 entries, 0 to 26860\n",
      "Data columns (total 64 columns):\n",
      " #   Column                    Non-Null Count  Dtype         \n",
      "---  ------                    --------------  -----         \n",
      " 0   make_model                26861 non-null  object        \n",
      " 1   short_description         26657 non-null  object        \n",
      " 2   make                      26861 non-null  object        \n",
      " 3   model                     26861 non-null  object        \n",
      " 4   price                     26861 non-null  float64       \n",
      " 5   body_type                 26861 non-null  object        \n",
      " 6   type                      26861 non-null  object        \n",
      " 7   doors                     26520 non-null  float64       \n",
      " 8   country_version           15946 non-null  object        \n",
      " 9   offer_number              21681 non-null  object        \n",
      " 10  warranty                  14803 non-null  object        \n",
      " 11  mileage                   26860 non-null  float64       \n",
      " 12  first_registration        26859 non-null  object        \n",
      " 13  gearbox                   26627 non-null  object        \n",
      " 14  fuel_type                 25182 non-null  object        \n",
      " 15  colour                    25187 non-null  object        \n",
      " 16  paint                     13488 non-null  object        \n",
      " 17  seller                    26861 non-null  object        \n",
      " 18  seats                     23861 non-null  float64       \n",
      " 19  engine_size               25506 non-null  float64       \n",
      " 20  gears                     17712 non-null  float64       \n",
      " 21  co2_emissions             17401 non-null  float64       \n",
      " 22  manu_color                20380 non-null  object        \n",
      " 23  drivetrain                15630 non-null  object        \n",
      " 24  cylinders                 17533 non-null  float64       \n",
      " 25  empty_weight              16494 non-null  float64       \n",
      " 26  model_code                7926 non-null   object        \n",
      " 27  gen_inspection            5911 non-null   object        \n",
      " 28  last_service              1850 non-null   datetime64[ns]\n",
      " 29  service_history           11729 non-null  object        \n",
      " 30  non_smoker                10918 non-null  object        \n",
      " 31  emission_class            16729 non-null  object        \n",
      " 32  emission_sticker          8990 non-null   object        \n",
      " 33  upholstery_color          13694 non-null  object        \n",
      " 34  upholstery                17401 non-null  object        \n",
      " 35  pro_date                  5541 non-null   object        \n",
      " 36  other_fuel                2117 non-null   object        \n",
      " 37  energy_class              7337 non-null   object        \n",
      " 38  co2_efficiency            7337 non-null   object        \n",
      " 39  available                 386 non-null    object        \n",
      " 40  taxi_rental               381 non-null    object        \n",
      " 41  availability              280 non-null    float64       \n",
      " 42  last_timing_belt          499 non-null    datetime64[ns]\n",
      " 43  battery_owner             7 non-null      object        \n",
      " 44  power_kW                  26296 non-null  float64       \n",
      " 45  power_hp                  26296 non-null  float64       \n",
      " 46  fuel_consumption_comb     18511 non-null  float64       \n",
      " 47  fuel_consumption_city     16200 non-null  float64       \n",
      " 48  fuel_consumption_country  16157 non-null  float64       \n",
      " 49  location_country          26861 non-null  object        \n",
      " 50  location_city             26850 non-null  object        \n",
      " 51  ent_media_str             22208 non-null  object        \n",
      " 52  desc_str                  26217 non-null  object        \n",
      " 53  comfort_convenience_str   23771 non-null  object        \n",
      " 54  safety_security_str       23767 non-null  object        \n",
      " 55  extras_str                21903 non-null  object        \n",
      " 56  prev_km                   13108 non-null  float64       \n",
      " 57  prev_date                 13108 non-null  datetime64[ns]\n",
      " 58  owner_count               13108 non-null  float64       \n",
      " 59  power_cons_wltp_numeric   16 non-null     float64       \n",
      " 60  power_cons_numeric        463 non-null    float64       \n",
      " 61  fuel_wltp_numeric         99 non-null     float64       \n",
      " 62  co2_wltp_numeric          113 non-null    float64       \n",
      " 63  avg_elec_range            16 non-null     float64       \n",
      "dtypes: datetime64[ns](3), float64(22), object(39)\n",
      "memory usage: 13.1+ MB\n"
     ]
    }
   ],
   "source": [
    "df.info()"
   ]
  },
  {
   "cell_type": "markdown",
   "id": "f5695418-7ef6-4583-8362-a0653953fd01",
   "metadata": {},
   "source": [
    "# 2.body_type"
   ]
  },
  {
   "cell_type": "code",
   "execution_count": 421,
   "id": "1d2be17f-f67d-478c-86c5-6fc6ba62b231",
   "metadata": {},
   "outputs": [
    {
     "data": {
      "text/plain": [
       "array([' Compact', ' Convertible', ' Coupe', ' Off-Road/Pick-up',\n",
       "       ' Station wagon', ' Sedan'], dtype=object)"
      ]
     },
     "execution_count": 421,
     "metadata": {},
     "output_type": "execute_result"
    }
   ],
   "source": [
    "df.body_type.unique()"
   ]
  },
  {
   "cell_type": "code",
   "execution_count": 422,
   "id": "c0899059-92ed-4436-b2ba-2d734e18db02",
   "metadata": {},
   "outputs": [
    {
     "data": {
      "text/html": [
       "<div>\n",
       "<style scoped>\n",
       "    .dataframe tbody tr th:only-of-type {\n",
       "        vertical-align: middle;\n",
       "    }\n",
       "\n",
       "    .dataframe tbody tr th {\n",
       "        vertical-align: top;\n",
       "    }\n",
       "\n",
       "    .dataframe thead th {\n",
       "        text-align: right;\n",
       "    }\n",
       "</style>\n",
       "<table border=\"1\" class=\"dataframe\">\n",
       "  <thead>\n",
       "    <tr style=\"text-align: right;\">\n",
       "      <th></th>\n",
       "      <th>make_model</th>\n",
       "      <th>short_description</th>\n",
       "      <th>make</th>\n",
       "      <th>model</th>\n",
       "      <th>price</th>\n",
       "      <th>body_type</th>\n",
       "      <th>type</th>\n",
       "      <th>doors</th>\n",
       "      <th>country_version</th>\n",
       "      <th>offer_number</th>\n",
       "      <th>...</th>\n",
       "      <th>safety_security_str</th>\n",
       "      <th>extras_str</th>\n",
       "      <th>prev_km</th>\n",
       "      <th>prev_date</th>\n",
       "      <th>owner_count</th>\n",
       "      <th>power_cons_wltp_numeric</th>\n",
       "      <th>power_cons_numeric</th>\n",
       "      <th>fuel_wltp_numeric</th>\n",
       "      <th>co2_wltp_numeric</th>\n",
       "      <th>avg_elec_range</th>\n",
       "    </tr>\n",
       "  </thead>\n",
       "  <tbody>\n",
       "  </tbody>\n",
       "</table>\n",
       "<p>0 rows × 64 columns</p>\n",
       "</div>"
      ],
      "text/plain": [
       "Empty DataFrame\n",
       "Columns: [make_model, short_description, make, model, price, body_type, type, doors, country_version, offer_number, warranty, mileage, first_registration, gearbox, fuel_type, colour, paint, seller, seats, engine_size, gears, co2_emissions, manu_color, drivetrain, cylinders, empty_weight, model_code, gen_inspection, last_service, service_history, non_smoker, emission_class, emission_sticker, upholstery_color, upholstery, pro_date, other_fuel, energy_class, co2_efficiency, available, taxi_rental, availability, last_timing_belt, battery_owner, power_kW, power_hp, fuel_consumption_comb, fuel_consumption_city, fuel_consumption_country, location_country, location_city, ent_media_str, desc_str, comfort_convenience_str, safety_security_str, extras_str, prev_km, prev_date, owner_count, power_cons_wltp_numeric, power_cons_numeric, fuel_wltp_numeric, co2_wltp_numeric, avg_elec_range]\n",
       "Index: []\n",
       "\n",
       "[0 rows x 64 columns]"
      ]
     },
     "execution_count": 422,
     "metadata": {},
     "output_type": "execute_result"
    }
   ],
   "source": [
    "missing_body_type_index = df[(df['body_type'].isna()) | (df['body_type'].str.strip() == '')].index\n",
    "result2 = df.loc[missing_body_type_index]\n",
    "result2"
   ]
  },
  {
   "cell_type": "markdown",
   "id": "ea10b603-ca8a-470a-8d8e-31982a19b985",
   "metadata": {},
   "source": [
    "# 3.type\n"
   ]
  },
  {
   "cell_type": "code",
   "execution_count": 424,
   "id": "efd5c057-cf3e-4c19-a65e-0f3693f23ab0",
   "metadata": {},
   "outputs": [
    {
     "data": {
      "text/plain": [
       "array([' Used', ' Pre-registered', ' Demonstration', \" Employee's car\"],\n",
       "      dtype=object)"
      ]
     },
     "execution_count": 424,
     "metadata": {},
     "output_type": "execute_result"
    }
   ],
   "source": [
    "df.type.unique()"
   ]
  },
  {
   "cell_type": "code",
   "execution_count": 425,
   "id": "c0aad10e",
   "metadata": {},
   "outputs": [
    {
     "data": {
      "text/plain": [
       "type\n",
       " Used              23596\n",
       " Demonstration      1371\n",
       " Pre-registered     1360\n",
       " Employee's car      534\n",
       "Name: count, dtype: int64"
      ]
     },
     "execution_count": 425,
     "metadata": {},
     "output_type": "execute_result"
    }
   ],
   "source": [
    "df.type.value_counts(dropna=False)"
   ]
  },
  {
   "cell_type": "markdown",
   "id": "85a8e194-b5ff-4dbc-92b1-9647fbc42c1c",
   "metadata": {},
   "source": [
    "# 4. doors"
   ]
  },
  {
   "cell_type": "code",
   "execution_count": 427,
   "id": "3954a3bb-b26f-4658-8215-a1c8234f7e2d",
   "metadata": {},
   "outputs": [
    {
     "data": {
      "text/plain": [
       "341"
      ]
     },
     "execution_count": 427,
     "metadata": {},
     "output_type": "execute_result"
    }
   ],
   "source": [
    "df.doors.isna().sum()"
   ]
  },
  {
   "cell_type": "code",
   "execution_count": 428,
   "id": "f2bf4a8c-83c3-439b-99c7-c30e32317c59",
   "metadata": {},
   "outputs": [],
   "source": [
    "df['doors'] = df.groupby(['body_type'])['doors'].transform(lambda x: x.fillna(method='ffill').fillna(method='bfill'))\n"
   ]
  },
  {
   "cell_type": "code",
   "execution_count": 429,
   "id": "faa29ef4-8cd0-4f93-8663-cec24195c0b9",
   "metadata": {},
   "outputs": [
    {
     "data": {
      "text/plain": [
       "doors\n",
       "5.0    16533\n",
       "2.0     5212\n",
       "4.0     2876\n",
       "3.0     2233\n",
       "6.0        5\n",
       "1.0        2\n",
       "Name: count, dtype: int64"
      ]
     },
     "execution_count": 429,
     "metadata": {},
     "output_type": "execute_result"
    }
   ],
   "source": [
    "df['doors'].value_counts(dropna = False)"
   ]
  },
  {
   "cell_type": "code",
   "execution_count": 430,
   "id": "4deadb91-71a5-4709-883a-813da46f246a",
   "metadata": {},
   "outputs": [
    {
     "data": {
      "text/plain": [
       "array([5., 4., 3., 2., 1., 6.])"
      ]
     },
     "execution_count": 430,
     "metadata": {},
     "output_type": "execute_result"
    }
   ],
   "source": [
    "df.doors.unique()"
   ]
  },
  {
   "cell_type": "code",
   "execution_count": 431,
   "id": "f38575bb-330c-4249-93a5-afb47d2306ee",
   "metadata": {
    "scrolled": true
   },
   "outputs": [
    {
     "name": "stdout",
     "output_type": "stream",
     "text": [
      "<class 'pandas.core.frame.DataFrame'>\n",
      "RangeIndex: 26861 entries, 0 to 26860\n",
      "Data columns (total 64 columns):\n",
      " #   Column                    Non-Null Count  Dtype         \n",
      "---  ------                    --------------  -----         \n",
      " 0   make_model                26861 non-null  object        \n",
      " 1   short_description         26657 non-null  object        \n",
      " 2   make                      26861 non-null  object        \n",
      " 3   model                     26861 non-null  object        \n",
      " 4   price                     26861 non-null  float64       \n",
      " 5   body_type                 26861 non-null  object        \n",
      " 6   type                      26861 non-null  object        \n",
      " 7   doors                     26861 non-null  float64       \n",
      " 8   country_version           15946 non-null  object        \n",
      " 9   offer_number              21681 non-null  object        \n",
      " 10  warranty                  14803 non-null  object        \n",
      " 11  mileage                   26860 non-null  float64       \n",
      " 12  first_registration        26859 non-null  object        \n",
      " 13  gearbox                   26627 non-null  object        \n",
      " 14  fuel_type                 25182 non-null  object        \n",
      " 15  colour                    25187 non-null  object        \n",
      " 16  paint                     13488 non-null  object        \n",
      " 17  seller                    26861 non-null  object        \n",
      " 18  seats                     23861 non-null  float64       \n",
      " 19  engine_size               25506 non-null  float64       \n",
      " 20  gears                     17712 non-null  float64       \n",
      " 21  co2_emissions             17401 non-null  float64       \n",
      " 22  manu_color                20380 non-null  object        \n",
      " 23  drivetrain                15630 non-null  object        \n",
      " 24  cylinders                 17533 non-null  float64       \n",
      " 25  empty_weight              16494 non-null  float64       \n",
      " 26  model_code                7926 non-null   object        \n",
      " 27  gen_inspection            5911 non-null   object        \n",
      " 28  last_service              1850 non-null   datetime64[ns]\n",
      " 29  service_history           11729 non-null  object        \n",
      " 30  non_smoker                10918 non-null  object        \n",
      " 31  emission_class            16729 non-null  object        \n",
      " 32  emission_sticker          8990 non-null   object        \n",
      " 33  upholstery_color          13694 non-null  object        \n",
      " 34  upholstery                17401 non-null  object        \n",
      " 35  pro_date                  5541 non-null   object        \n",
      " 36  other_fuel                2117 non-null   object        \n",
      " 37  energy_class              7337 non-null   object        \n",
      " 38  co2_efficiency            7337 non-null   object        \n",
      " 39  available                 386 non-null    object        \n",
      " 40  taxi_rental               381 non-null    object        \n",
      " 41  availability              280 non-null    float64       \n",
      " 42  last_timing_belt          499 non-null    datetime64[ns]\n",
      " 43  battery_owner             7 non-null      object        \n",
      " 44  power_kW                  26296 non-null  float64       \n",
      " 45  power_hp                  26296 non-null  float64       \n",
      " 46  fuel_consumption_comb     18511 non-null  float64       \n",
      " 47  fuel_consumption_city     16200 non-null  float64       \n",
      " 48  fuel_consumption_country  16157 non-null  float64       \n",
      " 49  location_country          26861 non-null  object        \n",
      " 50  location_city             26850 non-null  object        \n",
      " 51  ent_media_str             22208 non-null  object        \n",
      " 52  desc_str                  26217 non-null  object        \n",
      " 53  comfort_convenience_str   23771 non-null  object        \n",
      " 54  safety_security_str       23767 non-null  object        \n",
      " 55  extras_str                21903 non-null  object        \n",
      " 56  prev_km                   13108 non-null  float64       \n",
      " 57  prev_date                 13108 non-null  datetime64[ns]\n",
      " 58  owner_count               13108 non-null  float64       \n",
      " 59  power_cons_wltp_numeric   16 non-null     float64       \n",
      " 60  power_cons_numeric        463 non-null    float64       \n",
      " 61  fuel_wltp_numeric         99 non-null     float64       \n",
      " 62  co2_wltp_numeric          113 non-null    float64       \n",
      " 63  avg_elec_range            16 non-null     float64       \n",
      "dtypes: datetime64[ns](3), float64(22), object(39)\n",
      "memory usage: 13.1+ MB\n"
     ]
    }
   ],
   "source": [
    "df.info()"
   ]
  },
  {
   "cell_type": "markdown",
   "id": "086f5f6b-66f2-49c6-a097-0857df5568d4",
   "metadata": {},
   "source": [
    "# 5.country_version"
   ]
  },
  {
   "cell_type": "code",
   "execution_count": 433,
   "id": "58f8988b-5e91-408c-970f-40fc188fbc98",
   "metadata": {},
   "outputs": [
    {
     "data": {
      "text/plain": [
       "10915"
      ]
     },
     "execution_count": 433,
     "metadata": {},
     "output_type": "execute_result"
    }
   ],
   "source": [
    "df.country_version.isna().sum()"
   ]
  },
  {
   "cell_type": "code",
   "execution_count": 434,
   "id": "25a34362-941d-4893-8d71-f93e51f8b48e",
   "metadata": {},
   "outputs": [
    {
     "data": {
      "text/html": [
       "<div>\n",
       "<style scoped>\n",
       "    .dataframe tbody tr th:only-of-type {\n",
       "        vertical-align: middle;\n",
       "    }\n",
       "\n",
       "    .dataframe tbody tr th {\n",
       "        vertical-align: top;\n",
       "    }\n",
       "\n",
       "    .dataframe thead th {\n",
       "        text-align: right;\n",
       "    }\n",
       "</style>\n",
       "<table border=\"1\" class=\"dataframe\">\n",
       "  <thead>\n",
       "    <tr style=\"text-align: right;\">\n",
       "      <th></th>\n",
       "      <th>country_version</th>\n",
       "      <th>location_country</th>\n",
       "    </tr>\n",
       "  </thead>\n",
       "  <tbody>\n",
       "    <tr>\n",
       "      <th>0</th>\n",
       "      <td>Spain</td>\n",
       "      <td>Spain</td>\n",
       "    </tr>\n",
       "    <tr>\n",
       "      <th>1</th>\n",
       "      <td>Spain</td>\n",
       "      <td>Spain</td>\n",
       "    </tr>\n",
       "    <tr>\n",
       "      <th>2</th>\n",
       "      <td>Spain</td>\n",
       "      <td>Spain</td>\n",
       "    </tr>\n",
       "    <tr>\n",
       "      <th>3</th>\n",
       "      <td>Spain</td>\n",
       "      <td>Spain</td>\n",
       "    </tr>\n",
       "    <tr>\n",
       "      <th>4</th>\n",
       "      <td>Spain</td>\n",
       "      <td>Spain</td>\n",
       "    </tr>\n",
       "    <tr>\n",
       "      <th>...</th>\n",
       "      <td>...</td>\n",
       "      <td>...</td>\n",
       "    </tr>\n",
       "    <tr>\n",
       "      <th>26856</th>\n",
       "      <td>Spain</td>\n",
       "      <td>Spain</td>\n",
       "    </tr>\n",
       "    <tr>\n",
       "      <th>26857</th>\n",
       "      <td>NaN</td>\n",
       "      <td>Netherlands</td>\n",
       "    </tr>\n",
       "    <tr>\n",
       "      <th>26858</th>\n",
       "      <td>Belgium</td>\n",
       "      <td>Belgium</td>\n",
       "    </tr>\n",
       "    <tr>\n",
       "      <th>26859</th>\n",
       "      <td>NaN</td>\n",
       "      <td>Netherlands</td>\n",
       "    </tr>\n",
       "    <tr>\n",
       "      <th>26860</th>\n",
       "      <td>NaN</td>\n",
       "      <td>Netherlands</td>\n",
       "    </tr>\n",
       "  </tbody>\n",
       "</table>\n",
       "<p>26861 rows × 2 columns</p>\n",
       "</div>"
      ],
      "text/plain": [
       "      country_version location_country\n",
       "0               Spain            Spain\n",
       "1               Spain            Spain\n",
       "2               Spain            Spain\n",
       "3               Spain            Spain\n",
       "4               Spain            Spain\n",
       "...               ...              ...\n",
       "26856           Spain            Spain\n",
       "26857             NaN      Netherlands\n",
       "26858         Belgium          Belgium\n",
       "26859             NaN      Netherlands\n",
       "26860             NaN      Netherlands\n",
       "\n",
       "[26861 rows x 2 columns]"
      ]
     },
     "execution_count": 434,
     "metadata": {},
     "output_type": "execute_result"
    }
   ],
   "source": [
    "df[['country_version', 'location_country']]"
   ]
  },
  {
   "cell_type": "code",
   "execution_count": 435,
   "id": "fc601f70-03a5-4b21-9733-2bba1a32a21a",
   "metadata": {},
   "outputs": [],
   "source": [
    "df['country_version'] = df['country_version'].fillna(df['location_country'])"
   ]
  },
  {
   "cell_type": "code",
   "execution_count": 436,
   "id": "94783425-018d-4b7f-b43b-869df840b30b",
   "metadata": {},
   "outputs": [
    {
     "data": {
      "text/html": [
       "<div>\n",
       "<style scoped>\n",
       "    .dataframe tbody tr th:only-of-type {\n",
       "        vertical-align: middle;\n",
       "    }\n",
       "\n",
       "    .dataframe tbody tr th {\n",
       "        vertical-align: top;\n",
       "    }\n",
       "\n",
       "    .dataframe thead th {\n",
       "        text-align: right;\n",
       "    }\n",
       "</style>\n",
       "<table border=\"1\" class=\"dataframe\">\n",
       "  <thead>\n",
       "    <tr style=\"text-align: right;\">\n",
       "      <th></th>\n",
       "      <th>country_version</th>\n",
       "      <th>location_country</th>\n",
       "    </tr>\n",
       "  </thead>\n",
       "  <tbody>\n",
       "    <tr>\n",
       "      <th>0</th>\n",
       "      <td>Spain</td>\n",
       "      <td>Spain</td>\n",
       "    </tr>\n",
       "    <tr>\n",
       "      <th>1</th>\n",
       "      <td>Spain</td>\n",
       "      <td>Spain</td>\n",
       "    </tr>\n",
       "    <tr>\n",
       "      <th>2</th>\n",
       "      <td>Spain</td>\n",
       "      <td>Spain</td>\n",
       "    </tr>\n",
       "    <tr>\n",
       "      <th>3</th>\n",
       "      <td>Spain</td>\n",
       "      <td>Spain</td>\n",
       "    </tr>\n",
       "    <tr>\n",
       "      <th>4</th>\n",
       "      <td>Spain</td>\n",
       "      <td>Spain</td>\n",
       "    </tr>\n",
       "    <tr>\n",
       "      <th>...</th>\n",
       "      <td>...</td>\n",
       "      <td>...</td>\n",
       "    </tr>\n",
       "    <tr>\n",
       "      <th>26856</th>\n",
       "      <td>Spain</td>\n",
       "      <td>Spain</td>\n",
       "    </tr>\n",
       "    <tr>\n",
       "      <th>26857</th>\n",
       "      <td>Netherlands</td>\n",
       "      <td>Netherlands</td>\n",
       "    </tr>\n",
       "    <tr>\n",
       "      <th>26858</th>\n",
       "      <td>Belgium</td>\n",
       "      <td>Belgium</td>\n",
       "    </tr>\n",
       "    <tr>\n",
       "      <th>26859</th>\n",
       "      <td>Netherlands</td>\n",
       "      <td>Netherlands</td>\n",
       "    </tr>\n",
       "    <tr>\n",
       "      <th>26860</th>\n",
       "      <td>Netherlands</td>\n",
       "      <td>Netherlands</td>\n",
       "    </tr>\n",
       "  </tbody>\n",
       "</table>\n",
       "<p>26861 rows × 2 columns</p>\n",
       "</div>"
      ],
      "text/plain": [
       "      country_version location_country\n",
       "0               Spain            Spain\n",
       "1               Spain            Spain\n",
       "2               Spain            Spain\n",
       "3               Spain            Spain\n",
       "4               Spain            Spain\n",
       "...               ...              ...\n",
       "26856           Spain            Spain\n",
       "26857     Netherlands      Netherlands\n",
       "26858         Belgium          Belgium\n",
       "26859     Netherlands      Netherlands\n",
       "26860     Netherlands      Netherlands\n",
       "\n",
       "[26861 rows x 2 columns]"
      ]
     },
     "execution_count": 436,
     "metadata": {},
     "output_type": "execute_result"
    }
   ],
   "source": [
    "df[['country_version', 'location_country']]"
   ]
  },
  {
   "cell_type": "code",
   "execution_count": 437,
   "id": "b572ad86-bd3c-470c-98b0-5714ceff7a14",
   "metadata": {},
   "outputs": [
    {
     "data": {
      "text/plain": [
       "0"
      ]
     },
     "execution_count": 437,
     "metadata": {},
     "output_type": "execute_result"
    }
   ],
   "source": [
    "df.country_version.isna().sum()"
   ]
  },
  {
   "cell_type": "code",
   "execution_count": 438,
   "id": "d71f67d0-409d-4980-b5c4-0eddc889958d",
   "metadata": {},
   "outputs": [
    {
     "data": {
      "text/plain": [
       "country_version\n",
       " Germany           7489\n",
       " Spain             5974\n",
       "Germany            3824\n",
       "Netherlands        2256\n",
       "Italy              1774\n",
       "France             1316\n",
       "Belgium            1114\n",
       " Italy              663\n",
       " Belgium            614\n",
       "Austria             460\n",
       " European Union     338\n",
       " Netherlands        284\n",
       " Austria            262\n",
       "Spain               137\n",
       " France              97\n",
       " United States       52\n",
       " Czechia             47\n",
       "Luxembourg           31\n",
       " Poland              30\n",
       " Hungary             20\n",
       " Denmark             18\n",
       " Romania             12\n",
       " Japan               12\n",
       " Luxembourg           9\n",
       " Switzerland          5\n",
       " Slovenia             5\n",
       " Sweden               4\n",
       " Slovakia             4\n",
       " Croatia              3\n",
       " Bulgaria             1\n",
       "Estonia               1\n",
       "Denmark               1\n",
       " Malta                1\n",
       " Canada               1\n",
       "Bulgaria              1\n",
       " Mexico               1\n",
       "Name: count, dtype: int64"
      ]
     },
     "execution_count": 438,
     "metadata": {},
     "output_type": "execute_result"
    }
   ],
   "source": [
    "df.country_version.value_counts(dropna= False)"
   ]
  },
  {
   "cell_type": "code",
   "execution_count": 439,
   "id": "d4e0d78b-6de2-4f92-95b9-424a452879eb",
   "metadata": {},
   "outputs": [
    {
     "data": {
      "text/plain": [
       "Index(['make_model', 'short_description', 'make', 'model', 'price',\n",
       "       'body_type', 'type', 'doors', 'country_version', 'offer_number',\n",
       "       'warranty', 'mileage', 'first_registration', 'gearbox', 'fuel_type',\n",
       "       'colour', 'paint', 'seller', 'seats', 'engine_size', 'gears',\n",
       "       'co2_emissions', 'manu_color', 'drivetrain', 'cylinders',\n",
       "       'empty_weight', 'model_code', 'gen_inspection', 'last_service',\n",
       "       'service_history', 'non_smoker', 'emission_class', 'emission_sticker',\n",
       "       'upholstery_color', 'upholstery', 'pro_date', 'other_fuel',\n",
       "       'energy_class', 'co2_efficiency', 'available', 'taxi_rental',\n",
       "       'availability', 'last_timing_belt', 'battery_owner', 'power_kW',\n",
       "       'power_hp', 'fuel_consumption_comb', 'fuel_consumption_city',\n",
       "       'fuel_consumption_country', 'location_country', 'location_city',\n",
       "       'ent_media_str', 'desc_str', 'comfort_convenience_str',\n",
       "       'safety_security_str', 'extras_str', 'prev_km', 'prev_date',\n",
       "       'owner_count', 'power_cons_wltp_numeric', 'power_cons_numeric',\n",
       "       'fuel_wltp_numeric', 'co2_wltp_numeric', 'avg_elec_range'],\n",
       "      dtype='object')"
      ]
     },
     "execution_count": 439,
     "metadata": {},
     "output_type": "execute_result"
    }
   ],
   "source": [
    "df.columns"
   ]
  },
  {
   "cell_type": "code",
   "execution_count": 440,
   "id": "647cab8d-385a-4747-98af-8d11937f221f",
   "metadata": {},
   "outputs": [
    {
     "data": {
      "image/png": "[encoded data removed]",
      "text/plain": [
       "<Figure size 1000x600 with 1 Axes>"
      ]
     },
     "metadata": {},
     "output_type": "display_data"
    }
   ],
   "source": [
    "plt.figure(figsize=(10, 6))\n",
    "sns.countplot(data = df, x = 'country_version')\n",
    "plt.xticks(rotation = 90);"
   ]
  },
  {
   "cell_type": "code",
   "execution_count": 441,
   "id": "bf190140-1930-4928-a220-a6b595843338",
   "metadata": {},
   "outputs": [
    {
     "data": {
      "image/png": "[encoded data removed]",
      "text/plain": [
       "<Figure size 1000x600 with 1 Axes>"
      ]
     },
     "metadata": {},
     "output_type": "display_data"
    }
   ],
   "source": [
    "plt.figure(figsize=(10, 6))\n",
    "sns.countplot(data = df, x = 'location_country')\n",
    "plt.xticks(rotation = 90);"
   ]
  },
  {
   "cell_type": "markdown",
   "id": "27ce13ba-b737-438e-a385-03907808ce1e",
   "metadata": {},
   "source": [
    "# 6. warranty"
   ]
  },
  {
   "cell_type": "code",
   "execution_count": 443,
   "id": "8d3b73bb-7230-4427-9e55-6cfacb956b85",
   "metadata": {},
   "outputs": [
    {
     "data": {
      "text/plain": [
       "12058"
      ]
     },
     "execution_count": 443,
     "metadata": {},
     "output_type": "execute_result"
    }
   ],
   "source": [
    "df.warranty.isna().sum()"
   ]
  },
  {
   "cell_type": "code",
   "execution_count": 444,
   "id": "3e7380d3-e32d-43d2-8114-e703a1018f38",
   "metadata": {},
   "outputs": [
    {
     "data": {
      "text/plain": [
       "array(['24.0', '12.0', nan, 'yes', '48.0', '6.0', '3.0', '8.0', '36.0',\n",
       "       '122.0', '0.0', '60.0', '22.0', '23.0', '18.0', '28.0', '17.0',\n",
       "       '19.0', '21.0', '72.0', '11.0', '7.0', '1.0', '10.0', '30.0',\n",
       "       '13.0', '90.0', '16.0', '9.0', '84.0', '14.0', '15.0', '47.0',\n",
       "       '20.0', '27.0', '34.0', '33.0', '31.0', '26.0', '32.0', '99.0',\n",
       "       '50.0', '35.0', '110.0', '142.0', '80.0', '65.0', '43.0', '117.0',\n",
       "       '58.0', '46.0', '2.0', '45.0', '53.0', '52.0', '39.0', '25.0',\n",
       "       '57.0', '37.0', '49.0', '55.0', '51.0', '29.0', '42.0', '44.0',\n",
       "       '4.0'], dtype=object)"
      ]
     },
     "execution_count": 444,
     "metadata": {},
     "output_type": "execute_result"
    }
   ],
   "source": [
    "df.warranty.unique()"
   ]
  },
  {
   "cell_type": "code",
   "execution_count": 445,
   "id": "e335d6f5-6454-432e-bde8-feef0f10960f",
   "metadata": {},
   "outputs": [],
   "source": [
    "df['warranty'] = df['warranty'].replace({'0.0': 'No', np.nan: 'No'})\n",
    "df['warranty'] = df['warranty'].apply(lambda x: 'Yes' if x not in ['No', 'Yes'] else x)\n"
   ]
  },
  {
   "cell_type": "code",
   "execution_count": 446,
   "id": "642ed865-0ed6-4d4d-a26d-649debd3e2d3",
   "metadata": {},
   "outputs": [
    {
     "data": {
      "text/plain": [
       "array(['Yes', 'No'], dtype=object)"
      ]
     },
     "execution_count": 446,
     "metadata": {},
     "output_type": "execute_result"
    }
   ],
   "source": [
    "df.warranty.unique()"
   ]
  },
  {
   "cell_type": "code",
   "execution_count": 447,
   "id": "20851b98-0b27-45bf-b26d-948d7d35fb1a",
   "metadata": {},
   "outputs": [
    {
     "data": {
      "text/plain": [
       "warranty\n",
       "Yes    14671\n",
       "No     12190\n",
       "Name: count, dtype: int64"
      ]
     },
     "execution_count": 447,
     "metadata": {},
     "output_type": "execute_result"
    }
   ],
   "source": [
    "df.warranty.value_counts(dropna = False)"
   ]
  },
  {
   "cell_type": "markdown",
   "id": "44840fa0-ba16-4e34-8a37-d32e37a5cc55",
   "metadata": {},
   "source": [
    "# 7. mileage"
   ]
  },
  {
   "cell_type": "code",
   "execution_count": 449,
   "id": "ed0a12f5-7174-4eff-8b27-86ce3f098ca4",
   "metadata": {},
   "outputs": [
    {
     "data": {
      "text/plain": [
       "0        120200.0\n",
       "1          5000.0\n",
       "2         18900.0\n",
       "3         18995.0\n",
       "4        197000.0\n",
       "           ...   \n",
       "26856     40345.0\n",
       "26857    145000.0\n",
       "26858     96000.0\n",
       "26859     94343.0\n",
       "26860    230047.0\n",
       "Name: mileage, Length: 26861, dtype: float64"
      ]
     },
     "execution_count": 449,
     "metadata": {},
     "output_type": "execute_result"
    }
   ],
   "source": [
    "df.mileage"
   ]
  },
  {
   "cell_type": "code",
   "execution_count": 450,
   "id": "8c6aba9e-b4ae-4a57-a450-7f12360f81b9",
   "metadata": {},
   "outputs": [
    {
     "data": {
      "text/plain": [
       "1"
      ]
     },
     "execution_count": 450,
     "metadata": {},
     "output_type": "execute_result"
    }
   ],
   "source": [
    "df.mileage.isna().sum()"
   ]
  },
  {
   "cell_type": "code",
   "execution_count": 451,
   "id": "2ecd6f67-38c1-4867-b0da-077e1f4e200d",
   "metadata": {},
   "outputs": [
    {
     "data": {
      "text/plain": [
       "Index([10700], dtype='int64')"
      ]
     },
     "execution_count": 451,
     "metadata": {},
     "output_type": "execute_result"
    }
   ],
   "source": [
    "df[df.mileage.isna()].index"
   ]
  },
  {
   "cell_type": "code",
   "execution_count": 452,
   "id": "28db875e-c127-4b52-9ee6-9cb6b7711b1b",
   "metadata": {},
   "outputs": [
    {
     "data": {
      "text/plain": [
       "mileage                                               24127.0\n",
       "prev_km                                               24127.0\n",
       "desc_str    Prezzo riservato a sottoscrizione ed accettazi...\n",
       "pro_date                                                  NaN\n",
       "seller                                                 Dealer\n",
       "Name: 10753, dtype: object"
      ]
     },
     "execution_count": 452,
     "metadata": {},
     "output_type": "execute_result"
    }
   ],
   "source": [
    "df[['mileage', 'prev_km', 'desc_str', 'pro_date', 'seller']].iloc[10753]"
   ]
  },
  {
   "cell_type": "code",
   "execution_count": 453,
   "id": "0ed20cbe-a4b3-4a6c-a8d4-45d6c98b6398",
   "metadata": {},
   "outputs": [
    {
     "data": {
      "text/plain": [
       "'Prezzo riservato a sottoscrizione ed accettazione di piano finanziario di almeno 12000,00., Possibilita di mini rate., Per maggiori info contatta il consulente dedicato al 3318732685.'"
      ]
     },
     "execution_count": 453,
     "metadata": {},
     "output_type": "execute_result"
    }
   ],
   "source": [
    "df.desc_str.iloc[10753]"
   ]
  },
  {
   "cell_type": "code",
   "execution_count": 454,
   "id": "3b29a6d8",
   "metadata": {},
   "outputs": [
    {
     "name": "stdout",
     "output_type": "stream",
     "text": [
      "2022 yılında kaydedilen araçların mileage ortalaması: 2998.55\n"
     ]
    }
   ],
   "source": [
    "# first_registration sütununu datetime türüne dönüştürme\n",
    "df['first_registration'] = pd.to_datetime(df['first_registration'])\n",
    "# 2022 yılında kaydedilmiş araçların first_registration ve mileage sütunlarını seçme\n",
    "filtered_df = df[df['first_registration'].between('2022-01-01', '2022-12-31')]\n",
    "# mileage sütunundaki değerlerin ortalamasını alma\n",
    "mileage_mean = round(filtered_df['mileage'].mean(),2)\n",
    "print(\"2022 yılında kaydedilen araçların mileage ortalaması:\", mileage_mean)"
   ]
  },
  {
   "cell_type": "code",
   "execution_count": 455,
   "id": "116ecb45-8fd7-45a0-b1a5-b64a571b6bcf",
   "metadata": {},
   "outputs": [],
   "source": [
    "\n",
    "df.mileage.fillna(mileage_mean, inplace= True)"
   ]
  },
  {
   "cell_type": "code",
   "execution_count": 456,
   "id": "6593f806-3da1-4b15-bf8f-3cd6b5c11675",
   "metadata": {},
   "outputs": [
    {
     "data": {
      "text/plain": [
       "0"
      ]
     },
     "execution_count": 456,
     "metadata": {},
     "output_type": "execute_result"
    }
   ],
   "source": [
    "df.mileage.isna().sum()"
   ]
  },
  {
   "cell_type": "code",
   "execution_count": 457,
   "id": "f1ca2294-36b2-40ea-8a1b-28543d6d13b7",
   "metadata": {},
   "outputs": [
    {
     "data": {
      "text/plain": [
       "24127.0"
      ]
     },
     "execution_count": 457,
     "metadata": {},
     "output_type": "execute_result"
    }
   ],
   "source": [
    "df.mileage.iloc[10753]"
   ]
  },
  {
   "cell_type": "markdown",
   "id": "7d586adf-85ed-41c8-b96b-4ed19b70a521",
   "metadata": {},
   "source": [
    "# 8. first_registration"
   ]
  },
  {
   "cell_type": "code",
   "execution_count": 459,
   "id": "92d9c115-67bd-4782-bebc-f0ada180f05e",
   "metadata": {},
   "outputs": [
    {
     "data": {
      "text/plain": [
       "2"
      ]
     },
     "execution_count": 459,
     "metadata": {},
     "output_type": "execute_result"
    }
   ],
   "source": [
    "df.first_registration.isna().sum()"
   ]
  },
  {
   "cell_type": "code",
   "execution_count": 460,
   "id": "46063c58-b4fe-4601-be33-f22723bd2476",
   "metadata": {},
   "outputs": [
    {
     "data": {
      "text/plain": [
       "Index([681, 16793], dtype='int64')"
      ]
     },
     "execution_count": 460,
     "metadata": {},
     "output_type": "execute_result"
    }
   ],
   "source": [
    "df[df.first_registration.isna()].index"
   ]
  },
  {
   "cell_type": "code",
   "execution_count": 461,
   "id": "fdf8240e-a8ba-4cab-a312-9d05922f1c71",
   "metadata": {},
   "outputs": [
    {
     "data": {
      "text/plain": [
       "short_description     Roadster, Soundsystem, Distronic, ILS, PTS, Me...\n",
       "first_registration                                  2014-02-01 00:00:00\n",
       "desc_str              SLK 55 AMG, Garagenfahrzeug, unfallfrei, Schec...\n",
       "prev_date                                                           NaT\n",
       "Name: 683, dtype: object"
      ]
     },
     "execution_count": 461,
     "metadata": {},
     "output_type": "execute_result"
    }
   ],
   "source": [
    "df[['short_description','first_registration', 'desc_str', 'prev_date']].iloc[683]"
   ]
  },
  {
   "cell_type": "code",
   "execution_count": 462,
   "id": "67da3b6f-4b76-42c2-bf1c-4fa0e436dd77",
   "metadata": {},
   "outputs": [
    {
     "data": {
      "text/plain": [
       "'SLK 55 AMG, Garagenfahrzeug, unfallfrei, Scheckheftgepflegt bei Mercedes, letzte Wartung 12.04.2022, Top-Zustand und Top-Ausstattung, Sonderausstattung:, Ambiente-Beleuchtung, Audio-Navigationssystem: Autopilot-System APS COMAND, Bi-Xenon-Scheinwerfer mit adaptiver Lichtverteilung (Intelligent Light System), Diebstahlschutz-Paket, Fahrassistenz-Paket, Fahrassistenz-System: Fernlichtassistent Adaptive, Feuerlöscher, Handling-Paket (AMG), Kopfraumheizung (Airscarf), LM-Felgen vorn/hinten: 8x18 / 9x18 (AMG, 10-Speichen), Media Interface (Universal-Schnittstelle für iPod / AUX / USB / MP3), Memory-Paket, Metallic-Lackierung, Parktronic-System PTS (vorn und hinten), Reifendruck-Kontrollsystem, Scheibenwaschanlage beheizt, Scheibenwischer mit Regensensor, Sitzbezug / Polsterung: Leder Nappa, Sitzheizung vorn, Sound-System Harman-Kardon mit Logic7-Surround-System, Spiegel-Paket, Sport-Fahrwerk, Serienausstattung:, Adaptives Bremslicht, Airbag Fahrer-/Beifahrerseite, Aktive Motorhaube, Anti-Blockier-System (ABS), Antriebs-Schlupfregelung (ASR), Außenspiegel elektr. verstell- und heizbar, beide, Außenspiegel Wagenfarbe, Außentemperaturanzeige, Blinkleuchte in Außenspiegel integriert, Bremsassistent, Design- und Ausstattungslinie Standard, Direktlenkung mit variabler Lenkkraft-Unterstützung, Edelstahlpedale Sportdesign, Einschaltautomatik für Fahrlicht, Einstiegschienen vorn (Edelstahl), Elektron. Stabilitäts-Programm (ESP), Fahrassistenz-System: Attention-Assist (Müdigkeitserkennungs-Sensor), Fahrassistenz-System: Berganfahrhilfe, Fensterheber elektr. vorn mit Komfortschaltung, Fernentriegelung Heckdeckel, Getriebe Automatik - (7-Stufen), Heckleuchten dunkel getönt, Heckleuchten LED, Innenausstattung: Zierteile Aluminium, Innenhimmel schwarz, Innenraumlicht-Paket, Karosserie: 2-türig, Kindersitzerkennung im Beifahrersitz (automatisch), Klimaautomatik (Thermatic), Kopf-Airbag-System (Windowbag), Kopfstützen vorn NECK-PRO, Kraftstofftank: vergrößert, Mittelkonsole vorn mit Rollo / Ablage, Motor 5,5 Ltr. - 310 kW V8 KAT, Nebelscheinwerfer, Panorama-Variodach elektrisch, Reifen-Reparaturset (Tirefit), Schadstoffarm nach Abgasnorm Euro 5, Schalt-/Wählhebelgriff Leder Nappa, Scheinwerfer mit abgedunkelten Hintergrund, Seitenairbag (Sidebag) vorn, Sitz vorn links höhenverstellbar, Sitz vorn rechts höhenverstellbar, Sitzbelegungserkennung für Airbag Beifahrerseite, Sport-Fahrwerk (AMG), Sportsitze AMG mit Kopfstützen integriert, Start/Stop-Anlage, Styling-Paket (AMG / Exterieur), Tagfahrlicht LED, Türgriffe außen Wagenfarbe, Wegfahrsperre, Zentralverriegelung mit Fernbedienung, Info: , - Bitte unbedingt um telef. Terminvereinbarung!!, - Änderungen, Zwischenverkauf und Irrtümer vorbehalten!!, **Besichtigung und Probefahrt nach Absprache auch außerhalb der angegebenen Öffnungszeiten möglich!!**, Über WhatsApp 0172/6249077 fast immer erreichbar!, See more'"
      ]
     },
     "execution_count": 462,
     "metadata": {},
     "output_type": "execute_result"
    }
   ],
   "source": [
    "df.desc_str.iloc[683]"
   ]
  },
  {
   "cell_type": "code",
   "execution_count": 463,
   "id": "0bef3acf-2231-43b6-b74f-5c946b651093",
   "metadata": {},
   "outputs": [
    {
     "name": "stdout",
     "output_type": "stream",
     "text": [
      "2022\n"
     ]
    }
   ],
   "source": [
    "index_to_fill = 683\n",
    "\n",
    "model_year_match = re.search(r'\\b20\\d{2}\\b', df.desc_str.iloc[683])\n",
    "if model_year_match:\n",
    "    model_year = model_year_match.group()  # Get the matched model year\n",
    "    # Update the NaN value in the first_registration column for the specific index with the model year\n",
    "    model_year = model_year_match.group() \n",
    "    print(model_year)\n",
    "else:\n",
    "    print(f\"No model year found at index {index_to_fill}.\")\n"
   ]
  },
  {
   "cell_type": "code",
   "execution_count": 464,
   "id": "8967a5f3-6d39-4414-9091-456187b3b8b3",
   "metadata": {},
   "outputs": [
    {
     "name": "stderr",
     "output_type": "stream",
     "text": [
      "/var/folders/w2/xzx9cghx6_d87gb1m8mhzgth0000gn/T/ipykernel_14174/4097414229.py:1: SettingWithCopyWarning: \n",
      "A value is trying to be set on a copy of a slice from a DataFrame\n",
      "\n",
      "See the caveats in the documentation: https://pandas.pydata.org/pandas-docs/stable/user_guide/indexing.html#returning-a-view-versus-a-copy\n",
      "  df.first_registration[683] = pd.to_datetime(model_year, format='%Y')\n"
     ]
    }
   ],
   "source": [
    "df.first_registration[683] = pd.to_datetime(model_year, format='%Y')"
   ]
  },
  {
   "cell_type": "code",
   "execution_count": 465,
   "id": "0d748b44-ce3e-4f95-b3f0-bbf4a31a10dd",
   "metadata": {},
   "outputs": [
    {
     "data": {
      "text/plain": [
       "Timestamp('2022-01-01 00:00:00')"
      ]
     },
     "execution_count": 465,
     "metadata": {},
     "output_type": "execute_result"
    }
   ],
   "source": [
    "df.first_registration[683]"
   ]
  },
  {
   "cell_type": "code",
   "execution_count": 466,
   "id": "61b29f36-d10e-4930-99e8-e1a36adcf49b",
   "metadata": {},
   "outputs": [
    {
     "data": {
      "text/plain": [
       "first_registration                                  2016-02-01 00:00:00\n",
       "desc_str              Fahrzeugnummer: A225478,  , Unser Verkaufsteam...\n",
       "prev_date                                           2016-02-01 00:00:00\n",
       "Name: 16884, dtype: object"
      ]
     },
     "execution_count": 466,
     "metadata": {},
     "output_type": "execute_result"
    }
   ],
   "source": [
    "df[['first_registration', 'desc_str', 'prev_date']].iloc[16884]"
   ]
  },
  {
   "cell_type": "code",
   "execution_count": 467,
   "id": "0e335965-6d86-45f0-ad7c-0e141e8656ce",
   "metadata": {},
   "outputs": [
    {
     "data": {
      "text/plain": [
       "'Fahrzeugnummer: A225478,  , Unser Verkaufsteam erreichen Sie telefonisch, per Mail und gerne auch persönlich! , Wir freuen uns auf Sie! , Viele Fahrzeuge mit top Ausstattung, hier im Detail mit:,  , Berganfahrkontrolle (HAC), Airbag Fahrer-/Beifahrerseite, Fensterheber elektrisch vorn, Klimaautomatik, Knieairbag Fahrerseite, Rückfahrkamera, Drehzahlmesser, Multimedia-System mit Rückfahrkamera und Bordcomputer, Zentralverriegelung mit Fernbedienung, Außenspiegel elektr. verstellbar, 3. Bremsleuchte, Airbag Beifahrerseite abschaltbar, Anti-Blockier-System (ABS), Audiobedienung am Lenkrad, Außentemperaturanzeige, Bluetooth-Schnittstelle, Elektr. Bremskraftverteilung, Elektron. Stabilitäts-Programm mit Antriebs-Schlupfregelung (VSC mit TRC), Gepäckraumabdeckung / Rollo, Gepäckraumboden 2-fach verstellbar, Getriebe Automatik stufenlos - CVT, Gurtstraffer vorn, Heckleuchten LED, Heckscheibe heizbar, Heckscheibenwischer, Isofix-Aufnahmen für Kindersitz, Karosserie: 5-türig, Kopf-Airbag-System, Kopfstützen vorn und hinten verstellbar, Lenkrad (Leder), Lenksäule (Lenkrad) verstellbar, Nebelschlussleuchte, Reifen-Reparaturkit, Rücksitz geteilt, Rücksitz klappbar, Schadstoffarm nach Abgasnorm Euro 5, Schleudertrauma-Schutzsystem, Seitenairbag, Servolenkung elektrisch, Sonnenblenden mit Make-up-Spiegel, Stossfänger in Wagenfarbe, Tagfahrlicht LED, Türgriffe aussen in Wagenfarbe, Universal-Schnittstelle (USB-/ iPod-/ AUX-Anschluss), Wegfahrsperre, Wärmeschutzverglasung getönt, Heckklappenleiste verchromt, Türverkleidungen vorn mit Softtouch-Elementen ,  Eine Finanzierung des Fahrzeugs ist auch ohne Anzahlung möglich (lt. Bed. der TKB Bank). Gerne errechnen wir Ihnen ein persönliches Angebot! Fragen Sie uns...Als Vertragshändler bieten wir Ihnen besten Service und kompetente Beratung zu allen Fragen rund ums Automobil., Zwischenverkauf und Irrtümer vorbehalten., Die Fahrzeugbeschreibung dient lediglich der allgemeinen Identifizierung des Fahrzeuges und stellt keine Gewährleistung im kaufrechtlichen Sinne dar. Den genauen Ausstattungsumfang erhalten Sie von unserem Verkaufspersonal. , See more'"
      ]
     },
     "execution_count": 467,
     "metadata": {},
     "output_type": "execute_result"
    }
   ],
   "source": [
    "df.desc_str.iloc[16884]"
   ]
  },
  {
   "cell_type": "code",
   "execution_count": 468,
   "id": "60c0f544-339c-44aa-a9a6-5cbc0c424738",
   "metadata": {},
   "outputs": [
    {
     "data": {
      "text/plain": [
       "make_model                                            Toyota Yaris\n",
       "first_registration                             2016-02-01 00:00:00\n",
       "short_description     1.5 VVT-i Hybrid Life Automatik,Navi,Kamera,\n",
       "prev_date                                      2016-02-01 00:00:00\n",
       "Name: 16884, dtype: object"
      ]
     },
     "execution_count": 468,
     "metadata": {},
     "output_type": "execute_result"
    }
   ],
   "source": [
    "df[['make_model', 'first_registration', 'short_description', 'prev_date']].iloc[16884]"
   ]
  },
  {
   "cell_type": "code",
   "execution_count": 469,
   "id": "44bf6dd7-6546-4171-b6fe-562ad6366889",
   "metadata": {},
   "outputs": [
    {
     "data": {
      "text/plain": [
       "make_model                                                       Toyota Yaris\n",
       "short_description                1.5 VVT-i Hybrid Life Automatik,Navi,Kamera,\n",
       "make                                                                   Toyota\n",
       "model                                                                  Yaris \n",
       "price                                                                 14990.0\n",
       "body_type                                                             Compact\n",
       "type                                                                     Used\n",
       "doors                                                                     5.0\n",
       "country_version                                                        France\n",
       "offer_number                                                          A225478\n",
       "warranty                                                                  Yes\n",
       "mileage                                                               42000.0\n",
       "first_registration                                        2016-02-01 00:00:00\n",
       "gearbox                                                             Automatic\n",
       "fuel_type                                                                 NaN\n",
       "colour                                                                  White\n",
       "paint                                                                     NaN\n",
       "seller                                                                 Dealer\n",
       "seats                                                                     5.0\n",
       "engine_size                                                            1497.0\n",
       "gears                                                                     1.0\n",
       "co2_emissions                                                            88.0\n",
       "manu_color                                                               Weiß\n",
       "drivetrain                                                                NaN\n",
       "cylinders                                                                 4.0\n",
       "empty_weight                                                           1235.0\n",
       "model_code                                                           5013/AHV\n",
       "gen_inspection                                                            NaN\n",
       "last_service                                                              NaT\n",
       "service_history                                                           Yes\n",
       "non_smoker                                                                Yes\n",
       "emission_class                                                         Euro 5\n",
       "emission_sticker                                                   No sticker\n",
       "upholstery_color                                                        Other\n",
       "upholstery                                                              Cloth\n",
       "pro_date                                                           2015-01-01\n",
       "other_fuel                                                        Electricity\n",
       "energy_class                                                               A+\n",
       "co2_efficiency              Calculated on basis of measured CO₂-emissions ...\n",
       "available                                                                 NaN\n",
       "taxi_rental                                                               NaN\n",
       "availability                                                              NaN\n",
       "last_timing_belt                                                          NaT\n",
       "battery_owner                                                             NaN\n",
       "power_kW                                                                 74.0\n",
       "power_hp                                                                101.0\n",
       "fuel_consumption_comb                                                     3.7\n",
       "fuel_consumption_city                                                     NaN\n",
       "fuel_consumption_country                                                  NaN\n",
       "location_country                                                      Germany\n",
       "location_city                                                       Magdeburg\n",
       "ent_media_str               Bluetooth, Hands-free equipment, Integrated mu...\n",
       "desc_str                    Fahrzeugnummer: A225478,  , Unser Verkaufsteam...\n",
       "comfort_convenience_str     Air conditioning, Armrest, Automatic climate c...\n",
       "safety_security_str         ABS, Central door lock, Daytime running lights...\n",
       "extras_str                  Alloy wheels (16\"), E10-enabled, Electronic pa...\n",
       "prev_km                                                               42000.0\n",
       "prev_date                                                 2016-02-01 00:00:00\n",
       "owner_count                                                               1.0\n",
       "power_cons_wltp_numeric                                                   NaN\n",
       "power_cons_numeric                                                        NaN\n",
       "fuel_wltp_numeric                                                         NaN\n",
       "co2_wltp_numeric                                                          NaN\n",
       "avg_elec_range                                                            NaN\n",
       "Name: 16884, dtype: object"
      ]
     },
     "execution_count": 469,
     "metadata": {},
     "output_type": "execute_result"
    }
   ],
   "source": [
    "df.iloc[16884]"
   ]
  },
  {
   "cell_type": "code",
   "execution_count": 470,
   "id": "6fd65a6c-5219-48f1-ad05-0c247814aed6",
   "metadata": {},
   "outputs": [],
   "source": [
    "# Eksik first_registration tarihine sahip olan veriyi bulma\n",
    "target_index = 16884\n",
    "target_mileage = df.loc[target_index, 'mileage']\n",
    "\n",
    "# Eksik değeri olmayan veriler arasından mileage değeri 2494'e en yakın olanı bulma\n",
    "closest_index = (df.loc[df.index != target_index, 'mileage'] - target_mileage).abs().idxmin()\n",
    "\n",
    "# 16884 numaralı indeksin first_registration tarihini güncelleme\n",
    "df.loc[target_index, 'first_registration'] = df.loc[closest_index, 'first_registration']\n"
   ]
  },
  {
   "cell_type": "code",
   "execution_count": 471,
   "id": "6ff504c5-e560-404b-8f1d-b3c7b1a27a57",
   "metadata": {},
   "outputs": [
    {
     "data": {
      "text/plain": [
       "Timestamp('2015-11-01 00:00:00')"
      ]
     },
     "execution_count": 471,
     "metadata": {},
     "output_type": "execute_result"
    }
   ],
   "source": [
    "df.first_registration.iloc[16884]"
   ]
  },
  {
   "cell_type": "code",
   "execution_count": 472,
   "id": "1d2ec61c-c99b-4903-9f07-b69967890437",
   "metadata": {},
   "outputs": [
    {
     "data": {
      "text/html": [
       "<div>\n",
       "<style scoped>\n",
       "    .dataframe tbody tr th:only-of-type {\n",
       "        vertical-align: middle;\n",
       "    }\n",
       "\n",
       "    .dataframe tbody tr th {\n",
       "        vertical-align: top;\n",
       "    }\n",
       "\n",
       "    .dataframe thead th {\n",
       "        text-align: right;\n",
       "    }\n",
       "</style>\n",
       "<table border=\"1\" class=\"dataframe\">\n",
       "  <thead>\n",
       "    <tr style=\"text-align: right;\">\n",
       "      <th></th>\n",
       "      <th>make_model</th>\n",
       "      <th>model</th>\n",
       "      <th>short_description</th>\n",
       "    </tr>\n",
       "  </thead>\n",
       "  <tbody>\n",
       "    <tr>\n",
       "      <th>0</th>\n",
       "      <td>Mercedes-Benz A 160</td>\n",
       "      <td>A 160</td>\n",
       "      <td>CDi</td>\n",
       "    </tr>\n",
       "    <tr>\n",
       "      <th>1</th>\n",
       "      <td>Mercedes-Benz EQE 350</td>\n",
       "      <td>EQE 350</td>\n",
       "      <td>350+</td>\n",
       "    </tr>\n",
       "    <tr>\n",
       "      <th>2</th>\n",
       "      <td>Mercedes-Benz A 45 AMG</td>\n",
       "      <td>A 45 AMG</td>\n",
       "      <td>S 4Matic+ 8G-DCT</td>\n",
       "    </tr>\n",
       "    <tr>\n",
       "      <th>3</th>\n",
       "      <td>Mercedes-Benz A 35 AMG</td>\n",
       "      <td>A 35 AMG</td>\n",
       "      <td>4Matic+ 7G-DCT</td>\n",
       "    </tr>\n",
       "    <tr>\n",
       "      <th>4</th>\n",
       "      <td>Mercedes-Benz A 45 AMG</td>\n",
       "      <td>A 45 AMG</td>\n",
       "      <td>200CDI BE Line 4M 7G-DCT</td>\n",
       "    </tr>\n",
       "    <tr>\n",
       "      <th>...</th>\n",
       "      <td>...</td>\n",
       "      <td>...</td>\n",
       "      <td>...</td>\n",
       "    </tr>\n",
       "    <tr>\n",
       "      <th>26856</th>\n",
       "      <td>Volvo S90</td>\n",
       "      <td>S90</td>\n",
       "      <td>T8 Twin Business Plus AWD Aut.</td>\n",
       "    </tr>\n",
       "    <tr>\n",
       "      <th>26857</th>\n",
       "      <td>Volvo S40</td>\n",
       "      <td>S40</td>\n",
       "      <td>2.4i Momentum/ Airco/ NAP/ APK/ Elek. Ramen</td>\n",
       "    </tr>\n",
       "    <tr>\n",
       "      <th>26858</th>\n",
       "      <td>Volvo C30</td>\n",
       "      <td>C30</td>\n",
       "      <td>1.6 D DRIVe Start/Stop R-design</td>\n",
       "    </tr>\n",
       "    <tr>\n",
       "      <th>26859</th>\n",
       "      <td>Volvo S90</td>\n",
       "      <td>S90</td>\n",
       "      <td>T5 AUT(8) MOMENTUM BUSINESS SCHUIFDAK 360GR CA...</td>\n",
       "    </tr>\n",
       "    <tr>\n",
       "      <th>26860</th>\n",
       "      <td>Volvo S80</td>\n",
       "      <td>S80</td>\n",
       "      <td>2.9 Executive G. NETTE AUTO! LEER! NAVI! CRUIS...</td>\n",
       "    </tr>\n",
       "  </tbody>\n",
       "</table>\n",
       "<p>26861 rows × 3 columns</p>\n",
       "</div>"
      ],
      "text/plain": [
       "                   make_model       model  \\\n",
       "0         Mercedes-Benz A 160      A 160    \n",
       "1       Mercedes-Benz EQE 350    EQE 350    \n",
       "2      Mercedes-Benz A 45 AMG   A 45 AMG    \n",
       "3      Mercedes-Benz A 35 AMG   A 35 AMG    \n",
       "4      Mercedes-Benz A 45 AMG   A 45 AMG    \n",
       "...                       ...         ...   \n",
       "26856               Volvo S90        S90    \n",
       "26857               Volvo S40        S40    \n",
       "26858               Volvo C30        C30    \n",
       "26859               Volvo S90        S90    \n",
       "26860               Volvo S80        S80    \n",
       "\n",
       "                                       short_description  \n",
       "0                                                    CDi  \n",
       "1                                                   350+  \n",
       "2                                       S 4Matic+ 8G-DCT  \n",
       "3                                         4Matic+ 7G-DCT  \n",
       "4                               200CDI BE Line 4M 7G-DCT  \n",
       "...                                                  ...  \n",
       "26856                     T8 Twin Business Plus AWD Aut.  \n",
       "26857        2.4i Momentum/ Airco/ NAP/ APK/ Elek. Ramen  \n",
       "26858                    1.6 D DRIVe Start/Stop R-design  \n",
       "26859  T5 AUT(8) MOMENTUM BUSINESS SCHUIFDAK 360GR CA...  \n",
       "26860  2.9 Executive G. NETTE AUTO! LEER! NAVI! CRUIS...  \n",
       "\n",
       "[26861 rows x 3 columns]"
      ]
     },
     "execution_count": 472,
     "metadata": {},
     "output_type": "execute_result"
    }
   ],
   "source": [
    "df[['make_model', 'model', 'short_description']]"
   ]
  },
  {
   "cell_type": "code",
   "execution_count": 473,
   "id": "e532fac8",
   "metadata": {},
   "outputs": [
    {
     "data": {
      "text/plain": [
       "2"
      ]
     },
     "execution_count": 473,
     "metadata": {},
     "output_type": "execute_result"
    }
   ],
   "source": [
    "df.first_registration.isna().sum()"
   ]
  },
  {
   "cell_type": "markdown",
   "id": "13d8812e-ca06-48de-8411-08ca47819c15",
   "metadata": {},
   "source": [
    "# 9. gearbox"
   ]
  },
  {
   "cell_type": "code",
   "execution_count": 475,
   "id": "ef262e3b",
   "metadata": {},
   "outputs": [
    {
     "data": {
      "text/plain": [
       "gearbox\n",
       "Manual            16311\n",
       "Automatic         10252\n",
       "NaN                 234\n",
       "Semi-automatic       64\n",
       "Name: count, dtype: int64"
      ]
     },
     "execution_count": 475,
     "metadata": {},
     "output_type": "execute_result"
    }
   ],
   "source": [
    "df.gearbox.value_counts(dropna=False)"
   ]
  },
  {
   "cell_type": "code",
   "execution_count": 476,
   "id": "258f4598-1621-4294-b221-8562af59e4d0",
   "metadata": {
    "tags": []
   },
   "outputs": [
    {
     "name": "stdout",
     "output_type": "stream",
     "text": [
      "                                       short_description gearbox\n",
      "175            35 AMG 306ch 4Matic 7G-DCT Speedshift AMG     NaN\n",
      "210                                200 d Business 7G-DCT     NaN\n",
      "222                             220 d Fascination 7G-DCT     NaN\n",
      "235    220 190ch Progressive Line 7G-DCT Siege chauf ...     NaN\n",
      "239    220 d 190ch AMG Line 8G-DCT 10cv GPS Camera Ra...     NaN\n",
      "241          200 d 150ch Business Line 8G-DCT GPS Camera     NaN\n",
      "244                             200 d Inspiration 7G-DCT     NaN\n",
      "246                          200 163ch Style Line 7G-DCT     NaN\n",
      "247    35 AMG 306ch 4Matic 7G-DCT Speedshift AMG TOuv...     NaN\n",
      "256                               180 d Sensation 7G-DCT     NaN\n",
      "258                          200 d 150ch AMG Line 8G-DCT     NaN\n",
      "259                    220 190ch Progressive Line 7G-DCT     NaN\n",
      "267    220 190ch Progressive Line 7G-DCT Ecran 10 GPS...     NaN\n",
      "268                               180 d Intuition 7G-DCT     NaN\n",
      "4970                         1.6 TCe 205ch energy GT EDC     NaN\n",
      "5037       1.2 TCe 120ch energy Intens EDC 5p Camera GPS     NaN\n",
      "5060   1.3 TCe 140ch FAP Business EDC -21B GPS Radar ...     NaN\n",
      "5073   1.3 TCe 160ch FAP GT-Line EDC GPS Camera Park ...     NaN\n",
      "5091       1.3 TCe 140ch energy Limited EDC GPS Radar AR     NaN\n",
      "5135                       1.5 Blue dCi 115ch Intens EDC     NaN\n",
      "5204                     Sporter Blue dCi 160 CV EDC Exe     NaN\n",
      "5624                           tce 140 edc fap r.s. line     NaN\n",
      "5747                     tce 160 edc fap - 21b r.s. line     NaN\n",
      "5845                    ARKANA TCe 140 EDC FAP R.S. Line     NaN\n",
      "5922                     tce 140 edc fap - 21b r.s. line     NaN\n",
      "5936                               R.S. Line TCE 160 EDC     NaN\n",
      "6148                1.5 dCi 110ch energy Intens EDC eco²     NaN\n",
      "6154              1.5 dCi 110ch energy Business EDC eco²     NaN\n",
      "6176   1.3 TCe 140ch FAP Intens EDC -21 LED GPS Radar Ar     NaN\n",
      "6202              1.3 TCe 160ch FAP Black Edition SL EDC     NaN\n",
      "6206      1.3 TCe 155ch FAP Intens EDC - 20 GPS Radar Ar     NaN\n",
      "6486                         1.6 TCe 205ch energy GT EDC     NaN\n",
      "6487                     1.2 TCe 130ch energy Intens EDC     NaN\n",
      "6997                           1.8 T 300CH RS TROPHY EDC     NaN\n",
      "9582                1.6 MultiJet 120ch Lounge S/S DCT 5p     NaN\n",
      "10667                  1.6 Multijet 16v 120ch Lounge DCT     NaN\n",
      "10683                      1.6 Multijet 120ch Lounge DCT     NaN\n",
      "10687                    1.6 Multijet 16v 120ch Club DCT     NaN\n",
      "10696                1.6 Multijet 16v 120ch S-Design DCT     NaN\n",
      "10722    1.3 FireFly Turbo T4 150ch by Harcourt DCT 139g     NaN\n",
      "10765               1.3 FireFly Turbo T4 150ch Cross DCT     NaN\n",
      "12399          Ateca 2.0 TDI  FR 150PS DSG 5 J. Garantie     NaN\n",
      "12821      Leon ST 1.5 eTSI Style 150PS DSG 5 J.Garantie     NaN\n",
      "12822      Leon ST 1.5 eTSI Style 150PS DSG 5 J.Garantie     NaN\n",
      "12837      Leon ST 1.5 eTSI Style 150PS DSG 5 J.Garantie     NaN\n",
      "12881      Leon ST 1.5 eTSI Style 150PS DSG 5 J.Garantie     NaN\n",
      "12910  2.0 TSI 300ch Cupra DSG Toit ouvrant GPS Radar...     NaN\n",
      "13190        Leon 2.0 TDI XCELLENCE DSG Anhängerkupplung     NaN\n",
      "15580                         Electric Comfort Plus Aut.     NaN\n",
      "16163                  1.3 TCE 150CH FAP CONFORT 4X2 EDC     NaN\n",
      "19939              1.0 DIG-T 114ch N-Connecta DCT 2021.5     NaN\n",
      "20033                          1.0 DIG-T 117CH TEKNA DCT     NaN\n",
      "20152                          1.3 dig-t 160ch tekna dct     NaN\n",
      "20158                         dig-t 160ch n-connecta dct     NaN\n",
      "20215                          1.0 dig-t 117ch tekna dct     NaN\n",
      "20227                    1.3 DIG-T 160CH TEKNA+ DCT 2019     NaN\n",
      "20228                     1.0 dig-t 114ch tekna dct 2021     NaN\n",
      "20288                          1.3 DIG-T 160ch Tekna DCT     NaN\n",
      "20289                          1.3 DIG-T 160ch Tekna DCT     NaN\n",
      "21241                                 cabrio v8 automaat     NaN\n",
      "21812           3.7 V6/BRC GAS/KLIMA/XENON/VOLLEDER/AUT.     NaN\n",
      "23095  1.4 T-GDi 140ch Creative DCT-7 GPS Camera Car ...     NaN\n",
      "24125                        cw 1.4B 140PS DCT YES! Plus     NaN\n",
      "24176                  1.7 CRDI 141ch Creative 2WD DCT-7     NaN\n",
      "26456                V90 2.0 d4 Business Plus geartronic     NaN\n"
     ]
    }
   ],
   "source": [
    "# Filter rows where 'emission_class' is null but 'short_description' is not null\n",
    "filtered_null_gearbox = df[df['gearbox'].isnull() & df['short_description'].notnull()]\n",
    "\n",
    "# Filter rows where 'short_description' contains specific keywords\n",
    "keywords = r'\\b(?:dsg|eat8|automaat|9g|at8|aut|auto|edc|dct|edc|geartronic|cvt)\\b'\n",
    "filtered_euro = filtered_null_gearbox[filtered_null_gearbox['short_description'].str.contains(keywords, case=False, na=False)]\n",
    "\n",
    "# Display the result with only 'short_description' and 'gearbox' columns\n",
    "print(filtered_euro[['short_description', 'gearbox']])"
   ]
  },
  {
   "cell_type": "code",
   "execution_count": 477,
   "id": "b31e0ea4-bee5-4be4-9cbe-864a21eb0e1d",
   "metadata": {
    "tags": []
   },
   "outputs": [],
   "source": [
    "def fill_missing_gearbox(short_description):\n",
    "    if pd.isna(short_description):\n",
    "        return np.nan\n",
    "    \n",
    "    gearbox_mapping = {\n",
    "        'dsg': 'Automatic',     # Dual-clutch transmission\n",
    "        'eat8': 'Automatic',    # Efficient Automatic Transmission 8-speed\n",
    "        'automaat': 'Automatic',# Automatic transmission\n",
    "        '9g': 'Automatic',      # 9-speed automatic transmission\n",
    "        'at8': 'Automatic',     # Automatic transmission\n",
    "        'aut': 'Automatic',     # Automatic transmission\n",
    "        'edc': 'Automatic',     # Efficient Dual Clutch\n",
    "        'dct': 'Semi-automatic', # Dual Clutch Transmission\n",
    "        'geartronic': 'Automatic',  # Automatic transmission (specific to Volvo)\n",
    "        'cvt': 'Automatic'      # Continuously Variable Transmission\n",
    "    }\n",
    "    \n",
    "    for abbr, gearbox_type in gearbox_mapping.items():\n",
    "        if abbr in short_description.lower():\n",
    "            return gearbox_type\n",
    "    \n",
    "    return np.nan\n",
    "\n",
    "# Apply the function to fill missing 'gearbox' values\n",
    "df['gearbox'] = df['gearbox'].fillna(df['short_description'].apply(fill_missing_gearbox))"
   ]
  },
  {
   "cell_type": "code",
   "execution_count": 478,
   "id": "7ab728e8-136f-42ff-a75d-99be0b64f6b4",
   "metadata": {},
   "outputs": [
    {
     "data": {
      "text/plain": [
       "156"
      ]
     },
     "execution_count": 478,
     "metadata": {},
     "output_type": "execute_result"
    }
   ],
   "source": [
    "df.gearbox.isna().sum()"
   ]
  },
  {
   "cell_type": "code",
   "execution_count": 479,
   "id": "4a9b4a68-c1e8-48bf-add3-a15e843fcccf",
   "metadata": {},
   "outputs": [
    {
     "data": {
      "text/plain": [
       "array(['Manual', 'Automatic', nan, 'Semi-automatic'], dtype=object)"
      ]
     },
     "execution_count": 479,
     "metadata": {},
     "output_type": "execute_result"
    }
   ],
   "source": [
    "df.gearbox.unique()"
   ]
  },
  {
   "cell_type": "code",
   "execution_count": 480,
   "id": "6fb14f7e-5057-4377-85b3-a25f5ee59c7f",
   "metadata": {},
   "outputs": [
    {
     "data": {
      "text/html": [
       "<div>\n",
       "<style scoped>\n",
       "    .dataframe tbody tr th:only-of-type {\n",
       "        vertical-align: middle;\n",
       "    }\n",
       "\n",
       "    .dataframe tbody tr th {\n",
       "        vertical-align: top;\n",
       "    }\n",
       "\n",
       "    .dataframe thead th {\n",
       "        text-align: right;\n",
       "    }\n",
       "</style>\n",
       "<table border=\"1\" class=\"dataframe\">\n",
       "  <thead>\n",
       "    <tr style=\"text-align: right;\">\n",
       "      <th></th>\n",
       "      <th>make_model</th>\n",
       "      <th>model</th>\n",
       "      <th>gearbox</th>\n",
       "    </tr>\n",
       "  </thead>\n",
       "  <tbody>\n",
       "    <tr>\n",
       "      <th>0</th>\n",
       "      <td>Mercedes-Benz A 160</td>\n",
       "      <td>A 160</td>\n",
       "      <td>Manual</td>\n",
       "    </tr>\n",
       "    <tr>\n",
       "      <th>1</th>\n",
       "      <td>Mercedes-Benz EQE 350</td>\n",
       "      <td>EQE 350</td>\n",
       "      <td>Automatic</td>\n",
       "    </tr>\n",
       "    <tr>\n",
       "      <th>2</th>\n",
       "      <td>Mercedes-Benz A 45 AMG</td>\n",
       "      <td>A 45 AMG</td>\n",
       "      <td>Automatic</td>\n",
       "    </tr>\n",
       "    <tr>\n",
       "      <th>3</th>\n",
       "      <td>Mercedes-Benz A 35 AMG</td>\n",
       "      <td>A 35 AMG</td>\n",
       "      <td>Automatic</td>\n",
       "    </tr>\n",
       "    <tr>\n",
       "      <th>4</th>\n",
       "      <td>Mercedes-Benz A 45 AMG</td>\n",
       "      <td>A 45 AMG</td>\n",
       "      <td>Automatic</td>\n",
       "    </tr>\n",
       "    <tr>\n",
       "      <th>...</th>\n",
       "      <td>...</td>\n",
       "      <td>...</td>\n",
       "      <td>...</td>\n",
       "    </tr>\n",
       "    <tr>\n",
       "      <th>26856</th>\n",
       "      <td>Volvo S90</td>\n",
       "      <td>S90</td>\n",
       "      <td>Automatic</td>\n",
       "    </tr>\n",
       "    <tr>\n",
       "      <th>26857</th>\n",
       "      <td>Volvo S40</td>\n",
       "      <td>S40</td>\n",
       "      <td>Automatic</td>\n",
       "    </tr>\n",
       "    <tr>\n",
       "      <th>26858</th>\n",
       "      <td>Volvo C30</td>\n",
       "      <td>C30</td>\n",
       "      <td>Manual</td>\n",
       "    </tr>\n",
       "    <tr>\n",
       "      <th>26859</th>\n",
       "      <td>Volvo S90</td>\n",
       "      <td>S90</td>\n",
       "      <td>Automatic</td>\n",
       "    </tr>\n",
       "    <tr>\n",
       "      <th>26860</th>\n",
       "      <td>Volvo S80</td>\n",
       "      <td>S80</td>\n",
       "      <td>Automatic</td>\n",
       "    </tr>\n",
       "  </tbody>\n",
       "</table>\n",
       "<p>26861 rows × 3 columns</p>\n",
       "</div>"
      ],
      "text/plain": [
       "                   make_model       model    gearbox\n",
       "0         Mercedes-Benz A 160      A 160      Manual\n",
       "1       Mercedes-Benz EQE 350    EQE 350   Automatic\n",
       "2      Mercedes-Benz A 45 AMG   A 45 AMG   Automatic\n",
       "3      Mercedes-Benz A 35 AMG   A 35 AMG   Automatic\n",
       "4      Mercedes-Benz A 45 AMG   A 45 AMG   Automatic\n",
       "...                       ...         ...        ...\n",
       "26856               Volvo S90        S90   Automatic\n",
       "26857               Volvo S40        S40   Automatic\n",
       "26858               Volvo C30        C30      Manual\n",
       "26859               Volvo S90        S90   Automatic\n",
       "26860               Volvo S80        S80   Automatic\n",
       "\n",
       "[26861 rows x 3 columns]"
      ]
     },
     "execution_count": 480,
     "metadata": {},
     "output_type": "execute_result"
    }
   ],
   "source": [
    "df[['make_model', 'model', 'gearbox']]"
   ]
  },
  {
   "cell_type": "code",
   "execution_count": 481,
   "id": "32d42f40-2378-41bb-8aa7-fd310885e527",
   "metadata": {},
   "outputs": [],
   "source": [
    "def fill_mode_manual(group):\n",
    "    mode = group.mode()\n",
    "    if not mode.empty:\n",
    "        fill_value = mode[0]\n",
    "    else:\n",
    "        fill_value = df['gearbox'].mode()[0] if not df['gearbox'].mode().empty else np.nan\n",
    "    return group.fillna(fill_value)\n",
    "\n",
    "df['gearbox'] = df.groupby(['make_model', 'model'])['gearbox'].transform(fill_mode_manual)"
   ]
  },
  {
   "cell_type": "code",
   "execution_count": 482,
   "id": "818c447d-f477-4d98-9195-24f0f90c4c4b",
   "metadata": {},
   "outputs": [
    {
     "data": {
      "text/plain": [
       "0"
      ]
     },
     "execution_count": 482,
     "metadata": {},
     "output_type": "execute_result"
    }
   ],
   "source": [
    "df.gearbox.isna().sum()"
   ]
  },
  {
   "cell_type": "code",
   "execution_count": 483,
   "id": "7ecd45dd-019a-4394-8a3f-7ae3503bc98b",
   "metadata": {},
   "outputs": [
    {
     "data": {
      "text/html": [
       "<div>\n",
       "<style scoped>\n",
       "    .dataframe tbody tr th:only-of-type {\n",
       "        vertical-align: middle;\n",
       "    }\n",
       "\n",
       "    .dataframe tbody tr th {\n",
       "        vertical-align: top;\n",
       "    }\n",
       "\n",
       "    .dataframe thead th {\n",
       "        text-align: right;\n",
       "    }\n",
       "</style>\n",
       "<table border=\"1\" class=\"dataframe\">\n",
       "  <thead>\n",
       "    <tr style=\"text-align: right;\">\n",
       "      <th></th>\n",
       "      <th>make_model</th>\n",
       "      <th>model</th>\n",
       "      <th>gearbox</th>\n",
       "    </tr>\n",
       "  </thead>\n",
       "  <tbody>\n",
       "    <tr>\n",
       "      <th>0</th>\n",
       "      <td>Mercedes-Benz A 160</td>\n",
       "      <td>A 160</td>\n",
       "      <td>Manual</td>\n",
       "    </tr>\n",
       "    <tr>\n",
       "      <th>1</th>\n",
       "      <td>Mercedes-Benz EQE 350</td>\n",
       "      <td>EQE 350</td>\n",
       "      <td>Automatic</td>\n",
       "    </tr>\n",
       "    <tr>\n",
       "      <th>2</th>\n",
       "      <td>Mercedes-Benz A 45 AMG</td>\n",
       "      <td>A 45 AMG</td>\n",
       "      <td>Automatic</td>\n",
       "    </tr>\n",
       "    <tr>\n",
       "      <th>3</th>\n",
       "      <td>Mercedes-Benz A 35 AMG</td>\n",
       "      <td>A 35 AMG</td>\n",
       "      <td>Automatic</td>\n",
       "    </tr>\n",
       "    <tr>\n",
       "      <th>4</th>\n",
       "      <td>Mercedes-Benz A 45 AMG</td>\n",
       "      <td>A 45 AMG</td>\n",
       "      <td>Automatic</td>\n",
       "    </tr>\n",
       "    <tr>\n",
       "      <th>...</th>\n",
       "      <td>...</td>\n",
       "      <td>...</td>\n",
       "      <td>...</td>\n",
       "    </tr>\n",
       "    <tr>\n",
       "      <th>26856</th>\n",
       "      <td>Volvo S90</td>\n",
       "      <td>S90</td>\n",
       "      <td>Automatic</td>\n",
       "    </tr>\n",
       "    <tr>\n",
       "      <th>26857</th>\n",
       "      <td>Volvo S40</td>\n",
       "      <td>S40</td>\n",
       "      <td>Automatic</td>\n",
       "    </tr>\n",
       "    <tr>\n",
       "      <th>26858</th>\n",
       "      <td>Volvo C30</td>\n",
       "      <td>C30</td>\n",
       "      <td>Manual</td>\n",
       "    </tr>\n",
       "    <tr>\n",
       "      <th>26859</th>\n",
       "      <td>Volvo S90</td>\n",
       "      <td>S90</td>\n",
       "      <td>Automatic</td>\n",
       "    </tr>\n",
       "    <tr>\n",
       "      <th>26860</th>\n",
       "      <td>Volvo S80</td>\n",
       "      <td>S80</td>\n",
       "      <td>Automatic</td>\n",
       "    </tr>\n",
       "  </tbody>\n",
       "</table>\n",
       "<p>26861 rows × 3 columns</p>\n",
       "</div>"
      ],
      "text/plain": [
       "                   make_model       model    gearbox\n",
       "0         Mercedes-Benz A 160      A 160      Manual\n",
       "1       Mercedes-Benz EQE 350    EQE 350   Automatic\n",
       "2      Mercedes-Benz A 45 AMG   A 45 AMG   Automatic\n",
       "3      Mercedes-Benz A 35 AMG   A 35 AMG   Automatic\n",
       "4      Mercedes-Benz A 45 AMG   A 45 AMG   Automatic\n",
       "...                       ...         ...        ...\n",
       "26856               Volvo S90        S90   Automatic\n",
       "26857               Volvo S40        S40   Automatic\n",
       "26858               Volvo C30        C30      Manual\n",
       "26859               Volvo S90        S90   Automatic\n",
       "26860               Volvo S80        S80   Automatic\n",
       "\n",
       "[26861 rows x 3 columns]"
      ]
     },
     "execution_count": 483,
     "metadata": {},
     "output_type": "execute_result"
    }
   ],
   "source": [
    "df[['make_model', 'model', 'gearbox']]"
   ]
  },
  {
   "cell_type": "code",
   "execution_count": 484,
   "id": "932752f8-1284-4a1f-8035-5e039bd3d836",
   "metadata": {},
   "outputs": [
    {
     "data": {
      "text/plain": [
       "gearbox\n",
       "Manual            16425\n",
       "Automatic         10335\n",
       "Semi-automatic      101\n",
       "Name: count, dtype: int64"
      ]
     },
     "execution_count": 484,
     "metadata": {},
     "output_type": "execute_result"
    }
   ],
   "source": [
    "df.gearbox.value_counts(dropna=False)"
   ]
  },
  {
   "cell_type": "code",
   "execution_count": 485,
   "id": "2dd7c734-559c-485b-8a3d-606ce8ecb1be",
   "metadata": {},
   "outputs": [
    {
     "data": {
      "text/plain": [
       "0"
      ]
     },
     "execution_count": 485,
     "metadata": {},
     "output_type": "execute_result"
    }
   ],
   "source": [
    "df.duplicated().sum()"
   ]
  },
  {
   "cell_type": "code",
   "execution_count": 486,
   "id": "47b389f1",
   "metadata": {},
   "outputs": [],
   "source": [
    "df = df.drop_duplicates()"
   ]
  },
  {
   "cell_type": "code",
   "execution_count": 487,
   "id": "fad6a19d",
   "metadata": {},
   "outputs": [
    {
     "data": {
      "text/plain": [
       "0"
      ]
     },
     "execution_count": 487,
     "metadata": {},
     "output_type": "execute_result"
    }
   ],
   "source": [
    "df.duplicated().sum()"
   ]
  },
  {
   "cell_type": "markdown",
   "id": "954b7c83-90cd-4f97-ab34-4d5ed3bedb9f",
   "metadata": {},
   "source": [
    "# 10. model_code"
   ]
  },
  {
   "cell_type": "code",
   "execution_count": 489,
   "id": "2ba0afb5-3a53-48ff-85d1-92063d104cea",
   "metadata": {},
   "outputs": [
    {
     "data": {
      "text/plain": [
       "18935"
      ]
     },
     "execution_count": 489,
     "metadata": {},
     "output_type": "execute_result"
    }
   ],
   "source": [
    "df.model_code.isna().sum()"
   ]
  },
  {
   "cell_type": "code",
   "execution_count": 490,
   "id": "0f84ce4f-f81a-40eb-8f1c-3af296d033d2",
   "metadata": {},
   "outputs": [],
   "source": [
    "df.drop(columns=['model_code'], inplace =True)"
   ]
  },
  {
   "cell_type": "markdown",
   "id": "2ad33a8d-cafb-47a7-8d75-c86e0ee8afa4",
   "metadata": {},
   "source": [
    "# 11. fuel_type"
   ]
  },
  {
   "cell_type": "code",
   "execution_count": 492,
   "id": "fe8d52d6",
   "metadata": {},
   "outputs": [
    {
     "data": {
      "text/plain": [
       "fuel_type\n",
       "Benzine     16805\n",
       "Diesel       7844\n",
       "NaN          1679\n",
       "LPG           345\n",
       "Electric      188\n",
       "Name: count, dtype: int64"
      ]
     },
     "execution_count": 492,
     "metadata": {},
     "output_type": "execute_result"
    }
   ],
   "source": [
    "df.fuel_type.value_counts(dropna=False)"
   ]
  },
  {
   "cell_type": "code",
   "execution_count": 493,
   "id": "f9d7c8f1",
   "metadata": {},
   "outputs": [],
   "source": [
    "df['fuel_type'] = df.apply(lambda row: 'Electric' if row['other_fuel'] == 'Electricity' else row['fuel_type'], axis=1)"
   ]
  },
  {
   "cell_type": "code",
   "execution_count": 494,
   "id": "7757a35e",
   "metadata": {},
   "outputs": [
    {
     "data": {
      "text/plain": [
       "fuel_type\n",
       "Benzine     16382\n",
       "Diesel       7822\n",
       "Electric     2293\n",
       "LPG           344\n",
       "NaN            20\n",
       "Name: count, dtype: int64"
      ]
     },
     "execution_count": 494,
     "metadata": {},
     "output_type": "execute_result"
    }
   ],
   "source": [
    "df.fuel_type.value_counts(dropna=False)"
   ]
  },
  {
   "cell_type": "code",
   "execution_count": 495,
   "id": "4b811cbd-c186-4bf2-89d9-4a3d07f47ddd",
   "metadata": {
    "tags": []
   },
   "outputs": [
    {
     "name": "stdout",
     "output_type": "stream",
     "text": [
      "                                       short_description fuel_type\n",
      "23695                  1.6 GDi 2WD Trend Bluetooth Klima       NaN\n",
      "24393  CW 1.4i i-Motion Business AIRCO TREKHAAL LPG-G...       NaN\n"
     ]
    }
   ],
   "source": [
    "# Filter rows where 'emission_class' is null but 'short_description' is not null\n",
    "filtered_null_fuel_type = df[df['fuel_type'].isnull() & df['short_description'].notnull()]\n",
    "\n",
    "# Filter rows where 'short_description' contains specific keywords\n",
    "keywords = r'\\b(?:dci|i|tdi|gdi|cdti|gts|gts|hdi|tdci|crdi|tfsi|tsi)\\b'\n",
    "filtered_fuel = filtered_null_fuel_type[filtered_null_fuel_type['short_description'].str.contains(keywords, case=False, na=False)]\n",
    "\n",
    "# Display the result with only 'short_description' and 'gearbox' columns\n",
    "print(filtered_fuel[['short_description', 'fuel_type']])"
   ]
  },
  {
   "cell_type": "code",
   "execution_count": 496,
   "id": "d3caf474-3660-4222-b6b6-b0f4d970fb1f",
   "metadata": {
    "tags": []
   },
   "outputs": [],
   "source": [
    "def fill_missing_fuel_type(short_description):\n",
    "    if pd.isna(short_description):\n",
    "        return np.nan\n",
    "    \n",
    "    # Create a dictionary mapping abbreviations to fuel types\n",
    "    fuel_type_mapping = {\n",
    "        'dci': 'Diesel',\n",
    "        'i': 'Benzine',\n",
    "        'tdi': 'Diesel',\n",
    "        'gdi': 'Benzine',\n",
    "        'cdti': 'Diesel',\n",
    "        'gts': 'Benzine',\n",
    "        'sdi': 'Diesel',\n",
    "        'hdi': 'Diesel',\n",
    "        'tdci': 'Diesel',\n",
    "        'crdi': 'Diesel',\n",
    "        'tfsi': 'Benzine',\n",
    "        'tsi': 'Benzine'\n",
    "    }\n",
    "    \n",
    "    for abbr, fuel_type in fuel_type_mapping.items():\n",
    "        if abbr in short_description.lower():\n",
    "            return fuel_type\n",
    "    \n",
    "    return np.nan\n",
    "\n",
    "\n",
    "# Apply the function to fill missing 'fuel_type' values\n",
    "df.loc[filtered_fuel.index, 'fuel_type'] = filtered_fuel['fuel_type'].fillna(df['short_description'].apply(fill_missing_fuel_type))"
   ]
  },
  {
   "cell_type": "code",
   "execution_count": 497,
   "id": "7eb970d0-5ee5-4cac-a806-55c98566a5e9",
   "metadata": {},
   "outputs": [
    {
     "data": {
      "text/plain": [
       "fuel_type\n",
       "Benzine     16384\n",
       "Diesel       7822\n",
       "Electric     2293\n",
       "LPG           344\n",
       "NaN            18\n",
       "Name: count, dtype: int64"
      ]
     },
     "execution_count": 497,
     "metadata": {},
     "output_type": "execute_result"
    }
   ],
   "source": [
    "df['fuel_type'].value_counts(dropna=False)"
   ]
  },
  {
   "cell_type": "code",
   "execution_count": 498,
   "id": "c676868b-d0ec-49d4-845a-f97b11498777",
   "metadata": {},
   "outputs": [],
   "source": [
    "fuel_dict = {\n",
    "    'Germany': {'benzin': 'Benzine', 'diesel': 'Diesel', 'elektrisch': 'Electric', 'lpg': 'LPG', 'hybrid': 'Hybrid'},\n",
    "    'Spain': {'gasolina': 'Benzine', 'diésel': 'Diesel', 'eléctrico': 'Electric', 'glp': 'LPG', 'híbrido': 'Hybrid'},\n",
    "    'Netherlands': {'benzine': 'Benzine', 'diesel': 'Diesel', 'elektrisch': 'Electric', 'lpg': 'LPG', 'hybride': 'Hybrid'},\n",
    "    'Italy': {'benzina': 'Benzine', 'diesel': 'Diesel', 'elettrico': 'Electric', 'gpl': 'LPG', 'ibrido': 'Hybrid'},\n",
    "    'Belgium': {'benzine': 'Benzine', 'essence': 'Benzine', 'diesel': 'Diesel', 'électrique': 'Electric', 'lpg': 'LPG', 'hybride': 'Hybrid'},\n",
    "    'France': {'essence': 'Benzine', 'diesel': 'Diesel', 'électrique': 'Electric', 'gaz de pétrole liquéfié': 'LPG', 'hybride': 'Hybrid'},\n",
    "    'Austria': {'benzin': 'Benzine', 'diesel': 'Diesel', 'elektrisch': 'Electric', 'lpg': 'LPG', 'hybrid': 'Hybrid'},\n",
    "    'Luxembourg': {'benzin': 'Benzine', 'diesel': 'Diesel', 'elektresch': 'Electric', 'lpg': 'LPG', 'hybrid': 'Hybrid'},\n",
    "    'Denmark': {'benzin': 'Benzine', 'diesel': 'Diesel', 'elektrisk': 'Electric', 'lpg': 'LPG', 'hybrid': 'Hybrid'},\n",
    "    'Estonia': {'bensiin': 'Benzine', 'diislikütus': 'Diesel', 'elektriline': 'Electric', 'vedelgaas': 'LPG', 'hübriid': 'Hybrid'},\n",
    "    'Bulgaria': {'бензин': 'Benzine', 'дизел': 'Diesel', 'електрически': 'Electric', 'втечнен нефтен газ': 'LPG', 'хибрид': 'Hybrid'}\n",
    "    # Diğer dillerde de benzer güncellemeler yapılabilir\n",
    "}\n",
    "\n",
    "# NaN değerleri dolduracak fonksiyon\n",
    "def fill_fuel_type(row):\n",
    "    if pd.isnull(row['fuel_type']):\n",
    "        country = row['location_country']\n",
    "        desc = row['desc_str']\n",
    "        if isinstance(desc, str):\n",
    "            desc = desc.lower()\n",
    "            fuel_terms = fuel_dict.get(country, {})\n",
    "            for term, fuel in fuel_terms.items():\n",
    "                if term in desc:\n",
    "                    return fuel\n",
    "    return row['fuel_type']\n",
    "\n",
    "# fuel_type sütununu sadece NaN olan değerler için doldurun\n",
    "df['fuel_type'] = df.apply(fill_fuel_type, axis=1)\n"
   ]
  },
  {
   "cell_type": "code",
   "execution_count": 499,
   "id": "d730272b-d52b-4084-b6be-e050386e5cbb",
   "metadata": {},
   "outputs": [
    {
     "name": "stdout",
     "output_type": "stream",
     "text": [
      "fuel_type\n",
      "Benzine     16388\n",
      "Diesel       7822\n",
      "Electric     2307\n",
      "LPG           344\n",
      "Name: count, dtype: int64\n"
     ]
    }
   ],
   "source": [
    "df['fuel_type'] = df.groupby(['make_model'])['fuel_type'].transform(lambda x: x.fillna(x.mode()[0] if not x.mode().empty else np.nan))\n",
    "\n",
    "# NaN değerlerin doldurulduğunu kontrol edin\n",
    "print(df['fuel_type'].value_counts(dropna=False))"
   ]
  },
  {
   "cell_type": "markdown",
   "id": "b0c55aac-897f-4364-b29f-12fe23ab4cf9",
   "metadata": {},
   "source": [
    "# AGE "
   ]
  },
  {
   "cell_type": "code",
   "execution_count": 501,
   "id": "cd699d5f-89e0-47d1-a41a-55ba9bf50b1c",
   "metadata": {},
   "outputs": [],
   "source": [
    "df['first_registration'] = pd.to_datetime(df['first_registration'])\n",
    "\n",
    "current_year = pd.to_datetime('2022-01-01')\n",
    "\n",
    "df['age'] = current_year.year - df['first_registration'].dt.year"
   ]
  },
  {
   "cell_type": "code",
   "execution_count": 502,
   "id": "0eedbde7-ed1f-43cb-96c9-1a8edab6f531",
   "metadata": {
    "tags": []
   },
   "outputs": [
    {
     "data": {
      "text/plain": [
       "age\n",
       " 3.0      3432\n",
       " 4.0      3228\n",
       " 0.0      3033\n",
       " 1.0      2731\n",
       " 2.0      2354\n",
       " 5.0      2304\n",
       " 6.0      1412\n",
       " 7.0      1169\n",
       " 8.0       881\n",
       " 9.0       658\n",
       " 10.0      607\n",
       " 11.0      602\n",
       " 12.0      509\n",
       " 15.0      406\n",
       " 13.0      376\n",
       " 14.0      375\n",
       " 16.0      355\n",
       " 17.0      280\n",
       " 18.0      229\n",
       " 19.0      194\n",
       " 20.0      162\n",
       " 21.0      159\n",
       " 22.0      140\n",
       " 23.0      124\n",
       " 24.0       82\n",
       " 28.0       79\n",
       " 25.0       78\n",
       " 27.0       75\n",
       " 26.0       70\n",
       " 30.0       58\n",
       " 31.0       56\n",
       " 29.0       52\n",
       " 32.0       50\n",
       " 56.0       38\n",
       " 55.0       32\n",
       " 34.0       30\n",
       " 57.0       29\n",
       " 49.0       28\n",
       " 54.0       25\n",
       " 35.0       25\n",
       " 50.0       24\n",
       " 36.0       22\n",
       " 44.0       20\n",
       " 33.0       19\n",
       " 37.0       18\n",
       " 51.0       18\n",
       " 52.0       17\n",
       " 39.0       16\n",
       " 53.0       16\n",
       " 43.0       14\n",
       " 47.0       13\n",
       " 46.0       11\n",
       " 45.0       11\n",
       " 38.0       10\n",
       " 40.0       10\n",
       " 48.0        9\n",
       " 59.0        9\n",
       " 58.0        9\n",
       " 41.0        8\n",
       " 60.0        6\n",
       " 42.0        5\n",
       " 61.0        5\n",
       " 67.0        5\n",
       " 65.0        4\n",
       " 64.0        4\n",
       " 62.0        3\n",
       " 90.0        3\n",
       " 68.0        3\n",
       " NaN         2\n",
       " 122.0       2\n",
       " 92.0        2\n",
       " 85.0        2\n",
       " 70.0        2\n",
       " 63.0        2\n",
       " 93.0        1\n",
       " 94.0        1\n",
       "-3.0         1\n",
       "-1.0         1\n",
       " 89.0        1\n",
       " 72.0        1\n",
       " 76.0        1\n",
       " 66.0        1\n",
       "-180.0       1\n",
       " 69.0        1\n",
       "Name: count, dtype: int64"
      ]
     },
     "execution_count": 502,
     "metadata": {},
     "output_type": "execute_result"
    }
   ],
   "source": [
    "df.age.value_counts(dropna = False)"
   ]
  },
  {
   "cell_type": "code",
   "execution_count": null,
   "id": "e8f14ddd-dd4e-4aca-b50f-ea406ab96bd5",
   "metadata": {},
   "outputs": [],
   "source": []
  },
  {
   "cell_type": "code",
   "execution_count": 503,
   "id": "29d7972e-b1fc-494b-b45a-5a6c84ece9f3",
   "metadata": {},
   "outputs": [
    {
     "data": {
      "text/plain": [
       "2"
      ]
     },
     "execution_count": 503,
     "metadata": {},
     "output_type": "execute_result"
    }
   ],
   "source": [
    "df.age.isnull().sum()"
   ]
  },
  {
   "cell_type": "markdown",
   "id": "3f4b7dc3",
   "metadata": {},
   "source": [
    "# manu_color"
   ]
  },
  {
   "cell_type": "code",
   "execution_count": 505,
   "id": "f792c6ad-75ed-46d1-a46e-5308e9f1b4a9",
   "metadata": {
    "scrolled": true
   },
   "outputs": [
    {
     "name": "stdout",
     "output_type": "stream",
     "text": [
      "{'', 'Quartzgraumet.', 'Espresso de Medianoche (sólid', 'Grijs', 'TELLURSILBER - METALLICLACK', 'SILVER MET', 'Copper Braun', 'ORANGEFARBEN CAYENNE', 'Sika-Gelb Metallic', 'Shadow Grey / SOL', 'SOLID / Solid', 'Pulse red', 'Osmium grey', 'Pannacotta  M2', 'Bianco Perla', 'NOIR PERLA NERA METALLISE', 'LACKIERUNG WEISS OPALE', 'Rojo Júpiter', 'Textuurlak ice silver (textuur', 'Magic schwarz', 'Nevada White (wit metallic)', 'Marlingrau metallic / dach sch', 'MAGNETIC-BLAU METALLIC', 'Clean slate (blau)', 'Steel Gray (metalizado)', 'Raceblaumet.', 'Onyx black / metallic', 'Vertigo blau', 'IVOIRE TRI-COUCHE', 'Blau metallic', 'Osmiumgrey (grijs parelmoer)', 'Jade Weiß (Uni)', 'Gris Titanium (metalizado)', 'Dune', 'BIANCO PERLA', 'Noir nacré', 'Moon-rock', 'GRANATE', 'Midnight black', 'Cavansite Blue', 'Quantum grey', 'Race Blau', 'Blazerblau', 'Gris Platine (zilver metallic)', 'Nevada Weiß', 'KR4 Sonic Silver', 'GRIGIO ARGENTO', 'Phoenix orange metallic', 'BIANCO PERLATO', 'Platinsilber Metallic', 'Topaz Braun Metallic', 'BLAU SANSIBAR', 'Vividblue', 'Denimblau', '717 Onyx Black (zwart metallic', '##/fr/Blanc Nevada', 'Rojo Montsant Metallic', 'IRON GRAY', 'Ginger Beige Metallic / Nights', 'Lavablaumet.', 'Magnetic Tech', 'Blu Asphalt', 'ROT RUBI/METALLIC MIT SCHUTZLA', 'Ruby-rot', 'Marrone braun', 'GRAPHITE-GRAU', 'JAUNE', 'Blanche', 'Kristallschwarz', 'ANDRADITGRÜN METALLIC', 'DARK NAVY BLUE', 'Gris Shades of Grey', 'Giallo', '\"Candy\" Weiss', 'Bruin metallic', 'Cyber Orange mit Design Streif', 'MARMARA-BLAU', 'Urano Grey', 'Weiss perlmutt', 'Kometen-Grau  Metallic', 'Sunset red / phantom black / m', 'Paars metallic', 'mysticschw', 'Chroma blau', 'Cashmere Brown / MET', 'GRIS noir', '1Z Schwarz-Magic Perleffekt', 'Bursting blue / metallic', 'Platinium-Grau', 'Kometengrau-met.', 'Passion red solid', 'Rose gold', 'SCHWARZ PERLA NERA/TYP AUSSENV', 'Schwarz-Metallic', 'Azul oscuro océano metalizado', 'Ice Blue / MET', 'Brass / met', 'Quarz Grau (Perleffekt)', 'Magnetic-grau metallic', 'Grigio scuro', 'Braun / magneticobronze', 'Makaha', 'Kometengrau', 'Sera Blau', 'VALENCIA ORANGE  METALLIC', 'Gris Ratón', 'Dezire-Rot Metallic', 'Azur Blau (M2)', 'Blanco Classic (sólido)', 'Grabber blue', 'Gris Platino (metalizado)', 'Inferno Orange', 'Groen', 'Hyacinthrot', 'Polarsilbermet.', 'Negro Shadow (metalizada)', 'Olivine Grey / MET', 'Sternen-Schwarz', 'Elfenbein/Dach Schwarz', 'Desire Red', 'Atlas Blau Metallic', 'Silber / moonstonegrau', 'New Rosso', 'Silkybronzemet.', 'Engine Red / SOL', 'PINTURA METALIZADA - PLAT', 'Gris Magnético (metalizado)', 'PLATINGRAU- METALLIC', 'Nachtblau/dach weiß', 'BEIGE ANGORA', 'Magnetic Grey', 'BLU', 'Race-Blau Metallic [BLA]', 'Elixir-Rot', 'Rembrandtsilber', 'Rouge Carmin', 'BLANC LUNAIRE', 'California-Gelb', 'Maple Brown', 'Dark Camouflage Metallic / Wei', 'Mountaingrijs', 'Juniper Blue Metallic/Dach nig', 'Hightechsilber', 'Perla Nera-Schwarz', 'Noir Etoile Nacre (zwart metal', 'Nitro-Blau', 'ABALONE WHITE TRI-4 (486B)', 'Grafietgrijs', 'Oxyde bronze metallic', 'Obsidan Schwarz Metallic', 'Sansibar Blau Metallic', 'Tenoritgrau metalliclack', 'Graphitmetallic', 'Tiefschwarz Noir', 'Gray Metallic (grijs metallic)', 'Mineral Grey', 'Blazer Blau', 'Plata Perla (metalizado)', 'Marrón', 'Selenite Grey', 'ONYX BLACK METALLIC', 'MOUNTAINGREY METALLIC', 'Negro Onyx (sólido)', 'Osmium Grey-Metallic 714', 'Dolphin Grey', 'Black Pearl-Schwarz und Platin', '1K0', 'SAPPHIRE METALLIC / Metallic', 'LACKIERUNG SCHWARZ PERLA NERA/', 'Ice white / solid', 'Arktis weiß (268)', 'Dynamic Grau', 'Onxyschwarz', 'Negro Metalizado', 'High-tech silver metallic', 'NEW SILVER (M)', 'Energyblau', 'TENEBROSCHWARZ', 'Kaolinweiss', '\"Mystery\" Blau', 'BLANCHE', 'PERLA SCHWARZ  METAL', 'Rouge Velvet', 'Platinsilber', 'Sunset Red', 'Elixir Rot Perlmutteffekt', 'BLAU/METALLIC LACKIERUNG', 'Onyxblack Metallic', 'White solid ice white / solid', 'Canvasitblau', 'Alloy Metallic', 'BLACK SAPPHIRE METALLIC / Meta', 'Argento metallizzato', 'Sternen schwarz', 'Magic blue', 'Azul chrome', 'Magnetic Braun Metallic', 'Tiefsee Blau Metallic', 'Diamantweiss BRIGHT', 'Argent iridium métallisé', 'Space Blau', 'Diamant-Weiß Bright', 'Emocion Rot', 'Phantom black peral', 'Titanium beige', 'Carbon braun (metallic)', 'Titanium-Grau-Metallic', 'Quarz-grau metallic', 'Moondust Silver', 'Feuerrot', 'LACKIERUNG DREI SCHICHTEN PERL', 'Nacre', 'Pure rot', 'GRAU ERMITAGE/METALLIC', 'Pure red', 'Indic-blau (metallic)', 'Schnee Weiss', 'Black rose (m)', 'Blue sprinter / matt finish', 'Savile Grey-Metallic 492', 'ORANGE TONIC', 'Mangrove green / dach schwarz', 'GRIS PLATINO', 'Champagner (M2)', 'Bleu denim métallisé', 'Lichtsilber', 'Blanco Cirro (sólido)', 'Brilliant-silber', '\"Boheme\" Violett', 'Diamantsilber', 'Blue Wave', 'COLORE ESTERNO (GIALLO OCRA)', 'Colore esterno (gelato weiss)', 'Colore Esterno (Gelato Weiss)', 'Magnetic-Grau Metallic', 'GRAY M', 'Kontrast grau/quarz silber', 'Bleu acier moyen', 'Lava blau', 'Tornado-rot', 'Schwarz cinema', 'Kosmosschwarz - metalliclack', 'Black Pearl schwarz', 'Magnetic blau', 'WHITE SOLID   ICE WHITE / Soli', 'STONE BROWN MET', 'Barents blue pearl', 'Arktis Blau', 'Shimmering silver / met', 'BLACK SOLID (STONE) / Solid', 'UNIVERSUMBLAU METALLICLACK', 'Tornado-Rot', 'Bleu clair metal', 'Arizonaorangemet.', 'Bronzo', 'ICE WHITE / Solid', 'Maple brown', 'COSMIC WHITE METALLIC', 'CUERO', 'COLORE ESTERNO (GRIGIO UNDERGR', 'Pine Grey', 'Atacama Orange_Dach schwarz', 'Carbon Flash (zwart metallic)', 'Moon-Weiß', 'Rush Blue Pearl', 'Cardamon green / Night Sky Bla', 'Magnetic metallic', 'Platinumweiß', 'CHAMPAGNE', 'Reflex Silber Metallic', 'Taklamakan-Orange / Black-Pear', 'Mysticschwarz', 'Ivy Green', 'Sky Blue', 'Titangraumet.', 'Negro Absolute', 'DESIRE RED', 'Gletscherweiss', 'Slate Blue/Phantom Black (mica', 'SELENITGRAU SHAPE', 'OSMIUM GREY', 'Schwarz Stoff', 'ANTHRAZITBLAU - METALLIC LACK', 'Saphir-Blau', 'Mondstein Grau', 'Noire perla', 'Gris Pirineos', 'Atoll-Blau Metallic', 'BLAU TUANAKE', 'Denim blauw', 'Gris montaña magno (metalizad', 'OLIVINE GREY', '492 savile grey metallic', 'Orient-Rot/Velvet Red Met', 'Intense Blue/ Phantom Black', 'Gris (mountaingrau magno)', 'Raceblau Metallic', 'Licht grau', '718 SCHWARZ', 'Silver Grey Metallic', 'Aragonitsilber', 'FARBE SCHWARZ OBSIDIEN', 'Venezia Blau met', 'Ristrettobraun metallic', 'Gris Tenorita', 'GUN METALLIC (M)', 'Platinumbronze metallic', 'Dark grey', 'Sicilia orange', '\"Mystic\" Magenta', 'Sleek silver', 'Lapisblauw 932', 'Gris Montagne', 'GRIS MAGNETI', 'Elfenbeinfarbe', 'Velvet Rot', 'Blu Mediterraneo', 'NCW - NCW-CREAMY WHITE', 'White Metallic', 'NIGHT SHADE (M)', 'Muskatgrau/Muskat Braun(M2)', 'DACIA BLAU MARINE', 'Performance Blue (sólido)', 'Graphitgrau', 'Silbermet.', 'Topaz-braun metallic', 'Polar White/Dach Phantom Black', 'ANDRADITGRUEN - METALLICLACK', 'Diamant schwarz/karbon schwarz', 'Mountaingrau', 'Zielony', 'Typhoon silver', 'WHITE weiß', 'SchneeWeiss / Black', 'Bleu Vertigo', 'Oranje', 'ROJO PASSIONE', 'QAB/Black', 'Fantastic-Rot Metallic', 'Black pearl (m)', 'Power-rot', 'Grau / magneticgrau', '711 Bright Silver (zilver meta', 'Niebieski', 'Pulse red / mic', 'METALLIC COPPER', 'MANUFAKTUR hyazinthrot metalli', 'Tornadorot', 'Urban Silber met.', 'Titan-blau', 'Victoriarot b', 'Ceramic Blue (perlado)', 'Engine Red', 'Moda-Grau Metallic', 'Magnet Grau Metallic', 'Sunset red / mic', 'Thunder Grey-Metallic 728', 'Bleu Clair Métal', 'Pulse red / phantom black / mi', 'Magnetico Bronze Metallic', 'Granit grau', 'Moondust silver (metallic)', 'Platin-grau', 'Magnetic Grau Metallic / Dach', 'A7G - AURORA GRAY', 'Fighter Jet Grau', 'Voltaik Blau / Black', 'Verde', 'Black Solid Stone Metallic', 'Mato-Braun', 'Mandarina Orange(', 'Perlmutweißmetallic', 'Grau designo graphitgrau magno', 'Magneticbraunmet.', 'Fusion red / metallic', 'PEARL-SCHWARZ  METALLIC', 'Atacamaorangemet.', 'RAW COPPER / Metallic', 'DELPHINSILBER METALLIC', 'Ghiaccio weiss perlmutt dreisc', 'Darkgreymet.', 'Black sapphire / metallic', 'Costaazulmet.', 'Platinumweiß Metallic', '326 Weiß', 'Metal Grau Metallic', 'BRONZE METALLIC', 'ALUMINIUM-GRAU/METALL', 'Canyon-Orange Metallic', 'Flip Chip Metallic.', 'Kosmos-Blau Metallic', 'Opal Weiß', 'Brilliant Black (zwart metalli', 'BLAUW MET metallic', 'Sterlingsilber metallic', 'Crystal white / metallic', 'Azul Bellagio (sólida)', 'Highland Grey', 'GRAU ECLIPSE', 'Donker grijs', 'BIANCO NEVADA EFFETTO PERLATO', 'Licht blauw', 'Titanium-Grau Metalli', 'Midnight Schwarz Mica', 'Gelato weiß // dach schwarz', 'BLUE MARIN', 'Digitalweiss', 'CARIBOU', 'Electric shadow / sol', 'EVL - Gris Falcon', 'Rouge Flamme (rood metallic)', 'Pure-rot', 'Pastell-blau', 'Mysteryblau Metallic', 'PERLADO', 'TECHNICGRIJS METALLIC', 'Kosmosblau-metallic', 'Wit metaalkleur', 'Denim blue / metallic', 'Met', 'VERT FONCE', 'Kalaharirotmet.', 'Cafe-Latte Braunmetallic', 'LACK WEISS PERLGLÄNZEND/METAL', 'EISBLAU - METALLICLACK', 'RACING BLUE METALLIC', 'Blanc GELATO', 'Chilli red', 'Emerald Crystal (metalizado)', 'Verde Oscuro', 'Platinium-grau', 'Reflexsilber', 'DARK BLUE/', 'Magneticgrijs', 'Magnetic-grau', 'Raceblue', 'Licht wit', 'Girasol', 'Champion Blue (metalizado)', 'Carbonized gray', 'Chillired Metallic', 'Marine-blau', 'Ruby-Rot-Metallic', 'Highlandgraumet.', 'Gris Dark Matter', 'Precious Black', 'Outdoor-Orange Metallic', 'NAUTIC BLUE PEARL (blauw metal', 'Victoriarot  B', 'Dark Night (perlado)', 'SON OF A GUN GRAY MET4 (483B)', 'Highland-grau', 'Cyber-Orange Metallic', 'Sand beige', 'Dynamic blau', 'Ultramarinblau metallic', 'Gris Graphite', 'OYSTER GREY PEARL / Metallic', 'Highland-Grau und Black-Pearl', 'Gun metallic', '[L5L5] Florett Silber ...', 'Argon Silber Metallic', 'Palladiumsilber - lack', 'Black Stone 019', 'Moonstone-Grau', '735 GRIGIO CARRARA', 'Inferno orange metallic', 'Fiery Red PR2', 'Nitrous-Blau Metallic', 'Midnightschwarz', 'Uranograu', 'ARANCIO ARIZONA', 'Perlmuttschwarz', 'Obsidian-Schwarz (Metallic)', 'Ice Grey (grijs metallic)', 'DESIGNO MAGNO SELENITGRAU MATT', 'Blanco Banquise', 'Race Rot', 'Brilliant black (zwart metalli', 'RUBELLITROT - LACK', '721 mussel blue metallic', 'Oxford white', 'ROYAL BLUE (G)', 'Grigio Chiaro', 'Mountaingrau - lack', 'Designo Selenietgrijs Magno', 'Savile Grau-Metallic', 'Horizon blue', 'Red Flame + Dach Schwarz', 'MAGNETIC BLUE/BLACK Metallic', 'Saffron Pearl 435', 'Stahl Grau + Highland Grau', 'Daytonagrau Perleffekt', 'Corrida Rot', 'Perlmutt- Schwarz Metallic', 'Onyx Black metallic (zwart met', 'Brillantsilber Metallic', 'VESUVGRAU METALLIC', 'Storm Trooper / MIC', 'Selenitgrau metallic', 'B. madre perlato', 'Blanco Gelato (sólido)', 'Noir Obsidien Metallic', 'LACK WEISS BANQUISE', 'Rojo Vintage (metalizado)', 'Nevada weiÃ\\x9f', 'Sage green / metallic', 'EARTH BRONZE (M)', 'Magnetic Grey Metallic', 'ORANGE EPY+SCHWARZ GNE', 'Candy-weiss', 'Cubanitsilber', 'BRAUN', 'Beige', 'Nevada Weiß Metallic', 'CHRYSTAL WHITE METALLIC', 'Rot Uni', 'MANUFAKTUR opalithweiß bright', 'INTENSE BLUE', 'PLATINUM SILVER', 'Blanc Métal', 'Obsidiaanzwart metallic', 'Anthracite-Grau Metallic', 'Plum Violett Metallic', 'Pacific Blue', 'MAGNETITSCHWARZ', 'Precision Grey Metallic', 'Dynamic-Grau', 'ALUMINIUM-GRAU', 'Mondstein grau (metallic)', 'Champion blue / met', 'Grigio Platinum\\xa0', 'ROT', 'Blanc', 'Designo hyazinthrot metallic', 'Schwarz Sonderlack', 'BURSTING BLUE', 'COLORE ESTERNO (BRONZO BRONZIN', 'VERT F', 'Platinumbronze', 'Rouge Braun Metallic', 'mysticsc', 'Biały', 'Fonce', 'Phantom-schwarz', 'Gris montagne magno MANUFAKTUR', 'Crystal Blau Metallic', 'ARGENTO', 'SCHWARZ', 'Blanc Bila', 'Burgundy', 'Graphitgrau metallic', 'Rot Rosso Brunello Metallic', 'Schwarz metallic (schwarz)', 'Dark grey / kf black', 'GRIS SQUALE', 'Kokosnuss Braun (M2)', 'Digitalweiss - lack', 'Orange Atacama', 'RO - ROJO', 'Chilli Red/Black', 'Karminarot', 'Moon-Weiss Metallic', 'BLAU MAJORELLE', 'NBD Passion Red (P)', 'Argent métallisé', 'IRIDIUM-SILBER - METALLICLACK', 'Diamantschwarzmet.', 'Rodium grau', 'Rich-oak', 'PLATINIUM', 'Rose GOLD', 'Kontrast Grau/Quarz Silber', 'Fioletowy', 'Black Pearl', 'Mahagoni Braun metallic', 'Zwart Metallic', 'Yellowstone', 'MAGNETITSCHWARZ - METALLICLACK', 'Fire Red', 'Marlingrau metallic / Dach sch', 'AZUL VERTIGO', 'Metallic-Lackierung Kometen-Gr', 'Onyx', 'Nerzbraun', 'Rojo Ultimate (especial)', 'Noir Etoile Nacre', 'Grace Silver', 'Gun Grey (grijs metallic)', 'Titanum silver / met', 'Quartz-grau meallic.', 'MagneticTech', 'Schwarz uni', 'Tropical orange', 'Saphirschwarz', 'Rosso-Rot', 'Onyx black/metallic', 'Sunset Red Mineraleffekt', 'COSMOS', 'Luminous Sand Metallic (bruin', 'Kardio Rot Metallic', 'Mysticschwarzmet.', 'Silber (silber)', 'Magnetic Tech (Grau)', 'Cavansitblau - 890', 'Dezir-Rot / Black-Pearl-Schwar', 'RED', 'Rouge', 'Blanc Opaque', 'Nocciola-Braun (Metallic)', 'Aquamarin-grün (metallic)', 'Alexandria Blau', 'CERAMIC GREY', 'Blau Metallic', 'Redawesome/redmerlot', 'Tokio fusion metallic', 'Polar', 'Gletscher Weiß (licht wit meta', 'WHITE SOLID     ICE WHITE / So', 'SWITCHBLADE SILVER MET (G)', 'Corrida rot', 'Ash Grey', 'Premium \"Kosmosschwarz\"- Met', 'Iridium-Schwarz Metallic', 'GRIS ARTENSE', 'Sonderl. Magnetic Grau Metalli', 'FARBE ROT ADEN/FLACH STANDARD', 'Titanum Silver / MET', 'Pure Rot', 'CAVANSITBLAU - LACK', 'IVORY-BEIGE', 'Krystal White Pearl', 'Marineblau', 'Rosso Passione', 'Gris Manhattan', 'Ardenblau  Mi2', 'GRIS GRAFITO', 'Dezir', 'Lava rot brilliant', 'Blu serra', 'Chili Rot (Metallic)', 'Dynamic Blau Metallic', 'Magneticgrau-metallic', 'Typhoon Silver', 'SchneeWeiss', 'Crystal white metallic', 'Noir (zwart metallic)', 'Marlingrau metallic', 'KTB - ZU LACKIEREN SILVER GREY', 'BLACK MAGIC', 'Dezit-rot', 'Deep espresso', 'BORDEAUX', 'Glaze White', 'Chalk White', '268 bianco gelato', 'Race-Rot', 'Graphit-Grau Metallic', 'Tokia fusion / schwarz', 'Perlmutt Weiß', 'MOON-WEISS PERLEFFEKT', 'Colore esterno (adrenalin grün', 'Granitsilber metallic', 'Oxygenblau Mica', 'Atlas White', 'Bianco', 'Stargazing Blue / MIC', 'Pirineos grau', 'DESIRERED', 'Blanco perlado', 'Negro Vesuvio (metalizado)', 'Rio Red (only 1994 - 1996)', 'Polarsilber', 'Panther-Schwarz Metallic', 'Pazificblaumet.', 'NEGRO EFECTO PERLA METALIZADO', 'Amg solarbeam', 'Lucid Blue Metallic', 'ZU LACKIEREN ROT 3P0/DECKENDE', 'Silber Blau', 'Aqua Blue / MET', 'Saphirschwarz Metallic', 'Gris selenite', 'Magno Allanitgrau', 'Gris Metal (metalizado)', 'Black (zwart metallic)', 'AZUL COBALTO', 'Negro', 'TONIC ORANGE', 'Pinotrot mit klarlack', 'Urban Grey', 'Ginger Beige Metallic', 'Grau mineral metallic', 'GRIS ACIER', 'ROUGE ET NOIR', 'Mojavesilber', 'Orange Metallic', 'Chalk White + Dach Phantom Bla', 'Capuccino-Beige', 'Beige Dune', 'New Silver Metallic', 'Dezir-rot', 'Quartz white', 'Kardio rot (metallic)', 'CUPRITE METALLIC', 'Perlmuttschwarz Metallic', 'Engine red', 'Power orange', 'Perlmutt-Weiß & Schwarz', 'NOIR (Z11G)', 'Anthrazitblau', 'Pompeigraumetallic', 'SUNSET RED', 'Noire Perla Nera', 'COLORE ESTERNO (Abarth Rot)', 'WHITE (S)', 'ZU LACKIEREN SILVER GREY 1E7/M', 'Phoenix Orange Metallic', 'Lava', 'Grigio Magnetico', 'Tenoritgrau', 'Power Rot/Traffic Red RAL3020', 'Donker zwart', 'Kosmosschwarz', 'Nero-Schwarz', 'GRIGIO', 'Perl blau/voltaic blue', 'NEGRO OBSIDIANA', 'RosAntracite Met.', 'Mystic magenta', 'LACKIERUNG BLAU CALVI', 'Electric Shadow / SOL', 'Argon Silber/Ice Silver', '249 WEISS', 'DeZir-Rot', 'Lightning silber metallic', 'Perl blau', 'Iridium Schwarz Metalic', 'Space', 'Gletscherweiß', 'Obsidiaan zwart', 'Dezir-rot metallic', 'Emerald-Grün Metallic', 'Agate Black Metallic', 'Osmium Grau-Metallic', 'Artensegraumet.', 'GRIS ÁGATA', 'Quicksilver grau', 'Chili red / Night Sky Black', 'Licht groen metallic', 'Denim Blue Metallic (blauw met', 'DENIM BLUE / Metallic', '488', 'Noir Obsidienne', 'Quarz Silber / Schwarz', 'COLORE ESTERNO (Vesuvio Schwar', '\"Desire\" Rot', '\"Energy\" Blau', 'Ultimate Rot Metallic', 'Red Candy Tint CC', 'Negro Agate (metalizado)', 'Rodiumgrau', 'GIALLO SOLE', 'Gris foncé', 'Desire Rot', 'Onyx Black (metalizado)', 'Kirsch Rot', 'Ultrablau', 'Rojo Sólido', 'TANSANITBLAU', 'NEVADA WIT', 'Karbonschwarz', 'Opal Blau', 'Seduzione Rot', '4T3', 'Gau', 'Blanc polaire', 'Gelato weiss', 'Iron-Blau und Black-Pearl', 'Titangrau-met.', 'Negro (estándar)', 'NACARADO', 'BLEU ZANZIBAR', 'BLANC Nacré', 'Chroma Blau Metallic', 'Bleu Foudre', 'Iron blau', 'Magnetic grau / midnight schwa', 'Iconic-Silber Metallic', 'Desire Rot Metallic', 'Dark night', 'Snow / Metallic', 'Blue rqt + black gne', '0x1 - Desire Red Metallic (roo', 'MAGNETIC GRAU', 'Diamond', 'Gris Acier', 'Perla nera schwarz', 'Midnight black metallic', 'Gris Platinium', 'Abyss Black', 'Maple-Braun', 'NACHTSCHWARZ UNILACK', 'Copper-Braun', 'Iridium-Silber', 'GRIS HIGHLAND', 'Moon-weiß perleffekt', 'Hariagraumetallic', 'Titanium Grey', 'Marrone', 'Hell Weiß Sonderlack', 'BLACK MAGIC PEARL', '\"Universo\" Schwarz', 'ESPECIAL BRONZE METÁLICO.', 'Fiery Red / MIC', 'Mean Green', 'Brillantblau', 'Smooth Grün Metallic', 'Gold-Met.', 'Aussenfarbe (schwarz)', 'CHAMELEON BLUE', 'Polarweiss', 'GRIS ALUMINIO', 'Sirius-Gelb Metallic', 'Race Rot -mit Design Streifen', 'LACKIERUNG ULTIMATE-ROT', 'Phantom Brown', 'Stahl Grau + Black Pearl Schwa', 'PLOMO', 'Matcha green', 'Bleu de France', 'COLORE ESTERNO (Gelato Weiss)', 'Mystery Blue', 'ROOD', 'FARBE CHINA BLAU/METALLIC-LACK', 'Black-Magic-Perleffect', 'Dark knight', 'Z11 Black (M)', 'Obsidiaanzwart', 'Mysticblau', 'BLACK-MAGIC PERLEFFEKT', 'Gris selenita (metalizado)', 'GIALLO', 'Lava-Rojo Metálico', 'Highlands grey metallic', 'Azul Denim', 'Seduzzione Rot', 'GRIS ARGENT', 'Magnetic-braun metallic', 'Black (m)', 'Race Blue', 'Schwarz-metallic', 'Otros', 'BLEU DRAGEE', 'GRIS FONCE', 'Noir Perla Nera', 'LACK VAPOR GREY', 'VERY BERRY RED MET (171V)', 'Thunder Grey m. C728E', 'POLARWEISS', 'Polar White / SOL', 'FLINT GREY METALLIC / Metallic', 'Amazonite grau', 'Blau uni', 'Dynamic Blue', 'Ung. Schwarz', 'Valencia orange', 'Gris Fer', 'Perlmuttweiss Metallic', 'Dach schw', 'PINE GREY / Metallic', 'Stahl grau', 'Indium Grau Metallic', 'PANORAMA BLUE', 'TITAN-GRAU', 'Smoke-Grau Metallic', 'GRIGIO MAGNETICO', 'OBSIDIAN BLACK METALLIC', 'GRISE', 'Cardamom Green / Nightsky Blac', 'Onyxschwarz Brilliant', 'Tansanitblau - lack', 'Kobalt Blau (Metallic)', 'Silky Bronze', 'ROT DYNA', 'Olivine grey / mic', 'GRIGIO ANTRACITE METALLIZZATO', 'GRAU \"PLATIN\"', 'Schwarzmet.', 'Racing Blue', 'Metro  M2', 'Sternen-schwarz', 'Tokio rot', '\"Magic\" Schwarz', 'Mystery Blau', 'Weiss qnc+schwarz gne', 'Performance Blue', 'NEGRO BRILLANTE', 'Ruby-rot (metallic)', 'Cavansitblauw met.', 'Azul Oasis (fashion)', 'Graphite Grau', 'Designo patagonienrot bright', 'LLANTA 20\",CAMARA,AUTOMATICO', 'Carbonized Gray/Asher Gray/', 'Noir Attitude', 'Pyrénées', 'PEBBLE GREY / Metallic', 'Midnight Black Metallic', 'Grey Metalik', 'FARBE ROT BABYLONE/METALLLACK', 'Himmel Blau Dreischicht Lackie', 'Power Orange/Dynamik Orange', 'SPORT-GELB', 'Ivory', 'Chalk white / dark knight / me', 'GRIGIO SCURO', 'Grau', 'Moonstone  Silber met.', 'Montana-Grün Metallic', 'Banquise Weiss', 'Grabber grün', 'Marlingrau', 'Magnetic grau/midnight schwarz', 'PLATINUM GREY / Metallic', 'Ultimate Green', 'Donker blauw', 'ICE WHITE SOLID', 'COLORE ESTERNO JET BLACK', 'Mystic Schwarz Mica', 'Gris Artense (M)', 'Orange Sicilia Pastel Extra-Sé', 'Designo graphit magno', 'PLATA ANULAR', 'Platingraumet.', 'GRIS SELENITA', 'Platinum silver / mic', 'Meteorite (grijs metallic)', 'Artensegreymet.', 'Moonweissmet.', 'Nero Perla', 'BRUN TOURMALINE', 'VIBRANT RED (S)', 'Velocity-Blau Metallic', 'Thunder grey /', 'Lagoon blue / mic', 'Palladiumsilber Metallic', 'Gingerbeige Metallic', 'Phantom Black (mica)', 'Smaragdschwarz', 'Brilliant-Silber Metallic', 'Schadow Black', 'Obsidian-Schwarz Metallic', 'Bordeaux opera', 'Ceramic blue / mic', 'Crystal White metalizado', 'Weiß Uni', 'Gray metallic (grijs metallic)', 'Vinilo morado', 'Cafe (Metallic)', 'LACK WEISS PERLGLÄNZEND', 'ARONIA-SCHWARZ METALLIC', 'Cararragrau', 'Gris Manhatan bi-ton Toit Noir', 'Rojo Eléctrico (Pintura espec', 'Kyanit-Weiß', 'Mondstein-Grau', 'Mojave silver metallic', 'Oranje mica', 'Arktik-Weiß 369', 'Modagrau Metallic', 'Urban blue', '614 Ice White', 'MALTA BLUE', 'BLANCO ICEBERG', 'SNOW-WEISS', 'Blanco Polar', 'Titanblau Metallic / Dach schw', 'Dragon Red (mica)', 'Perl  Weiß', 'MARRON', 'Pine Grey-Metallic 724', 'Teal Blue / MET', 'STONE BROWN MET (058P)', 'Mojavesilber metallic', 'BRIGHT SILVER', 'AZUL DENIM METALIZADA', 'Rubin rot', 'Cactus-grau', 'Nero', 'Negro Perla Nera (metalizado)', 'Metaalkleur 728 thunder grey', 'Polar-Silber Metallic', 'Bright silver metallic / metal', 'Blanco Diamante (metalizado)', 'Cinema Schwarz', 'Performance Blue (FM)', 'BROWN M', 'Premium ,', 'Sternenschwarzmet.', 'AZUL GLACIAR', 'Acapulco Blue', 'CAVANSITBLAU', 'BLACK STONE ', 'Ice silver metallic', 'Denim Blue-Metallic 723', 'Perlmutt-schwarz metallic', 'Fluidic Metal', 'Karbon Black', 'Zielony metaliczny', 'Gelato White', 'Metropolitano Grau', 'COLORE ESTERNO (ROSSO PASSIONE', 'Desirerotmet./schwarz', 'Onyx schwarz', 'Perlmut- Weiß  Metallic', 'Platin Grey Metallic', 'Enigma Black Metallic', 'Micron Grey (grau)', 'POLAR WHITE', 'Gris mineral', 'STEEL GRAY', 'Noble White', 'Perla', 'NIGHT SHADE METALLIC', 'Polar zilver', 'Dezir Rot/Dach Schwarz', 'Saphirblau metallic', 'Seiden Grau', 'Candy-Weiss', 'Cream white', 'White QM1', 'Espressobraun Metallic', 'BLAU MARINE', 'Atlasblau-met.', 'Gris Graphite (metalizado)', 'Apfelgruen P2', 'Midnight Schwarz Metallic / Da', 'Titan-grau', 'Tiefquarz grau/quarz silber', 'Colore esterno (snowflake whit', 'Brun Ivoire', 'Blanco Nacarado (especiales)', 'Magnetitschwarz', 'LACK GRAU ARTENSE/TYP AUSSENVE', 'Moondust Silver (licht zilver)', 'Bleu alpine', 'Bright Silver', 'Titanblau metallic', 'Kardio rot', 'Platiniumgrau', 'Blizzard-Grau Metallic', 'Palladium Silver', 'Teqnc', 'Highland grey', 'NERO/TETTO ROSSO', 'BLACK SOLID / Solid', 'Micron grey', 'Phantom Black. / MIC', 'PAARS metallic', 'Black-Pearl', 'Grau met.', '717 onyx schwarz-metallic', 'Marlingrau Dach warm Gold', 'Bismutsilber', 'Cyber grey / met', '.GRIGIO SCURO MET', 'MAPLE BROWN / Metallic', 'Mágico', 'Caspian blue', 'Gris Foncé Métal', 'VERDE', 'Designo grafietgrijs magno', 'TCW - TCW-CREAMY WHITE', 'Magneticgraumet.', 'Tiefquarz Grau Metallic', 'GRIS CERAMIQUE', 'Freedome blue', 'Cappucinobeigemetallic', 'IRON BLAU', 'Silber-M.', 'Lunar Sky', 'Stella Weiß', 'BAMBOO GREEN (S)', 'Asphaltblau', 'SCHWARZ PERLA NERA', 'Graphit schwarz', 'Fire red', 'White Crystal', 'BRIGHT BLUE MET (521C)', 'Lackierung: Uni Carra grün', 'Rosso passione pastello extra', '714 osmium grey metallic', 'SLEEK SILVER/TOIT NOIR', 'FJORDBLAU METALLIC', 'Zilver metallic', 'Stahl-Grau Metallic/Dach in Bl', 'AZURE BLUE METALLIC', 'Negro metalizado', 'Black (donker zwart)', 'Fire Red (Uni)', 'Berggrijs', 'Black Magic Perefekt', 'Negro Obsidiana', 'White Sand Metallic', 'Platinum grau', 'GRIS PLATINiUM', 'Schwarz Magic', 'Tokio-Rot Perleffekt', 'OLYMPIC WHITE (G)', 'Bianco Gelato', 'Grigio Maestro metallizzato', 'Perla Nera Schwarz Metallic', 'Dragon', 'Selenitgrau Metallic', 'Polar White/ Phantom Blac', 'Onyx Black', 'PLATINUM GREY', 'Grau Artense', '728 Thunder Grey (grijs metall', 'Titangrau', 'Black Stone', 'Negro obsidiana', 'Negro tenore', 'Nero Cinema pastello extra', 'Brilliant White', 'Red power', 'Schwarz- METALLIC', 'Pompei grau', 'Brilliant Silber Metallic', 'Micron Grey / MET', 'Brilliantsilber - met.', 'GRIS DIAMANTE', 'Brilliant Silver', 'Deep Black Perl', 'Highland Grey Metallic', 'Minimal Grau', 'Tiefseeblau Metallic', 'Topas Blau-Metallic GFH', 'Ginger Beige Metallic/Dach nig', '\"dynamic\" grau', 'ORANGE CARIBBEAN', 'Alpin Weiß', 'Mangrove Green/ Phantom Black', 'PHANTOM BLACK', 'BLACK PEARL', '8P8 Dark Blue Mika', 'Grigio Scuro / Tetto Nero', 'White stripes', 'Ruby red', 'DIGITALWEISS - METALLICLACK', 'Stahl-Grau', 'Samtrot metallic', '714 (grijs metallic)', 'Onyxblack (zwart parelmoer)', 'Arktis Weiß Uni', '\"Magic\" schwarz', 'Silver Metallic (grijs metalli', 'Velvet-Rot Premium Metallic', 'BIANCO PASTELLO', 'Moonstonegrau', 'Schwarz-magic', 'WHITE SOLID ICE WHITE / Solid', 'Blau cosmos', 'Crystal Weiß-Perleffekt', 'Black sapphire metallic (zwart', 'Qabg', 'Gris / Plata', 'Graphite Grau Metallic', 'Rot passione', 'Mineral White', 'LACKIERUNG PLATINIUM-GRAU/TYP', 'Rojo emocion', 'MANUFAKTUR blanco diamant', 'Ivoire', 'Amarillo SOL', 'SCHWARZ - UNILACK', 'Quarz-Grau Metallic', 'Power blue /', 'GRIGIO MAESTRO', 'ROSÉ GOLD', 'Smaragd Grün', 'KOSMOSSCHWARZ - METALLICLACK', 'Negro Mineral', 'Blu Performance', 'Bright Silber-Metallic', 'Shimmering silber metallic', 'Fantastic Red TC', 'Quarz Grau Metallic', 'Grau Comete', 'Stahl-Grau Metallic (KNG)', 'Azul Tuanake (metalizado)', 'Chalk Beige Metallic', 'Precious Schwarz', 'Magnetiteblack Met.', 'Denim blue (blau)', 'Cappucinobeige', 'Kometen-Grau', 'Pazifik-blau', 'Titan-Blau Metallic', 'Ingnite Flame', 'Graumet.', 'BLAU NAVY', 'Tropical-Orange Metallic', 'Dezir-Rot / Dach Black-Pearl S', 'Grau/typ aussenverkleidung lac', 'Anthrazit grau', 'GRIS MINERAL', 'Platinium silber', 'Velvetrot Metallic', 'ISLANDGRAU', 'Dezir-Rot & BlackPearl Schwarz', 'Silver met.', 'Iridium-silber - lack', 'Noir etoile gne', 'Dezir-Rot Metallic', 'Blanco Nevada (metalizado)', 'Tungsten-silber', 'Diamant blau(m2) / diam silb', 'Cool Red / SOL', 'Stahl Grau', 'Grigio', '041 - BLANCO', 'SELENIUM GRAU  METAL', 'Guaranja Braun Metallic', 'Lack weiss perlglänzend/ dreis', 'Black Pearl-Schwarz', 'Dark Camouflage Metallic', 'OBSIDIEN/METALLIC-', 'Brązowy metaliczny', 'Flamerotmet.', 'OBSIDIAN-SCHWARZ-METALLIC', 'Silver METALLIC (M)', 'Ginger beige metallic/dach nig', 'SMARAGDGRUEN - METALLICLACK', 'Morning Blue', 'Plata Metalizado', 'BLACK MEET KETTLE MET-4 (507B)', 'Tungsten-Silber', '268|Bela Pastelna', 'Negro Agate', 'Moon WeiÃ\\x9f', 'LACKIERUNG ALUMINIUM-GRAU/-LAC', 'Rojo Race (sólido)', 'Arancione', 'BLANCO PL', 'Blackmagic-Perleffekt', 'Rubinschwarz', 'Casablanca/Arctic/Eis Weiss', 'Licht grijs metallic', 'Matt blau perleff.', 'BLAU \"MINERAL\"', 'Black magic perleffekt', 'INC', 'Nero Scorpione', 'Magnetic Force / MET', 'Plata', 'Bohemelila Metallic', 'Enigma black m', 'Grau matt', 'BLU ENCRE METALLIZZATO', 'Candyweiß', 'Performance-Blau Metallic', 'Stahlgrau Metallic', 'Granate', 'Phantom black. / mic', 'GRAU ERMITAGE', '\"Emocion\" Rot', 'Dynamic Orange', 'Hurricane Grau', 'Azul Magic Blue Metalizado', 'Opal Blau (MET)', 'Nachtblau mica metallic', 'Tropical-orange metallic', 'COMME NEUF!!!', 'Cosmos blau', '1Z \"Magic\" Schwarz', 'Schwarz met.', 'BLAU CALVI', 'Plata Iridio', 'PERLA NERA', 'BLEU', 'Desertislandbluemet.', 'Designo-mokkaschwarz', 'Nautic Blau Metallic', \"Onyx Schwarz ''\", 'BLEU METAL', 'Gris Pyrénéen', 'Ermitage grey (grijs metallic)', 'Licht Grau metallic', 'Crystal white', 'Ice gray metallic', 'Sunset-Red-Met.', 'BRILLIANT WHITE', 'BRILLANTBLAU METALLICLACK', 'SchneeWeiß', 'Mountain Grey', 'Silverdawn', 'Szary metaliczny', 'Pearl white', 'Smaragd Grün Metallic', 'BLUE (M)', 'Veloster Red', 'Marrone met.', 'ICE WHITE SOLID / Solid', 'Atacamaorange', 'Carbonized-grey', 'METALLIC-SCHWARZE LACKIERUNG/M', 'Sky Blau', 'Silky grey', 'SURFY BLUE', 'Ironblaumet.', 'Ice White', 'Magnetic-metallic', 'Steel-grau', 'Rojo metalizado', 'Young Gun / MET', 'Espresso Braun', 'Onyxschwarz metallic', 'Mondstein Grau/E:Vulkan Grau', 'Colore esterno (cinema schwarz', '727 pebble grey metallic', 'Matt grau', 'Chalk White  (metalizado)', 'Noir Onyx (O)', 'Urano grau', 'JUPITERROT - UNILACK', 'Ignite flame', 'GRAU', 'ULTIMATE-ROT METALLIC', 'OSMIUM GREY METALLIC', 'Brillant Weiß', 'Gelb', '1G3 marlingrau', 'Silver Fox', 'Onyx Schwarz (Metallic)', 'CALCITWEISS - UNILACK', 'Lackierung: Zweifarb-Lackierun', 'Black pearl-schwarz', 'Gris Colosseo (metalizado)', 'GRIS ANTRACITA', 'Weiss Metallic', 'Saphirschwarz  Mineraleffekt', 'Porcelaine metallic', 'FEUEROPAL - UNILACK', 'Obsidan-schwarz', 'ROJO', 'Argon Silber', 'BIXNN', 'BITONO GRIS ASCARI', 'Polar White Uni', 'Blanco Glaciar (opaco)', 'Blu', 'Magentic-Blau', 'Boheme purple', 'Magneticgrau Metallic', 'ATACAMA-ORANGE', 'SELENITGRAU - METALLICLACK', 'Onyx black  Metallic', 'IRIDIUM-SILBER - METALLICLAC', 'COLORE ESTERNO (DEEP CRYSTAL B', 'Mysticschwarz-met.', 'Black-magic perleffekt', 'Milano Grigio', 'LACKIERUNG MAGNETIC-BLAU/METAL', 'Dive in Jeju', 'Diamantweiß bright (designo-La', 'Manufaktur diamantweiß bright', 'Abalone Weiss / Weiß', 'Adria - blau - met.', 'Colore esterno (vesuvio schwar', 'Onyx-Schwarz Metalli', 'Bicolore Acquamarina Gelato We', 'Adria Blau', 'BLACK PEARL (M)', 'Performance Bleu', 'Lichtgrau Metallic', 'Schwarz-Uni', 'Beige Métal', 'Lack weiss perlglänzend/metall', 'BLAUW METALLIC', 'Phantom Black / Dark Knig (sch', 'Dipinto di blu blau', 'Panther-schwarz', 'Grigio vinci', 'Blackishbraun', 'Dunkelamethyst mica metallic', 'Solid White S?lido', 'Onyx Black-Metallic 717', '426 Silver metallic (licht zil', 'Energy Blau', 'Gris fonce', 'Sonderlackierung Quarzit-Braun', 'Iced Blue Silver Metallic', 'CHROMA BLAU (BLAU)', 'Gris tonnerre', 'Petrol', 'BRUN', 'Grijs mica', 'Chroma-blau', 'VERT OLIVINE', 'Crystal-Weiß', 'ROJO ENGINED RED', 'Dunkel Grau Metallic', 'Chili red / Night Sky black', 'Diamantweiss metalliclack', 'Black Pearl-Schwarz Metallic', 'Grey', 'Guacamole Weiss (Uni)', 'Silver Dawn metalizado', '614 Ice White (wit metallic)', 'GRIS PLATINE', 'Polar White', 'Rojo Rubí (brillante)', \"Diamant Schwarz ''\", 'Negro Onyx Metalizado', 'Grün Metallic', 'Iconic Silber', 'OBSIDIANSCHWARZ - METALLICLACK', 'Vesuvio schwarz metallic', 'VERDE PETROLIO', 'Weiß / Matt Blau foliert', 'Artense Silber Metallic', 'GRIGIO POMPEI', 'Race-Blau-Metallic', 'Städtisches grau', 'NERO METALLIZZATO', 'Ceramic White', 'Ruby-rot ()', 'Urban silber metallic', 'GRAU/METALLIC-LACKIERUNG', 'Colore esterno (pompei grau)', 'Stone Grey Metallic', 'PERSISCH BLAU', 'PALLADIUMSILBER - METALLICLACK', 'Arctic White', 'Gun Metal Gray', 'Himmel blau dreischicht-lackie', 'Blanc Lipizan', 'Nautik-Blau (Metallic)', 'Rouge Passione pastel', 'Enigma Black (M)', 'G41G Black Pearl (M)', 'BRILLANTSILBER - METALLICLACK', 'Cardamon Green (groen metallic', 'Orange', 'Emocionrot', 'Gris Magnetic metalizada fashi', 'Schneeweiss/summitwh', 'Lunagrijs', 'Lavablau - met.', 'X-BLANCO', 'Bursting Blue Metallic', 'AMARANTO BORDEAUX', 'Bianco ghiaccio', 'Montana-Grün', 'Asphalt Blau Metallic', 'COLORE ESTERNO (Carrara Grau)', 'MATCHA GREEN', 'AZZURRO METALIZZATO', 'Arktis-weiß (metallic)', 'Karbon Schwarz', 'Black Magic (donker zwart meta', 'ACEPTO VEHÍCULO A CAMBIO', 'Europablau  Mi2', 'Chili red / night sky black', 'Copper Braun Met.', 'Prominence red', 'Graphite-Grau Met.', 'Cyber grey', 'Kallaitgrün', 'CRYSTAL WHITE PEARL / Metallic', 'VALENCIA ORANGE', 'SILVER METALLIC / Metallic', 'MATIVOIRE', 'Encre blau', 'Metropolis-Weiß Metallic', 'Iridium zilver', 'Midnight Black/BLKN', 'Baltikum grau', 'IJZERBLAUW METALLIC', 'TITANIUM GREY PEARL / Metallic', 'Metallstreamgrau metallic', 'Perlmutt-weiß', 'Onyx zwart', 'Gris Eclipse (donker grijs met', 'Juniper blue / black', 'Gris Titanium', 'AZUL OSCURO METALIZADO', 'Blanco Oxford (sólida)', 'Eritrea Rot Metallic', 'Novaweiss Perleffekt', 'Eruption Green Metallic', 'ARTENSE', 'Black-magic-perleffect', 'Fusion-Rot Metallic', 'LACKIERUNG GRAU HARIA/METALLIC', 'Rosso', '714 Osmiumgraumetallic', 'Gris montagne', 'Schnee weiß (uni)', 'Brillantsilbermet.', 'CAMOUFLAGE GRN (Grün)', '197 obsidianschwarz met.', 'ARGENTO MET.', 'Diamant schwarz  metallic', 'Tan Brown / MIC', 'Black Midnight', 'Technicgrijs', 'Weiss / candyweiss zweifarbig', 'Anthrazitblau - metallic lack', 'Noir cosmos métallisé', 'Lunaire-Grau Metallic', 'Black Magic Perleffekt', 'Freedom-Blau Metallic', 'Magnetic-Grau', 'Orange met.', 'EMBER BLACK M / Metallic', 'Iridiumsilber metallic', 'Rot metallic', 'Grigio Platinum', 'POLARWEISS - UNILACK', 'GRIS COMETE', 'WEISS PERLGLÄNZEND/METALLIC', 'Inscription Crystal Weiß-Perle', 'Kosmosschwarz metallic', 'Gruen', 'Osmium / metallic', 'Denim blue', 'Azul denim metalizado', 'NEGRO SCORPIONE', 'Platingrau', 'Blu Iron', 'Business Grau', 'GRIS CERAMIC', 'Kalahari-rot-metallic', 'Azul Bursting Blue Metalizado', 'Licht wit parelmoer', 'SILVER (M) silbermet.', 'GRIS MONTANA MATE', 'Asphalt blau metallic', 'Pompei Grey', 'Rood parelmoer', 'Metaalkleur 714 osmium grey', 'BLU DIPINTO DI BLU', 'Aqua blue metallic', 'COMETE', 'Agate Black', 'Blau-grün-metallic', 'Gun-Metallic', 'Wit parelmoer', 'Obsidian Schwarz', 'WEISS BANQUISE/DECKENDE', '799- Diamantwit metallic', 'Weiß polarweiß', 'CAVANSITBLAU - METALLICLACK', 'Sunflower', 'Serenity White', 'BIANCO - 1', 'Bianco Madreperla -', 'Onyx black', 'Perlmutt Weiss Metallic', 'Rose Gold Metallic', 'CON ADESIVI RS', 'BLANCO.', 'Velocity blue', 'Nevada White', 'Mahogany Brown Metallic', 'Ung. Schwarz - Unilack', 'Red Passion', 'GRIS DORADO', 'Blu Ceramico', 'Pearl Black Metallic', 'Eremitage Grau Metallic', 'Dachfarbe schwarz', 'Donker bruin metallic', 'Azul Constelación (metalizado', 'Argento urban', 'Perlmutt-weiss metallic/dach i', 'Perl Blau/Voltaic Blue', 'Pompei Grau', 'Magnetic', 'Vivid Blue Metallic', 'Phantom Grau Metallic', 'Virtualblau', 'Glacier White', 'Perlmuttweissmetallic', 'Azul Lava (metalizado)', 'Bianco Kaolin [QPA] - Pastello', 'Nero pastello', 'Kein Klartext gefunden', 'GREEN MET', 'Steel Grey', 'Asteroid Grey', '717 onyx black metallic (donke', 'Lagun-Blau Metallic', 'Licht Grau M2', 'Race', 'Weiss / dazzlingwhite', 'Rouge - Noir', 'Negro Onyx (metalizado)', 'Smaragdgrün', 'OBSIDIAN SCHWARZ - METALLICLAC', 'Emocion red', 'Blu/Azzurro', 'FARBTON DER KAROSSERIE GRAU PL', 'Yamaha Black 2', 'GRIS ARGILE', 'Mojave zilver', 'Islandgraumetallic', 'BLANCO BANQUISE', 'Dark Knight Gray (mica)', 'Rubellitrot', 'Blanco Antarctique', 'SCHWARZ-METALLIC', 'GRAU HURRICANE', 'Performance Blue + Dach Phanto', 'Rouge Désir', 'Grau matt foliert (eig. pacifi', 'Universo Schwarz', 'Astral-silber', 'White', 'Nervada weiß', 'BURSTING BLUE / Metallic', 'Amarillo Grabber', 'Kiwi gr}n', 'Dive in jeju', 'Metaalkleur thunder grey (728)', 'Polarsilber (SILBER)', 'Electric Bronze', 'GRAU/METALLIC', 'Indic-Blau', 'CALCITWEISS', 'Micron grey / met', 'Arktis weiß', 'LACKIERUNG PLATINIUM-GRAU/META', 'BLAU PACIFIC', 'Pebble grey', 'TECHO NEGRO', 'Osmium Grey', 'Ice Grey', 'TUNGSTEN SILVER', 'AZUL VERTIGO CTRI-CAPAE', '\"Nevada\" Weiss', 'Kometengraumet.', 'Da', 'Indium-grau - metalliclack', 'Performance-Blau', 'Arktis-Weiß Metallic', 'Schwarz Perleffekt', 'Karbonschwarz Metallic', 'Blanco Banquise (opaco)', 'Sicilian Yellow', 'Azul Océano (metalizado)', 'Argento', 'Azul Mistery (metalizado)', 'Lucid-Rot Metallic', 'BLAZER BLUE', 'BEIGE', 'Licht wit metallic', 'Orange epy', 'Polar White / Red', 'Dark Blue', 'Kosmos-Blau', 'Quarz-Grau', 'Vari colori', 'LACK ONYX SCHWARZ', 'Cappucinobeigemet.', 'Rojo Oscuro', 'Black Magic', 'Burdeos', 'Race rot', 'Gris Emitage (metalizado)', 'Bronze Metallic', 'Topas Blau / Schwarz', 'FARBE ENCRE-BLAU', 'Moon Rock / MET', 'Polar Weiß', 'Noir', 'Energy-Blau', 'Citrinbraun Metallic', 'Sharkgrau', 'Ozean Grün Metallic', 'Noir Obscur', 'BRONZE', 'DARK GREY', 'GRIGIO POMPEI METALIZZATO', 'Phoenix orange / mic', 'Brun Ebène', 'Phantom Schwarz Mineraleffekt', 'Azul Race (metalizado)', 'Acero', 'Moon Rock (Grau)', 'Titaniumblau mica metallic', 'Bleu Célèbes (M)', 'Marlingrau Metallic', 'EMBER BLACK / Metallic', 'Perlmuttblau', 'Blanco Classic (sólida)', 'Colore esterno', 'ROUGE', 'Titan-Grau Metallic', 'Bianco Gelato tetto nero', 'Bleu Métal', 'Dezir- Rot  Metallic', 'Black Etoile', 'Sonderl. Race-Rot', 'Infernoorange', 'Iridium', 'RED MET', 'Dezir Rot Metallic', 'WEISS', 'Black Magic (1Z1Z)', 'Desire Rot Metallic / Dach Mag', 'Heritage alpineblau', 'NERO', 'NAUTIC BLUE   PEARL / Metallic', 'Iridiumgrau', 'Antracite', 'Unilack', 'Indisch Grau Metallic', 'Mineral grau', 'Städisches GRAU', '191 Kosmoszwart metallic lak', 'Black stone', '619 Rebel Blue', 'MINERAL-BEIGE', 'Fancy-grau', 'Cosmos black metallic', 'Rot', 'BLEU COSMOS METALLIC', '452 Sap. black', 'Gelato weiß / lunar grau', 'Tan Brown', 'Cappuccino-brown', 'Gris Lunaire Métallisée', 'ORIENTBRAUN - METALLICLACK', 'NEGRO MTL', 'PACIFIC BLUE (M)', 'Cardamon green/Dach nightsky b', 'D42', 'Jadeweiss', 'BLU SCURO', 'Nitrous Blue', 'Phoenix Orange Premium Metalli', 'BLANC NACRE', 'Diamant schwarz (metallic)', 'Blue Vertigo', 'Golden Congnac Metallic', 'Selenitgrau Shape', 'Phantom Black / MIC', 'SCHWARZ PERLA NERA/METALLIC-', 'WEISS NACRE (Weiß)', 'Azul', 'Mountain grey metallic', 'Calcitweiss - unilack', 'MERCURY SILVER', 'TUNGSTENE GREY', 'Kristall-Silber Metallic', 'White Crystal / MIC', 'Gris Montaña', 'Perlmutt Weiß Metallic', 'Obsidianschwarz - lack', 'METFA SCHWARZ PERLA', 'Argon silber metallic', 'Saphir grau', 'Kosmosschwarz Metallic', 'GREY HIGHLAND', 'Shadow Black', 'Otro', 'Colore esterno (passione rot)', 'Mamba Gruen (S)', 'Graffiti Grey', 'GRIS', 'OSCURO', 'Grigio opaco', 'Quarzblau metallic', 'Magma Rot (B)', 'Schwarz-Magic Perleffekt', 'Stahl-Grau Metallic', 'Selenite', 'Nacht Blau', 'Glacier silver /', 'Blanco', 'Ember Black Pearl', 'Intense Blue', 'Magnetic-grau ()', 'Samoa orange', 'Blanco Nacarado', '4AU :Silver Lightning M2', 'IRONBLAU', 'Orange Arizona', 'Ocean Grün Metallic', 'Corrida-rot', 'GRIGIO SCURO MET', 'GRAU COMETE METALLIC', '452 Black Sapphire Metalic (zw', 'Marlingrau metallic / Dach tok', 'EXTREMBLAU', 'Fiery Red', 'AMARILLO OVNI 99', 'Amarillo Sol', 'Platinum-Silver-Metallic', 'VERT', 'Comete Grey GCMN', 'KPNK-GRIS ACIER-MET', 'Blanc nacre  (licht wit)', 'PHANTOM BLACK / MIC', 'Gletscher-weiss', 'Bleu Malte', 'Ein Traum in Frost Weiß', 'Obsidan-schwarz-met.', '720 Bursting Blue (blauw metal', 'Pfeffer-Beige', 'Bleu', 'DIAMANTWEISS - METALLICLACK', 'WEISS BANQUISE', 'Delfingrau', '\"Estrella\" silber', 'LACK TURKISBLAU/METALLIC-LACKI', 'Hyazinthrot', 'Black solid (stone) / solid', 'TANSANITBLAU - METALLICLACK', 'Naranja Cuántico (metalizado)', 'kometengrau', 'GRAU \"COMETE\"', 'INK BLUE', 'Iridiumschwarzmet.', 'Aurora silver / mic', 'HIGHLAND GRAU', 'Arktis blau', 'Brilliant white (m)', 'Gris platinium', 'GRAU THORIUM/METALLIC', 'Silbersee/Perl Silber (M2)', 'Platinum-grau-metallic', 'Amazon grey / phantom black', 'Perlmut Schwarz Metallic', 'Matte Grey / SOL', 'Onyx Schwarz Metallic', 'Polarweiü', 'Blau sansibar', '95 Blau \"Mediterraneo\"', 'Reinrot', 'Rot/weiß', 'Royalblau', 'Taklamakan Orange EPY', 'SCHWARZ OBSIDIEN/METALLIC', 'Magisch zwart', 'WEIß', 'BLANCO GELATO', 'Frost weiß', 'Iridium-schwarz mica', 'NOIR PERLA', 'OLIVGRUEN MATT', 'Micron Grey Grau', 'Donker groen metallic', 'Verde Esmeralda', 'TENORITGRAU METALLICLACK', 'COLORE ESTERNO (ORANGE)', 'Gris Artense', 'Candy weis', 'Blanche ', 'Blauw metallic', 'Titaniumblau Mica Metallic', 'CAVANSITE BLUE', 'DENIMBLAU - METALLICLACK', 'Noir Onyx', 'Marina blue', 'AMETHYST METALLIC', 'Magma-schwarz', 'ZWART MET metallic', 'Black Sapphire Metallic', '\"Bila\" Weiss', 'Osmium grey metallic (grijs me', 'Manganbronze', 'Gris claro', 'Moondust Silver (Metallic)', 'Gris Sélénite', 'ONYX BLACK', 'Warm Silver', 'White solid   (ice white)', 'Blu Grigio', 'Maple braun metallic', 'Manhattangrau Metallic', 'Magic Blau', 'Dark matter', 'Zwart', 'Asteroid grey', 'Moonstone silber/&lt;-- Sond', 'Castano Braun Metallic', 'Freedome Blue', 'Blanc nacre', 'VERDE TOSCANA', '1G3 marlingrau metallic', 'Jade Weiss', 'METALLIC BLUE (M)', 'Stahlgrau metallic/schwarz', 'Gris Squale', 'Caspian Blue Metallic', 'Grijs metallic', 'COLORE ESTERNO ROSSO PASSIONE', 'Serenity white', 'Twister orange', 'Savile Grey (grijs metallic)', 'Orangemetallic', 'Dach schwarz', 'Pebble Grey', 'Titan Blu Metal', '\"Rodium\" Grau', 'Obsidian-schwarz-met.', 'Schneeweiss', 'Graphit grau/graffiti grey', 'Manufaktur patagonienrot', 'Cool White (licht wit)', 'Blau', 'Platingrau mica', 'Carraragrau', 'Celebes-Blau', 'PerlWeiss 3-Schicht', 'Rot opera bordeaux metallic', 'Chalk white / met', 'Chilli Rot Metallic', 'Tiefquarz grau', 'Silver dawn / metallic', 'Rojo Júpiter (sólido)', 'Weiss arktis', 'GRIS MATE \"SHELBY 650CV\"', 'Schwarz Glitzer-Lack', 'Beżowy metaliczny', 'Alpineblau', 'Tossa Blau', 'GRIGIO SCURO MET.', 'MUSSEL BLUE / Metallic', 'NERO PERLA', 'Light Blue Metallic', 'Faro', 'SchneeWeiss / Schwarz', 'Chromeblau', 'NACRE', 'Terracottabraun', 'Precious white', '\"Universo\" schwarz', 'Slate-grau', 'Nauticblau', 'Graphit grau', 'Gris Magnetic (metalizado)', 'Platin Anthrazhit Metallic', 'Lava-blau', 'DIAMANTSILBER METALLIC', 'Licht grau m2', 'Gold Metallic', 'Terracotta Braun', 'Perleffekt-Schwarz', 'Onycblack (zwart parelmoer)', 'Iridium-Schwarz mica', '\"mystery\" blau', 'Metalstreamgrau metallic', 'KWE  BLANC NACRE', 'Mahogany Brown (P2/SO)', 'Verde scuro', 'Young Gun  Matt', 'Juniperblue Metallic', 'Moon rock', 'Nitroblue', 'Patagoniërood metallic', 'Aluminium Silb/Kristall Silb', 'Schwarz obsidianschwarz metall', 'Blau \"Mediterraneo\"', 'Crystal White Metallic (wit me', 'Maple-Brown', 'Saphir blau', 'Karminarot-Metallic', 'Neon Gelb', 'GRIS URBAN', 'Black-Magic Perleffekt', 'Selenitgrau - Metalliclack', 'Selenietgrijs metallic', 'Stargazing-blau', 'Negro rubí', 'Hot Magenta', 'Magic Schwarz', 'Iron-blue-metallic', 'Magnetic-Braun Metallic', 'Gris Selenita', 'NOIRE PERLA', 'Mondstein grau', 'Diamant-weiÃ\\x9f', 'Noir Onyx Métallisé', 'Gris tenorita', 'Noir métal', 'Gray', 'Asphalt blau', 'Azul Virtual (metalizado)', 'Matte gray / mat', 'Rouge Scarlet', 'Italia blau', 'SCHWARZ / Dach Grau', 'Sandstone', 'GALAXISCHWARZ - METALLICLACK', 'Grigio scuro/tetto nero', 'Grigio Moda pastello extra', 'WHITE SAND', 'Grau mountaingrau metallic', 'Negro mágico (metalizado)', 'Birch light / metallic', 'White Solid  /  Ice White Soli', 'Blanco Gelato (Sólido)', 'Pearl White Pearleffekt/ Dach', 'Maple braun', 'Tiefquarz', 'Blanc Nacre (wit metallic)', 'Juniper blue / Night sky black', 'Mystic Olive', 'Power Orange', 'Highlandgrau-metallic', 'Toffee-Braun', 'Antiguablau  Mi2', 'Lucid-rot', 'Stone', 'Blanc gelato', 'METAL BLACK schwarz', 'Diamantweiss', 'Micron Gray / MET', 'Quartz Grey', 'Farbe weiss perle perlmutt/m', 'Polar white', 'Pompeygrau', 'Obsidian-Schwarz-Metallic', 'AMAZON GRAY', 'Chili Rot', 'Moeraki grey metallic', 'Classicweiß', 'Chilly Schwarz', 'Blau-met.', 'JUPITERROT', 'UNIVERS WEISS', 'TEALLITBLAU', 'Arktis-Weiß (369)', 'Pearl white (wit parelmoer)', 'Negro Noche (sólido)', 'Graphite', 'Magnetic Blue Metallic', 'Noir Etoile Metalic GNE', 'Rosso Seduzione tetto nero', 'Midnight-sky', 'Électrique', 'Nevada weiss', 'Nautikblau metallic', 'Manufaktur opalithweiß bright', 'Gris Moai (metalizado)', 'Jaune Faro', 'Mystik grau', 'Phantom Black Met.', 'Nerzbraun Metallic', 'Metallic', 'Carbonized-Grau Metallic', 'Lunaire-Grau', 'Gris Platinum (metalizado)', 'Thunder grau metallic', 'GRAU BOREAL', 'ROUGE KARDIO', 'Gulf Design', 'White sand', 'AZUL VERTIGO.', 'GraphitSchwarz', 'Polar weiss', 'Aqua sparkling / met', 'Star Dust', 'Mediterran blau', 'Smaragd gruen (mi)', 'Vesuvio Schwarz', 'Bleu Avatar', 'HYAZINTHROT - METALLICLACK', 'Bergkristallweiß', 'Schwarz-agic Perleffekt', 'BLANC BANQUISE', 'Blazer Blue', 'Nero Pastello', 'Ember Black (zwart metallic)', 'Twilight bronze / metallic', 'Bright Silver-Metallic 726', 'Mangrove Green / MIC', 'Ironblau', 'Platin-Grau', 'Rojo Tokio (perlado)', 'Org.rubinrot', 'Rojo Carmín (metalizado)', 'FUSION RED', 'WEISS QNCSCHWARZ', 'Ginger Ale Metallic', 'Nero Vesuvio', 'Midnightblackmet.', 'Black Sapphire Metallic (zwart', 'Brilliant Silver Metallic', 'Graphitgraumet.', 'ELBAIT GRUEN - METALLIC', 'Racerot Sonderlackierung', 'Blaumetallic', 'Dark knight / phantom black /', 'AZUL MAGNETICO', 'Indium grau', 'Niebieski metaliczny', 'Smaragdschwarz metallic', 'NOIR', 'Kontrast Grau', 'Royalblau/Royal Blue', 'Lipizianweiss', '019 Black Solid', 'COLORE ESTERNO', 'BLANCO PERLADO', 'Lack grau ermitage/metallic-la', 'Island-grau', 'Cavansitblau metallic', 'Magnetic Tech Grey (Grau)', 'Marlingrau met.', 'Estrella Silver Metallic', 'Kalahari-Rot', 'Berry Red/samt red und Cream W', 'Montblancweiss', 'Shadow Grey Uni', 'Blu Oceano', 'Schwarz 019', 'Mountaingrau magno', 'Moda Grau Met.', 'Ultimate Silver', 'Gris Hurricane', 'Gris Magno (pintura mate)', 'Titansilber', 'Sleek Silver (Silber)', 'Magnetic force / met', 'DIAMANTWEISS', 'Rojo vesubio (pintura boutique', 'ANTHRACITE', 'SCHWARZE LACKIERUNG', 'Black Shippire', 'Graphit Grau', 'Dynamic-blau', 'Iridium schwarz (metallic)', 'Pulse Red (perlado/metalizado)', 'Naranja', 'Nagoya-blau Metallic', 'GRIGIO MODA', 'Colore esterno (rosso passione', 'Polarsilber metallic', 'Rouge Braun', 'Wit metallic', 'Topas Blau', 'DARK METALLIC GREY', 'Hell Weiß', 'Cosmos Blau', 'Candy Weiss', 'Metalstream metallic', 'Karbon Schwarz (Metallic)', 'Dach sc', 'Silber-Grau', 'Obsidianschwarz (SCHWARZ)', 'GRAU/METALLIC- MIT SCHUTZLACK', 'Bourrasque-Blau', 'MANUFAKTUR mountaingrau magno', 'Taklamakan-Orange', 'Rojo Fuego (sólido)', 'MOUNTAIN GRAY - METALLICH FINI', 'Platin grau metallic', 'Blu pastello', 'Magma rot (b)', 'Black metallic (donker zwart m', 'Argonsilber Metallic', 'GRIS CLAIRE', 'DESIGNO-CHABLIS LACKIERUNG', 'Passion red solid / solid', 'AZZURRO', 'Sunset Red (mica)', 'Champagne Metallizzato', 'Indic-Blau Metallic', 'Velvet Red Met', 'Heidelbeerlila', 'Quarzit-Braun', '543 Black Two Tones', 'Lackierung olivgrün/typ aussen', 'Dynamic Grey (grijs metallic)', 'Splash cyan', 'Blanco Glaciar', 'Premium \"Quarz Silber\"', 'DIAMANTWEISS (Weiß)', 'Polar-silber metallic', 'ELECTRIC SILVER METALLIC / Met', 'Phantom schwarz', 'Urban Silber Metallic', 'LACK WEISS PERLGLÄNZEND/METALL', 'Business grau metallic', 'Rojo Lucid', '\"Pirineos\" Grau', 'Azul Oscuro', 'Passion Red', 'Sabbia', 'Panther-Blau Metallic', 'Schwarz nachtschwarz', 'Night Shade Metallic', 'Obsidian Black Metallic (donke', 'Samtrot /Dach weiss', 'Fire Red rot', 'Merlansilber mica metallic', 'Matte grey', 'Ice Gray', 'KTV - LACKIERUNG SCHWARZ PERLA', 'Arktis weiß 268', 'Titanium Beige', 'Azul Bourrasque (metalizado)', 'Polar silber', 'Antraciet', 'Diamant-weiß bright (designo-l', 'Boheme Violett', 'Velvet', 'Sterling Gray Metallic', 'Quarz grey metallic', 'Arktis Weiß', 'Rosso rubino', 'P2 - ROJO', 'Oceano Blau', 'Mineral grau met', 'Moon-Weiss Perleffekt', 'Azul Denim Blue Metalizado', 'Onyx-schwarz', 'Boheme Purple', 'LACK ASMARA ROT/METALLIC-LACKI', 'Violettmet.', 'Gris Campovolo', 'Pirineosgraumet.', 'Beige Silber', 'QUARZIT BRAUN', 'Perlmutt Schwarz', 'BIANCO MADREPERLA', 'Gris gallium', 'Kalahari-Rot-Metallic', 'Rouge passion', 'Feuerrot Metallic', 'Stahlblau-Metallic', 'Amazon Grey (grau)', 'Beigemet.', 'Sleek Silver', 'Negro Mineral (metalizado)', '##/fr/Blanc Oryx', 'Quarz-grau', 'Performance-blau metallic', 'Rally-Grün-Metallic', 'Bianco gelato', 'CUPRITBRAUN - METALLICLACK', 'AVATAR BLAU    METAL', 'White-sand', 'Ocean Blue (Perl)', 'VERDE BOSQUE', 'Obsediaanzwart metallic', 'COLORE ESTERNO (Pompei Grau)', 'LACK ONYX SCHWARZ/DECKENDE LAC', 'Polar White + Dach Phantom Bla', '\"candy\" weiss', 'Perlmuttweißmetallic', 'Black-Stone', 'Eis-Silber-Met.', 'Oro', 'ORANGE ARIZONA', 'Magnetic grau metallic', 'MANUFAKTUR diamantweiß bright', 'Perlmutt-schwarz', 'Magnetitschwarz metallic', 'Osmium grey /', 'Mussel blue', 'Linea Blu', 'Bianco Banchisa', 'LACK WEISS BANQUISE/DECKENDE L', 'Juniper blue / Night Sky Black', 'WV2 Sparkling Silver', 'Hyazinth rot', 'Colore esterno (moda grau)', 'Magnetic-grau met.', 'Moonstone Grau', 'Denim Blau-Metallic', 'Foresta grün', 'Tokio-rot perleffekt', 'Schneeweis', 'Ginger Beige Met. Bi-Color', 'Phantom Black Pearl', 'MAGNETIC SILVER', 'Orange Power', 'Teal blue', 'Kult Gelb', 'Mahogany brown (p2/so)', 'Moon weiß', 'Mineral-Silber Metallic', 'Schneeweiss/summitwhite/arct', 'IMPERIAL RED', 'Dragon red', 'Blaumet.', 'Agate-Black', 'Amazon Grey / MET', 'Metaalkleur 725 fusion red', 'Carbonized gray/asher gray', 'Shark Grey', 'Dark Knight grau', 'Cassiopee', 'Cavansitblau', 'Indium Grey', 'Ruby rot', 'Samoa Orange', 'SCHWARZ PERLA NERA/METALLIC', 'Phantombraun', 'ROJO MAGMA RED YR2', 'Silky bronze', 'K1 \"Velvet\" Rot', 'PASION RED', 'DESIGNO GRAPHITGRAU MAGNO', 'Iconic-Silber', 'TEAL', 'GRIS MONTAÑA', 'Grey Luxe (grijs metallic)', 'Perlmutt-Weiss /Dach Schwarz', 'Lackierung aluminium-grau/lack', 'BLEU AZURITE', '##/fr/Business Grey', 'GRIS COMETE METAL', 'Fantastic rot', 'Obsidianschwarzmet.', 'Perlmutt Weiss', 'Marlingraumet.', 'Roble negro braun', 'Groen metallic', 'Vapor Grau', 'Aqua Turquoise / MET', 'Artense Grau Metallic', 'Urban-Beige Metallic', 'Outdoor orange', 'Onyx schwarz metallic', 'Safran Orange', 'PERLMUTT SCHWARZ', 'Dark Knight Mineraleffekt', 'Standaardlak blanc lipizan', 'Karmina-rot metallic', 'Vertigo Blau', 'PLATA', 'G Manufaktur Monza Grey Magno', 'Brun Vison', 'Schwarz Metallic', 'Gris Grafito (metalizado)', 'GRIS  MTL', 'Gris-negro', 'Ford performance blue', 'Arktisblau Metallic', 'EMPIRE-GRAU', 'Azul tanzanita', 'Rubellitrot metallic', 'Graphitgrau magno', 'Azur Blau Metallic', 'N.ORLEANS BLAU', 'NEW RED (M)', 'Lucid-Rot', 'Basaltgrau mica metallic', 'Frost-Weiß (Weiß)', 'Bianco Madreperla', 'Osmium grey / metallic', 'Panther-blau', 'Grau pompei metallic', 'Mineral Grau Metallic', 'Blanc digital métallisé', 'Furious black metallic', 'Kometen-Grau-Metallic', 'Avantgarde bronze metallic', 'Asphaltblau metallic', 'Chilirot Mica Metallic', 'Alpine-blau', 'Weiss metallic', 'COLORE ESTERNO (Cinema Schwarz', '818 designo graphitgrau magno', 'Negro Shadow (metalizado)', 'Gris Métallisé', 'Olivine Grey', 'Energy-blau', 'ONYX SCHWARZ METALLIC', 'Perlmuttweiß', 'Tan Brown Mica', 'PERLMUTT-SCHWARZ', 'TIEFSEE BLAU METALLIC', 'Cashmere Brown', 'Bourrasque Metallic', 'Carbonized-grau', 'Nero etoile', 'Liseo', 'Race-blau', 'Tungstensilbermet.', 'PASSION RED SOLID / Solid', 'GRIS CLAIR METAL', 'Licht Grau', 'Performance blue', 'Platin Silber (M2)', 'Sodalithblau Metallic', 'Diamantsilber - lack', 'Black', 'Ironblau und Andere', 'Arktisweiss', 'Star-Weiß Metallic', 'Passione rot', 'HELLROT', 'Argon Silber/Ice Silver (M2)', 'Jaune Sirius (RS Only)', 'Rouge Désir métal', 'Bi-tono Rojo Tokio/Negro', 'Travertinbeige', 'Mitternachtschwarz', 'PFEFFER-BEIGE', 'Midnightschwarzmet.', 'Diamant Schwarz', 'Candy weiss', 'Indiumgrau Metallic', 'Steel Gray', 'Midnight schwarz', 'Highland-grau und schwarz', 'White Jade (Solid) (G2O)', 'AZUL CHROME', 'BIANCO', 'Opera Bordeaux metallic', 'Blanc Banquise', 'Performance-Blue', 'Capri Yellow (geel metallic)', 'Precious Silver', 'Vertigo Blau (Metallic)', 'Askotgrünmet.', 'Blanco Gelato', 'Platinum-grau metallic', 'BLACK SAPPHIRE METALLIC', 'Tiefseeblau', 'Kometen-Grau Metallic (KNA)', 'Verde Olivine', 'Phantom black mineraleffekt', 'Velvet rot metallic', 'ENGINE RED', 'Cappuccino-beige metallic', 'Iridium silver metallic', 'Schneeweiss/summitwhite/arctic', 'Pistazien-grün', 'Schnee-Weiss', 'Gris Selenium (metalizado)', 'GRIS CELESTINE', 'EMOCION', 'Adria-Blau Metallic', 'SCHWARZ PERLA NERA/METALLIC-LA', 'Dolomit-grau', 'GRIGIO ARTENSE', 'CAMOUFLAGE GRÜN', 'Perlmuttschwarzmet.', 'Grau selenitgrau metallic', 'Mysticschwarz mica / Dach weis', '718 CINEMA SCHWARZ', 'ICE SILVER (grijs metallic)', 'Argon silber/ice silver (m2)', 'Deep Black', 'Designo mountaingrau magno', 'Onyx-Schwarz', 'Nautic Blau / Blau', 'Cenote-Blau Metallic', 'Empire Grau Metallic', 'Stone-Brown', 'Arden Blau', 'ONYX BLACK / Metallic', 'Alpine bleue', 'GRAU HOLOGRAMME', 'Bruin', 'Taklamakan-Orange/Alabaster-We', 'NevadaWeiss', 'Pyrit-silber metallic', 'Iridium-silber - metalliclack', 'Iron Blau Dach Black Pearl Sch', 'Feueropal', 'ACTIVE BLUE METALLIC', 'Argent Polaire', 'Nautic Blue Pearl (blauw metal', 'STERNEN-SCHWARZ', 'Brilliant-Silber', 'Pannacotta (grijs metallic)', 'Mocca Brown Metallic', 'Weiss', 'Amarillo', 'TERRE D OMBRE/METALLIC', 'Ozean grün', 'Rojo Passione (sólido)', 'Bianco Pastello', 'Novagelb', 'Rodiumgrijs', 'Plata Luna (met)', 'Tiefsee blau', 'Chili rot/kardio rot', 'Noir Cinema', 'Grün Met.', \"Bordo'\", 'DESIGNO MAGNO', 'GRIS METALIZADO', 'Phantom Black Métal', 'MAGIC BLUE', 'Magnetic-braun', 'Muisgrijs metallic', 'Nagoyablau metallic / Tiefschw', 'Denim Blue m. C723E', 'Moondust Grey Metallic', 'Cubanitsilber - metalliclack', 'Negro Nacarado (metalizado)', 'Bronce Magnético (metalizado)', 'INGOT SILVER METALLIC', 'Cosmosblaumet.', 'Christal White', 'Blanco Diamante', 'Eclipse Orange Metallic', 'Gris Lunaire', 'Midnight', 'Midnight schwarz metallic', 'Dark Camouflage (Grün)', 'Deep Black Perleffekt', 'LACK GRAU THORIUM/METALLIC-LAC', 'Noir cosmos', 'Liquid-Weiß', 'BRIGHT SILVER / Metallic', 'Mystery blau metallic', 'Shimmeringsilbermet.', 'LACK ASCHGRAU/METALLIC-LACKIER', 'Perlmutt-Weiß', 'Empire-Grau Metallic', 'Panther Schwarz Metallic', 'Boundless Blue (licht blauw)', 'FARBTON DER KAROSSERIE BLAU NA', 'Mondstein Grau / Grau', 'Cappuccino beige metallic', 'CASPIAN BLUE METALLIC', 'Chilli Rot Met./Dach Diamant S', 'FARBE ISLANDGRAU/METALLIC-LACK', 'Aragonitsilber - lack', 'Schnee Weiß', 'Kollektions- & Individualfarbe', 'Bordeaux Opera', 'GRIS MODA', 'Frozen White (licht wit)', 'Arizona Orange', 'Elixir Rot metallic', 'PolarWhite/ Phantom Black', 'Platinum Silver Metalizado', 'Fiery red / mic', 'Starsilber  M2', 'Blanc Nacré', 'Vintage red', 'Lucid-rot metallic', 'Bleu Navy', 'Bianco Alabastro', 'Katsura orange (148)', 'Diamantweiß', 'PINE GREY', 'Indium-grau', 'White Sand / MET', 'Licht grijs', 'Perla-nera-schwarz-metallic', 'Panther Black (Metallic)', 'Onyx Schwarz', 'Grey Metallic', 'Creamy White', 'Lightning Blue', 'Saphirschwarz-Metallic 452', 'Burdeos Ópera', 'Diamant Schwarz Metallic', 'Fjord blue / metallic', 'Blanco Nacarado (3 capas)', 'Silber brillantsilber metallic', 'SILKY BRONZE', 'Gris Artense (metalizada)', 'Kosmosblau Metallic', 'Dipinto di blu Blau', 'Licht beige metallic', 'Platinum grey /', 'Grau Metallic', 'Grau OLIVGRÜN', 'COLORE INTERNO (GIAGUARO GRAU', 'Phantom Black', 'Rojo Pasión (brillante)', 'Diamant Schwarz/Karbon Schwarz', 'GRIGIO ALLUMINIO METALLIZZATO', 'Magnetic Tech Metallic', 'Platinum Grey Metallic', 'Cosmoszwart', 'Race Blau Metallic', 'Gris Givré', 'CUPRITE', 'Blu Mystery', 'Brun Vison CNM', 'Fluidic Metal Grey (Grau)', 'LACK TERRE D OMBRE/METALLIC-LA', 'Sodalietblauw metallic', 'Horizon Blue Metallic', 'Panther-blau metallic', 'Tungstene grey', 'BEIGE DUNE', 'Galaxy Gray Metallic', 'Platin Grau Metallic', 'Onyx Black Metallic (zwart met', 'FARBE SCHWARZ OBSIDIEN/-LACKIE', 'CELESTIAL BLUE PEARL / Metalli', 'Beige metallic', 'Fancy-Grau', 'Arktis', 'Graphite-Grau Metallic', 'Diamantweiß Metallic', 'Platinumgrey', 'Blanco Polar.', 'Verde Salvia', 'Mystery Blau Metallic', 'Lack grau artense/typ aussenve', 'Black Sapphire', 'BRILLANTSILBER METALLIC', 'ABYSS-BLAU', 'DENIM BLUE', 'Licht bruin metallic', 'Raven Black', 'Silky Bronze Metallic', 'Metalstreamgrau Metallic', 'Rood', 'Race blau', 'Hyazinthrot Metallic', 'Sleek silver / met', 'Pearl White', 'G41', 'Żółty', 'Ginger Beige', 'BRUN VISON', 'Dunkelgrau-met.', 'Passion Red Metalizado', 'SAVILE GREY / Metallic', 'Urban Silber', 'Crystal-weiss', 'RED (S)', 'Rouge Dyna', 'Berry Red', 'schwarz', 'Nevadaweissmet.', 'Brilliantschwarzmetallic', 'Hell Bronze', 'BLAU ECUME', 'YP5 - Intense Blue', 'VARIAS UNIDADES', 'GRIGIO COLOSSEO', 'Platinum Silver', 'Mystic green (507c)', 'Blue', 'Mountaingrijs Metallic', 'Bursting blue', 'METALLIC PAINT', 'Blanco Perlado', 'Rouge Flamme', 'Smaragd Gruen', 'DEEP IMPACTBLUE METALLIC', 'Artense silber', 'Arizona-Orange', 'BLACK (M)', 'Dynamic-blau metallic', 'BIANCO GHIACCIO', 'Polarweiß', 'Phantom Black / MET', 'Quarz-Weiß', 'DUNE BEIGE', 'Magnetic-Braun', 'Steel-Grau', 'Thunder grey metallic', 'Nevadasilber', 'Galaxy Grey Mineraleffekt', 'Anthrazit', 'Magnetic grey (grijs metallic)', 'COLORE ESTERNO Opera Bordeaux', 'Metropolis-weiß', 'Sansibarblaumet.', 'White cream / mic', 'Total Black', 'Lichtgrau', 'Grey Gris Cassiopee', 'Luxe Yellow', 'Blue Spirit', 'GRIGIO UNDERGROUND', '1E0 - x-gris oscuro', 'Kalahari-Rot Metallic', 'SAPPHIRE BLACK (M) schwarzmet.', 'Carbonschwarz', 'Kiwigrün', 'FARBE SCHWARZ', 'Chili Rot/Kardio Rot', 'Moon-Weiss', 'Blanco Candy', 'Grau cassiopee', 'Blau italia metallic', '##/fr/Bleu Lave', 'Kosmus-Blau', 'Sonderl. Nacre-Weiss Metallic', 'Smaragd Gruen (Mi)', 'Clean Slate', 'MAGIC BLUE / Metallic', 'Espectral', 'Perlmutt-Weiß Metallic', 'Lava Blau', 'Creamy White / SOL', 'DARK BLUE/METALLIC-LACKIERUNG', 'Rallye Grün Metallic', 'Blu metallizzato', 'Dark Knight', 'Gris montagne métallisé', 'BIANCO GELATO', 'Platinsilber metallic', 'NOIR PERLA METALLIC', 'LACKIERUNG BLAU CELEBES/METALL', 'Magic blue / metallic', 'Desire rot', 'Italia Himmelblau', 'Sombragrau metallic', 'Amazon-Grau', 'Stone Gray', 'Racing red', 'Karbon Silber/Shiny Grey (M2)', 'Agate-Black Metallic', 'Torino-Braun Metallic', 'Blau Cosmos Metallic', 'Mahogany Brown (P2', 'Lava Rot Brilliant', 'Cavansitblau Metallic', 'California gelb', 'Creme metallic', 'Diamante', 'Rood metallic', 'Sodalithblau/dach schwarz', 'Perlmutt white', 'POLAR WHITE/PHANTOM BLACK', 'Micron Grey Metallic', 'Saphir Grau', 'Gris Comète', 'Samtrot /Dach schwarz', 'Travertin-beige', 'Noire', 'Rosa', 'Sika Gelb', 'Red Passion / MIC', 'Obsidian-schwarz-mettalic', 'Titanblau - met.', 'Obsidianschwarz - metalliclack', 'Navachorot mica metallic', 'Argon Silber / Ice Silver (M2)', 'Diamant Blau', 'BRAUN + SCHWARZ', 'Metaalkleur 717 onyx black', 'Schwarz - Unilack', 'Grafiet Grijs', 'GRIS C', 'LACKIERUNG ULTIMATE-ROT/METALL', 'Banquise Weiss Metallic', 'Bianco madreperla', 'Blue Metallic', 'Sonderl. Kosmosschwarz Metalli', 'Acid yellow / mic', 'Feuerrotmet./blackpearl', 'Inscription Crystal White-Pear', 'Quarz weiß', 'Arden blau', 'ROJO TOKIO', 'Teal Blue', 'Candy White', 'Premium \" Schneeweiß \"', 'Negro Midnight (metalizado)', 'Manhattangrau metallic', 'Dkl.blaumetallic', 'Silver (m)', 'Iridiumschwarz', 'Pine Grey Metallic', 'Parelmoer wit', 'Valencia-Orange Metallic', 'Onyx Black Metallic', 'Colore NERO', 'Perlmutt-Schwarz', 'Bianco Gelato/ Tetto Nero', 'Obsidian black metallic', 'Grau metallic', 'R11 - ROJO', 'Indiumgrau', '476 blu brillante perlato', 'Metallic kosmoszwart', 'Spring-Grün Metallic', 'Cool red / sol', 'Tropic Green Pearl', 'Sonderl. Eclipse Orange Metall', 'Bright silver / metallic', 'Brillantsilber metallic', 'Mitternachtsschwarz', 'Black magic', 'Blanco Cristal (opaco)', 'Plata Iridio Metalizado', 'Magic Blue', 'Emotion rot', 'Aurora grey', 'Plata Brillante (metalizado)', 'Phantom Black Mineraleffekt', 'Velverot', 'Black-Pearl-Schwarz', 'Magneticgrau (GRAU)', 'Iceberg Silver', 'Technic Grau', 'Indigo blau', 'Dolomitbraun Metallic', 'Royalblau H: U2/F:Atlantikblau', 'TECHO', 'Starsilber m2', 'Mahogany Brown', 'Karbonschwarz Graphit Schwarz', 'DESIRE ROOD', 'Gris Metalizado', 'BLANC VANILL', 'Farbe weiss perle perlmutt/met', 'Aeroblau  Mi2', 'LACK QUARTZ GRAU/METALLIC-LACK', 'Lattementa grün', 'Pine grey / metallic', 'AZZURRA / CELESTE', 'Marine-Blau', 'Licht blauw metallic', 'Noir Etoilé', 'Schwarz vesuvio metallic', 'Kosmos zwart Metallic', 'Gallium Grau Metallic', 'White Solid', 'Star Dust Metallic', 'Starsilber III  M2', 'Titansilber mica met.', 'Abyss black / mic', 'AZZURRO NUVOLA', 'Zirrusweiß', 'Schwarzmetallic', 'Quarzgraumet.', 'GRIS PLATA', 'Urbansilbermet.', 'Turmalinbraun', 'Iridium schwarz', 'SILVER (M)', 'Bourrasque', 'Colore esterno (red (solid))', 'Celestial Blue perleffect', 'Sonnengelb', 'Sage Green Metallic', 'Karminarot/Schwarz', 'Dynamic-Blau', 'BLEU C', 'GRIS MONTAÑA MET', 'Perlmutt weiß', 'AZUL KYANOS', 'BRUN TERRACOTTA', 'Nevada wei', 'ONYX BLACK Metallic', 'Farbton der karosserie weiss g', 'Pompei Grau Metallic', 'Daytona Grijs metallic', 'GRIJS (zwart metallic)', 'GRIGIO MAESTRO (METALIZZATO)', 'Tiefquarz Grau / Quarz Silber', 'Blanco Diamante Bright', 'BLANCO', 'Gelato Weiß 296', 'Rojo Desire (metalizado)', 'Schnee weiß (uni) (weiß)', 'Grijs Metallic', 'Blanc Kaolin', 'Bleu Titane Métallisé', 'BLANC LUNAIR', 'Graphite grau', 'MANUFAKTUR hyazinthrot', 'Bela Pastelna', 'Race-rot', 'Dezir-rot / black-pearl-schwar', 'DEMIN BLUE', 'Absolut Black Mica Metallic', 'Grau &amp\\\\', 'Avatar Blau', 'Grau platin', 'Abalone Weiss', 'Kokusnuss Braun Metallic', 'Bleu de Prusse Bi-ton', 'Quartzgraumet./schwarz', 'Südseeblau Metallic', 'Donker grijs metallic', 'Jet Black', 'Magnetic Red', 'Shimmering Silver / MET', 'Plata Shimmering (metalizado)', 'Silber hightechsilber metallic', 'Gris Argenté', 'CRYSTAL WHITE / Metallic Perl', 'Indianapolis-Blau', 'NERZBRAUN', 'M Gulfstream Blue', 'Brilliantblau', 'SAFFRON PEARL / Metallic exter', 'Galaxy gray', 'Schiefer-grau', 'Vulcano Rot', 'CASPIAN BLUE', 'BRAUN+ SCHWARZ', 'Beige Ceniza (metalizado)', 'New red', 'Obsidianschwarz', 'Donker zwart metallic', 'Bright Silver-Metallic 711', 'Kometen-Grau Metallic KNA', 'Gris Monolito (metalizado)', 'Blazer blue', 'Titaniumgraumet.', 'ROT ADEN', 'GREY COMETE', 'Schaumweiß', 'Pure White / SOL', '619 Rebel Blue (blauw metallic', 'Topas Braun Metallic', 'Schwarz Unilack', '019 Techno Grün', 'Deep Schwarz Metallic', 'Arktis-Weiß', 'Gun Metallic', 'GLACIER', 'Magnetic Metallic', 'Diamantweiß bright', 'Thunder Grey Metallic', 'Licht rood', 'Gris Atlas', 'GUN METALLIC (M) graumet.', 'Mangabronze Metallic', 'Gunmetal Grey Metalizado', 'Schwarz NOIR PERLA NEGRA MET (', 'Novaweiß', 'Karbonsilber', 'Blackmagicperleff.', 'Donker wit', 'ROT \"PASSION\"', 'Surfy Blue/Phantom Black', 'Skyline Grey Metalizado', 'Cashmere brown met.', 'Cooper Braun Perleffekt', 'Arktis-Weiß 369', 'GRIJS METALLIC', 'Nero ink', 'Grabber-Gelb mit Design Streif', 'Weis', 'Onyxschwarz', 'Eclipse Orange', 'KORNBLUMENBLAU METALLIC', 'Zirkon-Blau Metallic', 'Black Pearl Metallic', 'DESIRE RED METALLIC', 'DARK METAL GREY', 'Kometen Grau', 'Mysticschwarz  Mica', 'Tenoritgrau Metallic', 'Weiß', 'FARBE:  PERLMUTT-SCHWARZ', 'CARBONIZED Grey', 'Atoll-blau', 'Magnetic grey', 'Brillantsilber', 'Asphaltblau/Schwarz Midnight', 'ZANZIBAR GOLD PEARL', 'Blanc Cristal', 'Frostweiß', 'Grey metalic', 'White Crystel', 'OXIDE BRONZE', 'Sternenschwarz Metallic', 'Gelato Weiss', '\"Magnetic Tech\"', '\"Urban\" Silber', 'Kosmosblau', 'Super Red (3P0)', 'Gris Baltique', 'Perla Nera', 'Nevada weiß', 'NOIR PERLA NERA (zwart metalli', 'Dark Sapphire', 'Racered', 'Chillired Mica / Night Sky Sch', 'Electric zilver', 'Arktis-Weiss', 'Nacré Wit', 'Mangrove green', 'Argon silber', 'BIANCO BANQUISE', 'Black Pearl (M)', 'Space White', 'Sika-Gelb-Metallic', 'Gris Metalizado (MOUNTAINGRAU', 'Denimblau metallic', 'VINCI', 'Raceblau - met.', 'Gris Plata', 'Saphirblau Metallic/ Dach Midn', 'CHIANTI-ROT', 'ROT/METALLIC KLARLACK', 'Fantastic red tc', 'Microngreymet.', 'Dezir-Rot + Schwarzes Dach (Ro', 'Perlmuttschwarz-metallic', 'Shimmering Silber Metallic', 'Brilliant white Metallic', 'Ash Black 93', 'Nachtzwart Unilak', 'Kontrast Grau / Quarz Silber', 'Granitgrau', 'Sunset Red (Mineraleffekt)', 'Intense blue/black', 'Indigoblau (P2)', 'Ginger Beige/ Dach nightsky bl', 'Platinium grau', 'Electric shadow', 'Sprint Gelb', 'Briljant blauw', 'Star dust', 'D5 AWD INSCRIPTION ** TODOS LO', 'Metalstreamgrau metallic / Dac', 'COLORE ESTERNO (Moda Grau)', 'Bleu Horizon', 'Schwarz Perla', 'Sedona-orange', 'Polar weis', 'Negro Sólido', 'Purered', 'Highlands grey', '326 Cristal White', 'Jade Weiß/Arktis Weiß', 'Deep schwarz perleffekt', 'Mediterraneoblaumet.', 'Cuarzo', 'Pianosaweiß', 'Space white', 'Brilliant-silber metallic', 'Empire Grau', 'Black-magic-perleffekt', 'Rubin Rot Metallic', 'Ruby Red (Metallic)', 'Tenebro-Schwarz', 'Blue Sera (blauw metallic)', 'MATT GREY', 'Gris Cassiopée', 'Quarz silber', 'Peinture spéciale rouge jupite', 'Graphit-Grau', 'Sirius', 'Grigio Metallizzato', 'Tiefschwarz metallic', 'Liquid Weiß', 'GRIS CASSIOPEE METALLIC', 'Quarzit-Braun-Metallic', 'MAGNETIC BLU METALLIZZATO', 'GLACIER WHITE (S)', 'Fantastic Rot-Metallic', 'NOIR METALLIQUE', 'Whtie METALLIC', 'Caspian blue /', 'Rouge foncé', 'NON-METALLIC COLOR PAINT', 'Titanium Grau Metallic', '\"Lava\" Blau', 'Hellblau', 'Tomato Red', 'Tiefquarz Grau/Quarz Silber', 'SHINY ROCK MET', 'Agate-black-met', 'GUN METALLIC (M) KADG', '\"Candy\" weiss', 'IMPECABLE!!!', 'Galaxyblau metallic', 'Stahlblau', 'Thunder Grey', 'Ice gray', 'GRIS MAESTRO', 'NOIR CINEMA', 'GRIGIO SCURO METALLIZZATO', 'FADED DENIM (M)', 'Titanblau Metallic', 'Schimmering silber metallic', 'Diamond Black Metallic', 'AZUL CONSTELACION', 'LACK WEISS PERLGLÄNZEND/TYP AU', 'Urban Silber Metallic / Dach M', 'PRECISION GREY METALLIC', 'Panorama Blue', 'Phantom Black.Metallic  / MIC', 'Quarz Grau Perleffekt', 'Arktikweiß', 'OBSIDIANSCHWARZ - METALLIC', 'FIERY RED', 'MARMAR', 'Blu Venetia', 'Colore esterno (colosseo grau)', 'Cosmic-Silber Metallic', 'Iridium Schwarz Mica', 'Magnetisch Braun', 'Obsidianschwarz metallic', 'Gris Maestro', '477 Electric Silver Metallic (', 'Oxide Brons', 'Colorado Rot', 'Vert Normand (Hellgrün)', '. (Schwarz)', 'Schneeweiss & Saphirschwarz', 'Stellar Blue / MET', 'Red passion', 'Morning blue', 'Warm gold', 'Dipinto di Blue', 'Selenium Grau Metallic', 'BLANC QNC+ NOIR GNE', 'Grau graphitgrau metallic', 'Velvet Rot Premiummetallic', 'WEISS GLACIER', 'Venom-grün', 'Corrida-Rot', 'SCHWARZ PERLA NERA/ME', 'GRIS RAIN FOREST R2F', 'Manganbronze metallic', 'Czarny metaliczny', 'Ozean Grün', 'GRIS OSMIUM', 'Titan Blue Metallic', 'Rojo Rapid', 'Weiß-Uni', 'Black-MAgic-Perleffekt', 'Gris Carbonizado', 'Arktis Weiss/Schwarz', 'Donker Onyxzwart metallic', 'Celestial Blue', '\"Lima\" grün', 'Naj new red', 'Aria 51', 'Laserweiß', 'Plateado', 'GUN METALLIC', 'Pirineos Grau', 'Abalone Weiss (P3S)', 'Royalgraumet.', 'PREMIUM ULTIMATE YELLOW (S)', 'Blau / azuriteblau', 'KIWI-GRÜN', 'Bright Silver Metallic (licht', '\"Velvet\" Rot', 'NOIR METAL', 'Intense blue', 'Gris Amazonite (metalizado)', 'RACING BLUE (M)', 'Race Red', 'Emocion rot', 'AZUL DARK BLUE.', 'Tomato Red / SOL', 'Black-pearl schwarz', 'Tundra-Grün Met./Nacht-Schwarz', 'Rood mica', 'PULL ME OVER RED SOLID-4(432B)', 'Antrazitblau', 'Rojo Race', 'GLETSCHERWEISS', 'Teal blue / met', 'Beige Metallic', 'Karbon Grau Met.', 'Licht Grau Metallic', 'Graphit-Schwarz-Metallic', 'Quarz Silber', 'Brisbane Braun (Met.)', 'NACHTSCHWARZ - UNILACK', 'Dark Brown', 'Champion Blue / MET', 'BLACK SAPPHIRE / Metallic', 'Vesuvio Schwarz Metallic', 'Stahl-Grau/Black Pearl-Schwarz', 'SCHWARZ PERLA', 'Nevada weiß/midnight schwarz', 'BLUE RQH + BLACK GNE', 'Akrtis Weiß', 'Platin-Grau Metallic', 'Plata hightech', 'Tiefquarz/Quarz SIlber', 'ROUGE FUSION', 'Frost-Weiß', 'Seattle blue', 'Ocean view', 'Haria grau', 'Perlmutt-Schwarz-Metallic', 'Diamant Schwarz / Schwarz', 'GRIS PLATEADO', '714 Osmium Grey (grijs metalli', 'Artense grau', 'Polar white / phantom black /', 'Designo hyazinthrot', '\"Apolo\" blau', 'Titanium-Grau', '\"ORIX\" WEISS', 'Dynamic grau metallic', 'Grey  Grau', 'Titanium', 'NEGRO', 'Midnight-Schwarz Metallic', '019 black stone solid', 'Gris clair', 'VIOLA', 'FEUERROT', 'Nero Metallizzato', 'Silver met', 'Gris Perle', 'Schwarz-magic perleffekt', 'KONA BLUE METALLIC', 'Pearl White Perleffekt', 'BRIGHT SILVER METALLIC', 'Designo graphitgrau magno', 'Lack grau artense/metallic-lac', 'Dawn Blue', 'PEARLWHITEMETAAL', 'Ice White 614', 'Gris Osmium Metalizado', 'Bossa nova weiß', 'Geel metallic', 'CASABLANCA Weiss&Graphit Schwa', 'Zirkon-Blau', 'Tomato Red Uni', 'Montblancweiß perleffekt', 'G manufaktur graphit', 'Blanco mate', 'BLANCO GARA', 'FARBE ROT ADEN', 'Sonic Blue / SOL', 'CASPIAN BLUE / Metallic', 'Chroma-Blau Metallic', 'Blazer-Blau', 'Velvet Rot Metallic', 'HORIZON BLUE', 'UNG. SCHWARZ - UNILACK', 'AZUL RAYO', 'Negro Noche Magno', 'NARANJA', 'Midnight Schwarz', 'Rose Gold (metalizado)', 'Berry Red/Dach Onyx Black', 'GELAB WEIß', 'LACKIERUNG ALUMINIUM-GRAU/META', 'Plata polar (silber)', 'Stargazing Blue Metallic', 'Gris Fighter Jet', '9P Candy-Weiss', 'Race-Blau Metallic/Schwarz-Mag', 'SCHWARZ MET.', 'Denim blue metallic (blauw met', 'Blanco polar', 'BLACK SAPPHIRE METALLIC (donke', 'Mystic', 'CAVANSITA', 'Grabber Blue (Sonderlackierung', 'Savile Grey  Metallic', 'Blu Italia metallizzato', 'RACE-BLAU', 'Platinum Grey-Metallic 731', 'Nagoyablau', 'GRAU COMETE', 'Colore esterno (arctic white (', 'GRIGIO SCURO/TETTO ROSSO', 'Pulse Red / MIC', 'Negro Azabache (metalizado)', 'Mahagonibraun', 'Manhattan Grey', 'GUN (M)', 'CAPOTA RIGIDA ELECTRICA', 'Zwart metallic', 'Candy-rot metallic', 'Onyx Schwarz Met.', 'Blau mediterraneo', 'GRIGIO UNDERGROUND (VR-695/A)', 'Gris Midnight (metalizado)', 'COSMIC WHITE METALLIC / Metall', 'Schwarz (black-clearcoat)', 'GRIGIO POMPEI/CAPOTTA NERO', 'Diamantweiss - lack', 'Platin Grau', 'Energy Blue Dynamic Metallic', 'Tansanitblau', 'NERO SCORPIONE', 'PERL-BLAU', 'Azul Marino', 'Laser-weiss', 'Novaschwarz Metallic', 'Rubin Rot', 'Rojo Rubí (sólido)', 'Metaalkleur onyx black (717)', 'Blu dipinto di blu', 'Noir Métal', 'Cavansitblau - metalliclack', 'Steel grey', 'Blaugraumet.', 'Verde Lima', 'Superrot', 'Grigio colosseo', 'Gris', 'Blazer-blau', 'Chili rot', 'Candy-Weiß Uni', 'Valencia-Orange', 'Cyber Grey', 'Cosmic white/Java', 'CRYSTAL WHITE / Metallic', 'Diamant Blau(M2) / Diam Silb', 'Gris Phantom', 'WHITE SOLID', 'Pazificblau', 'Blanco (sólido)', 'Bianco Nevada', 'Lichtsilber  M2', 'Avantgarde-bronze', '426 Silver Metallic', 'Colore Esterno Gelato Weiß', 'WEISS \"NACRE\"', 'Sodalithblau metallic / Dach s', 'Gulf Blue', 'Diamant-silber-grau', 'SchneeWeiß / Black', 'MANHATTAN GREY', '\"Eclipse\" Orange', 'Business Grau Metallic', 'WHITE SOLID     ICE WHITE', 'Blackmagicmet.', 'BLANCO POLAR', 'CHOCOLAT', 'Phantombraun Metallic', 'Crystal white pearl', 'Bambusgruen', 'Designo selenitgrau magno', 'New-silver', 'Grau colosseo metallic', 'GRIS MEDIO MET.', 'Ice white', 'GRIS MARS', 'Moon Rock (metalizado)', 'Mountaingrau - met.', 'Black Pearl (Schwarz)', 'Rosso Passion', 'MOUNTAINGRAU - MET.', 'IRIDIUM-SILVER', 'Cosmic-silber metallic', 'Brilliant White Metallic', 'Nachtschwarz - unilack', 'Permutt-Schwarz', 'DESIGNO PLATIN MAGNO', 'DARK HIGHLAND GREEN', 'Kobalt Blau/Vertigo Blau', 'Mitternachtschwarz Metallic', 'NAUTIC BLUE   PEARL', 'Ironblau/black pearl met.', 'Coridarot', 'Iridium-silber', 'Tiefschwarz 218', 'Magno Selenite Grey', 'DEEP-BLACK PERLEFFEKT', 'MARRON TOPAZ', 'Shimmering silver', 'Blanco Gelato sólido', 'Warmgold Metallic / Schw. Dach', 'Cream White', 'Karminarot metallic', 'Verde metallizzato', 'THORIUM/METALLIC-LACKIERUNG', 'Atlas blau', 'Platinum grey', 'Ultrablau  Mineraleffekt', 'TUNGSTENE GREY (M)', 'Sicilia Orange', 'Ultimate-Green Metallic', 'Blanco Candy (sólido)', 'Terrakota Braun Metallic', 'Schwarz mica /lila foliert', 'Performance-blau', 'Chroma-blau-met.', 'GRIGIO PLATINUM', 'Black Metallic', 'Passion red', 'POLA', 'Vase Green Metallic (groen met', 'PERLATO', 'ALUMINIUM-GRAU/MIT SCHUTZLACK', 'Atacama-orange', 'Platinum Grau Metallic', 'Weiß- Dach Schwarz Metallic', 'Mysticschwarz mica', 'Highland-Grau', 'Denim Blue metallic (blauw met', 'DIAMANTE PERLADO', 'Pirineos grau metallic', 'Novaweiß perleffekt / dach sch', 'Ultrablau  Mi2', 'BE STYLE PARIGI', 'Aqua Sparkling / MET', 'Noir Etoile', 'Polar Silber', 'Graphit-Grau Metallic (KAD)', 'Sleek Silver / MET', 'Arizona-Orange+Elfenbein-Weiß', 'Colore Esterno', 'Nitro blau', 'Hydro Blue (blauw metallic)', 'Whitesandmet.', 'GRAU THORIUM', 'Savile grey', 'JET BLACK (M)', 'Platinum silver', 'Mussel Blau-Metallic', 'White/blue Stripes', 'Black Sapphire metallic (zwart', 'Silver Metallic', 'Silky bronze / met', 'Gris Aluminium', 'SELENITE GREY', 'Marlingrau 1G3', 'DIAMANTSILBER - METALLICLACK', 'GRIS COOL SILVER', 'Mineral weiss', 'Warm gold metallic / dach sch', 'Kometen Grau Met.  KNA', 'Blanc Nevada', 'Blanco Ion (sólido)', 'Polar-Silber', 'ARCTICWEISS', 'Designo platinschwarz metallic', 'Lava rot', 'Seduzione rot', 'Schwarz gne + grau kqg', 'Karminarot Met. / Dach Schwarz', 'Sleek Silver Metallic', 'Silber / silbergrau', 'Tokio fusion rot metallic', 'JET BLACK (METALLIC)', 'Cosmos', 'Warmgold met.', 'Amazonite grijs', 'Schwarz Grau', 'Polarsilber Metallic', 'Slate Grau', 'Gris Acero (metalizado)', 'Cashmere Brown / MIC', 'Mambo gelb', 'Atlasweiss', 'Silber (M)', 'Race-blau metallic', 'Lackierung schwarz perla nera/', 'Diamant Blau (Metallic)', 'Slate-Grau Metallic', 'Metaalkleur 723 denim blue', 'Chalk White (metalizado)', 'Performance Blau (Blau)', 'Chili Red/ Black', 'Fluidic metallic', 'Nera', 'Quarz Silber Metallic', 'Braunmet.', 'Moon weiss perleffekt', 'Atlas white / sol', 'Premium ,,Quarz Grau\"', 'Nevada Weiss', 'Ceramic Grey', 'Azul Báltico', 'ROJO GINDA', 'DESIGNO-MYSTICROT LACKIERUNG', 'Crna Metalik', 'GRIS ETOILE', 'White Pearl (wit parelmoer)', 'Quarzgrau( F6F6)', 'Black Sapphire (zwart metallic', 'Ocean view metallic', 'NERO MET/PELLE-TESSUTO BICOLOR', 'MOUNTAINGRAU - METALLICLACK', 'BLU NOTTE', 'Azul Cosmos (metalizado)', 'Magnetic tech mattgrau', 'Agateblackmet.', 'WHITE SOLID ICE WHITE', 'Magic Blau-Metallic', 'Selenitgrau', 'Midnight schwar', 'Azul N Performance', 'Schwarz-Schwarz-Magic Perleffe', 'Marrón chocolate', 'Stahlgrau', 'Cappuccino Beige Metallic', 'Colore esterno (carrara grau)', 'Braun Metallic', 'Peinture Bleu Iron', 'Steel Gray / MET', 'Chocolate-Braun/Dach schwarz', 'dach schw', 'Varios', 'Adria-Balu Metallic', 'Iridium-schwarz metallic/', 'THUNDER GREY', 'Venezia blau', 'AZUL', 'Yellow Faro', 'Pyrénées-Weiß', 'Jade  Weiß (Uni)', 'Grau / steelgrey', 'Camin-Red', 'Velvet Red', 'Selentgrau', 'URBAN GREY', 'ORANGE VALENCIA', 'Andere', 'Perla Nera (zwart metallic)', 'Gris Grafito (met)', 'SMARAGDGRUEN', 'Bi color', 'Stahl-Blau', 'DARK NIGHT', 'Juniper blue / night sky black', 'Grün', 'Campovolo Grau', 'Bleu Iron', 'Furious black mica', 'FARBE SCHWARZ OBSIDIEN/METALLI', 'POLAR', 'Moon Weiß Perleffekt', 'BLANCO TIERRA WHITE SAND Y3Y', 'Moondustblau', 'Moon Weiss', 'Platin Anthrazit Metallic', 'Celebes blau', 'Luminous Sand m.C719E', 'Gelato Weiß', 'Sapporo White S?lido', 'HIGHLAND GREY (Grau)', 'Obsidiaanzwart Metallic', 'BLEU F', 'Savile Grey Metallic', 'Lack weiss banquise/deckende l', 'Chilli Red Perleffekt/Dach nig', '47400 Celestial Blue (blauw m', 'Espresso Braun Metallic', 'Diamant-Weiß Bright Designo-La', 'COLORE ESTERNO/Scorpione Schwa', 'Magnetic blue', 'Carmin Red Metallic', 'Schwarz met', 'Rafal-Grau + Dach Black Pearl-', 'Gris oscuro', 'ETAT IMPECABLE!!!', 'Stone Grau', 'GRIGIO CARRARA', 'Oranje metallic', 'AZUL CAVANSITA', 'Gris Osmium', 'Blanc Nacre', 'Magnetic-grau (metallic)', 'Magnetic-Grau-Metallic', 'Cyber Orange Metallic', 'Powerrot  B', 'Negro Brillante (metalizado)', 'Jaune', '218 tiefschwarz mica metallic', 'Magnetic grau m', 'Tiefquarz Grau', 'Gris Gallium (M)', 'Gris Clair Métal', 'Beigemetallic', 'Nautic blau', 'Nevada/Moonweiß Metallic', 'Dark-Knight', 'Mineralweiss/Ice Grey (M2)', 'Indigo Blau', 'Rouge Intense', 'Montana grün', 'Solid White', 'ORIENTAL BLUE MICA', 'Savile Grey', 'Carbon', 'Ocean Green Metallic', 'Candyrotmet.', 'CAVANSITBLAU -', 'WHITE METALLIC', 'Crystal white pearl / metallic', 'Tropic Green', 'Obsidian Schwarz Metallic', 'Noir ', 'PEPPER DUST MET', 'ICE WHITE', 'Micron Grey', 'Osmiumgrey', 'Space Grey', 'Beige/Beige', 'Plat.Anthr.', 'GRIS OSCURO', 'Ultimate Rot', 'Brillant-Silber Metallic', 'Rojo Velvet', 'GRIS ARTENSE MET (510C)', 'Tungsten-Silber Metallic', 'Mondstein grau/e:vulkan grau', 'BLAUWMETAAL', 'Maplebraun - met.', 'Premium \"Candy\" weiss', 'FLAMENCO RED / Metallic', 'Titan Grau', 'FORCE RED METALLIC', 'Kalahari-Braun Metallic', 'Oxygenblau mica', 'Atoll-Blau', 'LACKIERUNG SCHWARZ PERLA NERA', 'Diamante bright', 'CAVANSITBLAU  - METALLICLACK', 'Grabber-Grün Metallic', 'Valencia-orange', 'Weiß Sonderlack', 'Iron-Blau', 'NOIR cinema', 'Carrara Grau', 'Lava-blau met', 'Matte Grey', 'GRAFITO', 'Colore esterno (dipinto di blu', 'Smaragd Grün Perleffekt', 'Mythosschwarz', 'FARBE BLAU RECIFE/METALLIC', '\"Mediterranean\" Blau', 'Titanium-Grau Metallic', 'Bronze', 'Iridium-schwarz', 'Kobalt blau', 'Rouge Métal', 'Megma-rot', 'MANUFAKTUR spektralblau magno', 'Brilliantsilbermet.', 'Montaña Magno', 'Lackierung platinium-grau/meta', 'Designo graphit', 'SAMBA RED', 'Noche', 'Tiefsee Blau', 'ROJO FUSILN', 'Mato-braun metallic', 'Schneeweiß', 'Bi-tono Negro Azabache/Ambar', 'Magic Blue-Metallic 467', 'Liquid-WeiÃ\\x9f', 'Tenoritgrau Metalliclack', 'Canyon-Braun (Metallic)', 'Negro Noche (estándar)', 'Ristrettobraun', 'Dolphinblau metallic', 'Weiß metallic', 'GRIS PERLE', 'Black Sapphire metallic (donke', 'ROSSO', 'Quick Silver Metallic', 'Negro Noche', 'Obsidianschwarz - Met...', 'CARNEOLROT - METALLICLACK', 'ANTIGUABLAU', 'Rotmet.', 'MANUFAKTUR selenitgrau magno', 'Palladiumsilber - metalliclack', 'GRISB FONCE', 'ROJO RIOJA', 'BARENTS BLUE PEARL', 'SMALT-BLAU/MIT SCHUTZLACK', 'Bronce', 'Engine red / sol', 'Samtrot (P2)/Berry Red (P2)', 'Micron gray / met', 'Magnetic Braun', 'Performance blau', 'ELG Lackierung Cuprite', 'Vulcanorot / Dach schwarz', 'Gris Technic', 'Denim Blue Metalizado', 'BLACK METALLIC', 'Magenta metallic', 'Shimmering Silver', 'WEISS NACRE', 'LACK GRAU SHARK/METALLIC-LACKI', 'Signal Rot', 'Graphitgrau Metallic', 'Nero metallizzato', 'Teracotta', 'Merlot Rot Metallic', 'Luna grey', 'Gris Montebello', 'ARGENTO METALLIZZATO', 'GRAU HARIA2/METALLIC', 'Blue Avatar - Metall', 'VELVETROOD', 'Mondsteingraumet.', 'Grabber-GrÃŒn', 'Iron Blau', 'Amazon Grey', 'Blanco Pearl White (metalizado', 'GREY', 'CROSSOVER SCHWARZ', 'Célèbes Blauw', 'Calcitweiss', '\"Emocion\" rot', 'Designo mysticbraun bright', 'Jade weiss/arktis weiss', 'STAHLBLAU', 'Brillant blue', 'Royal Blau', 'BLEU CELEBES', 'Grigio Artense', 'Azzurro', 'Rauch-Blau + Dach Black Pearl-', 'Flamenco Rot-Metallic', 'Czerwony', 'GRIS PLATINIUM', 'Irisé Weiß', 'Pure white', 'MOUNTAINGRAU', 'Diamant Blau Metallic', 'NOIR ETOILE METALLIC', 'Colore esterno (jet black ())', 'P71Z - VERDE RALLY METALIZADO', 'Midnightschwarz mica', 'Obsidiaan zwart metallic', 'Lightning Yellow', 'Black solid / solid', 'Bursting Blau', 'SAVILE GREY', 'Designo opalithweiß bright', 'Liquid weiss', 'KUA - LACKIERUNG GRAU HARIA', 'Arrancia sicilia', 'Perl Blau', 'ULTIMATE-ROT/METALLIC', 'Laser Weiß', 'Gris Delfín (metalizado)', 'Metallic-schwarze lackierung/m', 'Crystal schwarz', 'Dark knight / mic', 'BRONCE METALIZADO', 'Grigio metallizzato', 'Blackberry Metallic (paars met', 'Indigoblau', 'Novaweiss Perleffect', 'Schnee weiss', 'TOURMALINE', 'TITANIUM OLIVE (M)', 'Sand Beige', 'Galaxy gray / phantom black ro', 'BRONCE MAROC', 'Quarzsilber', 'Basaltgrau Metallic', 'B4 \"Candy\" Weiss', 'Black-pearl-schwarz', 'Colore esterno (jet black (met', 'Infero Orange', 'Gris Clair METAL', 'Absolute black', 'NEGRO NACARADO', 'Obsidianschwarz-metallic', 'OYSTER GREY (M)', '732 Black Pearl Metallic', 'Donker Obsidiaanzwart', 'Schwarz', 'Azul Zanzíbar (metalizado)', 'Negro (metalizado)', 'Alpine blau', 'Fluidic metal / met', 'Sport gelb 535', 'Dezir-Rot und Schwarz', 'Nero cinema', 'Grau comete', 'Magnetisch braun', 'Phoenix orange', 'Brillantblau lack', 'Conquer Grey', 'Grigio chiaro', 'Gunmetal Grey (metalizado)', 'Gravity Gold', 'Kokosnuss Braun', 'Mojito green', 'Arktik-Weiß', 'Colore esterno gelato weiss', 'BURNT ORANGE (M)', 'Phantom braun', 'Night Sky Black', 'Gris Tenorita (metalizado)', 'ORANGE FUSION', 'PALLADIUMSILBER', 'Palladiumzilver', 'Grey comete', 'Moon Rock', 'Cosmicgrey', 'Pebble Grey Metallic', 'Verde Olivine Metalizado', 'Magnetic Grau Mettalic', 'Pearl white / black', 'Gris Magnético', 'THUNDER GARY', 'Amethyst Violett', 'COLORE ESTERNO (BLU CARISMATIC', 'Schiefer-Grau', 'BIANCO/ROSSO', 'Irridiumzilver (licht grijs)', 'Brillantblau metalliclack', 'Blanco Platinum (metalizada)', 'GRIS METAL', 'Stone-gray-met.', 'EXY - LACK ONYX SCHWARZ', '304 GOLD METALLIC', 'Vert clair', 'Blue lagoon', 'DARKMOON BLUE MET', 'Chronos-Silber', 'Nevadaweißmet.', 'Empire grau metallic', 'CELESTIAL BLUE PEARL', '##/fr/Deep Black', 'Platin-Grau Dach Schwarz (Grau', 'BRONCE', 'Azuritblau metallic', 'Wit mica', 'Cappuccino-beige', 'Cappuccino-Beige Metallic', 'dach sc', 'Azul cavansita', 'COLORE ESTERNO (Dipinto di', 'Denim blue metallic', 'Negro Diamante (metalizado)', 'Micron Grey (metalizado)', 'Business grau', 'Urban silber', 'Designo mokkaschwarz', 'Magnetic grau Metallic', 'Elixir Rot', 'Arktis Blau (M2)', 'Stellar Blue Metallic', 'ROSSO CORALLO', 'Desire rot metallic', 'Steel gray', 'BLAU SKY', 'Nevadaweiß Metallic', 'Darkknightgraumet.', 'GRIS SQUALE (KADG)', 'POLARSILBER - METALLICLACK', 'Rojo Incandescente (metalizado', 'Eléctrico', 'Chroma-blau metallic', '1G3 Marlingrau', 'Rojo Velvet Metalizada Especia', 'Designo platin magno', 'ONYX', 'Paars', 'Sirius-gelb', 'Platinum Silver (metalizado)', 'Electric Shadow', 'ROOD MET (paars metallic)', 'Iridium-schwarz metallic', 'Artense Silber', 'Powerorange', 'GRIS CLAIR', 'BLACK', 'Colore esterno (lattementa grü', 'GRAU ALTICA', 'Palladiumsilber', 'Smaragdgrün metallic', 'Vibrant Red', 'Chili rot (metallic)', 'Topaz-Braun Metallic', 'verdeck blau', 'Marron', 'Metal', 'Gris artense', 'Dünenbeige-metallic', 'Onyx Schwarz-Metallic', 'Vesuvio Black', 'BI-TONO AMBAR', 'Gris Palladium', 'Abisal (metalizado)', 'Flamme', 'Biarritz Blue Metallic', 'K23G-GRIS ARGENT#GRIS GRAPHITE', 'Designo Magno Matt', 'Cosmicsilber', 'Gris Magnetico', 'Plata (Metalizado)', 'Sternen Schwarz Metallic', 'Asphalt-Grau', 'Laser-Weiß', 'Lava-Blau Metallic', 'Kalahari Rot', 'NORDLICHTVIOLETT - METALLICLAC', 'Platinum silver metallic', 'Nautik Blue Pearl', 'Polar Silber Metallic', 'Blauw', 'Geel', 'LACK GRAU HURRICANE/TYP AUSSEN', 'BLU IRON', '2XE dunkelamethyst/dach schwar', 'Brillantblau metallic', 'PLATA IRIDIO', 'Blu scuro', 'Magnetic-blau', 'Crema', 'BLANC ARKTIS', 'Unilak cirruswit', 'Atlas Blue Metallic', 'GRAU TITANE (GRAU)', 'Race-Blau Metallic', 'Szary', 'Rot/schwarz', 'Designo diamantweiß bright met', 'Phantombraun metallic', 'Premium ,,Ice Silver\"', 'AMAZON BLUE', 'Glacier white / mic', 'Aquamarin-blau', 'Argent', 'NAVI - CUERO - ASIENTOS CALEFA', 'Sonderl. Obsidianschwarz Metal', 'GRAU CASSIOPEE', 'Cuprite', 'Selenitgrau magno', 'Amazon grey / met', 'Cashmere-Beige-Met.', 'PEARL WHITE/BLACK M', 'Diamantsilber metallic', 'NARANJA CYBER', 'Graumetallic', 'Blu Dipinto di Blu', 'White solid', 'Candyweiss', 'CITRINBRAUN', 'Gris Artense (metalizado)', 'Lightning Red (rood metallic)', 'Matt', 'Crystal White Pearl', 'Quarz Grau', 'Pepper Dust (bruin metallic)', 'BLACK SAPPHIRE', 'Carbonized Gray Metallic', 'Pine grey', 'Infra Red Metallic', 'Gris plomo metalizado', '3p0 rot', 'Karminarot Metallic', 'Wir kaufen Ihr Fahrzeug bar an', 'Alor blau', 'Ocean blue (perl)', 'BLEU VERTIGO', 'GI - GRIS', 'SMALT-BLAU/METALLIC', 'SMART GREY', 'Verde claro', 'Platinum grey / metallic', 'Bleu foncé', 'Grigio Maestro', 'Magnetic-Grau (Metallic)/', 'Pyritsilber metallic', 'Lichtsilber Metallic', 'Black-Pearl-Schwarz (Schwarz)', 'Ultra Silver', 'LICHT GRAU METALLIC', 'CAMARA', 'Fuji-Sunset-Red', 'BOURRASQUEMETALLIC', 'Karbonschwarz/Dach weiss', 'HIGHLAND GREY', 'Magma- schwarz', 'Rojo Lucid tricapa metalizada', 'Blanco Sólido', 'Lava-blau metallic', 'Osmium Grey Metallic (grijs me', 'Velocity Blue', 'Blauw mica', 'PHANTOM BLACK (M)', 'Hell Silber Metallic', 'Mondstein Grau Metallic', 'BLEU IRON', 'Jade Weiss/Arktis Weiss', 'Dunkelgrün', 'Sunset Rot', 'Tomato red / sol', 'Blanco+Franjas deportivas en n', 'Moon-Weiß metallic', 'Moonlandgrau  M2', 'Grün OLIVGRÜN', 'Gris Phantom (perlado)', '´´candy´´ weiss', 'Spektralblau', 'Karbon Silber', 'ROSE GOLD', 'Manhattan Gray', 'Vert Camouflage', 'Sunset red', 'Flintgrau', 'Weiss Perlglänzend Metallic', 'Gris Metalizado Montaña', 'Mondsteingraumetallic', 'Manhattangrau', 'SCHWARZ OBSIDIEN', 'Chroma-Blau', 'GRIS F', 'Sunflower-Gelb', 'Candy-Weiss/Schwarz-Magic Per', 'Blanc Nacré (S)', 'ROYALGRAU', 'Deepblackperl.', 'BRILLIANT WHITE (M)', 'Noir Etoile (zwart metallic)', 'Metall-Grau Metallic', 'Negro Cinema (sólido)', 'Kona blau', 'Blanc Glacier', 'Gelb perleffekt', 'Flint grau', 'Polar White /Dach Schwarz', 'Pacific-Blau', '\"apolo\" blau', 'BLACK STONE', 'LIMITED EDITION', 'Midnight Black', 'Cupcake Brown', 'PLATINGRAU', 'Other', 'Spektralblau metallic', 'Azul Vértigo (especial)', 'Pianoweiß', 'Silber', 'Bianco Gelato pastello extra', 'MAgnetic Grau', 'Henna rot p2 / curry red (m2)', 'WeiÃ\\x9f Dach in Midnight Schwarz', 'Azul Windveil', 'Gris Foncé Métallisé', 'AZUL COSMOS', 'Dynamic-Blau Metallic', 'Animatter-blue', 'Black Pea', 'Titanblau metallic / Dach schw', 'Brillante', 'Iris Enhanced Metallic', '8e8e brillant-silber metallic', 'Amarillo sol', 'Blau dipinto metallic', 'Shadow grey', 'Engine Red (sólido)', 'Frost-weiß', 'BRONZE METALLIC braunmet.', 'KOSMOSBLACK - MET.', 'ROSA', 'Braun metallic', 'Absolute Black Mica', 'BL - BLANCO', 'Noir Perla Nera (M)', 'Obsidian-Schwarz', 'Velocity Metallic', 'BLACK (M) schwarzmet.', 'FARBE ROT BABYLONE', 'Polar white / sol', 'BARENTS BLUE METALLIC / Metall', 'Graphit-grau', 'Groen Metallic', 'BLANCO EFECTO PERLA', 'GRIGIO COMETA METALL', 'SILVER  METALLIC', 'ROSSO/TETTO NERO', 'Thunder grey / metallic', 'Amethyst-Schwarz Metallic', 'Darkwave Schwarz', 'COLORE ESTERNO (BRONZO MET.)', 'LUZIFERROT', 'ARTENSE METALLIC', 'COLORE ESTERNO (GRIGIO INTELLE', 'Urban grey Metal', 'Dark Camouflage', 'PLATINIUM-GRAU', 'Twilight bronze / metallic ext', '\"Deep\" Schwarz Perleffekt', 'C30 cafe latte', 'Selenitgrau - metalliclack', 'Univers weiss', 'Black pearl metallic', 'Abysse', 'GRAU SIDOBRE', 'Moda Grau Metallic', 'Bleu Magnetic', 'Lucis-rot metallic', 'Dezir-Rot + Dach Schwarz', 'Titansilber mica metallic', 'Frost Weiss', 'Schwarz / phantomblack', 'Magnetic tech', 'Grau kng + schwarz gne', 'PEPERONCINO RED', 'Mountaingrau metallic', 'CAPPUCCINO BROWN Metallic', 'Karbonschwarz  U2', 'Rosegoldmetallice', 'BRONZO MET.', 'Blanco gelato', 'CRYSTAL WEISS', 'Serenity White/ Phantom Black', 'Luminous sand', 'Smaragd-Grün', '707 crystal white pearl', 'WHITE', 'FLAMENCO-ROT', 'Giallo faro', 'AZUL AVATAR', 'Espresso braun', 'Designo brillantblau magno', 'Zu lackieren weiss 068/deckend', '452-Black Sapphire Metallic (z', 'Copper Cuprite', 'Grau / stahlgrau zweifarbig', 'Indisch grau metallic', 'Bleu Nuit', 'Kometen-Grau Metallic', 'Kristall silber', 'Shooting Star', 'GRIS comete', 'KTP - LACK GRAU SHARK', 'Desire Rot/Midnight Schwarz', 'Ultimate rot', 'Indic-blau', 'Phantom Black.', 'Designo diamantweiss bright', 'Dünen Beige', 'Moon rock (grau)', 'Croma-blau', 'Grau Uni', 'Saphirschwarz  Mi2', 'Dach myst', 'Phantom black / mic', 'BLAN LUNAIRE', 'Linaritblau', 'Plat.Anthr./RoGrey/0J:silbergr', 'BLANC BANQUISE (509C)', 'Indium Grau', 'Royal Grau Metallic', 'Silber g180', 'ROUGE ELIXIR', 'Negro Onyx m. C717E', 'BLUE COSMOS METALLIC', 'Perlmutt-schwarz-metallic', 'Kiwi Grün', 'Mysteryblau', 'Perlmutt weiss', 'GRAU HARIA', 'MAUVE', 'Quarz grau', 'Bianco-1949', 'Chalk White / Phantom Black /', 'Metaalkleur 727 pebble grey', '8T1Z - ROJO FUEGO NEGRO MAGICO', 'Bi-tono Gris Manhattan / Techo', 'Argent Hightech', 'Noir Minuit', 'Black Magic Pearlescent', 'Denim Blue', 'Mysticschwarz Mica', 'Mysteryblaumet.', 'Metaalkleur 726 birch light', 'Titanium-grau', 'Grün Foliert', 'Black solid (stone)', 'White Sand', 'Quarzgrau - met.', 'Phantom black', 'Schwarz - unilack', 'Torino-braun metallic', 'Oyster Grau-Metallic 472', 'Perlmutt-Schwarz Metallic', 'Obsidaan zwart', 'Moon Weiß Metallic', 'Osmium Grey Metallic', 'QM1 White', '477 electric silver metallic', 'Agatheschwarzmet.', 'Fantastic Red Metallic', 'Brass Grey', 'GRAU HARIA/METALLIC-LACKIERUNG', 'BLEU FONCE', 'NACHTSCHWARZ', 'Midnightblack', 'Mandarin Orange (mica)', 'Polar-Silber-metallic', 'Blanco Perlado (perlado)', 'ONYX SCHWARZ', 'PASSION RED SOLID', 'Rubin Rot (Metallic)', 'OLIVGRÜN METALLIC', 'Lucid Rot (ROT)', 'Cavansitblau - lack', 'Novaweiß perleffekt', 'OCEAN BLUE II / Metallic', 'GRIS PLATINIUM.', 'Iridiumsilber', 'Vertigo-Blau', 'Abysse Blau Metallic', 'Black-Pearl Schwarz', 'Gold aztec', 'Platinum Silver / MIC', 'Power Red', 'ROUGE INTENSE METALLIC', 'Patagonienrot', 'MUSSEL BLUE', 'Prominence Red', 'Nevada weiß metallic', 'Corridarot', 'Arctic Silber Metallic', 'Phantomblackmet.', 'Cremeweiss/Snow Flake White', 'Pirineos', 'Argonsilber', 'Platinum', 'Designo Diamantwit', 'MAGNO-ALLANITGRAU LACKIERUNG', 'Hazelbrownmetallic', 'Negro Metalizado (Kosmosschwar', 'Jade Weiß', 'GREY BLUE', 'NERO PERLATO', 'Gris Meteoro (metalizada)', 'Saphir Schwarz', 'TECHO SOLAR - CUERO - NAVI - L', 'Irridium Silver', 'Iridium-Schwarz', 'Opera Bordeaux', 'Colorado-Rot', 'Gold', 'Grigio artense', 'ISISGRAU', 'Ung. schwarz - unilack', 'Lack weiss perlglänzend/ lacki', 'THUNDER GREY / Metallic', 'Pebble grey /', 'Beżowy', 'Polar white (weiss)', 'Lattementa', 'Babyblau', '040 schneeweiß', 'ELECTRIC SILVER / Metallic', 'Fusion red', 'Quartz-Grau Metallic', 'Ultra Silver Metallic', 'Dark Olive green (groen metall', 'MOJAVESILBER METALLICLACK', 'Asphalt grey metallic', 'Kosmosblauw rpr', 'Obsidian schwarz (SCHWARZ)', 'Pyrit-Silber Metallic', 'Gris kng + orange epy', 'Niebieski masa perłowa', 'Robijnzwart Metallic', 'Polarweiss uni', 'Designo patagonienrot', 'Mondsteingrau', 'Morning Blue / SOL', 'Weißmetallic', '-', 'Nevada Weiss Metallic', 'DARK BLUE', 'BLANCO EVEREST (SOLIDO)', 'Red', 'Ultimate Rot Perleffekt', 'CASABLANCA WHITE', 'Obsidienschwarz', 'Rubyrotmet.', 'Noir Profond', 'Hyperblau metallic', 'PASSION', 'Black-Pearl-Schwarz (GNE)', 'Sonderl. Irridiumsilber Metall', 'Weiss gelato', 'Chili Red', '0KU - AZUL OLIMPIA/NEGRO EBANO', 'Hightechsilber metallic', 'Apolo blau', 'Donker rood', 'Arktis blau (m2)', 'Weiß met.', 'Rodium Grau', 'FUSION-ROT', 'Capriegelb  Mi2', 'Lake Silver / MIC', 'LACK GRAU ARTENSE', 'Moondust', 'Gravity Gold Matt', 'Ruby-Rot Metallic', 'Perla Schwarz', 'Ford Performance Blue', 'Nitro-blau', 'NAJ New Red (M)', 'ALUMINIUM-GRAU/METALLIC', 'Gris Magnetic', 'Terpr', 'Gris Pirineos (metalizado)', 'Teal Blue (Blau)', 'Dynamic grey silber metallic,', 'Graphite grau metallic', 'Gris F', 'Negro Obsidiana (metalizado)', 'BLAU', 'Olive grün', 'White Cream', '\"Nevada\" weiss', 'Lava Blue', 'Saphirblau', 'Azul Pacífico (metalizado)', 'COLORE ESTERNO (NEW BLU (VR-71', 'Blanco Banquise Opaco', 'MARRON METAL', 'Gris Piedra (metalizado)', 'Luminous Sand-Metallic 719', 'Night shade', 'Bleu Mystère', 'Vulcanorot', 'Mountaingrau Metallic', 'ICE WHITE (wit metallic)', 'PEBBLE GREY', 'Hightechsilber Metallic', 'Gris Magnetic (fashion)', 'Brikkiant Silber', 'TITANIUM GREY / Metallic', 'Moon-weiss metallic', 'Nacht-Blau + Dach Black Pearl-', 'Blackmagic Perleffekt', 'Race Blue Met.', 'Gris Cometa (metalizado)', 'Passion Red Solid', 'Lagune Blau', 'SATIN STEEL GREY METALLIC', 'Rouge Fusion', 'Carbonized Grau', 'Ruby Rot Metallic', 'Aquamarin-Blau', 'Moon rock / met', 'Platinium Grau Metallic', 'Lightning yellow', 'Technicalgreymet.', 'ONYX-GRÜN', 'Artense Grey / Dach schwarz', 'Sprintgelb', 'BLEU COSMOS', 'Panther-schwarz metallic', 'Gris grafito metalizado', 'BLACK SAPPHIRE METALLIC (zwart', 'LACKIERUNG WEISSGOLD/METALLIC-', 'ORANGE EPY + SCHWARZ GNE', 'Pomarańczowy', 'Gris Antracita Metalizado', 'Obsidian Black', 'Magnetic Grau', 'Platinumbronze/schwarz', 'Sodalithblau metallic', 'Laser-Weiss', 'Mountain Grau', 'Gris Rodium (metalizado)', 'Fresh Mint', 'Micron Grey Mineraleffekt', 'Inscription crystal white pear', 'Rouge Elixir', 'Cassioppee', 'Blackmagic', 'Agate black', 'BRONZO MAGNETICO OPACO', 'Polar white / sol (weiß)', 'Gris Platine', 'Blanco Moon', 'Gris Highland', 'Schwarz metallic', 'Tomato Rot / SOL', 'Blanco (suave)', 'BLAU COSMOS', 'Vulkanorot', 'SATIN STEEL GRAY MET-4 (501B)', 'Bianco Gelato pastello', 'Metaalkleur pine grey (724)', 'Morello-met.', 'Chili red', 'TERRAKOTTABRAUN', 'Twister-orange metallic', 'Rio Rot', 'Coloris Métal Tech House Grey', 'NEGRO AZABACHE', 'BLANC', 'BLANCO GLACIAR', 'Nachtblau metallic', 'Performance Blue / SOL', 'Argent Iridium', 'SPACE BLACK', 'ARTENSE GRAU / SILBER METALLIC', 'Dark Grey Metallic', 'Black pearl schwarz', 'Silk FTC (Metallic)', 'KODIAQ 2.0 TDI 110KW 150CV DSG', 'Azul Tormenta', 'Frost Weiß', 'Ocean Grün', 'Black Pearl schwarz Metallic', 'FELSGRAU METALLIC', 'Saphirblau Metallic', 'New Red (rood metallic)', 'Negro Carbon/Rojo', 'OBSIDIAN SCHWARZ METALLIC', 'Citrinbraun', 'Abysse Blau', 'Lucidrot (ROT)', 'solid / solid', 'PLATA ARAGONITA METALIZADO', 'Rodiumgraumet.', 'Black Pear', 'Obsidian-schwarz', 'Amazonite-Grau', 'Jungle Green Metallic', '481 Cosmic White (wit metallic', 'Candy-Rot Metallic', 'Amazon grey', 'Star Dust grau met', '196 BLEU CIEL', 'Mineral Grey 205', 'Orange Arizona Met.', 'Arktis-weiss', 'Negro Cosmos', 'Rauchgrau mica', 'VERT BULLITT', 'Dunkel amethyst  metallic / Da', 'Lichtsilber metallic', 'Mysticschwarz Mica Metallic', 'Tenoritgrau metallic', 'NACHT-BLAU', 'Brilliant Silber', 'Nero midnight', 'Verde Myth (mica)', 'Panther-Schwarz', 'Rallye-Grün', 'Mondstein Grau (Metallic)', 'Maple Braun Metallic', 'Rodium', 'Weiß designo kaschmirweiß magn', 'Dezir -  Rot  Metallic', 'Energy blau', 'ZBDK-GRIS PLATINE-MET', 'Savilegrau', 'Urban Grey / KPWN', 'Cactus Gray', 'Designo Graphitgrau Magno', 'Sunny Yellow (Uni)', 'Rojo Berry (premium)', 'Kobalt Blau', 'Mountaingrau-met.', 'Azul Race metalizado', 'Crystal blau metallic', 'Denimblau Metallic', 'Black-Magic', 'DIAMANTWEISS - LACK', 'Topas blau', 'NERO CINEMA', 'Rojo Elixir Especial', 'GRIS DAYTONA MET.', 'Adria Blau Metallic', 'Tiefschwarz mica metallic', 'Blau &amp\\\\', 'BLANC LUNAIRE (QABG)', 'Designo Rojo Patagonia', 'Celadon blue', 'Frostweiss', 'Tonnere grau', 'Gris Plata Metalizado', 'Moon-Weiß Perleffekt', 'Blanc Perle', 'Gris Casiopea (metalizado)', 'Midnight / Metallic', 'Mojavesilber Metallic', 'Precious schwarz', 'Colosseo grau', 'Diamantweiss - metalliclack', 'Meteorgraumet.', 'Polarweiss Unilack', 'KJC - LACKIERUNG ROT ERYTHREE/', 'Denim blau', 'White/red', 'Camouflage gr]n', 'Saphir-Blau Metallic', 'BLANCO NEGRO', 'Arden Blau (P2/SO)', 'Moonlight-Silber', 'Gris Iceberg MV640', 'Carbonized-Grau-Metallic', 'Luna', 'Nero Etoile', 'Bordeaux', 'Glacier', 'Gray metallic', 'TURCHESE DRY', 'Grijs parelmoer', 'Black Pearl Schwarz + Dach Hig', 'S7 magnetic tech', 'Iridium Schwarz Metallic', 'BLANC GELATO', 'Licht Grau (Metallic)', 'GRIS ALU', 'Grigio Colosseo', 'Lightning-Grau', 'Colosseo Grau Metallic', 'Intense Blue/Phantom Black (mi', 'Kupfer Metallic', 'Perla nera schwarz metallic', 'Intense blue / met', 'SAMBAROT', 'NOIR ETOILE', 'Lackierung ultimate-rot/lackie', 'Basaltgrau', 'GLETSCHERWEISS (Weiß)', 'Stahl-grau', 'Magnetic Grau Metallic', 'Schnee Weiß / Verdeck braun', 'COLORE ESTERNO (BLU SUGGESTIVO', 'Designo Platin Magno', 'Grigio Argento', 'Pearl white metallic', 'Islandgrau-metallic', 'Inferno-orange metallic', 'Titan-Grau-Metallic', '614 bianco ghiacciaio', 'KOSMOSSCHWARZ', 'LACKIERUNG GUARANJA-BRAUN/META', 'Gris Urban', 'AHORNROT', 'Aurora Grey', 'Arktis White (sólido)', 'Fusion Red Metallic', 'Blue Sapphire', 'SchneeWeiss/SummitWhite/Arctic', 'ATLAS WHITE', 'Indianapolis-Blau Metallic', 'Jet Grau', 'Azul Chrome', 'Blau venezia metallic', 'KNA', 'Karbonschw graphitschw midnigh', 'Tintenblau', 'Black Star (zwart metallic)', 'New red (m)', 'AZUL ESTRELLA', 'Ozean blau', 'Magnetic Tech Grau', 'Nagoyablau metallic', 'Candy-Weiß', 'GRIGIO SCURO OPACO', 'OBSIDIANSCHWARZ METALLIC', 'Whitesand metallic', 'Metallic Perla Nera0Schwarz', 'Blanco Alpino (brillante)', 'Black Pearl G41G', 'Rot Metallic', 'Quarz-Weiß Metallic', 'OBSIDIANSCHWARZ', 'Kometengrau met.', 'Karbonschw GraphitSchw Midnigh', 'Sunset Red (donker rood mica)', 'Grigio platinum', 'Satin Amber', 'Azul Velocity', 'Tealbluemet.', 'NOIR PERLA NERA', 'Deep-schwarz perleffekt', 'Inconnu', 'Moonwhite (2Y2Y)', 'Gris Moda (metalizado)', 'Magnetic-Grau (Metallic)', 'Dark Knight / MIC', 'Electric Silver Metallic (grij', 'Summit White', 'COLORE ESTERNO Eis Blau', 'Arcticsilver', 'Iconic-silber', 'Obsidian-schwarz metallic', 'Azul Naútico (metalizado)', 'Carmin red', 'Diamant-Silber Met.', 'Mussel Blue-Metallic 721', 'BLACK SOLID (STONE) / Schwarz', 'Velvet Rot Premium Metallic', 'Olivine grey', 'Sunflower-gelb', 'Plata mojave (metalizada)', '\"magic\" schwarz', 'GUNMETAL GREY METALLIC', 'GR-MIDNIGHT-BLACK**', 'Black pearl-schwarz -stahl-gra', 'Mitternachtsschwarz Metallic', 'Mahogany Brown /Dach weiss', 'Azul Denim (metalizado)', 'ETAT NEUF!!!', 'Magneticblaumet.', 'Argonsilber metallic', 'LACK GRAU THORIUM', 'Blanco Polar (estándar)', 'Chromebluemet.', 'Pannacotta', 'Sunset Red / MIC', 'Dipinto di Blu', 'ESM BLEU VERTIGO METALLIS', 'SILBER (M)', 'Diamantweiß metallic', 'Gris anthracite', 'Cactus gray', 'Quarz grau metallic', 'Phantom-Black Metallic', 'Titanum Silver', 'Creamy white', 'Rouge Candy', 'NARANJA.', 'Deep Schwarz Perleffekt', 'Palladiumsilber metallic', 'Deep-Schwarz Perleffekt', 'Elixir rot', 'Gelato weiß', 'Grigio Crono Tetto Nero', 'Avantgarde Bronze Metallic', 'Magnetic grau', 'WHITE PEARL (M)', 'Olivine Grün Metallic', 'Black-Magic Perleff.', 'Beige / negro', 'Atacama-rot', 'Quarzgrau Metallic', 'Ginger beige / night sky black', 'Colore Esterno Bronzo', 'Midnightzwart', 'GRIGIO STEEL', 'Shadow Black (Mica)', 'Lackierung: Weiss', 'Velvetrotmet.', 'Matcha Grün', 'SHADOW BLACK MICA', 'Alpin-Blau', 'Dynamic grey / Dach mysticschw', 'Juniperblue / Mystikschwaz met', 'Teal Blue Metallic', 'ROUGE ULTIMATE', 'Salsa-Rot Metallic', 'Iridiumzilver metallic', 'W00 - BLANCO', 'Gris Quarz Métallisé', 'Electric Silver  (grijs metall', 'Boheme violett', 'Technic Grau met.', 'Aurora grey / met', 'Brass Mineraleffekt', '695 Colosseo GRAU', 'Nautic Blau', 'Diamondblackmet.', 'Blu Notte', 'BIANCO TETTO NERO', 'Black Solid', 'Diamantschwarz', 'Polarweiss - Unilack', 'Silver', 'GRIGIO MEDIO', 'Teget metalik', 'Quarz Silber / Silber', 'Mystery blau', 'Iridiumblau Metallic', 'Business Grey', 'Obsidianschwarz Metallic', 'Diamant schwarz', 'Kaolin-Weiß', 'Nacht blau/weiß', 'Smaragd grün', 'Enigma-Black', 'VULKAN-SCHWARZ-METALLIC.', 'OSMIUM GREY / Metallic', '\"Deep\" schwarz', 'MARRONE', 'Weiss´nacre´', 'Nachtblau', 'Donker rood metallic', 'Onyx schwarz (metallic)', 'Classic Red metallic', 'Dunkel Grün Metallic', 'Glamour beige', 'ARCTIC WHITE SOLID', 'MAGNETIC-BLAU/MET.', 'LACKIERUNG ALUMINIUM-GRAU', 'White solid (ice white) / soli', 'Türkis Metallic', 'Negro Cosmo (metalizada)', 'Iridium-Schwarz Mica', 'Moon-weiss', 'Univers Weiss Metallic', 'Schwarz cinema metallic', 'Rojo', 'Candy Weiß', 'GRIS POMPEI', 'Mahogany Braun Metallic', 'Twister-Orange Metallic', 'SLEEK SILVER', 'Florettsilbermet.', 'HIGHLAND Grey', 'Dark Knight Metallic', 'Blanco Brilliant White (perlad', \"Licht Grau ''\", 'ZWART', 'Avatar Blau metallic', 'Galato Weiß', 'Azul Cavansita', 'MANUFAKTUR patagonienrot metal', '\"Pirineos\" Grau Metallic', 'Grabber yellow', 'WEISS OPALE/DECKENDE LACKIERUN', 'POWER BLUE', 'PRECISION GREY (M)', 'Carrara grau', 'Royal blau', 'Gris Haria', 'Mirage MI2', 'Performance blue / sol', 'Micron-Grau-Metallic', 'Magicblue-Metallic', 'AMG green hell magno', 'Fantastic-rot metallic', 'Passione Rot', 'Black Magic Perleffect', 'COLORE ESTERNO (Passione Rot)', 'GRIGIO COMETA', 'Bleu Cosmos', 'Manganbronze Metallic', 'BLACK STONE SOLID / Solid', 'Colore esterno (corallo rot)', '717 BLAU', '612', 'SILVER / Metallic', 'Alpine Blau', 'Kontrast Grau Metallic', 'Grau / hurricangrau', 'Azul Chromet (metalizado)', 'Schwarz-M.', 'Rodium Grau Metallic', 'ORANGE ARIZON', 'Adventure Braun', 'Savile grey / metallic', 'Grau / shadowgrey', '717 onyx black metallic', 'Universo schwarz', 'Estrella silber', 'BLANCO CLASSIC', 'Bila weiß', 'Kona-Blau Metallic', 'Midnight Schwarz Metallic', 'Blau Med', 'GRIS SELENITA - PINTURA METALI', 'Technic grau', 'Azul Grabber', 'AZUL CLARO ATARDECER MET.', 'Graphitgrau dunkel', 'Wit', 'Colore esterno (elfenbein (3-s', 'SIRIUS-GELB', 'Candy weiß', \"Summit White ''\", 'Shimmering Silver / MET (Silbe', 'Selenitgrau - lack', 'SCHWARZ ROCKABILLY/PERGUSA/BOD', 'Abalone weiss (p3s)', 'Perlmuttweiß - Permuttlack', 'Perlmutt-Weiß Dach Highland-Gr', 'Gray Metallic', 'SILVER DAWN', 'Donker Mountain Grijs metallic', 'Hyacinthrot metallic', 'Obsidianschwarz - Metalliclack', 'Rot amore', 'Zilver', 'DRAGON RED', '\"Kings\"-Rot', 'Weiss-Uni', 'Oxford White', 'Highlandgrau', 'Donker blauw metallic', 'Designo diamantweiß bright', 'LACK GRAU ARTENSE/METALLIC-LAC', 'Solar-Silver Metallic', 'GRIS CUARZO METALIZADO - GRIS', 'Techno Grün', 'Glacier / MET', 'Kometen-grau', 'Kallaietgroen', 'Diamond White', 'Schwarz Magic Perleffekt', 'OBSIDIANSCHWARZ - METALLICLAC', 'Amazon Blue', 'Beige Cappuccino pastel', 'Phantom Black Metallic', 'GUNMETAL', 'Onyxschwarz Metallic', 'Baltikum Grau', 'Sodalithblau / Mystikschwarz M', 'Dezir-Rot', 'Navyblau', 'ARGON SILBER', 'Czarny', 'INK BLUE METALLIC', 'GRIGIO METALLIZZATO', 'Royal Blau (S2)', 'Venezia Blau', 'Cardamon Green Metallic/Dach n', 'Apfel grün', 'Dipinto Blau Metallic', 'Kometengrau-metallic', 'ROSSO PASSIONE', 'Mystic Olive Green', 'Nachtschwarz', 'DARK GREY PEARL', 'Onyx black metallic', 'ROJO DESEO', 'Midnight Black Metalizado', 'Eissilber (licht grijs metalli', 'Kardio Rot', 'DESIGNO-MOKKASCHWARZ LACKIERUN', 'Plum Blau', 'Shimmering Silver Metallic', 'Moon White', 'Brass + Dach Phantom Black', 'Saharaorangemet./blackpearl', 'Rallye-Grün Metallic', 'Permutt-Weiß und Black-Pearl', 'Bitono Blanco Perlado (perlado', 'Steel Grau', 'Riviera Grün', 'Thunder Grey / MET', 'Zwart mica', 'Shadow Grey', 'Osmium Grau', 'Grigio Scuro MTZ', 'Iridiumzilver', 'Bright silver', 'Olivgruen', 'IRIDIUMSILBER', 'LACK BLAU MONTEBELLO', 'NOIRE', 'Velvet rot', 'SELENITGRAU', 'Iron-blau metallic', 'PASSION RED', 'Kona Blue (blauw metallic)', 'Cinema Schwarz Metallic (SCHWA', 'Power Rot', 'MANUFAKTUR graphitgrau magno', 'SATINÉ', 'CHRYSTAL WHITE', 'Azul Marino (opaco)', 'Azul Brillante (metalizado)', 'Black metallic', 'Ara Blue / blau', 'Iridium Silber Metallic', 'Blanco sólido', 'Ruby-Rot (Metallic)', 'OBSIDIANSCHWARZ - LACK', 'COLORE ESTERNO (BIANCO (VR-249', 'Perlanera Schwarz', 'Perl Blau (Metallic)', 'BLACK SOLID', 'Schwarz Uni', 'Dynamic Grey Metallic / Dach s', 'Grigio Moda', 'Magnetic Blue Metalizado', 'Mountain Grey Matte', 'Gris Bitono', 'ROT ERYTHREE/METALLIC', 'Mineral-Silber', 'Patinium Grey metallic', 'Platinum Grey metalizado', 'Electric silver / metallic', 'Amorerotmetallic', 'Iridium schwarz metallic', 'Braun', 'Camouflage groen', 'Mystic Magenta Metallic', 'Cemento', 'GR - GRIS', 'OBSIDIANSCHWARZ -', 'Silber Metallic', 'Polar-silber', 'BRONCE OLIVA', 'Diamantweiß Bright', 'Lava Rot', 'ROOD MET metallic', 'Reflexsilber Metallic', 'Thunder', 'AZUL MEDIANOCHE', 'Grau / darkknight', 'Speed blau metallic', 'CELESTE', 'Arktis weiss', 'TENORITGRAU', 'Matt grau foliert', 'Splash Cyan Metallic', 'LAVA ROT', 'Silbergrau metallic', 'GRIS SELENITA MAGNO', 'Chili Rot Metalic', 'Cardamon green', 'NerzbraunMetallic', 'Bright Silver (licht grijs met', 'ROUGE PASSIONE', 'Carmin-Red-Metallic', 'Graphite Grey', 'Fjord Blau Metallic', 'Iridium silver', 'Estrella Silber', 'Denim Blue Metallic', 'Dark Matter/Starlight Gray', 'Highland-Grau Metallic', 'Pure White', 'Deep Schwarz', 'Frozen white', 'Frozen White', 'RACE BLUE METALLIC', 'Mystic Magenta', 'AZUL METALIZADO', 'SILVER', 'COLORE ESTERNO (METEOR GREY)', 'Magbetic Grau Metallic', 'LACK GRAU ARTENSE/METALLIC', 'ROJO METALIZADO', 'Verde Foresta (groen metallic)', 'Argent Urbain', 'Black stone solid / solid', 'Phantom Black (schwarz)', 'GRIJS MET metallic', 'Championbluemet.', 'Blau Mediterraneo', 'Grigio Titanio', 'BLACK SOLID (STONE)', 'Katana Grey + Midnight Black M', 'Dark camouflage', 'Azul Espectral', 'Dark Blau Metallic', 'Brilliantblau metallic', 'BLEU Vertigo', 'Snow / metallic', 'Palisa silber metallic', 'Kristall Silber Metallic', 'Gris Pompei metalizado', 'Negro Mágico efecto Perla (me', 'Tiefschwarz', 'Titan-Grau', 'Brillantblau Metallic', '\"Technic\" Grau', 'Graphite grey', '612 SILBER', 'DIVERS COLORIS', 'White Sand met.', 'ELECTRIC SILVER', 'Kokosnussbraun Metallic', 'CELESTIAL BLUE', 'Maple Braun-Metallic', 'Weiss/da.schwarz', 'Tonnerre Grau', 'Gris Maestro (metalizado)', 'ARGENT IRIDIUM', 'Delfin Grau', 'Polar White (sólido)', 'Ultimate', 'Goud metallic', 'Elixir Rood', 'HYAZINTHROT', 'BLEU ORAGE', 'Aria-Silber Metallic', 'Schnee Weiß (Uni)'}\n"
     ]
    }
   ],
   "source": [
    "unique_features_manu = set()\n",
    "\n",
    "\n",
    "for row in df['manu_color']:\n",
    "    if pd.notna(row):\n",
    "        features_list = row.split(', ')\n",
    "        unique_features_manu.update(features_list)\n",
    "\n",
    "print(unique_features_manu)"
   ]
  },
  {
   "cell_type": "code",
   "execution_count": 506,
   "id": "b452f77d-77f3-48df-90df-ebf530aa17c5",
   "metadata": {},
   "outputs": [
    {
     "data": {
      "text/plain": [
       "4963"
      ]
     },
     "execution_count": 506,
     "metadata": {},
     "output_type": "execute_result"
    }
   ],
   "source": [
    "df['manu_color'].nunique()"
   ]
  },
  {
   "cell_type": "code",
   "execution_count": 507,
   "id": "20648af4-9a6c-4e66-8925-3738c458a876",
   "metadata": {},
   "outputs": [],
   "source": [
    "df['manu_color'] = df['manu_color'].str.lower()\n",
    "df['manu_color'] = df['manu_color'].str.replace('[^\\w\\s]', '')\n",
    "\n",
    "color_standard = {\n",
    "  # Flemish / Dutch\n",
    "    'zwart': 'black', 'wit': 'white', 'rood': 'red', 'blauw': 'blue', 'groen': 'green', 'zilver': 'silver', 'grijs': 'gray', 'beige': 'beige', 'bruin': 'brown', 'geel': 'yellow', 'oranje': 'orange', 'violet': 'violet', 'brons': 'bronze', 'goud': 'gold',\n",
    "    # French\n",
    "    'noir': 'black', 'blanc': 'white', 'rouge': 'red', 'bleu': 'blue', 'vert': 'green', 'argent': 'silver', 'gris': 'gray', 'beige': 'beige', 'marron': 'brown', 'jaune': 'yellow', 'orange': 'orange', 'violet': 'violet', 'bronze': 'bronze', 'or': 'gold',\n",
    "    # German\n",
    "    'schwarz': 'black', 'weiss': 'white', 'rot': 'red', 'blau': 'blue', 'grün': 'green', 'silber': 'silver', 'grau': 'gray', 'beige': 'beige', 'braun': 'brown', 'gelb': 'yellow', 'orange': 'orange', 'violett': 'violet', 'bronze': 'bronze', 'gold': 'gold',\n",
    "    # Luxembourgish\n",
    "    'schwaarz': 'black', 'wäiss': 'white', 'réid': 'red', 'blo': 'blue', 'gréng': 'green','siwwer': 'silver', 'gréis': 'gray', 'beige': 'beige', 'brong': 'brown', 'giel': 'yellow', 'oraneg': 'orange', 'violet': 'violet', 'bronz': 'bronze', 'gol': 'gold',\n",
    "    # Danish\n",
    "    'sort': 'black', 'hvid': 'white', 'rød': 'red', 'blå': 'blue', 'grøn': 'green', 'sølv': 'silver', 'grå': 'gray', 'beige': 'beige', 'brun': 'brown', 'gul': 'yellow', 'orange': 'orange', 'violet': 'violet', 'bronze': 'bronze', 'guld': 'gold',\n",
    "    # Estonian\n",
    "    'must': 'black', 'valge': 'white', 'punane': 'red', 'sinine': 'blue', 'roheline': 'green', 'hõbe': 'silver', 'hall': 'gray', 'beez': 'beige', 'pruun': 'brown', 'kollane': 'yellow', 'oranž': 'orange', 'violetne': 'violet', 'pronks': 'bronze', 'kuld': 'gold',\n",
    "    # Bulgarian\n",
    "    'черен': 'black', 'бял': 'white', 'червен': 'red', 'син': 'blue', 'зелен': 'green', 'сребърен': 'silver', 'сив': 'gray', 'бежов': 'beige', 'кафяв': 'brown', 'жълт': 'yellow', 'оранжев': 'orange', 'виолетов': 'violet', 'бронз': 'bronze', 'злато': 'gold',\n",
    "    # Spanish\n",
    "    'negro': 'black', 'blanco': 'white', 'rojo': 'red', 'azul': 'blue', 'verde': 'green', 'plata': 'silver', 'gris': 'gray', 'beige': 'beige', 'marrón': 'brown', 'amarillo': 'yellow', 'naranja': 'orange', 'violeta': 'violet', 'bronce': 'bronze', 'oro': 'gold',\n",
    "    # Italian\n",
    "    'nero': 'black', 'bianco': 'white', 'rosso': 'red', 'blu': 'blue', 'verde': 'green', 'argento': 'silver', 'grigio': 'gray', 'beige': 'beige', 'marrone': 'brown', 'giallo': 'yellow', 'arancione': 'orange', 'viola': 'violet', 'bronzo': 'bronze', 'oro': 'gold',\n",
    "    # Diğer diller ve renkler buraya eklenebilir\n",
    "}\n",
    "def standardize_color(color):\n",
    "    if isinstance(color, str):\n",
    "        for key, value in color_standard.items():\n",
    "            if key in color:\n",
    "                return value\n",
    "    return color\n",
    "\n",
    "df['manu_color'] = df['manu_color'].apply(standardize_color)\n",
    "\n",
    "possible_colors = {\n",
    "    'Germany': ['schwarz', 'weiß', 'rot', 'blau', 'grün', 'silber', 'grau', 'beige', 'braun', 'gelb', 'orange', 'violett', 'bronze', 'gold'],  # Almanca\n",
    "    'Spain': ['negro', 'blanco', 'rojo', 'azul', 'verde', 'plata', 'gris', 'beige', 'marrón', 'amarillo', 'naranja', 'violeta', 'bronce', 'oro'],  # İspanyolca\n",
    "    'Netherlands': ['zwart', 'wit', 'rood', 'blauw', 'groen', 'zilver', 'grijs', 'beige', 'bruin', 'geel', 'oranje', 'violet', 'brons', 'goud'],  # Hollandaca\n",
    "    'Italy': ['nero', 'bianco', 'rosso', 'blu', 'verde', 'argento', 'grigio', 'beige', 'marrone', 'giallo', 'arancione', 'viola', 'bronzo', 'oro'],  # İtalyanca\n",
    "    'Belgium': ['zwart', 'wit', 'rood', 'blauw', 'groen', 'argent', 'jaune', 'rouge', 'gris', 'beige', 'brun', 'geel', 'oranje', 'violet', 'bronze', 'goud'],  # Flemish / French\n",
    "    'France': ['noir', 'blanc', 'rouge', 'bleu', 'vert', 'argent', 'jaune', 'gris', 'beige', 'brun', 'orange', 'violet', 'bronze', 'or'],  # French\n",
    "    'Austria': ['schwarz', 'weiß', 'rot', 'blau', 'grün', 'silber', 'grau', 'beige', 'braun', 'gelb', 'orange', 'violett', 'bronze', 'gold'],  # German\n",
    "    'Luxembourg': ['schwaarz', 'wäiss', 'réid', 'blo', 'gréng', 'silber', 'grau', 'beige', 'bro', 'geel', 'oran', 'violet', 'bronz', 'gol'],  # Luxembourgish\n",
    "    'Denmark': ['sort', 'hvid', 'rød', 'blå', 'grøn', 'sølv', 'grå', 'beige', 'brun', 'gul', 'orange', 'violet', 'bronze', 'guld'],  # Danish\n",
    "    'Estonia': ['must', 'valge', 'punane', 'sinine', 'roheline', 'hõbe', 'hall', 'beige', 'pruun', 'kollane', 'oranž', 'violetne', 'pronks', 'kuld'],  # Estonian\n",
    "    'Bulgaria': ['черен', 'бял', 'червен', 'син', 'зелен', 'сребърен', 'сив', 'бежов', 'кафяв', 'жълт', 'оранжев', 'виолетов', 'бронз', 'злато'],  # Bulgarian\n",
    "    # Diğer ülkeler ve diller buraya eklenebilir\n",
    "}\n",
    "def combine_similar_color(color, country):\n",
    "    if isinstance(color, str): \n",
    "        if country in possible_colors:\n",
    "            for c in possible_colors[country]:\n",
    "                if c.lower() in color:\n",
    "                    return c\n",
    "    return color\n",
    "\n",
    "df['manu_color'] = df.apply(lambda row: combine_similar_color(row['manu_color'], row['location_country']), axis=1)\n"
   ]
  },
  {
   "cell_type": "code",
   "execution_count": 508,
   "id": "0e4ce340-ad82-40a3-a987-5c487786e73d",
   "metadata": {},
   "outputs": [
    {
     "data": {
      "text/plain": [
       "1049"
      ]
     },
     "execution_count": 508,
     "metadata": {},
     "output_type": "execute_result"
    }
   ],
   "source": [
    "df['manu_color'].nunique()"
   ]
  },
  {
   "cell_type": "code",
   "execution_count": 509,
   "id": "bc171877-578f-455c-a059-3918c21b1ada",
   "metadata": {},
   "outputs": [
    {
     "data": {
      "text/plain": [
       "colour\n",
       "Black     5905\n",
       "Grey      5640\n",
       "White     4937\n",
       "Blue      3204\n",
       "Red       2147\n",
       "NaN       1674\n",
       "Silver    1526\n",
       "Green      429\n",
       "Brown      420\n",
       "Orange     280\n",
       "Beige      262\n",
       "Yellow     226\n",
       "Violet      94\n",
       "Bronze      62\n",
       "Gold        55\n",
       "Name: count, dtype: int64"
      ]
     },
     "execution_count": 509,
     "metadata": {},
     "output_type": "execute_result"
    }
   ],
   "source": [
    "df['colour'].value_counts(dropna=False)"
   ]
  },
  {
   "cell_type": "code",
   "execution_count": 510,
   "id": "55710e68-803d-4ad3-91b2-a8fd91f5e6b4",
   "metadata": {},
   "outputs": [
    {
     "data": {
      "text/plain": [
       "colour\n",
       "Black     6138\n",
       "Grey      5657\n",
       "White     5285\n",
       "Blue      3368\n",
       "Red       2237\n",
       "Silver    1554\n",
       "NaN        662\n",
       "Brown      476\n",
       "Green      438\n",
       "Orange     295\n",
       "Beige      274\n",
       "Yellow     235\n",
       "Violet      95\n",
       "Gold        75\n",
       "Bronze      66\n",
       "Weiß         3\n",
       "Blu          3\n",
       "Name: count, dtype: int64"
      ]
     },
     "execution_count": 510,
     "metadata": {},
     "output_type": "execute_result"
    }
   ],
   "source": [
    "all_colors = ['black', 'grey', 'white', 'blue', 'red', 'silver', 'green', 'brown', 'orange', 'beige', 'yellow', 'violet', \n",
    "              'bronze', 'gold', 'schwarz', 'weiß', 'rot', 'blau', 'grün', 'silber', 'grau', 'beige', 'braun', 'gelb', \n",
    "              'orange', 'violett', 'bronze', 'gold', 'negro', 'blanco', 'rojo', 'azul', 'verde', 'plata', 'gris', \n",
    "              'marrón', 'amarillo', 'naranja', 'violeta', 'bronce', 'oro', 'zwart', 'wit', 'rood', 'blauw', 'groen', 'zilver', \n",
    "              'grijs', 'beige', 'bruin', 'geel', 'oranje', 'violet', 'brons', 'goud', 'nero', 'bianco', 'rosso', 'blu', 'verde',\n",
    "              'argento', 'grigio', 'beige', 'marrone', 'giallo', 'arancione', 'viola', 'bronzo', 'oro', 'noir', 'blanc', \n",
    "              'rouge', 'bleu', 'vert', 'argent', 'jaune', 'gris', 'beige', 'brun', 'orange', 'violet', 'or', 'schwaarz', \n",
    "              'wäiss', 'réid', 'blo', 'gréng', 'silber', 'grau', 'beige', 'bro', 'geel', 'oran', 'bronz',\n",
    "              'gol', 'sort', 'hvid', 'rød', 'blå', 'grøn', 'sølv', 'grå', 'brun', 'gul', 'guld', \n",
    "              'must', 'valge', 'punane', 'sinine', 'roheline', 'hõbe', 'hall', 'beige', 'pruun', 'kollane', 'oranž', \n",
    "              'violetne', 'pronks', 'kuld', 'черен', 'бял', 'червен', 'син', 'зелен', 'сребърен', 'сив', 'бежов', 'кафяв', \n",
    "              'жълт', 'оранжев', 'виолетов', 'бронз', 'злато'\n",
    "              \n",
    "]\n",
    "def extract_color_from_manu(manu_color, colors_list):\n",
    "    if isinstance(manu_color, str):\n",
    "        manu_color_lower = manu_color.lower()\n",
    "        for color in colors_list:\n",
    "            if re.search(r'\\b' + re.escape(color) + r'\\b', manu_color_lower):\n",
    "                return color.capitalize()  \n",
    "    return np.nan\n",
    "\n",
    "def fill_color(row, colors_list):\n",
    "    if pd.isnull(row['colour']):\n",
    "        return extract_color_from_manu(row['manu_color'], colors_list)\n",
    "    return row['colour']\n",
    "\n",
    "df['colour'] = df.apply(lambda row: fill_color(row, all_colors), axis=1)\n",
    "df['colour'].value_counts(dropna=False)"
   ]
  },
  {
   "cell_type": "code",
   "execution_count": 511,
   "id": "4b119d45-ef00-423c-9dce-a289105e1177",
   "metadata": {},
   "outputs": [
    {
     "data": {
      "text/plain": [
       "colour\n",
       "Black     6398\n",
       "Grey      5806\n",
       "White     5495\n",
       "Blue      3388\n",
       "Red       2244\n",
       "Silver    1561\n",
       "Brown      477\n",
       "Green      438\n",
       "Orange     295\n",
       "Beige      275\n",
       "Yellow     235\n",
       "Violet      95\n",
       "Gold        75\n",
       "Bronze      66\n",
       "NaN          7\n",
       "Weiß         3\n",
       "Blu          3\n",
       "Name: count, dtype: int64"
      ]
     },
     "execution_count": 511,
     "metadata": {},
     "output_type": "execute_result"
    }
   ],
   "source": [
    "df['colour'] = df.groupby('make_model')['colour'].transform(lambda x: x.fillna(x.mode()[0] if not x.mode().empty else np.nan))\n",
    "\n",
    "df['colour'].value_counts(dropna=False)"
   ]
  },
  {
   "cell_type": "code",
   "execution_count": 512,
   "id": "e254871a-e551-4fc0-a58a-86c85a1db7c9",
   "metadata": {},
   "outputs": [
    {
     "name": "stdout",
     "output_type": "stream",
     "text": [
      "colour\n",
      "Black     6405\n",
      "Grey      5806\n",
      "White     5495\n",
      "Blue      3388\n",
      "Red       2244\n",
      "Silver    1561\n",
      "Brown      477\n",
      "Green      438\n",
      "Orange     295\n",
      "Beige      275\n",
      "Yellow     235\n",
      "Violet      95\n",
      "Gold        75\n",
      "Bronze      66\n",
      "Weiß         3\n",
      "Blu          3\n",
      "Name: count, dtype: int64\n"
     ]
    }
   ],
   "source": [
    "mode_colour = df['colour'].mode()[0]\n",
    "\n",
    "df['colour'].fillna(mode_colour, inplace=True)\n",
    "\n",
    "print(df['colour'].value_counts(dropna=False))"
   ]
  },
  {
   "cell_type": "markdown",
   "id": "4ec35778",
   "metadata": {},
   "source": [
    "# paint"
   ]
  },
  {
   "cell_type": "code",
   "execution_count": 514,
   "id": "edf1ac0b-2b1c-4dd6-856f-81a1e8478cc2",
   "metadata": {},
   "outputs": [
    {
     "data": {
      "text/plain": [
       "paint\n",
       "Metallic     13487\n",
       "NaN          13373\n",
       "Uni/basic        1\n",
       "Name: count, dtype: int64"
      ]
     },
     "execution_count": 514,
     "metadata": {},
     "output_type": "execute_result"
    }
   ],
   "source": [
    "df['paint'].value_counts(dropna=False)"
   ]
  },
  {
   "cell_type": "code",
   "execution_count": 515,
   "id": "581be064-3715-49cf-8a3a-638fa7c2a56e",
   "metadata": {},
   "outputs": [
    {
     "data": {
      "text/plain": [
       "paint\n",
       "Metallic     13678\n",
       "NaN          13182\n",
       "Uni/basic        1\n",
       "Name: count, dtype: int64"
      ]
     },
     "execution_count": 515,
     "metadata": {},
     "output_type": "execute_result"
    }
   ],
   "source": [
    "metallic_rows = df[df['desc_str'].str.contains('metallic|\\bmet(?:al)?\\b', case=False, na=False)]\n",
    "\n",
    "df.loc[metallic_rows.index, 'paint'] = 'Metallic'\n",
    "df['paint'].value_counts(dropna=False)"
   ]
  },
  {
   "cell_type": "code",
   "execution_count": 516,
   "id": "3aede7a2-237e-49ce-b81b-702e02cfb6b5",
   "metadata": {},
   "outputs": [
    {
     "data": {
      "text/plain": [
       "paint\n",
       "Metallic     13746\n",
       "NaN          13114\n",
       "Uni/basic        1\n",
       "Name: count, dtype: int64"
      ]
     },
     "execution_count": 516,
     "metadata": {},
     "output_type": "execute_result"
    }
   ],
   "source": [
    "def fill_metallic(row):\n",
    "    if isinstance(row['manu_color'], str) and ('/met' in row['manu_color'].lower() or '(m)' in row['manu_color'].lower()\n",
    "                                               or 'met' in row['manu_color'].lower() or 'metallic' in row['manu_color'].lower() \n",
    "                                               or '/metal' in row['manu_color'].lower()) and pd.isnull(row['paint']):\n",
    "        return 'Metallic'\n",
    "    else:\n",
    "        return row['paint']\n",
    "\n",
    "df['paint'] = df.apply(fill_metallic, axis=1)\n",
    "df['paint'].value_counts(dropna=False)"
   ]
  },
  {
   "cell_type": "code",
   "execution_count": 517,
   "id": "22ab8a7f-300b-4a81-bed4-00f31b1a4949",
   "metadata": {},
   "outputs": [
    {
     "data": {
      "text/plain": [
       "paint\n",
       "Metallic        13746\n",
       "non_metallic    13115\n",
       "Name: count, dtype: int64"
      ]
     },
     "execution_count": 517,
     "metadata": {},
     "output_type": "execute_result"
    }
   ],
   "source": [
    "df['paint'] = df['paint'].fillna('non_metallic')\n",
    "df['paint'] = df['paint'].replace('Uni/basic', 'non_metallic')\n",
    "df['paint'].value_counts(dropna=False)"
   ]
  },
  {
   "cell_type": "code",
   "execution_count": 518,
   "id": "1f938c17-22c3-4490-8f5b-8322c8b47a4c",
   "metadata": {},
   "outputs": [],
   "source": [
    "df.drop(columns=['manu_color'], inplace=True)"
   ]
  },
  {
   "cell_type": "markdown",
   "id": "37bb13c5",
   "metadata": {},
   "source": [
    "# seller"
   ]
  },
  {
   "cell_type": "code",
   "execution_count": 520,
   "id": "5bd4b02b-63be-4c04-a7c1-dba6a46bcdda",
   "metadata": {},
   "outputs": [
    {
     "data": {
      "text/plain": [
       "seller\n",
       "Dealer            24748\n",
       "Private seller     2113\n",
       "Name: count, dtype: int64"
      ]
     },
     "execution_count": 520,
     "metadata": {},
     "output_type": "execute_result"
    }
   ],
   "source": [
    "df['seller'].value_counts(dropna=False)"
   ]
  },
  {
   "cell_type": "markdown",
   "id": "5fbe0853",
   "metadata": {},
   "source": [
    "# seats"
   ]
  },
  {
   "cell_type": "code",
   "execution_count": 522,
   "id": "68395fe9-cc15-47cb-add1-b17ae46202e5",
   "metadata": {},
   "outputs": [
    {
     "data": {
      "text/plain": [
       "seats\n",
       "5.0     17211\n",
       "4.0      4914\n",
       "NaN      3000\n",
       "2.0      1177\n",
       "7.0       428\n",
       "8.0        43\n",
       "9.0        35\n",
       "3.0        24\n",
       "6.0        12\n",
       "0.0         9\n",
       "1.0         6\n",
       "17.0        2\n",
       "Name: count, dtype: int64"
      ]
     },
     "execution_count": 522,
     "metadata": {},
     "output_type": "execute_result"
    }
   ],
   "source": [
    "df['seats'].value_counts(dropna=False)"
   ]
  },
  {
   "cell_type": "code",
   "execution_count": 523,
   "id": "ff308691-898d-47bd-99ca-985b486056a6",
   "metadata": {},
   "outputs": [
    {
     "data": {
      "text/html": [
       "<div>\n",
       "<style scoped>\n",
       "    .dataframe tbody tr th:only-of-type {\n",
       "        vertical-align: middle;\n",
       "    }\n",
       "\n",
       "    .dataframe tbody tr th {\n",
       "        vertical-align: top;\n",
       "    }\n",
       "\n",
       "    .dataframe thead th {\n",
       "        text-align: right;\n",
       "    }\n",
       "</style>\n",
       "<table border=\"1\" class=\"dataframe\">\n",
       "  <thead>\n",
       "    <tr style=\"text-align: right;\">\n",
       "      <th></th>\n",
       "      <th>body_type</th>\n",
       "      <th>count</th>\n",
       "    </tr>\n",
       "  </thead>\n",
       "  <tbody>\n",
       "    <tr>\n",
       "      <th>0</th>\n",
       "      <td>Compact</td>\n",
       "      <td>278</td>\n",
       "    </tr>\n",
       "    <tr>\n",
       "      <th>1</th>\n",
       "      <td>Convertible</td>\n",
       "      <td>244</td>\n",
       "    </tr>\n",
       "    <tr>\n",
       "      <th>2</th>\n",
       "      <td>Coupe</td>\n",
       "      <td>380</td>\n",
       "    </tr>\n",
       "    <tr>\n",
       "      <th>3</th>\n",
       "      <td>Off-Road/Pick-up</td>\n",
       "      <td>510</td>\n",
       "    </tr>\n",
       "    <tr>\n",
       "      <th>4</th>\n",
       "      <td>Sedan</td>\n",
       "      <td>922</td>\n",
       "    </tr>\n",
       "    <tr>\n",
       "      <th>5</th>\n",
       "      <td>Station wagon</td>\n",
       "      <td>666</td>\n",
       "    </tr>\n",
       "  </tbody>\n",
       "</table>\n",
       "</div>"
      ],
      "text/plain": [
       "           body_type  count\n",
       "0            Compact    278\n",
       "1        Convertible    244\n",
       "2              Coupe    380\n",
       "3   Off-Road/Pick-up    510\n",
       "4              Sedan    922\n",
       "5      Station wagon    666"
      ]
     },
     "execution_count": 523,
     "metadata": {},
     "output_type": "execute_result"
    }
   ],
   "source": [
    "nan_seats_by_body_type_rows = df[df['seats'].isna()]\n",
    "nan_seats_by_body_type_rows.groupby(['body_type']).size().reset_index(name='count')"
   ]
  },
  {
   "cell_type": "code",
   "execution_count": 524,
   "id": "2abef0b8-3391-448e-8328-5034d9b459a1",
   "metadata": {},
   "outputs": [
    {
     "data": {
      "text/plain": [
       "body_type\n",
       " Compact             5.0\n",
       " Convertible         4.0\n",
       " Coupe               4.0\n",
       " Off-Road/Pick-up    5.0\n",
       " Sedan               5.0\n",
       " Station wagon       5.0\n",
       "Name: seats, dtype: float64"
      ]
     },
     "execution_count": 524,
     "metadata": {},
     "output_type": "execute_result"
    }
   ],
   "source": [
    "df.groupby('body_type')['seats'].median()"
   ]
  },
  {
   "cell_type": "code",
   "execution_count": 525,
   "id": "3ac8c638-cff7-40e7-b9f2-9098f10b0c1d",
   "metadata": {},
   "outputs": [
    {
     "data": {
      "text/plain": [
       "seats\n",
       "5.0     19587\n",
       "4.0      5538\n",
       "2.0      1177\n",
       "7.0       428\n",
       "8.0        43\n",
       "9.0        35\n",
       "3.0        24\n",
       "6.0        12\n",
       "0.0         9\n",
       "1.0         6\n",
       "17.0        2\n",
       "Name: count, dtype: int64"
      ]
     },
     "execution_count": 525,
     "metadata": {},
     "output_type": "execute_result"
    }
   ],
   "source": [
    "df['seats'] = df.groupby('body_type')['seats'].transform(lambda x: x.fillna(x.median()))\n",
    "df['seats'].value_counts(dropna=False)"
   ]
  },
  {
   "cell_type": "markdown",
   "id": "218eaea9",
   "metadata": {},
   "source": [
    "# engine_size"
   ]
  },
  {
   "cell_type": "code",
   "execution_count": 527,
   "id": "7c0d893e-4cc9-44e7-9283-89b70cc69948",
   "metadata": {},
   "outputs": [
    {
     "data": {
      "text/plain": [
       "engine_size\n",
       "1598.0    2097\n",
       "999.0     2061\n",
       "NaN       1355\n",
       "1461.0    1101\n",
       "1969.0    1099\n",
       "          ... \n",
       "2495.0       1\n",
       "200.0        1\n",
       "2935.0       1\n",
       "3224.0       1\n",
       "2473.0       1\n",
       "Name: count, Length: 468, dtype: int64"
      ]
     },
     "execution_count": 527,
     "metadata": {},
     "output_type": "execute_result"
    }
   ],
   "source": [
    "df['engine_size'].value_counts(dropna=False)"
   ]
  },
  {
   "cell_type": "code",
   "execution_count": 528,
   "id": "78b898dd-0dde-4952-8c69-3710b7528f6d",
   "metadata": {},
   "outputs": [
    {
     "data": {
      "text/plain": [
       "engine_size\n",
       "1598.0    2099\n",
       "999.0     2062\n",
       "1969.0    1102\n",
       "1461.0    1101\n",
       "1998.0     986\n",
       "          ... \n",
       "1565.0       1\n",
       "1941.0       1\n",
       "2880.0       1\n",
       "2246.0       1\n",
       "1943.0       1\n",
       "Name: count, Length: 655, dtype: int64"
      ]
     },
     "execution_count": 528,
     "metadata": {},
     "output_type": "execute_result"
    }
   ],
   "source": [
    "df['engine_size'] = df.groupby(['make_model','body_type'])['engine_size'].transform(lambda x: x.fillna(x.mean())).round()\n",
    "df['engine_size'].value_counts(dropna=False)"
   ]
  },
  {
   "cell_type": "code",
   "execution_count": 529,
   "id": "36b70a30",
   "metadata": {},
   "outputs": [
    {
     "data": {
      "text/plain": [
       "221"
      ]
     },
     "execution_count": 529,
     "metadata": {},
     "output_type": "execute_result"
    }
   ],
   "source": [
    "df['engine_size'].isna().sum() "
   ]
  },
  {
   "cell_type": "code",
   "execution_count": 530,
   "id": "f030a745",
   "metadata": {},
   "outputs": [
    {
     "data": {
      "text/plain": [
       "0"
      ]
     },
     "execution_count": 530,
     "metadata": {},
     "output_type": "execute_result"
    }
   ],
   "source": [
    "df['engine_size'] = df.groupby(['body_type'])['engine_size'].transform(lambda x: x.fillna(x.mean())).round()\n",
    "df['engine_size'].isna().sum() "
   ]
  },
  {
   "cell_type": "markdown",
   "id": "406b3269",
   "metadata": {},
   "source": [
    "# gears"
   ]
  },
  {
   "cell_type": "code",
   "execution_count": 532,
   "id": "877bd295-264b-4b70-868b-1fab01c21310",
   "metadata": {},
   "outputs": [
    {
     "data": {
      "text/plain": [
       "gears\n",
       "NaN     9149\n",
       "6.0     7919\n",
       "5.0     5065\n",
       "7.0     1706\n",
       "8.0     1288\n",
       "1.0      698\n",
       "9.0      637\n",
       "4.0      233\n",
       "10.0     112\n",
       "0.0       30\n",
       "3.0       22\n",
       "2.0        2\n",
       "Name: count, dtype: int64"
      ]
     },
     "execution_count": 532,
     "metadata": {},
     "output_type": "execute_result"
    }
   ],
   "source": [
    "df['gears'].value_counts(dropna=False)"
   ]
  },
  {
   "cell_type": "code",
   "execution_count": 533,
   "id": "d9689e7b-87b7-4137-ad7f-b0a5d1ae4392",
   "metadata": {},
   "outputs": [],
   "source": [
    "df.loc[df['gears'] == 0.0, 'gears'] = None"
   ]
  },
  {
   "cell_type": "code",
   "execution_count": 534,
   "id": "96d42d61-b784-4f86-b4cf-d2e5d87f7b3e",
   "metadata": {
    "scrolled": true
   },
   "outputs": [
    {
     "data": {
      "text/plain": [
       "gears\n",
       "6.0     12480\n",
       "5.0      7325\n",
       "7.0      2364\n",
       "8.0      1821\n",
       "1.0      1261\n",
       "9.0      1131\n",
       "4.0       310\n",
       "10.0      121\n",
       "3.0        45\n",
       "2.0         3\n",
       "Name: count, dtype: int64"
      ]
     },
     "execution_count": 534,
     "metadata": {},
     "output_type": "execute_result"
    }
   ],
   "source": [
    "df['gears'] = df.groupby(['make_model'])['gears'].transform(lambda x: x.fillna(x.mode()[0] if not x.mode().empty else np.nan))\n",
    "df['gears'] = df['gears'].fillna(method='ffill')\n",
    "df['gears'].value_counts(dropna=False)"
   ]
  },
  {
   "cell_type": "markdown",
   "id": "8d1cd581",
   "metadata": {},
   "source": [
    "# co2_emissions"
   ]
  },
  {
   "cell_type": "code",
   "execution_count": 536,
   "id": "74bb546f-4516-4aba-813d-5bed1bf2509f",
   "metadata": {},
   "outputs": [
    {
     "data": {
      "text/plain": [
       "co2_emissions\n",
       "NaN       9460\n",
       "0.0       1014\n",
       "119.0      366\n",
       "124.0      325\n",
       "99.0       302\n",
       "          ... \n",
       "343.0        1\n",
       "73.0         1\n",
       "1410.0       1\n",
       "70.0         1\n",
       "53.0         1\n",
       "Name: count, Length: 334, dtype: int64"
      ]
     },
     "execution_count": 536,
     "metadata": {},
     "output_type": "execute_result"
    }
   ],
   "source": [
    "df['co2_emissions'].value_counts(dropna=False)"
   ]
  },
  {
   "cell_type": "code",
   "execution_count": 537,
   "id": "cc71332d-71d1-493a-9fe0-a3bf3c4201fb",
   "metadata": {},
   "outputs": [
    {
     "data": {
      "text/plain": [
       "co2_emissions\n",
       "0.0       1470\n",
       "108.0      833\n",
       "105.0      758\n",
       "106.0      732\n",
       "111.0      604\n",
       "          ... \n",
       "343.0        1\n",
       "73.0         1\n",
       "1410.0       1\n",
       "304.0        1\n",
       "414.0        1\n",
       "Name: count, Length: 343, dtype: int64"
      ]
     },
     "execution_count": 537,
     "metadata": {},
     "output_type": "execute_result"
    }
   ],
   "source": [
    "df['co2_emissions'] = df.groupby(['engine_size', 'fuel_type'])['co2_emissions'].transform(lambda x: x.fillna(x.mean())).round()\n",
    "df['co2_emissions'] = df.groupby('make_model')['co2_emissions'].transform(lambda x: x.fillna(x.mean())).round()\n",
    "df['co2_emissions'].value_counts(dropna=False)"
   ]
  },
  {
   "cell_type": "code",
   "execution_count": 538,
   "id": "73f68344",
   "metadata": {},
   "outputs": [
    {
     "data": {
      "text/plain": [
       "108"
      ]
     },
     "execution_count": 538,
     "metadata": {},
     "output_type": "execute_result"
    }
   ],
   "source": [
    "df['co2_emissions'].isna().sum()"
   ]
  },
  {
   "cell_type": "code",
   "execution_count": 539,
   "id": "63decb92",
   "metadata": {},
   "outputs": [
    {
     "data": {
      "text/plain": [
       "0"
      ]
     },
     "execution_count": 539,
     "metadata": {},
     "output_type": "execute_result"
    }
   ],
   "source": [
    "df['co2_emissions'] = df.groupby(['fuel_type'])['co2_emissions'].transform(lambda x: x.fillna(x.mean())).round()\n",
    "df['co2_emissions'].isna().sum()"
   ]
  },
  {
   "cell_type": "markdown",
   "id": "9732f0f7",
   "metadata": {},
   "source": [
    "# drivetrain"
   ]
  },
  {
   "cell_type": "code",
   "execution_count": 541,
   "id": "4c8aed93-8044-45ab-89be-3918268c908b",
   "metadata": {},
   "outputs": [
    {
     "data": {
      "text/plain": [
       "drivetrain\n",
       "Front    11271\n",
       "NaN      11231\n",
       "4WD       2814\n",
       "Rear      1545\n",
       "Name: count, dtype: int64"
      ]
     },
     "execution_count": 541,
     "metadata": {},
     "output_type": "execute_result"
    }
   ],
   "source": [
    "df['drivetrain'].value_counts(dropna=False)"
   ]
  },
  {
   "cell_type": "code",
   "execution_count": 542,
   "id": "7377b241-d7d1-4cef-8e54-c2b0d883c3aa",
   "metadata": {},
   "outputs": [
    {
     "data": {
      "text/plain": [
       "drivetrain\n",
       "Front    19961\n",
       "4WD       3591\n",
       "Rear      2714\n",
       "NaN        595\n",
       "Name: count, dtype: int64"
      ]
     },
     "execution_count": 542,
     "metadata": {},
     "output_type": "execute_result"
    }
   ],
   "source": [
    "df['drivetrain'] = df.groupby(['body_type','make_model'])['drivetrain'].transform(lambda x: x.fillna(x.mode()[0] \n",
    "                                                                                        if not x.mode().empty else np.nan))\n",
    "df['drivetrain'].value_counts(dropna=False)"
   ]
  },
  {
   "cell_type": "code",
   "execution_count": 543,
   "id": "e80553be",
   "metadata": {},
   "outputs": [
    {
     "data": {
      "text/plain": [
       "drivetrain\n",
       "Front    20227\n",
       "4WD       3671\n",
       "Rear      2760\n",
       "NaN        203\n",
       "Name: count, dtype: int64"
      ]
     },
     "execution_count": 543,
     "metadata": {},
     "output_type": "execute_result"
    }
   ],
   "source": [
    "df['drivetrain'] = df.groupby('make_model')['drivetrain'].transform(lambda x: x.fillna(x.mode()[0] \n",
    "                                                                                        if not x.mode().empty else np.nan))\n",
    "df['drivetrain'].value_counts(dropna=False)"
   ]
  },
  {
   "cell_type": "code",
   "execution_count": 544,
   "id": "a8868ebd",
   "metadata": {},
   "outputs": [
    {
     "data": {
      "text/plain": [
       "drivetrain\n",
       "Front    20430\n",
       "4WD       3671\n",
       "Rear      2760\n",
       "Name: count, dtype: int64"
      ]
     },
     "execution_count": 544,
     "metadata": {},
     "output_type": "execute_result"
    }
   ],
   "source": [
    "df['drivetrain'] = df.groupby('body_type')['drivetrain'].transform(lambda x: x.fillna(x.mode()[0] \n",
    "                                                                                        if not x.mode().empty else np.nan))\n",
    "df['drivetrain'].value_counts(dropna=False)"
   ]
  },
  {
   "cell_type": "markdown",
   "id": "e36583d9",
   "metadata": {},
   "source": [
    "# cylinders"
   ]
  },
  {
   "cell_type": "code",
   "execution_count": 546,
   "id": "22e82896-9524-4fc0-959d-533c3c086bd1",
   "metadata": {},
   "outputs": [
    {
     "data": {
      "text/plain": [
       "cylinders\n",
       "4.0     12151\n",
       "NaN      9328\n",
       "3.0      3210\n",
       "6.0      1002\n",
       "8.0       537\n",
       "5.0       461\n",
       "2.0       102\n",
       "0.0        33\n",
       "1.0        21\n",
       "12.0        8\n",
       "7.0         6\n",
       "26.0        1\n",
       "16.0        1\n",
       "Name: count, dtype: int64"
      ]
     },
     "execution_count": 546,
     "metadata": {},
     "output_type": "execute_result"
    }
   ],
   "source": [
    "df['cylinders'].value_counts(dropna=False)"
   ]
  },
  {
   "cell_type": "code",
   "execution_count": 547,
   "id": "7b8639a1-4e5b-4cc8-902a-ac7fb4f91f6b",
   "metadata": {},
   "outputs": [
    {
     "data": {
      "text/plain": [
       "cylinders\n",
       "4.0     18470\n",
       "3.0      5037\n",
       "6.0      1526\n",
       "8.0       753\n",
       "5.0       602\n",
       "0.0       185\n",
       "1.0       136\n",
       "2.0       103\n",
       "7.0        36\n",
       "12.0       11\n",
       "26.0        1\n",
       "16.0        1\n",
       "Name: count, dtype: int64"
      ]
     },
     "execution_count": 547,
     "metadata": {},
     "output_type": "execute_result"
    }
   ],
   "source": [
    "df['cylinders'] = df.groupby(['make_model'])['cylinders'].transform(lambda x: x.fillna(x.mean())).round()\n",
    "df['cylinders'] = df['cylinders'].fillna(method='bfill')\n",
    "df['cylinders'].value_counts(dropna=False)"
   ]
  },
  {
   "cell_type": "markdown",
   "id": "7b23100c",
   "metadata": {},
   "source": [
    "# empty_weight"
   ]
  },
  {
   "cell_type": "code",
   "execution_count": 549,
   "id": "9a78e9c4-c6d9-40ca-b61e-5e348b8a11ae",
   "metadata": {},
   "outputs": [
    {
     "data": {
      "text/plain": [
       "empty_weight\n",
       "NaN       10367\n",
       "1395.0      233\n",
       "1055.0      224\n",
       "1165.0      197\n",
       "1320.0      191\n",
       "          ...  \n",
       "2288.0        1\n",
       "2306.0        1\n",
       "889.0         1\n",
       "1712.0        1\n",
       "1391.0        1\n",
       "Name: count, Length: 1219, dtype: int64"
      ]
     },
     "execution_count": 549,
     "metadata": {},
     "output_type": "execute_result"
    }
   ],
   "source": [
    "df['empty_weight'].value_counts(dropna=False)"
   ]
  },
  {
   "cell_type": "code",
   "execution_count": 550,
   "id": "c3870525-9437-4f78-9f4d-bc2ea51cd528",
   "metadata": {},
   "outputs": [
    {
     "data": {
      "text/plain": [
       "empty_weight\n",
       "1054.0    349\n",
       "1414.0    326\n",
       "1365.0    321\n",
       "1337.0    308\n",
       "1374.0    293\n",
       "         ... \n",
       "2232.0      1\n",
       "375.0       1\n",
       "2209.0      1\n",
       "1993.0      1\n",
       "1391.0      1\n",
       "Name: count, Length: 1284, dtype: int64"
      ]
     },
     "execution_count": 550,
     "metadata": {},
     "output_type": "execute_result"
    }
   ],
   "source": [
    "df['empty_weight'] = df.groupby(['make_model'])['empty_weight'].transform(lambda x: x.fillna(x.mean())).round()\n",
    "\n",
    "df['empty_weight'].value_counts(dropna=False)"
   ]
  },
  {
   "cell_type": "code",
   "execution_count": 551,
   "id": "23542f34",
   "metadata": {},
   "outputs": [
    {
     "data": {
      "text/plain": [
       "263"
      ]
     },
     "execution_count": 551,
     "metadata": {},
     "output_type": "execute_result"
    }
   ],
   "source": [
    "df['empty_weight'].isna().sum()"
   ]
  },
  {
   "cell_type": "code",
   "execution_count": 552,
   "id": "a403de1d",
   "metadata": {},
   "outputs": [
    {
     "data": {
      "text/plain": [
       "0"
      ]
     },
     "execution_count": 552,
     "metadata": {},
     "output_type": "execute_result"
    }
   ],
   "source": [
    "df['empty_weight'] = df.groupby(['body_type'])['empty_weight'].transform(lambda x: x.fillna(x.mean())).round()\n",
    "df['empty_weight'].isna().sum()"
   ]
  },
  {
   "cell_type": "markdown",
   "id": "10cf79f6",
   "metadata": {},
   "source": [
    "# gen_inspection"
   ]
  },
  {
   "cell_type": "code",
   "execution_count": 554,
   "id": "5c5df55e-171e-4868-b0c3-c8d6c627298e",
   "metadata": {},
   "outputs": [
    {
     "data": {
      "text/plain": [
       "gen_inspection\n",
       "NaN           20950\n",
       "2023-05-01      255\n",
       "2023-08-01      255\n",
       "2023-06-01      246\n",
       "2023-03-01      237\n",
       "2023-09-01      237\n",
       "2023-04-01      235\n",
       "2023-07-01      234\n",
       "2024-06-01      207\n",
       "2024-05-01      205\n",
       "2024-03-01      192\n",
       "2023-01-01      192\n",
       "2023-02-01      192\n",
       "2024-07-01      191\n",
       "2024-08-01      180\n",
       "2024-09-01      175\n",
       "2023-11-01      161\n",
       "2024-04-01      153\n",
       "2023-12-01      152\n",
       "2024-01-01      152\n",
       "2024-02-01      145\n",
       "2025-06-01      145\n",
       "2023-10-01      138\n",
       "2022-12-01      135\n",
       "2025-08-01      121\n",
       "2022-11-01      117\n",
       "2025-07-01      106\n",
       "2025-03-01       94\n",
       "2025-05-01       92\n",
       "2025-04-01       88\n",
       "2022-09-01       86\n",
       "2022-10-01       78\n",
       "2025-01-01       71\n",
       "2025-02-01       64\n",
       "2025-09-01       63\n",
       "2022-08-01       60\n",
       "2024-12-01       60\n",
       "2024-10-01       57\n",
       "2024-11-01       49\n",
       "2022-06-01       40\n",
       "2022-07-01       39\n",
       "2022-04-01       33\n",
       "2022-03-01       24\n",
       "2022-05-01       22\n",
       "2021-10-01       12\n",
       "2021-11-01        9\n",
       "2021-07-01        9\n",
       "2022-01-01        8\n",
       "2021-08-01        6\n",
       "2021-09-01        6\n",
       "2021-12-01        5\n",
       "2026-05-01        5\n",
       "2020-07-01        5\n",
       "2022-02-01        5\n",
       "2025-10-01        4\n",
       "2026-06-01        4\n",
       "2021-06-01        3\n",
       "2021-01-01        3\n",
       "2026-04-01        3\n",
       "2021-05-01        3\n",
       "2026-09-01        2\n",
       "2020-11-01        2\n",
       "2027-02-01        2\n",
       "2026-08-01        2\n",
       "2026-07-01        2\n",
       "2020-12-01        2\n",
       "2026-01-01        2\n",
       "2025-12-01        2\n",
       "2020-06-01        2\n",
       "2019-12-01        2\n",
       "2026-02-01        2\n",
       "2021-02-01        2\n",
       "2017-12-01        1\n",
       "2019-10-01        1\n",
       "2020-04-01        1\n",
       "2020-01-01        1\n",
       "2020-10-01        1\n",
       "2018-05-01        1\n",
       "2019-08-01        1\n",
       "2019-07-01        1\n",
       "2020-05-01        1\n",
       "2013-08-01        1\n",
       "2026-03-01        1\n",
       "2019-11-01        1\n",
       "2018-01-01        1\n",
       "2017-07-01        1\n",
       "2017-09-01        1\n",
       "2020-09-01        1\n",
       "2018-08-01        1\n",
       "2020-08-01        1\n",
       "2021-03-01        1\n",
       "Name: count, dtype: int64"
      ]
     },
     "execution_count": 554,
     "metadata": {},
     "output_type": "execute_result"
    }
   ],
   "source": [
    "df['gen_inspection'].value_counts(dropna=False)"
   ]
  },
  {
   "cell_type": "code",
   "execution_count": 555,
   "id": "fbf226b6-7d14-4ca8-87d9-1bfa39774ae6",
   "metadata": {},
   "outputs": [
    {
     "data": {
      "text/plain": [
       "array([nan, '2024-01-01', '2022-09-01', '2024-03-01', '2023-04-01',\n",
       "       '2024-08-01', '2024-07-01', '2024-09-01', '2024-06-01',\n",
       "       '2026-02-01', '2023-05-01', '2023-01-01', '2023-03-01',\n",
       "       '2026-05-01', '2023-08-01', '2024-04-01', '2025-01-01',\n",
       "       '2023-07-01', '2023-06-01', '2022-12-01', '2022-11-01',\n",
       "       '2023-02-01', '2023-09-01', '2023-11-01', '2024-05-01',\n",
       "       '2023-12-01', '2023-10-01', '2022-04-01', '2022-01-01',\n",
       "       '2025-08-01', '2025-05-01', '2022-05-01', '2024-02-01',\n",
       "       '2022-10-01', '2025-04-01', '2022-06-01', '2025-03-01',\n",
       "       '2025-09-01', '2020-09-01', '2022-08-01', '2020-06-01',\n",
       "       '2021-08-01', '2025-07-01', '2024-10-01', '2022-02-01',\n",
       "       '2024-12-01', '2022-07-01', '2025-06-01', '2024-11-01',\n",
       "       '2025-02-01', '2021-07-01', '2020-07-01', '2018-08-01',\n",
       "       '2021-09-01', '2021-10-01', '2022-03-01', '2021-12-01',\n",
       "       '2020-08-01', '2021-05-01', '2025-10-01', '2013-08-01',\n",
       "       '2021-01-01', '2021-11-01', '2021-06-01', '2026-04-01',\n",
       "       '2017-09-01', '2017-07-01', '2026-06-01', '2025-12-01',\n",
       "       '2026-09-01', '2018-01-01', '2019-11-01', '2026-03-01',\n",
       "       '2026-07-01', '2026-08-01', '2019-08-01', '2020-11-01',\n",
       "       '2020-05-01', '2019-07-01', '2017-12-01', '2018-05-01',\n",
       "       '2027-02-01', '2020-12-01', '2026-01-01', '2019-10-01',\n",
       "       '2020-04-01', '2020-01-01', '2019-12-01', '2021-02-01',\n",
       "       '2020-10-01', '2021-03-01'], dtype=object)"
      ]
     },
     "execution_count": 555,
     "metadata": {},
     "output_type": "execute_result"
    }
   ],
   "source": [
    "df['gen_inspection'].unique()"
   ]
  },
  {
   "cell_type": "code",
   "execution_count": 556,
   "id": "9b2d4e22-9925-424d-9e0d-312638920be9",
   "metadata": {},
   "outputs": [
    {
     "name": "stdout",
     "output_type": "stream",
     "text": [
      "      gen_inspection inspection_status\n",
      "0                NaT                no\n",
      "1                NaT                no\n",
      "2                NaT                no\n",
      "3                NaT                no\n",
      "4                NaT                no\n",
      "...              ...               ...\n",
      "26856            NaT                no\n",
      "26857     2023-08-01               yes\n",
      "26858            NaT                no\n",
      "26859            NaT                no\n",
      "26860     2023-05-01               yes\n",
      "\n",
      "[26861 rows x 2 columns]\n"
     ]
    },
    {
     "data": {
      "text/plain": [
       "inspection_status\n",
       "no     20980\n",
       "yes     5881\n",
       "Name: count, dtype: int64"
      ]
     },
     "execution_count": 556,
     "metadata": {},
     "output_type": "execute_result"
    }
   ],
   "source": [
    "\n",
    "df['gen_inspection'] = pd.to_datetime(df['gen_inspection'], errors='coerce')\n",
    "\n",
    "current_year = 2022\n",
    "two_years_ago = current_year - 2\n",
    "\n",
    "def inspect_status(date):\n",
    "    if pd.isna(date):\n",
    "        return 'no'   \n",
    "    elif date.year > current_year:\n",
    "        return 'yes'\n",
    "    elif date.year > two_years_ago:\n",
    "        return 'yes' \n",
    "    else:\n",
    "        return 'no'  \n",
    "\n",
    "df['inspection_status'] = df['gen_inspection'].apply(inspect_status)\n",
    "\n",
    "print(df[['gen_inspection', 'inspection_status']])\n",
    "df['inspection_status'].value_counts(dropna=False)"
   ]
  },
  {
   "cell_type": "code",
   "execution_count": 557,
   "id": "4f8f8e6b-37c9-473a-a841-d0c31dc61016",
   "metadata": {},
   "outputs": [],
   "source": [
    "df.drop(columns=['gen_inspection'], inplace=True)"
   ]
  },
  {
   "cell_type": "markdown",
   "id": "67a15287",
   "metadata": {},
   "source": [
    "# last_service"
   ]
  },
  {
   "cell_type": "code",
   "execution_count": 559,
   "id": "54d554a7-1b2d-44e5-80fd-6c95eaa0c3ec",
   "metadata": {},
   "outputs": [
    {
     "data": {
      "text/plain": [
       "last_service\n",
       "NaT           25011\n",
       "2022-09-01      207\n",
       "2022-08-01      182\n",
       "2022-06-01      152\n",
       "2022-07-01      143\n",
       "2022-05-01      138\n",
       "2022-04-01      120\n",
       "2022-03-01      120\n",
       "2022-01-01       93\n",
       "2022-02-01       82\n",
       "2021-12-01       66\n",
       "2021-10-01       63\n",
       "2021-09-01       57\n",
       "2021-06-01       55\n",
       "2021-07-01       46\n",
       "2021-11-01       43\n",
       "2021-08-01       35\n",
       "2021-05-01       28\n",
       "2021-03-01       24\n",
       "2021-04-01       20\n",
       "2021-01-01       16\n",
       "2020-07-01       15\n",
       "2020-11-01       14\n",
       "2021-02-01       13\n",
       "2020-10-01       13\n",
       "2020-01-01       11\n",
       "2020-05-01        8\n",
       "2020-09-01        8\n",
       "2020-12-01        7\n",
       "2019-05-01        7\n",
       "2019-10-01        7\n",
       "2022-10-01        6\n",
       "2020-06-01        6\n",
       "2020-08-01        6\n",
       "2018-09-01        4\n",
       "2018-01-01        3\n",
       "2020-03-01        3\n",
       "2020-04-01        2\n",
       "2019-07-01        2\n",
       "2018-05-01        2\n",
       "2019-01-01        2\n",
       "2017-06-01        1\n",
       "2023-03-01        1\n",
       "2010-08-01        1\n",
       "2016-09-01        1\n",
       "2012-01-01        1\n",
       "2017-07-01        1\n",
       "2022-11-01        1\n",
       "2018-06-01        1\n",
       "2019-06-01        1\n",
       "2017-03-01        1\n",
       "2007-02-01        1\n",
       "2019-02-01        1\n",
       "2017-04-01        1\n",
       "2016-02-01        1\n",
       "2019-11-01        1\n",
       "1988-11-01        1\n",
       "2018-02-01        1\n",
       "2011-02-01        1\n",
       "2013-10-01        1\n",
       "2017-08-01        1\n",
       "2019-08-01        1\n",
       "Name: count, dtype: int64"
      ]
     },
     "execution_count": 559,
     "metadata": {},
     "output_type": "execute_result"
    }
   ],
   "source": [
    "df['last_service'].value_counts(dropna=False)"
   ]
  },
  {
   "cell_type": "code",
   "execution_count": 560,
   "id": "e6f4f7b9-17c8-4b93-bfc1-e7cfd38a3267",
   "metadata": {},
   "outputs": [
    {
     "data": {
      "text/plain": [
       "last_service\n",
       "NaT           25011\n",
       "2022-09-01      207\n",
       "2022-08-01      182\n",
       "2022-06-01      152\n",
       "2022-07-01      143\n",
       "2022-05-01      138\n",
       "2022-04-01      120\n",
       "2022-03-01      120\n",
       "2022-01-01       93\n",
       "2022-02-01       82\n",
       "2021-12-01       66\n",
       "2021-10-01       63\n",
       "2021-09-01       57\n",
       "2021-06-01       55\n",
       "2021-07-01       46\n",
       "2021-11-01       43\n",
       "2021-08-01       35\n",
       "2021-05-01       28\n",
       "2021-03-01       24\n",
       "2021-04-01       20\n",
       "2021-01-01       16\n",
       "2020-07-01       15\n",
       "2020-11-01       14\n",
       "2021-02-01       13\n",
       "2020-10-01       13\n",
       "2020-01-01       11\n",
       "2020-05-01        8\n",
       "2020-09-01        8\n",
       "2020-12-01        7\n",
       "2019-05-01        7\n",
       "2019-10-01        7\n",
       "2022-10-01        6\n",
       "2020-06-01        6\n",
       "2020-08-01        6\n",
       "2018-09-01        4\n",
       "2018-01-01        3\n",
       "2020-03-01        3\n",
       "2020-04-01        2\n",
       "2019-07-01        2\n",
       "2018-05-01        2\n",
       "2019-01-01        2\n",
       "2017-06-01        1\n",
       "2023-03-01        1\n",
       "2010-08-01        1\n",
       "2016-09-01        1\n",
       "2012-01-01        1\n",
       "2017-07-01        1\n",
       "2022-11-01        1\n",
       "2018-06-01        1\n",
       "2019-06-01        1\n",
       "2017-03-01        1\n",
       "2007-02-01        1\n",
       "2019-02-01        1\n",
       "2017-04-01        1\n",
       "2016-02-01        1\n",
       "2019-11-01        1\n",
       "1988-11-01        1\n",
       "2018-02-01        1\n",
       "2011-02-01        1\n",
       "2013-10-01        1\n",
       "2017-08-01        1\n",
       "2019-08-01        1\n",
       "Name: count, dtype: int64"
      ]
     },
     "execution_count": 560,
     "metadata": {},
     "output_type": "execute_result"
    }
   ],
   "source": [
    "df['last_service'].value_counts(dropna=False)"
   ]
  },
  {
   "cell_type": "code",
   "execution_count": null,
   "id": "4bd6bc6b",
   "metadata": {},
   "outputs": [],
   "source": []
  },
  {
   "cell_type": "markdown",
   "id": "5ad8f1ce",
   "metadata": {},
   "source": [
    "# last_timing_belt"
   ]
  },
  {
   "cell_type": "code",
   "execution_count": 562,
   "id": "9ed13642-2c67-47e2-b20d-e9c0e2c4861f",
   "metadata": {},
   "outputs": [
    {
     "data": {
      "text/plain": [
       "last_timing_belt\n",
       "NaT           98.142288\n",
       "2022-08-01     0.093072\n",
       "2021-05-01     0.089349\n",
       "2022-04-01     0.085626\n",
       "2022-07-01     0.070735\n",
       "2022-03-01     0.067012\n",
       "2021-07-01     0.067012\n",
       "2022-05-01     0.063289\n",
       "2022-09-01     0.059566\n",
       "2021-06-01     0.059566\n",
       "2022-06-01     0.055843\n",
       "2021-01-01     0.044674\n",
       "2022-02-01     0.044674\n",
       "2021-10-01     0.044674\n",
       "2020-08-01     0.040952\n",
       "2020-07-01     0.040952\n",
       "2021-09-01     0.040952\n",
       "2020-05-01     0.037229\n",
       "2021-04-01     0.037229\n",
       "2019-07-01     0.037229\n",
       "2022-01-01     0.033506\n",
       "2021-08-01     0.033506\n",
       "2018-01-01     0.033506\n",
       "2020-06-01     0.029783\n",
       "2020-10-01     0.029783\n",
       "2020-09-01     0.029783\n",
       "2019-04-01     0.026060\n",
       "2020-04-01     0.026060\n",
       "2020-12-01     0.026060\n",
       "2021-11-01     0.022337\n",
       "2019-09-01     0.022337\n",
       "2021-03-01     0.022337\n",
       "2019-05-01     0.022337\n",
       "2019-06-01     0.018614\n",
       "2020-03-01     0.018614\n",
       "2017-08-01     0.018614\n",
       "2018-08-01     0.014891\n",
       "2019-11-01     0.014891\n",
       "2018-12-01     0.014891\n",
       "2021-12-01     0.014891\n",
       "2018-03-01     0.014891\n",
       "2019-01-01     0.014891\n",
       "2018-10-01     0.011169\n",
       "2018-06-01     0.011169\n",
       "2017-05-01     0.011169\n",
       "2017-01-01     0.011169\n",
       "2018-09-01     0.011169\n",
       "2016-06-01     0.011169\n",
       "2017-12-01     0.011169\n",
       "2020-02-01     0.011169\n",
       "2021-02-01     0.011169\n",
       "2017-04-01     0.007446\n",
       "2020-01-01     0.007446\n",
       "2017-09-01     0.007446\n",
       "2019-08-01     0.007446\n",
       "2016-10-01     0.007446\n",
       "2016-04-01     0.007446\n",
       "2020-11-01     0.007446\n",
       "2019-10-01     0.007446\n",
       "2018-05-01     0.007446\n",
       "2016-12-01     0.007446\n",
       "2017-06-01     0.007446\n",
       "2014-06-01     0.003723\n",
       "2016-09-01     0.003723\n",
       "2019-03-01     0.003723\n",
       "2014-05-01     0.003723\n",
       "2014-08-01     0.003723\n",
       "2017-11-01     0.003723\n",
       "2017-07-01     0.003723\n",
       "2019-02-01     0.003723\n",
       "2018-11-01     0.003723\n",
       "2017-10-01     0.003723\n",
       "2016-08-01     0.003723\n",
       "2015-07-01     0.003723\n",
       "2014-10-01     0.003723\n",
       "2019-12-01     0.003723\n",
       "2011-07-01     0.003723\n",
       "2016-05-01     0.003723\n",
       "2010-06-01     0.003723\n",
       "2018-02-01     0.003723\n",
       "2016-01-01     0.003723\n",
       "2018-07-01     0.003723\n",
       "2015-02-01     0.003723\n",
       "2015-08-01     0.003723\n",
       "2015-10-01     0.003723\n",
       "2018-04-01     0.003723\n",
       "2016-07-01     0.003723\n",
       "Name: proportion, dtype: float64"
      ]
     },
     "execution_count": 562,
     "metadata": {},
     "output_type": "execute_result"
    }
   ],
   "source": [
    "df['last_timing_belt'].value_counts(dropna=False,normalize=True)*100"
   ]
  },
  {
   "cell_type": "code",
   "execution_count": null,
   "id": "9ae0de17",
   "metadata": {},
   "outputs": [],
   "source": []
  },
  {
   "cell_type": "markdown",
   "id": "5747f4fb",
   "metadata": {},
   "source": [
    "# service_history"
   ]
  },
  {
   "cell_type": "code",
   "execution_count": 564,
   "id": "7cc621d7-c720-495e-8862-63ebe3b43855",
   "metadata": {},
   "outputs": [
    {
     "data": {
      "text/plain": [
       "service_history\n",
       "NaN    15132\n",
       "Yes    11729\n",
       "Name: count, dtype: int64"
      ]
     },
     "execution_count": 564,
     "metadata": {},
     "output_type": "execute_result"
    }
   ],
   "source": [
    "df['service_history'].value_counts(dropna=False)"
   ]
  },
  {
   "cell_type": "code",
   "execution_count": 565,
   "id": "0716057c-fd10-4d33-8562-8563cf10900d",
   "metadata": {},
   "outputs": [
    {
     "data": {
      "text/plain": [
       "service_history\n",
       "NaN    14404\n",
       "Yes    12457\n",
       "Name: count, dtype: int64"
      ]
     },
     "execution_count": 565,
     "metadata": {},
     "output_type": "execute_result"
    }
   ],
   "source": [
    "df['service_history'] = np.where(df['service_history'].isna() & (df['last_service'].notna() | df['last_timing_belt'].notna()), \n",
    "                                  'Yes', df['service_history'])\n",
    "df['service_history'].value_counts(dropna=False)"
   ]
  },
  {
   "cell_type": "code",
   "execution_count": 566,
   "id": "ae660b20-c581-42eb-a338-34412a773658",
   "metadata": {},
   "outputs": [
    {
     "data": {
      "text/plain": [
       "service_history\n",
       "No     14404\n",
       "Yes    12457\n",
       "Name: count, dtype: int64"
      ]
     },
     "execution_count": 566,
     "metadata": {},
     "output_type": "execute_result"
    }
   ],
   "source": [
    "df['service_history'].fillna('No', inplace=True)\n",
    "df['service_history'].value_counts(dropna=False)"
   ]
  },
  {
   "cell_type": "code",
   "execution_count": 567,
   "id": "9b4bcd18-dda9-4b8b-acb5-df526ad2d3b9",
   "metadata": {},
   "outputs": [],
   "source": [
    "df.drop(columns=['last_timing_belt'], inplace=True)"
   ]
  },
  {
   "cell_type": "code",
   "execution_count": 568,
   "id": "85a6e910",
   "metadata": {},
   "outputs": [],
   "source": [
    "df.drop(columns=['last_service'], inplace=True)"
   ]
  },
  {
   "cell_type": "markdown",
   "id": "e01ec6ea-08ed-412d-b801-4c4ed6127a7e",
   "metadata": {},
   "source": [
    "#  Non Smoker"
   ]
  },
  {
   "cell_type": "code",
   "execution_count": 570,
   "id": "579f9341-5ccc-4be9-8d64-65925834c8df",
   "metadata": {},
   "outputs": [
    {
     "data": {
      "text/plain": [
       "non_smoker\n",
       "Yes    10918\n",
       "Name: count, dtype: int64"
      ]
     },
     "execution_count": 570,
     "metadata": {},
     "output_type": "execute_result"
    }
   ],
   "source": [
    "df.non_smoker.value_counts()"
   ]
  },
  {
   "cell_type": "code",
   "execution_count": 571,
   "id": "ede926ca-1edc-4729-a702-82071bee8424",
   "metadata": {},
   "outputs": [
    {
     "data": {
      "text/plain": [
       "array([nan, 'Yes'], dtype=object)"
      ]
     },
     "execution_count": 571,
     "metadata": {},
     "output_type": "execute_result"
    }
   ],
   "source": [
    "df.non_smoker.unique()"
   ]
  },
  {
   "cell_type": "code",
   "execution_count": 572,
   "id": "fa486abe-4920-4156-be04-a84772ccc256",
   "metadata": {},
   "outputs": [],
   "source": [
    "\n",
    "#fill missing non smoker values with No\n",
    "df['non_smoker'] = df['non_smoker'].fillna('No')"
   ]
  },
  {
   "cell_type": "code",
   "execution_count": 573,
   "id": "4973cdfe-01ca-46b2-98b2-004717d75dec",
   "metadata": {},
   "outputs": [
    {
     "data": {
      "text/plain": [
       "non_smoker\n",
       "No     15943\n",
       "Yes    10918\n",
       "Name: count, dtype: int64"
      ]
     },
     "execution_count": 573,
     "metadata": {},
     "output_type": "execute_result"
    }
   ],
   "source": [
    "df.non_smoker.value_counts()"
   ]
  },
  {
   "cell_type": "markdown",
   "id": "56019534-d2be-497a-bc59-fd81f6aaa974",
   "metadata": {},
   "source": [
    "# 29. emission_class "
   ]
  },
  {
   "cell_type": "code",
   "execution_count": 575,
   "id": "67cfd125-15c0-479c-9159-82b48c15e01c",
   "metadata": {},
   "outputs": [
    {
     "data": {
      "text/plain": [
       "emission_class\n",
       "NaN             10132\n",
       "Euro 6           6162\n",
       "Euro 6d-TEMP     3134\n",
       "Euro 6d          2714\n",
       "Euro 5           2262\n",
       "Euro 4           1517\n",
       "Euro 3            449\n",
       "Euro 2            197\n",
       "Euro 1            160\n",
       "Euro 6c           134\n",
       "Name: count, dtype: int64"
      ]
     },
     "execution_count": 575,
     "metadata": {},
     "output_type": "execute_result"
    }
   ],
   "source": [
    "df.emission_class.value_counts(dropna=False)"
   ]
  },
  {
   "cell_type": "code",
   "execution_count": 576,
   "id": "3544fdaf-c7ca-4bb6-8da9-fdd1599c3653",
   "metadata": {},
   "outputs": [
    {
     "data": {
      "text/plain": [
       "emission_sticker\n",
       "NaN           17871\n",
       "Green          8809\n",
       "No sticker      173\n",
       "Yellow            6\n",
       "Red               2\n",
       "Name: count, dtype: int64"
      ]
     },
     "execution_count": 576,
     "metadata": {},
     "output_type": "execute_result"
    }
   ],
   "source": [
    "df.emission_sticker.value_counts(dropna=False)"
   ]
  },
  {
   "attachments": {
    "image.png": {
     "image/png": "[encoded data removed]"
    }
   },
   "cell_type": "markdown",
   "id": "9009a6c9-4e95-4df1-bca3-b4cf5b53b8d0",
   "metadata": {},
   "source": [
    "![image.png](attachment:image.png)"
   ]
  },
  {
   "cell_type": "code",
   "execution_count": 578,
   "id": "b6a8b16c-d6d1-49cb-b1d1-a6ede8986570",
   "metadata": {},
   "outputs": [],
   "source": [
    "# Define the function to determine the emission sticker based on the emission class\n",
    "def get_emission_sticker(emission_class, emission_sticker):\n",
    "    if pd.notna(emission_sticker):\n",
    "        return emission_sticker\n",
    "    if pd.isna(emission_class):\n",
    "        return np.nan\n",
    "    if emission_class == 'Euro 1':\n",
    "        return 'No sticker'\n",
    "    if emission_class == 'Euro 2':\n",
    "        return 'Red'\n",
    "    if emission_class == 'Euro 3':\n",
    "        return 'Yellow'\n",
    "    if emission_class == np.nan:\n",
    "        return np.nan\n",
    "    else:\n",
    "        return 'Green'\n",
    "  "
   ]
  },
  {
   "cell_type": "code",
   "execution_count": null,
   "id": "1ffc93cf-2cfe-4508-ac07-79e23b5d2097",
   "metadata": {},
   "outputs": [],
   "source": []
  },
  {
   "cell_type": "code",
   "execution_count": 579,
   "id": "7d048ee9-e36f-4974-917c-e7821688815e",
   "metadata": {},
   "outputs": [],
   "source": [
    "# Fill missing emission stickers based on the emission class\n",
    "df['emission_sticker'] = df.apply(lambda row: get_emission_sticker(row['emission_class'], row['emission_sticker']), axis=1)"
   ]
  },
  {
   "cell_type": "code",
   "execution_count": 580,
   "id": "99437237-e763-43ac-9e7c-1af40a6b2568",
   "metadata": {},
   "outputs": [
    {
     "data": {
      "text/plain": [
       "emission_sticker\n",
       "Green         16370\n",
       "NaN            9663\n",
       "Yellow          361\n",
       "No sticker      311\n",
       "Red             156\n",
       "Name: count, dtype: int64"
      ]
     },
     "execution_count": 580,
     "metadata": {},
     "output_type": "execute_result"
    }
   ],
   "source": [
    "df.emission_sticker.value_counts(dropna=False)"
   ]
  },
  {
   "cell_type": "code",
   "execution_count": 581,
   "id": "1475a676-892b-412a-b42d-a7c957e30893",
   "metadata": {},
   "outputs": [
    {
     "data": {
      "text/plain": [
       "9663"
      ]
     },
     "execution_count": 581,
     "metadata": {},
     "output_type": "execute_result"
    }
   ],
   "source": [
    "df['emission_sticker'].isna().sum()\n"
   ]
  },
  {
   "cell_type": "code",
   "execution_count": 582,
   "id": "c5277a48-2066-4eac-ac00-61f67cb269c6",
   "metadata": {},
   "outputs": [
    {
     "data": {
      "text/html": [
       "<div>\n",
       "<style scoped>\n",
       "    .dataframe tbody tr th:only-of-type {\n",
       "        vertical-align: middle;\n",
       "    }\n",
       "\n",
       "    .dataframe tbody tr th {\n",
       "        vertical-align: top;\n",
       "    }\n",
       "\n",
       "    .dataframe thead th {\n",
       "        text-align: right;\n",
       "    }\n",
       "</style>\n",
       "<table border=\"1\" class=\"dataframe\">\n",
       "  <thead>\n",
       "    <tr style=\"text-align: right;\">\n",
       "      <th></th>\n",
       "      <th>short_description</th>\n",
       "      <th>emission_sticker</th>\n",
       "    </tr>\n",
       "  </thead>\n",
       "  <tbody>\n",
       "    <tr>\n",
       "      <th>24</th>\n",
       "      <td>d 4Matic (EURO 6d)</td>\n",
       "      <td>NaN</td>\n",
       "    </tr>\n",
       "    <tr>\n",
       "      <th>37</th>\n",
       "      <td>d AMG Line (EURO 6d)</td>\n",
       "      <td>NaN</td>\n",
       "    </tr>\n",
       "    <tr>\n",
       "      <th>238</th>\n",
       "      <td>d 4Matic AMG Line (EURO 6d)</td>\n",
       "      <td>NaN</td>\n",
       "    </tr>\n",
       "    <tr>\n",
       "      <th>339</th>\n",
       "      <td>4Matic Coupe 4Matic+ (EURO 6d-TEMP)</td>\n",
       "      <td>NaN</td>\n",
       "    </tr>\n",
       "    <tr>\n",
       "      <th>350</th>\n",
       "      <td>S 4Matic+ 4Matic (EURO 6d)</td>\n",
       "      <td>NaN</td>\n",
       "    </tr>\n",
       "    <tr>\n",
       "      <th>365</th>\n",
       "      <td>de 4Matic AMG Line (EURO 6d)</td>\n",
       "      <td>NaN</td>\n",
       "    </tr>\n",
       "    <tr>\n",
       "      <th>901</th>\n",
       "      <td>4Matic (EURO 6d-TEMP)</td>\n",
       "      <td>NaN</td>\n",
       "    </tr>\n",
       "    <tr>\n",
       "      <th>1036</th>\n",
       "      <td>*AMG-LINE*LED*MBUX*NAVI*PDC*CAMERA*EURO6*</td>\n",
       "      <td>NaN</td>\n",
       "    </tr>\n",
       "    <tr>\n",
       "      <th>2112</th>\n",
       "      <td>MODEL 2017  EURO6 Norme LEZ2030 !DEPOT VENTE!</td>\n",
       "      <td>NaN</td>\n",
       "    </tr>\n",
       "    <tr>\n",
       "      <th>2341</th>\n",
       "      <td>d AMG Line (EURO 6d-TEMP)</td>\n",
       "      <td>NaN</td>\n",
       "    </tr>\n",
       "    <tr>\n",
       "      <th>5092</th>\n",
       "      <td>1.0 SCe 70ch Life 2 Boîte Courte Euro6</td>\n",
       "      <td>NaN</td>\n",
       "    </tr>\n",
       "    <tr>\n",
       "      <th>5663</th>\n",
       "      <td>RENAULT ALPINE GTA 19900 EURO PRIVE</td>\n",
       "      <td>NaN</td>\n",
       "    </tr>\n",
       "    <tr>\n",
       "      <th>6472</th>\n",
       "      <td>1.2 TCe 120ch energy Intens EDC Euro6 2015</td>\n",
       "      <td>NaN</td>\n",
       "    </tr>\n",
       "    <tr>\n",
       "      <th>6600</th>\n",
       "      <td>Luxe Privilege 2.0 16V EU4</td>\n",
       "      <td>NaN</td>\n",
       "    </tr>\n",
       "    <tr>\n",
       "      <th>6624</th>\n",
       "      <td>1.5 dCi 90ch energy Extrem FT Euro6</td>\n",
       "      <td>NaN</td>\n",
       "    </tr>\n",
       "    <tr>\n",
       "      <th>6815</th>\n",
       "      <td>Energy TCe 120 EDC Euro 6 Intens</td>\n",
       "      <td>NaN</td>\n",
       "    </tr>\n",
       "    <tr>\n",
       "      <th>7054</th>\n",
       "      <td>4 Energy dCi 75 eco2 Euro 6 Business</td>\n",
       "      <td>NaN</td>\n",
       "    </tr>\n",
       "    <tr>\n",
       "      <th>10612</th>\n",
       "      <td>1.3 MultiJet Lounge 95cv S&amp;S EU6 5 PORTE BERLINA</td>\n",
       "      <td>NaN</td>\n",
       "    </tr>\n",
       "    <tr>\n",
       "      <th>11396</th>\n",
       "      <td>1.2i Anne 11/2016 Euro 6 Accidentée Airco</td>\n",
       "      <td>NaN</td>\n",
       "    </tr>\n",
       "    <tr>\n",
       "      <th>11475</th>\n",
       "      <td>1.2 Lounge 69cv EU6</td>\n",
       "      <td>NaN</td>\n",
       "    </tr>\n",
       "    <tr>\n",
       "      <th>11477</th>\n",
       "      <td>1.2 Lounge 69cv EU6</td>\n",
       "      <td>NaN</td>\n",
       "    </tr>\n",
       "    <tr>\n",
       "      <th>12407</th>\n",
       "      <td>Ateca 1.5 TSI ACT Xcellence OPF (EURO 6d-TEMP)</td>\n",
       "      <td>Green</td>\n",
       "    </tr>\n",
       "    <tr>\n",
       "      <th>12766</th>\n",
       "      <td>CUPRA ST 2.0 TSI ST Cupra 4Drive OPF(EURO 6d-T...</td>\n",
       "      <td>NaN</td>\n",
       "    </tr>\n",
       "    <tr>\n",
       "      <th>14410</th>\n",
       "      <td>2.0 CR TDi Sportline DSG(EU6.2)*AUTOMAAT*PDC*</td>\n",
       "      <td>NaN</td>\n",
       "    </tr>\n",
       "    <tr>\n",
       "      <th>14868</th>\n",
       "      <td>Active 1.0 TSI EU6 PTS NSW Smartl.</td>\n",
       "      <td>NaN</td>\n",
       "    </tr>\n",
       "    <tr>\n",
       "      <th>14869</th>\n",
       "      <td>Ambition 1.0 MPI EU6 LMR NSW PTS LED</td>\n",
       "      <td>NaN</td>\n",
       "    </tr>\n",
       "    <tr>\n",
       "      <th>15202</th>\n",
       "      <td>II Ambiance Klima Alu Euro6</td>\n",
       "      <td>NaN</td>\n",
       "    </tr>\n",
       "    <tr>\n",
       "      <th>15292</th>\n",
       "      <td>Van Ambiance dCi 90 EU6</td>\n",
       "      <td>NaN</td>\n",
       "    </tr>\n",
       "    <tr>\n",
       "      <th>15786</th>\n",
       "      <td>Ambiance TCE 125 4X2 EU6</td>\n",
       "      <td>NaN</td>\n",
       "    </tr>\n",
       "    <tr>\n",
       "      <th>15864</th>\n",
       "      <td>1.5 DCI 110CH PRESTIGE 4X4 EURO6</td>\n",
       "      <td>NaN</td>\n",
       "    </tr>\n",
       "    <tr>\n",
       "      <th>15967</th>\n",
       "      <td>dCi 90 Stepway EU6 90CV</td>\n",
       "      <td>NaN</td>\n",
       "    </tr>\n",
       "    <tr>\n",
       "      <th>15968</th>\n",
       "      <td>MCV Laureate TCE 90 EU6</td>\n",
       "      <td>NaN</td>\n",
       "    </tr>\n",
       "    <tr>\n",
       "      <th>15971</th>\n",
       "      <td>MCV Laureate TCE 90 EU6</td>\n",
       "      <td>NaN</td>\n",
       "    </tr>\n",
       "    <tr>\n",
       "      <th>15991</th>\n",
       "      <td>MCV Laureate TCE 90 EU6</td>\n",
       "      <td>NaN</td>\n",
       "    </tr>\n",
       "    <tr>\n",
       "      <th>16014</th>\n",
       "      <td>1.5 DCI 110CH PRESTIGE 4X2 EURO6</td>\n",
       "      <td>NaN</td>\n",
       "    </tr>\n",
       "    <tr>\n",
       "      <th>16084</th>\n",
       "      <td>1.5 DCI 110CH PRESTIGE 4X2 EURO6</td>\n",
       "      <td>NaN</td>\n",
       "    </tr>\n",
       "    <tr>\n",
       "      <th>16109</th>\n",
       "      <td>1.5 DCI 110CH PRESTIGE 4X2 EURO6</td>\n",
       "      <td>NaN</td>\n",
       "    </tr>\n",
       "    <tr>\n",
       "      <th>16143</th>\n",
       "      <td>1.5 DCI 110CH PRESTIGE 4X2 EURO6</td>\n",
       "      <td>NaN</td>\n",
       "    </tr>\n",
       "    <tr>\n",
       "      <th>16162</th>\n",
       "      <td>1.5 DCI 110CH PRESTIGE 4X4 EURO6</td>\n",
       "      <td>NaN</td>\n",
       "    </tr>\n",
       "    <tr>\n",
       "      <th>16444</th>\n",
       "      <td>Laureate TCE 90 EU6</td>\n",
       "      <td>NaN</td>\n",
       "    </tr>\n",
       "    <tr>\n",
       "      <th>16450</th>\n",
       "      <td>Stepway TCE 90 EU6</td>\n",
       "      <td>NaN</td>\n",
       "    </tr>\n",
       "    <tr>\n",
       "      <th>16462</th>\n",
       "      <td>Stepway TCE 90 EU6</td>\n",
       "      <td>NaN</td>\n",
       "    </tr>\n",
       "    <tr>\n",
       "      <th>16478</th>\n",
       "      <td>Ambiance dCi 55kW (75CV) EU6</td>\n",
       "      <td>NaN</td>\n",
       "    </tr>\n",
       "    <tr>\n",
       "      <th>16486</th>\n",
       "      <td>Ambiance 1.2 75 EU6</td>\n",
       "      <td>NaN</td>\n",
       "    </tr>\n",
       "    <tr>\n",
       "      <th>16497</th>\n",
       "      <td>Ambiance 1.2 75 EU6</td>\n",
       "      <td>NaN</td>\n",
       "    </tr>\n",
       "    <tr>\n",
       "      <th>16507</th>\n",
       "      <td>Stepway dCi 90 EU6</td>\n",
       "      <td>NaN</td>\n",
       "    </tr>\n",
       "    <tr>\n",
       "      <th>16517</th>\n",
       "      <td>Ambiance 1.2 75 EU6</td>\n",
       "      <td>NaN</td>\n",
       "    </tr>\n",
       "    <tr>\n",
       "      <th>16520</th>\n",
       "      <td>Laureate TCE 66kW (90CV) EU6</td>\n",
       "      <td>NaN</td>\n",
       "    </tr>\n",
       "    <tr>\n",
       "      <th>16525</th>\n",
       "      <td>Ambiance 1.2 75 EU6</td>\n",
       "      <td>NaN</td>\n",
       "    </tr>\n",
       "    <tr>\n",
       "      <th>16529</th>\n",
       "      <td>Ambiance 1.2 75 EU6</td>\n",
       "      <td>NaN</td>\n",
       "    </tr>\n",
       "    <tr>\n",
       "      <th>16534</th>\n",
       "      <td>Ambiance 1.2 75 EU6</td>\n",
       "      <td>NaN</td>\n",
       "    </tr>\n",
       "    <tr>\n",
       "      <th>16536</th>\n",
       "      <td>Ambiance 1.2 75 EU6</td>\n",
       "      <td>NaN</td>\n",
       "    </tr>\n",
       "    <tr>\n",
       "      <th>16543</th>\n",
       "      <td>Ambiance 1.2 75 EU6</td>\n",
       "      <td>NaN</td>\n",
       "    </tr>\n",
       "    <tr>\n",
       "      <th>16546</th>\n",
       "      <td>Ambiance 1.2 75 EU6</td>\n",
       "      <td>NaN</td>\n",
       "    </tr>\n",
       "    <tr>\n",
       "      <th>16548</th>\n",
       "      <td>Ambiance 1.2 75 EU6</td>\n",
       "      <td>NaN</td>\n",
       "    </tr>\n",
       "    <tr>\n",
       "      <th>16558</th>\n",
       "      <td>Ambiance TCE 66kW GLP EU6</td>\n",
       "      <td>NaN</td>\n",
       "    </tr>\n",
       "    <tr>\n",
       "      <th>16560</th>\n",
       "      <td>Ambiance dCi 55kW (75CV) EU6</td>\n",
       "      <td>NaN</td>\n",
       "    </tr>\n",
       "    <tr>\n",
       "      <th>16561</th>\n",
       "      <td>Ambiance 1.2 75 EU6</td>\n",
       "      <td>NaN</td>\n",
       "    </tr>\n",
       "    <tr>\n",
       "      <th>16566</th>\n",
       "      <td>Stepway TCE 90 EU6</td>\n",
       "      <td>NaN</td>\n",
       "    </tr>\n",
       "    <tr>\n",
       "      <th>16568</th>\n",
       "      <td>Ambiance 1.2 75 EU6</td>\n",
       "      <td>NaN</td>\n",
       "    </tr>\n",
       "    <tr>\n",
       "      <th>16573</th>\n",
       "      <td>Stepway TCE 90 EU6</td>\n",
       "      <td>NaN</td>\n",
       "    </tr>\n",
       "    <tr>\n",
       "      <th>16580</th>\n",
       "      <td>Ambiance 1.2 75 EU6</td>\n",
       "      <td>NaN</td>\n",
       "    </tr>\n",
       "    <tr>\n",
       "      <th>16583</th>\n",
       "      <td>Stepway TCE 90 EU6</td>\n",
       "      <td>NaN</td>\n",
       "    </tr>\n",
       "    <tr>\n",
       "      <th>16586</th>\n",
       "      <td>Stepway TCE 90 EU6</td>\n",
       "      <td>NaN</td>\n",
       "    </tr>\n",
       "    <tr>\n",
       "      <th>17694</th>\n",
       "      <td>1.8 Hybrid Team D UVP 34.524,50 EURO</td>\n",
       "      <td>NaN</td>\n",
       "    </tr>\n",
       "    <tr>\n",
       "      <th>19898</th>\n",
       "      <td>1.5 dCi 110ch Connect Edition Euro6</td>\n",
       "      <td>NaN</td>\n",
       "    </tr>\n",
       "    <tr>\n",
       "      <th>19903</th>\n",
       "      <td>1.6 dCi 130ch N-Connecta Euro6</td>\n",
       "      <td>NaN</td>\n",
       "    </tr>\n",
       "    <tr>\n",
       "      <th>19929</th>\n",
       "      <td>1.5 dCi 110ch N-Connecta Euro6 7 places</td>\n",
       "      <td>NaN</td>\n",
       "    </tr>\n",
       "    <tr>\n",
       "      <th>20042</th>\n",
       "      <td>1.6 DCI 130CH N-CONNECTA XTRONIC EURO6</td>\n",
       "      <td>NaN</td>\n",
       "    </tr>\n",
       "    <tr>\n",
       "      <th>20056</th>\n",
       "      <td>1.6 dCi 130ch N-Connecta Euro6</td>\n",
       "      <td>NaN</td>\n",
       "    </tr>\n",
       "    <tr>\n",
       "      <th>20063</th>\n",
       "      <td>1.6 DIG-T 163CH N-CONNECTA EURO6</td>\n",
       "      <td>NaN</td>\n",
       "    </tr>\n",
       "    <tr>\n",
       "      <th>20071</th>\n",
       "      <td>1.6 DCI 130CH N-CONNECTA XTRONIC EURO6 7 PLACES</td>\n",
       "      <td>NaN</td>\n",
       "    </tr>\n",
       "    <tr>\n",
       "      <th>20088</th>\n",
       "      <td>1.6 DCI 130CH N-CONNECTA EURO6</td>\n",
       "      <td>NaN</td>\n",
       "    </tr>\n",
       "    <tr>\n",
       "      <th>20101</th>\n",
       "      <td>1.5 dCi 110ch Connect Edition Euro6</td>\n",
       "      <td>NaN</td>\n",
       "    </tr>\n",
       "    <tr>\n",
       "      <th>20170</th>\n",
       "      <td>1.6 dCi 130ch Tekna All-Mode 4x4-i Euro6 7 places</td>\n",
       "      <td>NaN</td>\n",
       "    </tr>\n",
       "    <tr>\n",
       "      <th>20183</th>\n",
       "      <td>1.6 dCi 130ch Tekna Xtronic Euro6</td>\n",
       "      <td>NaN</td>\n",
       "    </tr>\n",
       "    <tr>\n",
       "      <th>20221</th>\n",
       "      <td>1.6 DCI 130CH WHITE EDITION EURO6 7 PLACES</td>\n",
       "      <td>NaN</td>\n",
       "    </tr>\n",
       "    <tr>\n",
       "      <th>20315</th>\n",
       "      <td>DIG-T EU6 85 kW (115 CV) ACENTA</td>\n",
       "      <td>NaN</td>\n",
       "    </tr>\n",
       "    <tr>\n",
       "      <th>20527</th>\n",
       "      <td>dCi EU6 81 kW (110 CV) ACENTA</td>\n",
       "      <td>NaN</td>\n",
       "    </tr>\n",
       "    <tr>\n",
       "      <th>20547</th>\n",
       "      <td>dCi EU6 81 kW (110 CV) 6M/T VISIA</td>\n",
       "      <td>NaN</td>\n",
       "    </tr>\n",
       "    <tr>\n",
       "      <th>20597</th>\n",
       "      <td>DIG-T EU6 85 kW (115 CV) ACENTA</td>\n",
       "      <td>NaN</td>\n",
       "    </tr>\n",
       "    <tr>\n",
       "      <th>20624</th>\n",
       "      <td>DIG-T EU6 85 kW (115 CV) ACENTA</td>\n",
       "      <td>NaN</td>\n",
       "    </tr>\n",
       "    <tr>\n",
       "      <th>21379</th>\n",
       "      <td>GT Convertible B&amp;O DAB 1.Hand  EU Modell</td>\n",
       "      <td>NaN</td>\n",
       "    </tr>\n",
       "    <tr>\n",
       "      <th>21982</th>\n",
       "      <td>Nuevo  ST-LINE 1.5 EcoBlue 88,3KW (120CV) Euro...</td>\n",
       "      <td>NaN</td>\n",
       "    </tr>\n",
       "    <tr>\n",
       "      <th>22029</th>\n",
       "      <td>Nuevo  ST-LINE X 1.5 EcoBoost 110KW (150CV) Eu...</td>\n",
       "      <td>NaN</td>\n",
       "    </tr>\n",
       "    <tr>\n",
       "      <th>26422</th>\n",
       "      <td>2.0 D3 Euro 6 150 pk</td>\n",
       "      <td>NaN</td>\n",
       "    </tr>\n",
       "  </tbody>\n",
       "</table>\n",
       "</div>"
      ],
      "text/plain": [
       "                                       short_description emission_sticker\n",
       "24                                    d 4Matic (EURO 6d)              NaN\n",
       "37                                  d AMG Line (EURO 6d)              NaN\n",
       "238                          d 4Matic AMG Line (EURO 6d)              NaN\n",
       "339                  4Matic Coupe 4Matic+ (EURO 6d-TEMP)              NaN\n",
       "350                           S 4Matic+ 4Matic (EURO 6d)              NaN\n",
       "365                         de 4Matic AMG Line (EURO 6d)              NaN\n",
       "901                                4Matic (EURO 6d-TEMP)              NaN\n",
       "1036           *AMG-LINE*LED*MBUX*NAVI*PDC*CAMERA*EURO6*              NaN\n",
       "2112       MODEL 2017  EURO6 Norme LEZ2030 !DEPOT VENTE!              NaN\n",
       "2341                           d AMG Line (EURO 6d-TEMP)              NaN\n",
       "5092              1.0 SCe 70ch Life 2 Boîte Courte Euro6              NaN\n",
       "5663                 RENAULT ALPINE GTA 19900 EURO PRIVE              NaN\n",
       "6472          1.2 TCe 120ch energy Intens EDC Euro6 2015              NaN\n",
       "6600                          Luxe Privilege 2.0 16V EU4              NaN\n",
       "6624                 1.5 dCi 90ch energy Extrem FT Euro6              NaN\n",
       "6815                    Energy TCe 120 EDC Euro 6 Intens              NaN\n",
       "7054                4 Energy dCi 75 eco2 Euro 6 Business              NaN\n",
       "10612   1.3 MultiJet Lounge 95cv S&S EU6 5 PORTE BERLINA              NaN\n",
       "11396          1.2i Anne 11/2016 Euro 6 Accidentée Airco              NaN\n",
       "11475                                1.2 Lounge 69cv EU6              NaN\n",
       "11477                                1.2 Lounge 69cv EU6              NaN\n",
       "12407     Ateca 1.5 TSI ACT Xcellence OPF (EURO 6d-TEMP)            Green\n",
       "12766  CUPRA ST 2.0 TSI ST Cupra 4Drive OPF(EURO 6d-T...              NaN\n",
       "14410      2.0 CR TDi Sportline DSG(EU6.2)*AUTOMAAT*PDC*              NaN\n",
       "14868                 Active 1.0 TSI EU6 PTS NSW Smartl.              NaN\n",
       "14869               Ambition 1.0 MPI EU6 LMR NSW PTS LED              NaN\n",
       "15202                        II Ambiance Klima Alu Euro6              NaN\n",
       "15292                            Van Ambiance dCi 90 EU6              NaN\n",
       "15786                           Ambiance TCE 125 4X2 EU6              NaN\n",
       "15864                   1.5 DCI 110CH PRESTIGE 4X4 EURO6              NaN\n",
       "15967                            dCi 90 Stepway EU6 90CV              NaN\n",
       "15968                            MCV Laureate TCE 90 EU6              NaN\n",
       "15971                            MCV Laureate TCE 90 EU6              NaN\n",
       "15991                            MCV Laureate TCE 90 EU6              NaN\n",
       "16014                   1.5 DCI 110CH PRESTIGE 4X2 EURO6              NaN\n",
       "16084                   1.5 DCI 110CH PRESTIGE 4X2 EURO6              NaN\n",
       "16109                   1.5 DCI 110CH PRESTIGE 4X2 EURO6              NaN\n",
       "16143                   1.5 DCI 110CH PRESTIGE 4X2 EURO6              NaN\n",
       "16162                   1.5 DCI 110CH PRESTIGE 4X4 EURO6              NaN\n",
       "16444                                Laureate TCE 90 EU6              NaN\n",
       "16450                                 Stepway TCE 90 EU6              NaN\n",
       "16462                                 Stepway TCE 90 EU6              NaN\n",
       "16478                       Ambiance dCi 55kW (75CV) EU6              NaN\n",
       "16486                                Ambiance 1.2 75 EU6              NaN\n",
       "16497                                Ambiance 1.2 75 EU6              NaN\n",
       "16507                                 Stepway dCi 90 EU6              NaN\n",
       "16517                                Ambiance 1.2 75 EU6              NaN\n",
       "16520                       Laureate TCE 66kW (90CV) EU6              NaN\n",
       "16525                                Ambiance 1.2 75 EU6              NaN\n",
       "16529                                Ambiance 1.2 75 EU6              NaN\n",
       "16534                                Ambiance 1.2 75 EU6              NaN\n",
       "16536                                Ambiance 1.2 75 EU6              NaN\n",
       "16543                                Ambiance 1.2 75 EU6              NaN\n",
       "16546                                Ambiance 1.2 75 EU6              NaN\n",
       "16548                                Ambiance 1.2 75 EU6              NaN\n",
       "16558                          Ambiance TCE 66kW GLP EU6              NaN\n",
       "16560                       Ambiance dCi 55kW (75CV) EU6              NaN\n",
       "16561                                Ambiance 1.2 75 EU6              NaN\n",
       "16566                                 Stepway TCE 90 EU6              NaN\n",
       "16568                                Ambiance 1.2 75 EU6              NaN\n",
       "16573                                 Stepway TCE 90 EU6              NaN\n",
       "16580                                Ambiance 1.2 75 EU6              NaN\n",
       "16583                                 Stepway TCE 90 EU6              NaN\n",
       "16586                                 Stepway TCE 90 EU6              NaN\n",
       "17694               1.8 Hybrid Team D UVP 34.524,50 EURO              NaN\n",
       "19898                1.5 dCi 110ch Connect Edition Euro6              NaN\n",
       "19903                     1.6 dCi 130ch N-Connecta Euro6              NaN\n",
       "19929            1.5 dCi 110ch N-Connecta Euro6 7 places              NaN\n",
       "20042             1.6 DCI 130CH N-CONNECTA XTRONIC EURO6              NaN\n",
       "20056                     1.6 dCi 130ch N-Connecta Euro6              NaN\n",
       "20063                   1.6 DIG-T 163CH N-CONNECTA EURO6              NaN\n",
       "20071    1.6 DCI 130CH N-CONNECTA XTRONIC EURO6 7 PLACES              NaN\n",
       "20088                     1.6 DCI 130CH N-CONNECTA EURO6              NaN\n",
       "20101                1.5 dCi 110ch Connect Edition Euro6              NaN\n",
       "20170  1.6 dCi 130ch Tekna All-Mode 4x4-i Euro6 7 places              NaN\n",
       "20183                  1.6 dCi 130ch Tekna Xtronic Euro6              NaN\n",
       "20221         1.6 DCI 130CH WHITE EDITION EURO6 7 PLACES              NaN\n",
       "20315                    DIG-T EU6 85 kW (115 CV) ACENTA              NaN\n",
       "20527                      dCi EU6 81 kW (110 CV) ACENTA              NaN\n",
       "20547                  dCi EU6 81 kW (110 CV) 6M/T VISIA              NaN\n",
       "20597                    DIG-T EU6 85 kW (115 CV) ACENTA              NaN\n",
       "20624                    DIG-T EU6 85 kW (115 CV) ACENTA              NaN\n",
       "21379           GT Convertible B&O DAB 1.Hand  EU Modell              NaN\n",
       "21982  Nuevo  ST-LINE 1.5 EcoBlue 88,3KW (120CV) Euro...              NaN\n",
       "22029  Nuevo  ST-LINE X 1.5 EcoBoost 110KW (150CV) Eu...              NaN\n",
       "26422                               2.0 D3 Euro 6 150 pk              NaN"
      ]
     },
     "execution_count": 582,
     "metadata": {},
     "output_type": "execute_result"
    }
   ],
   "source": [
    "# Filter rows where 'short_description' contains specific keywords\n",
    "keywords = r'\\b(?:euro|eu6|eu5|euro6|eu7|euro7|euro4|eu4|euro3|eu3|eu)\\b'\n",
    "#filtered_euro = df[df['short_description'].str.contains(keywords, case=False, na=False)]\n",
    "\n",
    "# Filter rows where 'emission_class' is null but 'short_description' is not null\n",
    "filtered_null_emission = df[df['emission_class'].isnull() & df['short_description'].notnull()]\n",
    "filtered_euro  = filtered_null_emission[filtered_null_emission['short_description'].str.contains(keywords, case=False, na=False)]\n",
    "filtered_euro[['short_description', 'emission_sticker']]"
   ]
  },
  {
   "cell_type": "code",
   "execution_count": 583,
   "id": "41e53c99-80d1-48dc-94ba-898851337aea",
   "metadata": {},
   "outputs": [
    {
     "name": "stdout",
     "output_type": "stream",
     "text": [
      "                            short_description number_after_keyword\n",
      "6600               Luxe Privilege 2.0 16V EU4                    4\n",
      "16517                     Ambiance 1.2 75 EU6                    6\n",
      "16444                     Laureate TCE 90 EU6                    6\n",
      "20042  1.6 DCI 130CH N-CONNECTA XTRONIC EURO6                    6\n",
      "16546                     Ambiance 1.2 75 EU6                    6\n",
      "16497                     Ambiance 1.2 75 EU6                    6\n",
      "11477                     1.2 Lounge 69cv EU6                    6\n",
      "15991                 MCV Laureate TCE 90 EU6                    6\n",
      "238               d 4Matic AMG Line (EURO 6d)                    6\n",
      "5092   1.0 SCe 70ch Life 2 Boîte Courte Euro6                    6\n"
     ]
    },
    {
     "name": "stderr",
     "output_type": "stream",
     "text": [
      "/var/folders/w2/xzx9cghx6_d87gb1m8mhzgth0000gn/T/ipykernel_14174/40211945.py:7: SettingWithCopyWarning: \n",
      "A value is trying to be set on a copy of a slice from a DataFrame.\n",
      "Try using .loc[row_indexer,col_indexer] = value instead\n",
      "\n",
      "See the caveats in the documentation: https://pandas.pydata.org/pandas-docs/stable/user_guide/indexing.html#returning-a-view-versus-a-copy\n",
      "  filtered_euro['number_after_keyword'] = filtered_euro['short_description'].str.extract(pattern, flags=re.IGNORECASE)\n"
     ]
    }
   ],
   "source": [
    "import re\n",
    "\n",
    "# Define the regular expression pattern\n",
    "pattern = r'\\b(?:eu|euro|euro\\s*)\\s*(\\d+)'\n",
    "\n",
    "# Extract the first number near the keywords using regular expression\n",
    "filtered_euro['number_after_keyword'] = filtered_euro['short_description'].str.extract(pattern, flags=re.IGNORECASE)\n",
    "\n",
    "# Display the result\n",
    "print(filtered_euro[['short_description', 'number_after_keyword']].sample(10))"
   ]
  },
  {
   "cell_type": "code",
   "execution_count": 584,
   "id": "c3cc0774-a7c7-4e30-b75f-da6a2429f657",
   "metadata": {},
   "outputs": [],
   "source": [
    "def assign_sticker(emission_class):\n",
    "    if emission_class == 1:\n",
    "        return 'No sticker'\n",
    "    elif emission_class == 2:\n",
    "        return 'Red'\n",
    "    elif emission_class == 3:\n",
    "        return 'Yellow'\n",
    "    else:\n",
    "        return 'Green'\n",
    "\n",
    "filtered_euro.loc[:, 'emission_sticker'] = filtered_euro['number_after_keyword'].apply(assign_sticker)"
   ]
  },
  {
   "cell_type": "code",
   "execution_count": 585,
   "id": "1af46830-570f-4716-b68f-ced00f0702e4",
   "metadata": {},
   "outputs": [],
   "source": [
    "# Update the 'emission_sticker' column in the original DataFrame\n",
    "df.loc[filtered_euro.index, 'emission_sticker'] = filtered_euro['emission_sticker']"
   ]
  },
  {
   "cell_type": "code",
   "execution_count": 586,
   "id": "62d5916d-58f3-4bac-a3ad-1230a4d6f7e8",
   "metadata": {},
   "outputs": [
    {
     "data": {
      "text/plain": [
       "emission_sticker\n",
       "Green         16455\n",
       "NaN            9578\n",
       "Yellow          361\n",
       "No sticker      311\n",
       "Red             156\n",
       "Name: count, dtype: int64"
      ]
     },
     "execution_count": 586,
     "metadata": {},
     "output_type": "execute_result"
    }
   ],
   "source": [
    "df.emission_sticker.value_counts(dropna=False)"
   ]
  },
  {
   "cell_type": "code",
   "execution_count": 587,
   "id": "d12e777d-f7d4-4d2c-ac1d-381eefe160b5",
   "metadata": {},
   "outputs": [],
   "source": [
    "# Fill missing 'emission_sticker' based on the most common value in each 'fuel_type' group\n",
    "df['emission_sticker'] = df.groupby(['make_model','first_registration'])['emission_sticker'].apply(lambda x: x.fillna(x.mode()[0] if not x.mode().empty else 'No sticker')).reset_index(drop=True)"
   ]
  },
  {
   "cell_type": "code",
   "execution_count": 588,
   "id": "11f9e9c5-7bdd-45d6-b43c-bbfa355feced",
   "metadata": {},
   "outputs": [
    {
     "data": {
      "text/plain": [
       "emission_sticker\n",
       "Green         21413\n",
       "No sticker     4839\n",
       "Yellow          410\n",
       "Red             197\n",
       "NaN               2\n",
       "Name: count, dtype: int64"
      ]
     },
     "execution_count": 588,
     "metadata": {},
     "output_type": "execute_result"
    }
   ],
   "source": [
    "df.emission_sticker.value_counts(dropna=False)"
   ]
  },
  {
   "cell_type": "code",
   "execution_count": 589,
   "id": "3c180f83",
   "metadata": {},
   "outputs": [],
   "source": [
    "# Fill missing 'emission_sticker' based on the most common value in each 'fuel_type' group\n",
    "df['emission_sticker'] = df.groupby(['make_model'])['emission_sticker'].apply(lambda x: x.fillna(x.mode()[0] if not x.mode().empty else 'No sticker')).reset_index(drop=True)"
   ]
  },
  {
   "cell_type": "code",
   "execution_count": 590,
   "id": "de59c6c1-584b-4727-8dec-949edbd25c0f",
   "metadata": {},
   "outputs": [
    {
     "data": {
      "text/plain": [
       "0"
      ]
     },
     "execution_count": 590,
     "metadata": {},
     "output_type": "execute_result"
    }
   ],
   "source": [
    "df['emission_sticker'].isna().sum()"
   ]
  },
  {
   "cell_type": "code",
   "execution_count": null,
   "id": "d5dedf53",
   "metadata": {},
   "outputs": [],
   "source": []
  },
  {
   "cell_type": "code",
   "execution_count": 591,
   "id": "b42756e5-47ca-456f-a7e6-45e5bb05d462",
   "metadata": {},
   "outputs": [],
   "source": [
    "# Drop the 'emission_class' column\n",
    "df.drop(columns=['emission_class'], inplace=True)"
   ]
  },
  {
   "cell_type": "markdown",
   "id": "4bb2c84f-20e5-478c-961f-c4e11a3baeaa",
   "metadata": {},
   "source": [
    "# 30. upholstery_color"
   ]
  },
  {
   "cell_type": "code",
   "execution_count": 593,
   "id": "ad2e602e-39bf-4543-9f45-2192d6d23d90",
   "metadata": {},
   "outputs": [
    {
     "name": "stdout",
     "output_type": "stream",
     "text": [
      "<class 'pandas.core.series.Series'>\n",
      "RangeIndex: 26861 entries, 0 to 26860\n",
      "Series name: upholstery_color\n",
      "Non-Null Count  Dtype \n",
      "--------------  ----- \n",
      "13694 non-null  object\n",
      "dtypes: object(1)\n",
      "memory usage: 210.0+ KB\n"
     ]
    }
   ],
   "source": [
    "df.upholstery_color.info()"
   ]
  },
  {
   "cell_type": "code",
   "execution_count": 594,
   "id": "d3407a4e-da04-4584-b833-cf92806584b3",
   "metadata": {},
   "outputs": [
    {
     "data": {
      "text/plain": [
       "upholstery_color\n",
       "NaN       13167\n",
       "Black      9874\n",
       "Grey       1914\n",
       "Other       934\n",
       "Beige       381\n",
       "Brown       244\n",
       "Red         152\n",
       "White        81\n",
       "Blue         79\n",
       "Orange       21\n",
       "Green         8\n",
       "Yellow        6\n",
       "Name: count, dtype: int64"
      ]
     },
     "execution_count": 594,
     "metadata": {},
     "output_type": "execute_result"
    }
   ],
   "source": [
    "df.upholstery_color.value_counts(dropna=False)"
   ]
  },
  {
   "cell_type": "code",
   "execution_count": 595,
   "id": "114f1b01-ea27-4f1d-8dfb-ef26b9fd88c2",
   "metadata": {},
   "outputs": [
    {
     "data": {
      "text/plain": [
       "13167"
      ]
     },
     "execution_count": 595,
     "metadata": {},
     "output_type": "execute_result"
    }
   ],
   "source": [
    "df.upholstery_color.isna().sum()"
   ]
  },
  {
   "cell_type": "code",
   "execution_count": 596,
   "id": "9995e1f8-1923-4ad0-a760-d48b3917e330",
   "metadata": {},
   "outputs": [],
   "source": [
    "# Fill missing 'upholstery_color' based on the most common value in each 'make_model' group\n",
    "#df['upholstery_color'] = df.groupby('make_model')['upholstery_color'].apply(lambda x: x.fillna(x.mode().iat[0] if not x.mode().empty else \n",
    "#upholstery_color.mode()[0])).reset_index(drop=True)"
   ]
  },
  {
   "cell_type": "code",
   "execution_count": 597,
   "id": "f08d5dff-12ab-4933-8327-f658a261e701",
   "metadata": {},
   "outputs": [],
   "source": [
    "# Fill missing 'upholstery_color' based on the most common value in each 'make_model' group\n",
    "df['upholstery_color'] = df.groupby(['make_model','first_registration'])['upholstery_color'].apply(lambda x: x.fillna(x.mode().iat[0] if not x.mode().empty else np.nan)).reset_index(drop=True)\n",
    "\n",
    "# Forward fill or backward fill for remaining missing values\n",
    "df['upholstery_color'] = df['upholstery_color'].fillna(method='ffill')  # or 'bfill' for backward fill"
   ]
  },
  {
   "cell_type": "code",
   "execution_count": 598,
   "id": "af663982-c047-4686-9247-d0ad38f10f7a",
   "metadata": {},
   "outputs": [
    {
     "data": {
      "text/plain": [
       "upholstery_color\n",
       "Black     19963\n",
       "Grey       3617\n",
       "Other      1521\n",
       "Beige       706\n",
       "Brown       405\n",
       "Red         309\n",
       "White       153\n",
       "Blue        132\n",
       "Orange       27\n",
       "Green        19\n",
       "Yellow        9\n",
       "Name: count, dtype: int64"
      ]
     },
     "execution_count": 598,
     "metadata": {},
     "output_type": "execute_result"
    }
   ],
   "source": [
    "df.upholstery_color.value_counts(dropna=False)"
   ]
  },
  {
   "cell_type": "code",
   "execution_count": 599,
   "id": "b278ba1d-b81f-458b-9fd5-32becfa373c3",
   "metadata": {},
   "outputs": [],
   "source": [
    "# Fill missing 'upholstery_color' based on the most common value in each 'make_model' group\n",
    "df['upholstery_color'] = df.groupby('make_model')['upholstery_color'].apply(lambda x: x.fillna(x.mode().iat[0] if not x.mode().empty else np.nan)).reset_index(drop=True)\n",
    "\n",
    "# Forward fill or backward fill for remaining missing values\n",
    "df['upholstery_color'] = df['upholstery_color'].fillna(method='ffill')  # or 'bfill' for backward fill"
   ]
  },
  {
   "cell_type": "code",
   "execution_count": 600,
   "id": "465ad360-122d-4643-8e6f-ae73be2f2ab3",
   "metadata": {},
   "outputs": [
    {
     "data": {
      "text/plain": [
       "0"
      ]
     },
     "execution_count": 600,
     "metadata": {},
     "output_type": "execute_result"
    }
   ],
   "source": [
    "df.upholstery_color.isna().sum()"
   ]
  },
  {
   "cell_type": "markdown",
   "id": "e6448941-df30-4f1b-9314-e77c8a2ab457",
   "metadata": {},
   "source": [
    "# 34. upholstery"
   ]
  },
  {
   "cell_type": "code",
   "execution_count": 602,
   "id": "97b9c6e7-9ae1-4afb-b0c7-f67daf9ae465",
   "metadata": {},
   "outputs": [
    {
     "name": "stdout",
     "output_type": "stream",
     "text": [
      "<class 'pandas.core.series.Series'>\n",
      "RangeIndex: 26861 entries, 0 to 26860\n",
      "Series name: upholstery\n",
      "Non-Null Count  Dtype \n",
      "--------------  ----- \n",
      "17401 non-null  object\n",
      "dtypes: object(1)\n",
      "memory usage: 210.0+ KB\n"
     ]
    }
   ],
   "source": [
    "df.upholstery.info()"
   ]
  },
  {
   "cell_type": "code",
   "execution_count": 603,
   "id": "5c9321ab-5c8e-4677-b38e-ecf76723f987",
   "metadata": {},
   "outputs": [
    {
     "data": {
      "text/plain": [
       "array([nan, 'Cloth', 'Full leather', 'Part leather', 'Other', 'alcantara',\n",
       "       'Velour'], dtype=object)"
      ]
     },
     "execution_count": 603,
     "metadata": {},
     "output_type": "execute_result"
    }
   ],
   "source": [
    "df.upholstery.unique()"
   ]
  },
  {
   "cell_type": "code",
   "execution_count": 604,
   "id": "5a7f66d2-c70d-4b05-8114-dba46dda4a34",
   "metadata": {},
   "outputs": [
    {
     "data": {
      "text/plain": [
       "upholstery\n",
       "NaN             9460\n",
       "Cloth           8500\n",
       "Full leather    4740\n",
       "Part leather    2610\n",
       "alcantara        730\n",
       "Other            617\n",
       "Velour           204\n",
       "Name: count, dtype: int64"
      ]
     },
     "execution_count": 604,
     "metadata": {},
     "output_type": "execute_result"
    }
   ],
   "source": [
    "df.upholstery.value_counts(dropna=False)"
   ]
  },
  {
   "cell_type": "code",
   "execution_count": 605,
   "id": "19d0b10f-05b4-4586-b9ae-1aada435fc11",
   "metadata": {},
   "outputs": [],
   "source": [
    "# List of possible upholstery types\n",
    "upholstery_types = ['Cloth', 'Full leather', 'Part leather', 'alcantara', 'Other', 'Velour']\n",
    "\n",
    "# Define a function to find upholstery type in a row\n",
    "def find_upholstery(row, upholstery_types):\n",
    "    for col in ['desc_str', 'comfort_convenience_str', 'short_description']:\n",
    "        if pd.notna(row[col]):\n",
    "            for upholstery in upholstery_types:\n",
    "                if upholstery.lower() in row[col].lower():\n",
    "                    return upholstery\n",
    "    return np.nan\n",
    "\n",
    "# Fill the missing values in the 'upholstery' column\n",
    "df['upholstery'] = df.apply(\n",
    "    lambda row: find_upholstery(row, upholstery_types) if pd.isna(row['upholstery']) else row['upholstery'],\n",
    "    axis=1\n",
    ")\n"
   ]
  },
  {
   "cell_type": "code",
   "execution_count": 606,
   "id": "16c77857-2be6-4760-9b9e-b342e932fae8",
   "metadata": {},
   "outputs": [
    {
     "data": {
      "text/plain": [
       "upholstery\n",
       "NaN             9209\n",
       "Cloth           8500\n",
       "Full leather    4740\n",
       "Part leather    2610\n",
       "alcantara        834\n",
       "Other            622\n",
       "Velour           346\n",
       "Name: count, dtype: int64"
      ]
     },
     "execution_count": 606,
     "metadata": {},
     "output_type": "execute_result"
    }
   ],
   "source": [
    "df.upholstery.value_counts(dropna=False)"
   ]
  },
  {
   "cell_type": "code",
   "execution_count": 607,
   "id": "7f4731fa-303e-4fca-98a9-a15e44984820",
   "metadata": {},
   "outputs": [],
   "source": [
    "# Fill missing 'upholstery_color' based on the most common value in each 'make_model' group\n",
    "df['upholstery'] = df.groupby('make_model')['upholstery'].apply(lambda x: x.fillna(x.mode().iat[0] if not x.mode().empty else np.nan)).reset_index(drop=True)\n"
   ]
  },
  {
   "cell_type": "code",
   "execution_count": 608,
   "id": "9c045931-37fa-4928-8293-810c93cc6fda",
   "metadata": {},
   "outputs": [
    {
     "data": {
      "text/plain": [
       "upholstery\n",
       "Cloth           14935\n",
       "Full leather     6648\n",
       "Part leather     3255\n",
       "alcantara         911\n",
       "Other             658\n",
       "Velour            351\n",
       "NaN               103\n",
       "Name: count, dtype: int64"
      ]
     },
     "execution_count": 608,
     "metadata": {},
     "output_type": "execute_result"
    }
   ],
   "source": [
    "df.upholstery.value_counts(dropna=False)"
   ]
  },
  {
   "cell_type": "code",
   "execution_count": 609,
   "id": "e579e210-a7d7-423d-b0a0-09d279362045",
   "metadata": {},
   "outputs": [],
   "source": [
    "# Fill remaining NaNs with the global most frequent value\n",
    "global_most_frequent_upholstery = df['upholstery'].mode()[0]\n",
    "df['upholstery'].fillna(global_most_frequent_upholstery, inplace=True)"
   ]
  },
  {
   "cell_type": "code",
   "execution_count": 610,
   "id": "3f8beb27-6636-41af-9136-28649512d80d",
   "metadata": {},
   "outputs": [
    {
     "data": {
      "text/plain": [
       "upholstery\n",
       "Cloth           15038\n",
       "Full leather     6648\n",
       "Part leather     3255\n",
       "alcantara         911\n",
       "Other             658\n",
       "Velour            351\n",
       "Name: count, dtype: int64"
      ]
     },
     "execution_count": 610,
     "metadata": {},
     "output_type": "execute_result"
    }
   ],
   "source": [
    "df.upholstery.value_counts(dropna=False)"
   ]
  },
  {
   "cell_type": "markdown",
   "id": "996f2a2f-36e1-4dd6-9cd6-16d9b1cb7197",
   "metadata": {},
   "source": [
    "# Pro Date"
   ]
  },
  {
   "cell_type": "code",
   "execution_count": 612,
   "id": "289962c4-7c97-4ebf-a324-7be7bedd4caf",
   "metadata": {},
   "outputs": [
    {
     "data": {
      "text/plain": [
       "pro_date\n",
       "NaN           21320\n",
       "2019-01-01     1075\n",
       "2021-01-01      916\n",
       "2022-01-01      875\n",
       "2020-01-01      711\n",
       "2018-01-01      701\n",
       "2017-01-01      370\n",
       "2016-01-01      230\n",
       "2015-01-01      114\n",
       "2014-01-01       89\n",
       "2013-01-01       73\n",
       "2010-01-01       48\n",
       "2012-01-01       41\n",
       "2011-01-01       41\n",
       "2008-01-01       26\n",
       "2009-01-01       24\n",
       "2007-01-01       17\n",
       "2006-01-01       15\n",
       "2002-01-01       14\n",
       "2004-01-01       13\n",
       "2003-01-01       13\n",
       "1967-01-01       12\n",
       "2001-01-01       12\n",
       "1966-01-01       11\n",
       "2005-01-01        9\n",
       "1965-01-01        9\n",
       "1999-01-01        8\n",
       "1994-01-01        8\n",
       "1970-01-01        8\n",
       "1997-01-01        7\n",
       "1968-01-01        7\n",
       "2000-01-01        7\n",
       "1998-01-01        5\n",
       "1990-01-01        3\n",
       "1973-01-01        3\n",
       "1987-01-01        3\n",
       "1993-01-01        3\n",
       "1996-01-01        3\n",
       "1995-01-01        2\n",
       "1969-01-01        2\n",
       "1978-01-01        2\n",
       "1982-01-01        2\n",
       "1991-01-01        2\n",
       "1961-01-01        1\n",
       "1954-01-01        1\n",
       "1988-01-01        1\n",
       "1962-01-01        1\n",
       "1981-01-01        1\n",
       "1985-01-01        1\n",
       "1976-01-01        1\n",
       "Name: count, dtype: int64"
      ]
     },
     "execution_count": 612,
     "metadata": {},
     "output_type": "execute_result"
    }
   ],
   "source": [
    "df.pro_date.value_counts(dropna=False)"
   ]
  },
  {
   "cell_type": "code",
   "execution_count": 613,
   "id": "380c2e2c-c844-4e43-a2d7-21251817a422",
   "metadata": {},
   "outputs": [
    {
     "name": "stdout",
     "output_type": "stream",
     "text": [
      "        pro_date first_registration   mileage\n",
      "8     2019-01-01         2019-06-01   56876.0\n",
      "16    2021-01-01         2021-03-01   21496.0\n",
      "23    2018-01-01         2019-01-01   24244.0\n",
      "27    2014-01-01         2014-03-01  128644.0\n",
      "30    2018-01-01         2020-07-01   34942.0\n",
      "...          ...                ...       ...\n",
      "26822 2021-01-01         2022-01-01    9900.0\n",
      "26823 2022-01-01         2022-04-01   11600.0\n",
      "26824 2021-01-01         2021-09-01   13500.0\n",
      "26831 2022-01-01         2022-03-01      10.0\n",
      "26838 2018-01-01         2018-09-01   89000.0\n",
      "\n",
      "[5540 rows x 3 columns]\n"
     ]
    }
   ],
   "source": [
    "df['pro_date'] = pd.to_datetime(df['pro_date'])\n",
    "df['first_registration'] = pd.to_datetime(df['first_registration'])\n",
    "\n",
    "# Filter out rows where either 'pro_date' or 'first_registration' is null\n",
    "filtered_df = df.dropna(subset=['pro_date', 'first_registration'])\n",
    "\n",
    "# Print the average mileage according to the average age in days\n",
    "print(filtered_df[['pro_date', 'first_registration','mileage']])\n",
    "\n"
   ]
  },
  {
   "cell_type": "code",
   "execution_count": 614,
   "id": "f90690df-51ea-47ae-808a-2bfb5023e844",
   "metadata": {},
   "outputs": [],
   "source": [
    "# Fill missing 'pro_date' based on the median value in each 'first_registration' group\n",
    "df['pro_date'] = df.groupby('first_registration')['pro_date'].apply(lambda x: x.fillna(x.median() if not x.dropna().empty else np.nan)).reset_index(drop=True)"
   ]
  },
  {
   "cell_type": "code",
   "execution_count": 615,
   "id": "fa01e660-151c-4b1d-9145-0f47adb9d816",
   "metadata": {},
   "outputs": [],
   "source": [
    "df['pro_date'] = df.groupby('mileage')['pro_date'].apply(lambda x: x.fillna(x.median() if not x.dropna().empty else np.nan)).reset_index(drop=True)"
   ]
  },
  {
   "cell_type": "code",
   "execution_count": 616,
   "id": "f22772bd-d3c1-4799-80f0-9fcbf0de2deb",
   "metadata": {},
   "outputs": [
    {
     "data": {
      "text/plain": [
       "pro_date\n",
       "2019-01-01 00:00:00    3561\n",
       "2018-01-01 00:00:00    3493\n",
       "2022-01-01 00:00:00    2867\n",
       "2021-01-01 00:00:00    2829\n",
       "2017-01-01 00:00:00    2426\n",
       "2020-01-01 00:00:00    2200\n",
       "2016-01-01 00:00:00    1359\n",
       "2015-01-01 00:00:00    1193\n",
       "NaT                     852\n",
       "2014-01-01 00:00:00     831\n",
       "2013-01-01 00:00:00     670\n",
       "2012-01-01 00:00:00     615\n",
       "2011-01-01 00:00:00     576\n",
       "2010-01-01 00:00:00     471\n",
       "2009-01-01 00:00:00     338\n",
       "2006-01-01 00:00:00     313\n",
       "2007-01-01 00:00:00     310\n",
       "2008-01-01 00:00:00     273\n",
       "2005-01-01 00:00:00     193\n",
       "2019-07-02 12:00:00     190\n",
       "2004-01-01 00:00:00     137\n",
       "2001-01-01 00:00:00     129\n",
       "2002-01-01 00:00:00     122\n",
       "2015-07-02 12:00:00     103\n",
       "2003-01-01 00:00:00     102\n",
       "2013-07-02 12:00:00      70\n",
       "1999-01-01 00:00:00      59\n",
       "2000-01-01 00:00:00      50\n",
       "1994-01-01 00:00:00      45\n",
       "1998-01-01 00:00:00      41\n",
       "1997-01-01 00:00:00      40\n",
       "2017-07-02 12:00:00      38\n",
       "2010-07-02 12:00:00      36\n",
       "2007-07-02 12:00:00      28\n",
       "2018-07-02 12:00:00      26\n",
       "1965-01-01 00:00:00      25\n",
       "1996-01-01 00:00:00      20\n",
       "1995-01-01 00:00:00      17\n",
       "1967-01-01 00:00:00      17\n",
       "1966-01-01 00:00:00      14\n",
       "1968-01-01 00:00:00      14\n",
       "1970-01-01 00:00:00      13\n",
       "2016-01-01 12:00:00      12\n",
       "1990-01-01 00:00:00      12\n",
       "1993-01-01 00:00:00      12\n",
       "2016-07-02 00:00:00      10\n",
       "2020-07-02 00:00:00       9\n",
       "2020-01-01 12:00:00       9\n",
       "2016-12-31 12:00:00       8\n",
       "1973-01-01 00:00:00       8\n",
       "1978-01-01 00:00:00       8\n",
       "1987-01-01 00:00:00       8\n",
       "1991-01-01 00:00:00       7\n",
       "1982-01-01 00:00:00       5\n",
       "1969-01-01 00:00:00       5\n",
       "2008-07-02 00:00:00       3\n",
       "2015-07-03 00:00:00       3\n",
       "1976-01-01 00:00:00       3\n",
       "1988-01-01 00:00:00       3\n",
       "2019-07-03 00:00:00       3\n",
       "2014-07-02 12:00:00       3\n",
       "1985-01-01 00:00:00       3\n",
       "1968-07-02 00:00:00       2\n",
       "2004-07-02 00:00:00       2\n",
       "1962-01-01 00:00:00       2\n",
       "2020-12-31 12:00:00       2\n",
       "2016-10-01 06:00:00       2\n",
       "2021-07-02 12:00:00       2\n",
       "1954-01-01 00:00:00       1\n",
       "2017-04-01 18:00:00       1\n",
       "2020-04-01 18:00:00       1\n",
       "2015-01-01 12:00:00       1\n",
       "1961-01-01 00:00:00       1\n",
       "1981-01-01 00:00:00       1\n",
       "2013-12-31 12:00:00       1\n",
       "2012-07-02 00:00:00       1\n",
       "2011-07-02 12:00:00       1\n",
       "Name: count, dtype: int64"
      ]
     },
     "execution_count": 616,
     "metadata": {},
     "output_type": "execute_result"
    }
   ],
   "source": [
    "df.pro_date.value_counts(dropna=False)"
   ]
  },
  {
   "cell_type": "markdown",
   "id": "5cfd6cdc-5ed3-4b18-a084-63faa29ca6be",
   "metadata": {},
   "source": [
    "# Other Fuel"
   ]
  },
  {
   "cell_type": "code",
   "execution_count": 618,
   "id": "b3c4534b-97ba-4976-bf24-178c92146d74",
   "metadata": {},
   "outputs": [
    {
     "data": {
      "text/plain": [
       "other_fuel\n",
       "NaN             24744\n",
       "Electricity      2105\n",
       "Hydogen            11\n",
       "Super E10 95        1\n",
       "Name: count, dtype: int64"
      ]
     },
     "execution_count": 618,
     "metadata": {},
     "output_type": "execute_result"
    }
   ],
   "source": [
    "df.other_fuel.value_counts(dropna=False)"
   ]
  },
  {
   "cell_type": "code",
   "execution_count": 619,
   "id": "205aee58-21dd-4081-9541-ef9d64afdeb7",
   "metadata": {},
   "outputs": [
    {
     "name": "stdout",
     "output_type": "stream",
     "text": [
      "other_fuel\n",
      "NaN             92.118685\n",
      "Electricity      7.836640\n",
      "Hydogen          0.040952\n",
      "Super E10 95     0.003723\n",
      "Name: proportion, dtype: float64\n"
     ]
    }
   ],
   "source": [
    "# Calculate value counts as percentages\n",
    "value_counts_percentage = df['other_fuel'].value_counts(dropna=False, normalize=True) * 100\n",
    "\n",
    "# Display the percentages\n",
    "print(value_counts_percentage)"
   ]
  },
  {
   "cell_type": "code",
   "execution_count": 620,
   "id": "9b41aeaa",
   "metadata": {},
   "outputs": [
    {
     "data": {
      "text/plain": [
       "fuel_type\n",
       "Benzine     16388\n",
       "Diesel       7822\n",
       "Electric     2307\n",
       "LPG           344\n",
       "Name: count, dtype: int64"
      ]
     },
     "execution_count": 620,
     "metadata": {},
     "output_type": "execute_result"
    }
   ],
   "source": [
    "df.fuel_type.value_counts(dropna=False)"
   ]
  },
  {
   "cell_type": "code",
   "execution_count": 621,
   "id": "9925e4de-4329-4e6b-8eb8-948b35985b54",
   "metadata": {},
   "outputs": [],
   "source": [
    "# Drop the 'other_fuel' column\n",
    "df.drop(columns=['other_fuel'], inplace=True)"
   ]
  },
  {
   "cell_type": "markdown",
   "id": "4cb10869-e391-43f9-93dc-0f8ec026cdc7",
   "metadata": {},
   "source": [
    "# Energy Class"
   ]
  },
  {
   "cell_type": "code",
   "execution_count": 623,
   "id": "0835ec9f-3441-45c9-b8e4-247a356aec80",
   "metadata": {},
   "outputs": [
    {
     "name": "stdout",
     "output_type": "stream",
     "text": [
      "energy_class\n",
      "NaN     72.685306\n",
      "B        7.538811\n",
      "A        5.714605\n",
      "C        4.002085\n",
      "A+       3.544172\n",
      "D        2.345408\n",
      "A+++     1.265776\n",
      "G        1.142921\n",
      "E        0.997729\n",
      "F        0.524925\n",
      "A++      0.238264\n",
      "Name: proportion, dtype: float64\n"
     ]
    }
   ],
   "source": [
    "# Calculate value counts as percentages\n",
    "value_counts_percentage = df['energy_class'].value_counts(dropna=False, normalize=True) * 100\n",
    "\n",
    "# Display the percentages\n",
    "print(value_counts_percentage)"
   ]
  },
  {
   "cell_type": "code",
   "execution_count": 624,
   "id": "6ba3240e-5b5c-4cad-b23f-1a941bdd4127",
   "metadata": {},
   "outputs": [
    {
     "name": "stdout",
     "output_type": "stream",
     "text": [
      "price                      -0.147838\n",
      "doors                      -0.217705\n",
      "mileage                     0.313972\n",
      "seats                      -0.163032\n",
      "engine_size                 0.084046\n",
      "gears                      -0.079278\n",
      "co2_emissions               0.067530\n",
      "cylinders                   0.130994\n",
      "empty_weight               -0.148414\n",
      "availability               -0.048617\n",
      "power_kW                   -0.019105\n",
      "power_hp                   -0.019217\n",
      "fuel_consumption_comb       0.182904\n",
      "fuel_consumption_city       0.204467\n",
      "fuel_consumption_country    0.165637\n",
      "prev_km                     0.366912\n",
      "owner_count                 0.218178\n",
      "power_cons_wltp_numeric          NaN\n",
      "power_cons_numeric         -0.002790\n",
      "fuel_wltp_numeric                NaN\n",
      "co2_wltp_numeric                 NaN\n",
      "avg_elec_range                   NaN\n",
      "age                         0.280122\n",
      "energy_class_encoded        1.000000\n",
      "Name: energy_class_encoded, dtype: float64\n"
     ]
    }
   ],
   "source": [
    "def encode_column_to_numeric(df, column_name):\n",
    "    \"\"\"\n",
    "    Encode a categorical column to numeric using LabelEncoder and return the encoded DataFrame\n",
    "    along with a DataFrame containing only numeric columns.\n",
    "    \"\"\"\n",
    "    encoded_df = df.copy()\n",
    "    label_encoder = LabelEncoder()\n",
    "    encoded_df[column_name + '_encoded'] = label_encoder.fit_transform(df[column_name])\n",
    "    numeric_df = encoded_df.select_dtypes(include=['number'])\n",
    "    return encoded_df, numeric_df\n",
    "\n",
    "# Encode 'energy_class' to numeric and get numeric DataFrame\n",
    "df_encoded, numeric_df = encode_column_to_numeric(df, 'energy_class')\n",
    "\n",
    "# Calculate correlations\n",
    "correlations = numeric_df.corr()\n",
    "\n",
    "# Print correlation of 'energy_class_encoded' with other columns\n",
    "print(correlations['energy_class_encoded'])"
   ]
  },
  {
   "cell_type": "code",
   "execution_count": 625,
   "id": "aa02b965-3b32-41c2-b2f7-d04ffab84cbc",
   "metadata": {},
   "outputs": [],
   "source": [
    "# Group by 'make_model' and 'pro_date', then fill missing values in 'energy_class' with the mode of each group\n",
    "df['energy_class'] = df.groupby(['make_model', 'first_registration'])['energy_class'].transform(lambda x: x.fillna(x.mode().iat[0] if not x.mode().empty else np.nan))\n"
   ]
  },
  {
   "cell_type": "code",
   "execution_count": 626,
   "id": "5cc371fe-3ad8-4bf2-a864-4320ce94e2de",
   "metadata": {},
   "outputs": [
    {
     "name": "stdout",
     "output_type": "stream",
     "text": [
      "energy_class\n",
      "NaN     52.518521\n",
      "B       13.074718\n",
      "A       10.610178\n",
      "C        7.200030\n",
      "A+       5.818845\n",
      "D        4.318529\n",
      "E        1.872603\n",
      "G        1.846543\n",
      "A+++     1.675291\n",
      "F        0.714791\n",
      "A++      0.349950\n",
      "Name: proportion, dtype: float64\n"
     ]
    }
   ],
   "source": [
    "# Calculate value counts as percentages\n",
    "value_counts_percentage = df['energy_class'].value_counts(dropna=False, normalize=True) * 100\n",
    "\n",
    "# Display the percentages\n",
    "print(value_counts_percentage)"
   ]
  },
  {
   "cell_type": "code",
   "execution_count": 627,
   "id": "fbbf4eed-4405-4007-aa2e-aeecfc34317a",
   "metadata": {},
   "outputs": [],
   "source": [
    "# If there are still missing values after this operation, fill them with the mode of the 'make_model' group only\n",
    "df['energy_class'] = df.groupby('make_model')['energy_class'].transform(lambda x: x.fillna(x.mode().iat[0] if not x.mode().empty else np.nan))\n"
   ]
  },
  {
   "cell_type": "code",
   "execution_count": 628,
   "id": "5ba5436c-b6e5-4621-823a-34671db296d4",
   "metadata": {},
   "outputs": [
    {
     "name": "stdout",
     "output_type": "stream",
     "text": [
      "energy_class\n",
      "B       23.483861\n",
      "A       21.201742\n",
      "C       16.983731\n",
      "A+       9.485872\n",
      "D        7.680280\n",
      "NaN      7.352667\n",
      "G        4.519564\n",
      "E        4.169614\n",
      "A+++     3.201668\n",
      "F        1.496594\n",
      "A++      0.424407\n",
      "Name: proportion, dtype: float64\n"
     ]
    }
   ],
   "source": [
    "# Calculate value counts as percentages\n",
    "value_counts_percentage = df['energy_class'].value_counts(dropna=False, normalize=True) * 100\n",
    "\n",
    "# Display the percentages\n",
    "print(value_counts_percentage)"
   ]
  },
  {
   "cell_type": "code",
   "execution_count": 629,
   "id": "ae1bcb2c-5b7f-430a-a76b-671a19026c3c",
   "metadata": {},
   "outputs": [],
   "source": [
    "# Fill remaining NaN values with forward fill (ffill)\n",
    "df['energy_class'] = df['energy_class'].transform(lambda x: x.fillna(x.mode().iat[0] if not x.mode().empty else np.nan))"
   ]
  },
  {
   "cell_type": "code",
   "execution_count": 630,
   "id": "bf4fe4c6",
   "metadata": {},
   "outputs": [
    {
     "name": "stdout",
     "output_type": "stream",
     "text": [
      "energy_class\n",
      "B       30.836529\n",
      "A       21.201742\n",
      "C       16.983731\n",
      "A+       9.485872\n",
      "D        7.680280\n",
      "G        4.519564\n",
      "E        4.169614\n",
      "A+++     3.201668\n",
      "F        1.496594\n",
      "A++      0.424407\n",
      "Name: proportion, dtype: float64\n"
     ]
    }
   ],
   "source": [
    "# Calculate value counts as percentages\n",
    "value_counts_percentage = df['energy_class'].value_counts(dropna=False, normalize=True) * 100\n",
    "\n",
    "# Display the percentages\n",
    "print(value_counts_percentage)"
   ]
  },
  {
   "cell_type": "markdown",
   "id": "c51bfbe0",
   "metadata": {},
   "source": [
    "Energy classes from 'D' to 'A+++' will be categorized as 'Efficient'.\n",
    "Energy classes 'E' , 'F' and 'G' will be categorized as 'Inefficient'."
   ]
  },
  {
   "cell_type": "code",
   "execution_count": 632,
   "id": "38549645-a1ab-440a-9bf1-e0bb0acd44df",
   "metadata": {},
   "outputs": [
    {
     "name": "stdout",
     "output_type": "stream",
     "text": [
      "energy_class\n",
      "B       30.836529\n",
      "A       21.201742\n",
      "C       16.983731\n",
      "A+       9.485872\n",
      "D        7.680280\n",
      "G        4.519564\n",
      "E        4.169614\n",
      "A+++     3.201668\n",
      "F        1.496594\n",
      "A++      0.424407\n",
      "Name: proportion, dtype: float64\n"
     ]
    }
   ],
   "source": [
    "# Calculate value counts as percentages\n",
    "value_counts_percentage = df['energy_class'].value_counts(dropna=False, normalize=True) * 100\n",
    "\n",
    "# Display the percentages\n",
    "print(value_counts_percentage)"
   ]
  },
  {
   "cell_type": "code",
   "execution_count": 633,
   "id": "1fad54ae",
   "metadata": {},
   "outputs": [],
   "source": [
    "# Function to categorize energy classes\n",
    "def categorize_energy_class(energy_class):\n",
    "    if energy_class in ['A+++', 'A++', 'A+',  'B','A']:\n",
    "        return 'Efficient'\n",
    "    elif energy_class in ['C','D','E', 'F', 'G']:\n",
    "        return 'Inefficient'\n",
    "    else:\n",
    "        return np.nan  # Handle NaN values\n",
    "\n",
    "# Apply the function to create a new column 'energy_efficiency_class'\n",
    "df['energy_efficiency_class'] = df['energy_class'].apply(categorize_energy_class)\n"
   ]
  },
  {
   "cell_type": "code",
   "execution_count": 634,
   "id": "bc936956",
   "metadata": {},
   "outputs": [
    {
     "name": "stdout",
     "output_type": "stream",
     "text": [
      "<class 'pandas.core.frame.DataFrame'>\n",
      "RangeIndex: 26861 entries, 0 to 26860\n",
      "Data columns (total 2 columns):\n",
      " #   Column                   Non-Null Count  Dtype \n",
      "---  ------                   --------------  ----- \n",
      " 0   energy_efficiency_class  26861 non-null  object\n",
      " 1   energy_class             26861 non-null  object\n",
      "dtypes: object(2)\n",
      "memory usage: 419.8+ KB\n"
     ]
    }
   ],
   "source": [
    "df[['energy_efficiency_class','energy_class']].info()"
   ]
  },
  {
   "cell_type": "code",
   "execution_count": 635,
   "id": "bfb2a148",
   "metadata": {},
   "outputs": [
    {
     "data": {
      "text/html": [
       "<div>\n",
       "<style scoped>\n",
       "    .dataframe tbody tr th:only-of-type {\n",
       "        vertical-align: middle;\n",
       "    }\n",
       "\n",
       "    .dataframe tbody tr th {\n",
       "        vertical-align: top;\n",
       "    }\n",
       "\n",
       "    .dataframe thead th {\n",
       "        text-align: right;\n",
       "    }\n",
       "</style>\n",
       "<table border=\"1\" class=\"dataframe\">\n",
       "  <thead>\n",
       "    <tr style=\"text-align: right;\">\n",
       "      <th></th>\n",
       "      <th>energy_efficiency_class</th>\n",
       "      <th>energy_class</th>\n",
       "    </tr>\n",
       "  </thead>\n",
       "  <tbody>\n",
       "    <tr>\n",
       "      <th>0</th>\n",
       "      <td>Efficient</td>\n",
       "      <td>B</td>\n",
       "    </tr>\n",
       "    <tr>\n",
       "      <th>1</th>\n",
       "      <td>Efficient</td>\n",
       "      <td>A+++</td>\n",
       "    </tr>\n",
       "    <tr>\n",
       "      <th>2</th>\n",
       "      <td>Inefficient</td>\n",
       "      <td>E</td>\n",
       "    </tr>\n",
       "    <tr>\n",
       "      <th>3</th>\n",
       "      <td>Inefficient</td>\n",
       "      <td>D</td>\n",
       "    </tr>\n",
       "    <tr>\n",
       "      <th>4</th>\n",
       "      <td>Inefficient</td>\n",
       "      <td>E</td>\n",
       "    </tr>\n",
       "    <tr>\n",
       "      <th>...</th>\n",
       "      <td>...</td>\n",
       "      <td>...</td>\n",
       "    </tr>\n",
       "    <tr>\n",
       "      <th>26856</th>\n",
       "      <td>Efficient</td>\n",
       "      <td>A+</td>\n",
       "    </tr>\n",
       "    <tr>\n",
       "      <th>26857</th>\n",
       "      <td>Efficient</td>\n",
       "      <td>B</td>\n",
       "    </tr>\n",
       "    <tr>\n",
       "      <th>26858</th>\n",
       "      <td>Inefficient</td>\n",
       "      <td>E</td>\n",
       "    </tr>\n",
       "    <tr>\n",
       "      <th>26859</th>\n",
       "      <td>Efficient</td>\n",
       "      <td>A+</td>\n",
       "    </tr>\n",
       "    <tr>\n",
       "      <th>26860</th>\n",
       "      <td>Efficient</td>\n",
       "      <td>A</td>\n",
       "    </tr>\n",
       "  </tbody>\n",
       "</table>\n",
       "<p>26861 rows × 2 columns</p>\n",
       "</div>"
      ],
      "text/plain": [
       "      energy_efficiency_class energy_class\n",
       "0                   Efficient            B\n",
       "1                   Efficient         A+++\n",
       "2                 Inefficient            E\n",
       "3                 Inefficient            D\n",
       "4                 Inefficient            E\n",
       "...                       ...          ...\n",
       "26856               Efficient           A+\n",
       "26857               Efficient            B\n",
       "26858             Inefficient            E\n",
       "26859               Efficient           A+\n",
       "26860               Efficient            A\n",
       "\n",
       "[26861 rows x 2 columns]"
      ]
     },
     "execution_count": 635,
     "metadata": {},
     "output_type": "execute_result"
    }
   ],
   "source": [
    "df[['energy_efficiency_class','energy_class']]"
   ]
  },
  {
   "cell_type": "code",
   "execution_count": 636,
   "id": "f19d5a44",
   "metadata": {},
   "outputs": [],
   "source": [
    "# Drop the 'energy_class' column\n",
    "df.drop(columns=['energy_class'], inplace=True)"
   ]
  },
  {
   "cell_type": "markdown",
   "id": "db80f1a8-e047-433e-b5d5-10dc864d8416",
   "metadata": {},
   "source": [
    "# Co2 Efficiency"
   ]
  },
  {
   "cell_type": "code",
   "execution_count": 638,
   "id": "76e16010-8ee6-4237-a193-046eae679534",
   "metadata": {},
   "outputs": [
    {
     "name": "stdout",
     "output_type": "stream",
     "text": [
      "co2_efficiency\n",
      "NaN                                                                                           72.685306\n",
      "Calculated on basis of measured CO₂-emissions taking into account the mass of the vehicle.    27.314694\n",
      "Name: proportion, dtype: float64\n"
     ]
    }
   ],
   "source": [
    "# Calculate value counts as percentages\n",
    "value_counts_percentage = df['co2_efficiency'].value_counts(dropna=False, normalize=True) * 100\n",
    "\n",
    "# Display the percentages\n",
    "print(value_counts_percentage)"
   ]
  },
  {
   "cell_type": "code",
   "execution_count": 639,
   "id": "0edf016b-fb3a-4744-8593-12127bd62a06",
   "metadata": {},
   "outputs": [],
   "source": [
    "# Drop the 'other_fuel' column\n",
    "df.drop(columns=['co2_efficiency'], inplace=True)"
   ]
  },
  {
   "cell_type": "markdown",
   "id": "9261da89-771d-40b6-ab12-39b64d56a93c",
   "metadata": {},
   "source": [
    "# Available"
   ]
  },
  {
   "cell_type": "code",
   "execution_count": 641,
   "id": "b170c352-3b22-40ab-827c-c78b18bb09bd",
   "metadata": {},
   "outputs": [],
   "source": [
    "#fill missing non smoker values with No\n",
    "#df['available'] = df['available'].fillna('No')"
   ]
  },
  {
   "cell_type": "code",
   "execution_count": 642,
   "id": "28aa94b7-abee-463f-81d1-48c64ba9d98e",
   "metadata": {},
   "outputs": [
    {
     "data": {
      "text/plain": [
       "available\n",
       "yes    26195\n",
       "no       666\n",
       "Name: count, dtype: int64"
      ]
     },
     "execution_count": 642,
     "metadata": {},
     "output_type": "execute_result"
    }
   ],
   "source": [
    "# Create the 'check' column based on the condition\n",
    "df['available'] = df.apply(lambda row: 'no' if pd.notna(row['available']) or pd.notna(row['availability']) else 'yes', axis=1)\n",
    "\n",
    "# Display the DataFrame\n",
    "df['available'].value_counts()"
   ]
  },
  {
   "cell_type": "markdown",
   "id": "25bc4d16-7dcd-494d-a761-199a5bb17bc9",
   "metadata": {},
   "source": [
    "# Taxi Rental"
   ]
  },
  {
   "cell_type": "code",
   "execution_count": 644,
   "id": "37f27f15-b82f-421a-a16d-3c1470ca5bca",
   "metadata": {},
   "outputs": [
    {
     "name": "stdout",
     "output_type": "stream",
     "text": [
      "taxi_rental\n",
      "NaN    98.581587\n",
      "Yes     1.418413\n",
      "Name: proportion, dtype: float64\n"
     ]
    }
   ],
   "source": [
    "# Calculate value counts as percentages\n",
    "value_counts_percentage = df['taxi_rental'].value_counts(dropna=False, normalize=True) * 100\n",
    "\n",
    "# Display the percentages\n",
    "print(value_counts_percentage)"
   ]
  },
  {
   "cell_type": "code",
   "execution_count": 645,
   "id": "00561817-4825-4cc7-91a5-584d14b6e184",
   "metadata": {},
   "outputs": [],
   "source": [
    "df['taxi_rental'].fillna('No', inplace=True)"
   ]
  },
  {
   "cell_type": "code",
   "execution_count": 646,
   "id": "0b2fa9a2-b947-4485-ad6e-a83abcd6e5eb",
   "metadata": {},
   "outputs": [
    {
     "name": "stdout",
     "output_type": "stream",
     "text": [
      "taxi_rental\n",
      "No     98.581587\n",
      "Yes     1.418413\n",
      "Name: proportion, dtype: float64\n"
     ]
    }
   ],
   "source": [
    "# Calculate value counts as percentages\n",
    "value_counts_percentage = df['taxi_rental'].value_counts(dropna=False, normalize=True) * 100\n",
    "\n",
    "# Display the percentages\n",
    "print(value_counts_percentage)"
   ]
  },
  {
   "cell_type": "markdown",
   "id": "a099ad00-aa61-4479-a596-f10f2431baaa",
   "metadata": {},
   "source": [
    "# Availability"
   ]
  },
  {
   "cell_type": "code",
   "execution_count": 648,
   "id": "22bd886b-1c26-46d7-8f84-36fcddd39219",
   "metadata": {},
   "outputs": [
    {
     "name": "stdout",
     "output_type": "stream",
     "text": [
      "availability\n",
      "NaN      98.957597\n",
      "1.0       0.219649\n",
      "5.0       0.201035\n",
      "7.0       0.107963\n",
      "3.0       0.089349\n",
      "60.0      0.078180\n",
      "14.0      0.063289\n",
      "42.0      0.055843\n",
      "180.0     0.040952\n",
      "90.0      0.037229\n",
      "120.0     0.033506\n",
      "6.0       0.026060\n",
      "270.0     0.026060\n",
      "2.0       0.018614\n",
      "28.0      0.014891\n",
      "4.0       0.014891\n",
      "21.0      0.007446\n",
      "360.0     0.003723\n",
      "150.0     0.003723\n",
      "Name: proportion, dtype: float64\n"
     ]
    }
   ],
   "source": [
    "# Calculate value counts as percentages\n",
    "value_counts_percentage = df['availability'].value_counts(dropna=False, normalize=True) * 100\n",
    "\n",
    "# Display the percentages\n",
    "print(value_counts_percentage)"
   ]
  },
  {
   "cell_type": "code",
   "execution_count": 649,
   "id": "5b188f5e-76ce-4642-a551-0bbd360744cc",
   "metadata": {},
   "outputs": [],
   "source": [
    "df['availability'].fillna(0, inplace=True)"
   ]
  },
  {
   "cell_type": "code",
   "execution_count": 650,
   "id": "e33745a4-d42a-4f24-9efa-3989b0737d6d",
   "metadata": {},
   "outputs": [],
   "source": [
    "# Drop the 'availability' column\n",
    "df.drop(columns=['availability'], inplace=True)"
   ]
  },
  {
   "cell_type": "markdown",
   "id": "ede80177-b30b-49d5-9c2b-c0232a13be83",
   "metadata": {},
   "source": [
    "# Battery Owner"
   ]
  },
  {
   "cell_type": "code",
   "execution_count": 652,
   "id": "3352d8dd-f79b-44f2-a82b-9d694097cf1e",
   "metadata": {},
   "outputs": [
    {
     "name": "stdout",
     "output_type": "stream",
     "text": [
      "battery_owner\n",
      "NaN         99.97394\n",
      "Included     0.02606\n",
      "Name: proportion, dtype: float64\n"
     ]
    }
   ],
   "source": [
    "# Calculate value counts as percentages\n",
    "value_counts_percentage = df['battery_owner'].value_counts(dropna=False, normalize=True) * 100\n",
    "\n",
    "# Display the percentages\n",
    "print(value_counts_percentage)"
   ]
  },
  {
   "cell_type": "code",
   "execution_count": 653,
   "id": "122b730a-cbb4-4525-a728-b311ebedd614",
   "metadata": {},
   "outputs": [],
   "source": [
    "# Drop the 'availability' column\n",
    "df.drop(columns=['battery_owner'], inplace=True)"
   ]
  },
  {
   "cell_type": "markdown",
   "id": "0274b2c8-6a63-47b6-95f2-46422d04cb07",
   "metadata": {},
   "source": [
    "# Power_kW"
   ]
  },
  {
   "cell_type": "code",
   "execution_count": 655,
   "id": "94636e9e-b5fe-43aa-92ec-5654b07ca1e5",
   "metadata": {},
   "outputs": [
    {
     "name": "stdout",
     "output_type": "stream",
     "text": [
      "power_kW\n",
      "110.0    6.768177\n",
      "96.0     5.010982\n",
      "81.0     4.277577\n",
      "66.0     4.113771\n",
      "88.0     3.864339\n",
      "           ...   \n",
      "478.0    0.003723\n",
      "665.0    0.003723\n",
      "164.0    0.003723\n",
      "570.0    0.003723\n",
      "24.0     0.003723\n",
      "Name: proportion, Length: 348, dtype: float64\n"
     ]
    }
   ],
   "source": [
    "# Calculate value counts as percentages\n",
    "value_counts_percentage = df['power_kW'].value_counts(dropna=False, normalize=True) * 100\n",
    "\n",
    "# Display the percentages\n",
    "print(value_counts_percentage)"
   ]
  },
  {
   "cell_type": "code",
   "execution_count": 656,
   "id": "76fbfa2e",
   "metadata": {},
   "outputs": [
    {
     "data": {
      "text/plain": [
       "565"
      ]
     },
     "execution_count": 656,
     "metadata": {},
     "output_type": "execute_result"
    }
   ],
   "source": [
    "df['power_kW'].isna().sum()"
   ]
  },
  {
   "cell_type": "code",
   "execution_count": 657,
   "id": "b5d741ee-caea-48ab-91ca-3a52a382500c",
   "metadata": {},
   "outputs": [
    {
     "name": "stdout",
     "output_type": "stream",
     "text": [
      "Empty DataFrame\n",
      "Columns: [power_kW, power_hp]\n",
      "Index: []\n"
     ]
    }
   ],
   "source": [
    "# Find rows where 'fuel_consumption_comb' is null but 'fuel_consumption_city' or 'fuel_consumption_country' is not null\n",
    "rows_with_null_comb = df[df['power_kW'].isnull() & df['power_hp'].notnull() ]\n",
    "\n",
    "print(rows_with_null_comb[['power_kW','power_hp']])"
   ]
  },
  {
   "cell_type": "code",
   "execution_count": 658,
   "id": "c35acb21-c3c1-43ec-834b-f1df5d75521f",
   "metadata": {},
   "outputs": [],
   "source": [
    "df['power_kW'] = df.groupby(['make_model','age','fuel_type'])['power_kW'].transform(lambda x: x.fillna(x.mean()))"
   ]
  },
  {
   "cell_type": "code",
   "execution_count": 659,
   "id": "51e44d24",
   "metadata": {},
   "outputs": [
    {
     "data": {
      "text/plain": [
       "72"
      ]
     },
     "execution_count": 659,
     "metadata": {},
     "output_type": "execute_result"
    }
   ],
   "source": [
    "df['power_kW'].isna().sum()"
   ]
  },
  {
   "cell_type": "code",
   "execution_count": 660,
   "id": "439d7fb7",
   "metadata": {},
   "outputs": [],
   "source": [
    "df['power_kW'] = df.groupby(['make_model','fuel_type'])['power_kW'].transform(lambda x: x.fillna(x.mean()))"
   ]
  },
  {
   "cell_type": "code",
   "execution_count": 661,
   "id": "2c1b84c5",
   "metadata": {},
   "outputs": [
    {
     "data": {
      "text/plain": [
       "13"
      ]
     },
     "execution_count": 661,
     "metadata": {},
     "output_type": "execute_result"
    }
   ],
   "source": [
    "df['power_kW'].isna().sum()"
   ]
  },
  {
   "cell_type": "code",
   "execution_count": 662,
   "id": "1625e83c",
   "metadata": {},
   "outputs": [],
   "source": [
    "df['power_kW'] = df.groupby('fuel_type')['power_kW'].transform(lambda x: x.fillna(x.mean()))"
   ]
  },
  {
   "cell_type": "code",
   "execution_count": 663,
   "id": "f5a6e7cb",
   "metadata": {},
   "outputs": [
    {
     "data": {
      "text/plain": [
       "0"
      ]
     },
     "execution_count": 663,
     "metadata": {},
     "output_type": "execute_result"
    }
   ],
   "source": [
    "df['power_kW'].isna().sum()"
   ]
  },
  {
   "cell_type": "code",
   "execution_count": 664,
   "id": "132eacac-e640-4578-a81d-e09eaa8c32f5",
   "metadata": {},
   "outputs": [
    {
     "name": "stdout",
     "output_type": "stream",
     "text": [
      "power_kW\n",
      "110.000000    6.768177\n",
      "96.000000     5.029597\n",
      "81.000000     4.281300\n",
      "66.000000     4.128662\n",
      "88.000000     3.864339\n",
      "                ...   \n",
      "79.062500     0.003723\n",
      "82.550725     0.003723\n",
      "79.432432     0.003723\n",
      "81.836066     0.003723\n",
      "192.958333    0.003723\n",
      "Name: proportion, Length: 580, dtype: float64\n"
     ]
    }
   ],
   "source": [
    "# Calculate value counts as percentages\n",
    "value_counts_percentage = df['power_kW'].value_counts(dropna=False, normalize=True) * 100\n",
    "\n",
    "# Display the percentages\n",
    "print(value_counts_percentage)"
   ]
  },
  {
   "cell_type": "code",
   "execution_count": 665,
   "id": "974dfd16",
   "metadata": {},
   "outputs": [
    {
     "data": {
      "text/plain": [
       "0"
      ]
     },
     "execution_count": 665,
     "metadata": {},
     "output_type": "execute_result"
    }
   ],
   "source": [
    "df['power_kW'].isna().sum()"
   ]
  },
  {
   "cell_type": "markdown",
   "id": "fb559cf0-f0c1-46e8-b1f0-9b89a24f1597",
   "metadata": {},
   "source": [
    "# Power HP"
   ]
  },
  {
   "cell_type": "code",
   "execution_count": 667,
   "id": "9a9fd8a7-2190-4299-a652-0ce156bc5979",
   "metadata": {},
   "outputs": [
    {
     "name": "stdout",
     "output_type": "stream",
     "text": [
      "power_hp\n",
      "150.0    6.768177\n",
      "131.0    5.010982\n",
      "110.0    4.277577\n",
      "90.0     4.113771\n",
      "120.0    3.864339\n",
      "           ...   \n",
      "650.0    0.003723\n",
      "904.0    0.003723\n",
      "223.0    0.003723\n",
      "775.0    0.003723\n",
      "33.0     0.003723\n",
      "Name: proportion, Length: 348, dtype: float64\n"
     ]
    }
   ],
   "source": [
    "# Calculate value counts as percentages\n",
    "value_counts_percentage = df['power_hp'].value_counts(dropna=False, normalize=True) * 100\n",
    "\n",
    "# Display the percentages\n",
    "print(value_counts_percentage)"
   ]
  },
  {
   "cell_type": "code",
   "execution_count": 668,
   "id": "f9f1cf94-b8fb-4c59-8720-6844e5f47fdf",
   "metadata": {},
   "outputs": [],
   "source": [
    "df['power_hp'] = df.groupby(['make_model','age','fuel_type'])['power_hp'].transform(lambda x: x.fillna(x.mean()))"
   ]
  },
  {
   "cell_type": "code",
   "execution_count": 669,
   "id": "17f3a744",
   "metadata": {},
   "outputs": [
    {
     "data": {
      "text/plain": [
       "72"
      ]
     },
     "execution_count": 669,
     "metadata": {},
     "output_type": "execute_result"
    }
   ],
   "source": [
    "df['power_hp'].isna().sum()"
   ]
  },
  {
   "cell_type": "code",
   "execution_count": 670,
   "id": "3dc7d425",
   "metadata": {},
   "outputs": [],
   "source": [
    "df['power_hp'] = df.groupby(['make_model','fuel_type'])['power_hp'].transform(lambda x: x.fillna(x.mean()))"
   ]
  },
  {
   "cell_type": "code",
   "execution_count": 671,
   "id": "eaafb9b4",
   "metadata": {},
   "outputs": [
    {
     "data": {
      "text/plain": [
       "13"
      ]
     },
     "execution_count": 671,
     "metadata": {},
     "output_type": "execute_result"
    }
   ],
   "source": [
    "df['power_hp'].isna().sum()"
   ]
  },
  {
   "cell_type": "code",
   "execution_count": 672,
   "id": "1da643ef",
   "metadata": {},
   "outputs": [],
   "source": [
    "df['power_hp'] = df.groupby('fuel_type')['power_hp'].transform(lambda x: x.fillna(x.mean()))"
   ]
  },
  {
   "cell_type": "code",
   "execution_count": 673,
   "id": "310788f5",
   "metadata": {},
   "outputs": [
    {
     "data": {
      "text/plain": [
       "0"
      ]
     },
     "execution_count": 673,
     "metadata": {},
     "output_type": "execute_result"
    }
   ],
   "source": [
    "df['power_hp'].isna().sum()"
   ]
  },
  {
   "cell_type": "code",
   "execution_count": 674,
   "id": "ca721393-c25f-4f80-af68-a5b7b39f075e",
   "metadata": {},
   "outputs": [
    {
     "name": "stdout",
     "output_type": "stream",
     "text": [
      "power_hp\n",
      "150.000000    6.768177\n",
      "131.000000    5.033320\n",
      "110.000000    4.281300\n",
      "90.000000     4.128662\n",
      "120.000000    3.864339\n",
      "                ...   \n",
      "100.923077    0.003723\n",
      "107.625000    0.003723\n",
      "112.449275    0.003723\n",
      "108.108108    0.003723\n",
      "262.250000    0.003723\n",
      "Name: proportion, Length: 574, dtype: float64\n"
     ]
    }
   ],
   "source": [
    "# Calculate value counts as percentages\n",
    "value_counts_percentage = df['power_hp'].value_counts(dropna=False, normalize=True) * 100\n",
    "\n",
    "# Display the percentages\n",
    "print(value_counts_percentage)"
   ]
  },
  {
   "cell_type": "code",
   "execution_count": null,
   "id": "9a373ea6",
   "metadata": {},
   "outputs": [],
   "source": []
  },
  {
   "cell_type": "markdown",
   "id": "82a5e3a6-78a7-4941-97ed-2373bbdc8f23",
   "metadata": {},
   "source": [
    "# Fuel Consumption Comb"
   ]
  },
  {
   "cell_type": "code",
   "execution_count": 676,
   "id": "edaea270-0e74-41a2-9d0f-e17beef605fb",
   "metadata": {},
   "outputs": [
    {
     "name": "stdout",
     "output_type": "stream",
     "text": [
      "fuel_consumption_comb\n",
      "NaN     31.085961\n",
      "4.9      2.847995\n",
      "4.5      2.326793\n",
      "5.1      2.323071\n",
      "4.7      2.207662\n",
      "5.4      2.170433\n",
      "4.8      2.155541\n",
      "5.6      2.010350\n",
      "4.6      1.980567\n",
      "5.2      1.969398\n",
      "4.3      1.958229\n",
      "4.2      1.939615\n",
      "5.3      1.921001\n",
      "4.1      1.913555\n",
      "5.5      1.764640\n",
      "5.9      1.719966\n",
      "3.8      1.716243\n",
      "5.7      1.708797\n",
      "4.4      1.597111\n",
      "6.4      1.578497\n",
      "6.3      1.470533\n",
      "5.8      1.343956\n",
      "3.7      1.314173\n",
      "3.9      1.235993\n",
      "3.6      1.139198\n",
      "6.5      1.012621\n",
      "6.9      0.979115\n",
      "6.1      0.956777\n",
      "6.2      0.938163\n",
      "6.6      0.930717\n",
      "7.1      0.923272\n",
      "6.7      0.904657\n",
      "7.4      0.889766\n",
      "6.8      0.796694\n",
      "7.2      0.707345\n",
      "7.3      0.692454\n",
      "3.4      0.688731\n",
      "8.4      0.685008\n",
      "8.2      0.610551\n",
      "7.6      0.610551\n",
      "7.8      0.595659\n",
      "3.5      0.591936\n",
      "7.7      0.569599\n",
      "7.5      0.558430\n",
      "3.3      0.379733\n",
      "9.2      0.376010\n",
      "12.5     0.376010\n",
      "8.6      0.349950\n",
      "7.9      0.297830\n",
      "9.8      0.268047\n",
      "8.7      0.268047\n",
      "1.5      0.268047\n",
      "8.3      0.264324\n",
      "8.8      0.253155\n",
      "9.5      0.249432\n",
      "8.9      0.241987\n",
      "8.5      0.234541\n",
      "11.8     0.230818\n",
      "11.4     0.227095\n",
      "9.4      0.215926\n",
      "10.1     0.215926\n",
      "8.1      0.208481\n",
      "9.6      0.193589\n",
      "9.1      0.193589\n",
      "12.1     0.189866\n",
      "3.2      0.189866\n",
      "10.6     0.178698\n",
      "1.7      0.174975\n",
      "9.9      0.167529\n",
      "1.4      0.163806\n",
      "9.7      0.163806\n",
      "10.5     0.160083\n",
      "12.4     0.152638\n",
      "10.9     0.148915\n",
      "1.2      0.145192\n",
      "1.8      0.145192\n",
      "9.3      0.141469\n",
      "12.8     0.137746\n",
      "10.4     0.130300\n",
      "12.2     0.126578\n",
      "2.8      0.122855\n",
      "10.3     0.111686\n",
      "1.9      0.100517\n",
      "2.1      0.096795\n",
      "1.1      0.096795\n",
      "11.2     0.093072\n",
      "10.8     0.089349\n",
      "12.3     0.085626\n",
      "11.7     0.085626\n",
      "13.6     0.081903\n",
      "11.9     0.081903\n",
      "11.5     0.078180\n",
      "1.6      0.074457\n",
      "10.2     0.070735\n",
      "13.5     0.070735\n",
      "1.3      0.055843\n",
      "12.6     0.052120\n",
      "11.1     0.048397\n",
      "11.6     0.044674\n",
      "3.1      0.040952\n",
      "11.3     0.037229\n",
      "2.5      0.033506\n",
      "13.8     0.033506\n",
      "2.2      0.033506\n",
      "10.7     0.033506\n",
      "2.4      0.029783\n",
      "2.9      0.026060\n",
      "13.1     0.026060\n",
      "12.7     0.022337\n",
      "12.9     0.022337\n",
      "2.3      0.018614\n",
      "0.7      0.018614\n",
      "13.9     0.018614\n",
      "13.4     0.018614\n",
      "0.6      0.018614\n",
      "99.9     0.014891\n",
      "13.2     0.014891\n",
      "14.1     0.011169\n",
      "14.4     0.011169\n",
      "2.6      0.011169\n",
      "14.3     0.011169\n",
      "14.9     0.007446\n",
      "16.5     0.007446\n",
      "0.9      0.007446\n",
      "0.8      0.007446\n",
      "16.7     0.007446\n",
      "15.6     0.007446\n",
      "16.4     0.003723\n",
      "14.7     0.003723\n",
      "16.8     0.003723\n",
      "0.5      0.003723\n",
      "15.5     0.003723\n",
      "15.9     0.003723\n",
      "14.2     0.003723\n",
      "15.1     0.003723\n",
      "14.5     0.003723\n",
      "2.7      0.003723\n",
      "Name: proportion, dtype: float64\n"
     ]
    }
   ],
   "source": [
    "# Calculate value counts as percentages\n",
    "value_counts_percentage = df['fuel_consumption_comb'].value_counts(dropna=False, normalize=True) * 100\n",
    "\n",
    "# Display the percentages\n",
    "print(value_counts_percentage)"
   ]
  },
  {
   "cell_type": "code",
   "execution_count": 677,
   "id": "efcdbb50",
   "metadata": {},
   "outputs": [
    {
     "data": {
      "text/plain": [
       "8350"
      ]
     },
     "execution_count": 677,
     "metadata": {},
     "output_type": "execute_result"
    }
   ],
   "source": [
    "df['fuel_consumption_comb'].isna().sum()"
   ]
  },
  {
   "cell_type": "code",
   "execution_count": 678,
   "id": "da46b42b-b6d6-4720-b63c-cb3dd860e673",
   "metadata": {},
   "outputs": [
    {
     "name": "stdout",
     "output_type": "stream",
     "text": [
      "       fuel_consumption_comb  fuel_consumption_city  fuel_consumption_country\n",
      "12                       NaN                    7.9                       4.9\n",
      "119                      NaN                    4.7                       3.6\n",
      "178                      NaN                    7.9                       4.9\n",
      "185                      NaN                    4.7                       3.6\n",
      "232                      NaN                    4.5                       4.2\n",
      "...                      ...                    ...                       ...\n",
      "26692                    NaN                    4.6                       3.7\n",
      "26791                    NaN                    NaN                       4.4\n",
      "26811                    NaN                    8.3                       4.8\n",
      "26819                    NaN                    8.3                       4.8\n",
      "26833                    NaN                   13.4                       NaN\n",
      "\n",
      "[1804 rows x 3 columns]\n"
     ]
    }
   ],
   "source": [
    "# Find rows where 'fuel_consumption_comb' is null but 'fuel_consumption_city' or 'fuel_consumption_country' is not null\n",
    "rows_with_null_comb = df[df['fuel_consumption_comb'].isnull() & (df['fuel_consumption_city'].notnull() | df['fuel_consumption_country'].notnull())]\n",
    "\n",
    "print(rows_with_null_comb[['fuel_consumption_comb','fuel_consumption_city', 'fuel_consumption_country' ]])"
   ]
  },
  {
   "cell_type": "code",
   "execution_count": 679,
   "id": "9e928472-6785-46a2-8593-904d0480f8e8",
   "metadata": {},
   "outputs": [],
   "source": [
    "# Fill 'fuel_consumption_comb' with the mean of 'fuel_consumption_city' and 'fuel_consumption_country'\n",
    "df.loc[df['fuel_consumption_comb'].isnull() & (df['fuel_consumption_city'].notnull() | df['fuel_consumption_country'].notnull()), 'fuel_consumption_comb'] = df[['fuel_consumption_city', 'fuel_consumption_country']].mean(axis=1)\n",
    "\n",
    "# Display the updated DataFrame"
   ]
  },
  {
   "cell_type": "code",
   "execution_count": 680,
   "id": "18ffe5a8-6c17-4cef-bb5e-9c9c0349c0cd",
   "metadata": {},
   "outputs": [
    {
     "name": "stdout",
     "output_type": "stream",
     "text": [
      "fuel_consumption_comb\n",
      "NaN      24.369904\n",
      "4.90      2.874055\n",
      "5.10      2.553889\n",
      "4.50      2.371468\n",
      "4.70      2.222553\n",
      "4.80      2.207662\n",
      "5.40      2.203939\n",
      "5.30      2.151819\n",
      "4.10      2.129481\n",
      "5.20      2.122036\n",
      "4.20      2.043855\n",
      "5.60      2.021518\n",
      "4.30      1.999181\n",
      "4.60      1.991735\n",
      "5.50      1.798146\n",
      "6.40      1.764640\n",
      "5.90      1.738580\n",
      "3.80      1.719966\n",
      "5.70      1.716243\n",
      "4.40      1.679014\n",
      "6.30      1.623171\n",
      "5.80      1.362570\n",
      "3.70      1.314173\n",
      "3.90      1.247161\n",
      "3.60      1.146644\n",
      "6.50      1.057295\n",
      "6.90      0.990283\n",
      "6.10      0.990283\n",
      "6.20      0.956777\n",
      "7.40      0.953055\n",
      "6.60      0.953055\n",
      "7.10      0.923272\n",
      "6.70      0.904657\n",
      "6.80      0.800417\n",
      "7.60      0.763188\n",
      "7.50      0.725960\n",
      "7.30      0.714791\n",
      "7.20      0.714791\n",
      "7.80      0.696177\n",
      "3.40      0.696177\n",
      "8.40      0.688731\n",
      "8.20      0.617996\n",
      "3.50      0.599382\n",
      "7.70      0.588213\n",
      "8.60      0.413239\n",
      "9.20      0.387178\n",
      "8.70      0.383456\n",
      "3.30      0.379733\n",
      "12.50     0.376010\n",
      "4.15      0.364841\n",
      "9.80      0.346227\n",
      "5.15      0.331335\n",
      "9.10      0.327613\n",
      "7.90      0.323890\n",
      "5.20      0.297830\n",
      "5.25      0.294107\n",
      "8.50      0.290384\n",
      "8.80      0.286661\n",
      "1.50      0.268047\n",
      "8.30      0.268047\n",
      "9.50      0.253155\n",
      "8.90      0.245709\n",
      "6.35      0.245709\n",
      "8.10      0.238264\n",
      "11.80     0.234541\n",
      "11.40     0.230818\n",
      "9.40      0.215926\n",
      "10.10     0.215926\n",
      "9.70      0.212204\n",
      "9.60      0.197312\n",
      "5.35      0.189866\n",
      "12.10     0.189866\n",
      "3.20      0.189866\n",
      "10.60     0.178698\n",
      "1.70      0.174975\n",
      "12.40     0.174975\n",
      "9.90      0.167529\n",
      "10.90     0.163806\n",
      "10.50     0.163806\n",
      "1.40      0.163806\n",
      "5.30      0.156361\n",
      "1.80      0.145192\n",
      "1.20      0.145192\n",
      "9.30      0.141469\n",
      "12.80     0.137746\n",
      "10.40     0.134023\n",
      "12.20     0.126578\n",
      "2.80      0.122855\n",
      "13.30     0.115409\n",
      "10.30     0.111686\n",
      "8.65      0.104240\n",
      "1.90      0.100517\n",
      "2.10      0.096795\n",
      "1.10      0.096795\n",
      "6.15      0.093072\n",
      "7.35      0.093072\n",
      "11.20     0.093072\n",
      "8.45      0.093072\n",
      "10.80     0.089349\n",
      "11.50     0.085626\n",
      "11.70     0.085626\n",
      "12.30     0.085626\n",
      "13.60     0.081903\n",
      "11.90     0.081903\n",
      "6.25      0.078180\n",
      "1.60      0.074457\n",
      "10.20     0.070735\n",
      "13.50     0.070735\n",
      "13.40     0.063289\n",
      "7.65      0.063289\n",
      "7.55      0.059566\n",
      "7.45      0.055843\n",
      "1.30      0.055843\n",
      "12.60     0.052120\n",
      "10.70     0.052120\n",
      "11.60     0.048397\n",
      "11.10     0.048397\n",
      "5.00      0.040952\n",
      "13.35     0.040952\n",
      "11.30     0.040952\n",
      "3.10      0.040952\n",
      "4.05      0.037229\n",
      "10.00     0.037229\n",
      "5.05      0.037229\n",
      "13.80     0.033506\n",
      "2.50      0.033506\n",
      "4.05      0.033506\n",
      "6.45      0.033506\n",
      "5.75      0.033506\n",
      "2.20      0.033506\n",
      "4.20      0.029783\n",
      "7.35      0.029783\n",
      "2.40      0.029783\n",
      "10.35     0.026060\n",
      "2.90      0.026060\n",
      "12.00     0.026060\n",
      "6.55      0.026060\n",
      "13.10     0.026060\n",
      "12.70     0.022337\n",
      "12.90     0.022337\n",
      "13.90     0.018614\n",
      "0.60      0.018614\n",
      "0.70      0.018614\n",
      "13.20     0.018614\n",
      "2.30      0.018614\n",
      "3.95      0.014891\n",
      "7.55      0.014891\n",
      "11.00     0.014891\n",
      "14.40     0.014891\n",
      "4.25      0.014891\n",
      "6.20      0.014891\n",
      "99.90     0.014891\n",
      "8.55      0.014891\n",
      "5.05      0.014891\n",
      "7.00      0.014891\n",
      "8.10      0.011169\n",
      "3.60      0.011169\n",
      "6.00      0.011169\n",
      "7.45      0.011169\n",
      "4.35      0.011169\n",
      "2.60      0.011169\n",
      "14.10     0.011169\n",
      "14.30     0.011169\n",
      "7.30      0.011169\n",
      "4.30      0.011169\n",
      "13.10     0.011169\n",
      "10.85     0.011169\n",
      "7.40      0.011169\n",
      "6.30      0.011169\n",
      "3.90      0.007446\n",
      "3.15      0.007446\n",
      "7.15      0.007446\n",
      "9.05      0.007446\n",
      "9.95      0.007446\n",
      "15.10     0.007446\n",
      "15.60     0.007446\n",
      "0.80      0.007446\n",
      "16.50     0.007446\n",
      "5.80      0.007446\n",
      "10.75     0.007446\n",
      "6.45      0.007446\n",
      "6.55      0.007446\n",
      "14.10     0.007446\n",
      "0.90      0.007446\n",
      "7.20      0.007446\n",
      "16.70     0.007446\n",
      "7.25      0.007446\n",
      "8.60      0.007446\n",
      "4.00      0.007446\n",
      "14.90     0.007446\n",
      "9.65      0.007446\n",
      "9.55      0.007446\n",
      "9.15      0.007446\n",
      "6.85      0.003723\n",
      "7.15      0.003723\n",
      "9.85      0.003723\n",
      "2.70      0.003723\n",
      "15.50     0.003723\n",
      "5.45      0.003723\n",
      "15.40     0.003723\n",
      "8.40      0.003723\n",
      "14.70     0.003723\n",
      "13.55     0.003723\n",
      "16.80     0.003723\n",
      "14.65     0.003723\n",
      "6.95      0.003723\n",
      "5.65      0.003723\n",
      "9.65      0.003723\n",
      "16.10     0.003723\n",
      "4.95      0.003723\n",
      "8.00      0.003723\n",
      "13.25     0.003723\n",
      "12.85     0.003723\n",
      "14.20     0.003723\n",
      "16.40     0.003723\n",
      "14.00     0.003723\n",
      "11.45     0.003723\n",
      "10.65     0.003723\n",
      "15.90     0.003723\n",
      "6.75      0.003723\n",
      "8.25      0.003723\n",
      "14.50     0.003723\n",
      "15.35     0.003723\n",
      "10.90     0.003723\n",
      "15.55     0.003723\n",
      "8.35      0.003723\n",
      "4.95      0.003723\n",
      "4.65      0.003723\n",
      "12.25     0.003723\n",
      "8.90      0.003723\n",
      "5.70      0.003723\n",
      "8.85      0.003723\n",
      "3.55      0.003723\n",
      "6.05      0.003723\n",
      "7.05      0.003723\n",
      "9.00      0.003723\n",
      "3.95      0.003723\n",
      "0.50      0.003723\n",
      "6.95      0.003723\n",
      "5.45      0.003723\n",
      "11.95     0.003723\n",
      "Name: proportion, dtype: float64\n"
     ]
    }
   ],
   "source": [
    "# Calculate value counts as percentages\n",
    "value_counts_percentage = df['fuel_consumption_comb'].value_counts(dropna=False, normalize=True) * 100\n",
    "\n",
    "# Display the percentages\n",
    "print(value_counts_percentage)"
   ]
  },
  {
   "cell_type": "code",
   "execution_count": 681,
   "id": "a81bd344-5157-4611-926b-fa0de4438cbb",
   "metadata": {},
   "outputs": [
    {
     "name": "stdout",
     "output_type": "stream",
     "text": [
      "fuel_consumption_country    0.796980\n",
      "fuel_consumption_city       0.788257\n",
      "cylinders                   0.547197\n",
      "power_kW                    0.521393\n",
      "power_hp                    0.521307\n",
      "engine_size                 0.426774\n",
      "age                         0.311870\n",
      "empty_weight                0.271375\n",
      "co2_emissions               0.266768\n",
      "price                       0.248506\n",
      "owner_count                 0.158009\n",
      "gears                       0.126682\n",
      "prev_km                     0.115731\n",
      "mileage                     0.103422\n",
      "seats                      -0.329803\n",
      "doors                      -0.428939\n",
      "power_cons_numeric         -0.518873\n",
      "power_cons_wltp_numeric          NaN\n",
      "fuel_wltp_numeric                NaN\n",
      "co2_wltp_numeric                 NaN\n",
      "avg_elec_range                   NaN\n",
      "Name: fuel_consumption_comb, dtype: float64\n"
     ]
    }
   ],
   "source": [
    "# Filter out only numeric columns\n",
    "numeric_cols = df.select_dtypes(include=[np.number])\n",
    "\n",
    "# Calculate the correlation matrix for numeric columns\n",
    "correlation_matrix = numeric_cols.corr()\n",
    "\n",
    "# Display correlation with 'fuel_consumption_comb'\n",
    "correlation_with_fuel = correlation_matrix['fuel_consumption_comb'].drop('fuel_consumption_comb')\n",
    "print(correlation_with_fuel.sort_values(ascending=False))"
   ]
  },
  {
   "cell_type": "code",
   "execution_count": 682,
   "id": "015660c0",
   "metadata": {},
   "outputs": [],
   "source": [
    "df['fuel_consumption_comb'] = df.groupby(['make_model','fuel_type','body_type'])['fuel_consumption_comb'].transform(lambda x: x.fillna(x.mean()))"
   ]
  },
  {
   "cell_type": "code",
   "execution_count": 683,
   "id": "d297a7f5",
   "metadata": {},
   "outputs": [
    {
     "data": {
      "text/plain": [
       "1360"
      ]
     },
     "execution_count": 683,
     "metadata": {},
     "output_type": "execute_result"
    }
   ],
   "source": [
    "df['fuel_consumption_comb'].isna().sum()"
   ]
  },
  {
   "cell_type": "code",
   "execution_count": 684,
   "id": "2042d076",
   "metadata": {},
   "outputs": [],
   "source": [
    "df['fuel_consumption_comb'] = df.groupby(['make_model','fuel_type'])['fuel_consumption_comb'].transform(lambda x: x.fillna(x.mean()))"
   ]
  },
  {
   "cell_type": "code",
   "execution_count": 685,
   "id": "83192cfa",
   "metadata": {},
   "outputs": [
    {
     "data": {
      "text/plain": [
       "1059"
      ]
     },
     "execution_count": 685,
     "metadata": {},
     "output_type": "execute_result"
    }
   ],
   "source": [
    "df['fuel_consumption_comb'].isna().sum()"
   ]
  },
  {
   "cell_type": "code",
   "execution_count": 686,
   "id": "64b0ba84",
   "metadata": {},
   "outputs": [],
   "source": [
    "df['fuel_consumption_comb'] = df.groupby('fuel_type')['fuel_consumption_comb'].transform(lambda x: x.fillna(x.mean()))"
   ]
  },
  {
   "cell_type": "code",
   "execution_count": 687,
   "id": "53936d9a",
   "metadata": {},
   "outputs": [
    {
     "data": {
      "text/plain": [
       "0"
      ]
     },
     "execution_count": 687,
     "metadata": {},
     "output_type": "execute_result"
    }
   ],
   "source": [
    "df['fuel_consumption_comb'].isna().sum()"
   ]
  },
  {
   "cell_type": "code",
   "execution_count": 688,
   "id": "a0baab1f-afb5-4162-8f87-abdbb8b7c17a",
   "metadata": {},
   "outputs": [
    {
     "name": "stdout",
     "output_type": "stream",
     "text": [
      "fuel_consumption_comb\n",
      "4.900000     779\n",
      "5.100000     707\n",
      "4.500000     649\n",
      "4.800000     611\n",
      "5.400000     598\n",
      "            ... \n",
      "6.633333       1\n",
      "10.777778      1\n",
      "9.000000       1\n",
      "3.860000       1\n",
      "5.505556       1\n",
      "Name: count, Length: 856, dtype: int64\n"
     ]
    }
   ],
   "source": [
    "# Calculate value counts as percentages\n",
    "value_counts_percentage = df['fuel_consumption_comb'].value_counts(dropna=False) \n",
    "\n",
    "# Display the percentages\n",
    "print(value_counts_percentage)"
   ]
  },
  {
   "cell_type": "markdown",
   "id": "404ff53a-5491-4e73-8695-dcec253cfeeb",
   "metadata": {},
   "source": [
    "# Fuel Consumption City"
   ]
  },
  {
   "cell_type": "code",
   "execution_count": 690,
   "id": "ca9a9ee1-00e8-43e5-ad0b-5309b1f6a8b9",
   "metadata": {},
   "outputs": [],
   "source": [
    "# Drop the 'availability' column\n",
    "df.drop(columns=['fuel_consumption_city'], inplace=True)"
   ]
  },
  {
   "cell_type": "markdown",
   "id": "151b6aa5-d17a-463b-bb34-ca6bb29cc6c0",
   "metadata": {},
   "source": [
    "# Fuel Consumption Country"
   ]
  },
  {
   "cell_type": "code",
   "execution_count": 692,
   "id": "7bdc6597-4c3e-4e83-9697-366af14d6027",
   "metadata": {},
   "outputs": [],
   "source": [
    "# Drop the 'availability' column\n",
    "df.drop(columns=['fuel_consumption_country'], inplace=True)"
   ]
  },
  {
   "cell_type": "markdown",
   "id": "3107c99d-8863-4e19-a5bf-36af3809ccd6",
   "metadata": {},
   "source": [
    "# Location Country"
   ]
  },
  {
   "cell_type": "code",
   "execution_count": 694,
   "id": "ee112387-336f-494e-8765-01bda6f61d2a",
   "metadata": {},
   "outputs": [
    {
     "name": "stdout",
     "output_type": "stream",
     "text": [
      "location_country\n",
      "Germany        44.369160\n",
      "Spain          22.713227\n",
      "Netherlands     9.545438\n",
      "Italy           9.005622\n",
      "Belgium         6.448010\n",
      "France          5.398161\n",
      "Austria         2.382637\n",
      "Luxembourg      0.126578\n",
      "Denmark         0.003723\n",
      "Estonia         0.003723\n",
      "Bulgaria        0.003723\n",
      "Name: proportion, dtype: float64\n"
     ]
    }
   ],
   "source": [
    "# Calculate value counts as percentages\n",
    "value_counts_percentage = df['location_country'].value_counts(dropna=False, normalize=True) * 100\n",
    "\n",
    "# Display the percentages\n",
    "print(value_counts_percentage)"
   ]
  },
  {
   "cell_type": "code",
   "execution_count": 695,
   "id": "28b1168b-793a-408b-8575-8b5061525e2e",
   "metadata": {},
   "outputs": [],
   "source": [
    "#There is no missing value after dropping 850 nan rows"
   ]
  },
  {
   "cell_type": "markdown",
   "id": "4076bf8b-b70b-4fba-b879-9a697c436ee9",
   "metadata": {},
   "source": [
    "# Location City"
   ]
  },
  {
   "cell_type": "code",
   "execution_count": 697,
   "id": "02ade12e-4758-4e00-9b7e-dca60afb4e6b",
   "metadata": {},
   "outputs": [
    {
     "name": "stdout",
     "output_type": "stream",
     "text": [
      "location_city\n",
      "Madrid                          2.926175\n",
      "Berlin                          1.578497\n",
      "Sevilla                         0.774357\n",
      "Dresden                         0.748297\n",
      "Paris                           0.725960\n",
      "                                  ...   \n",
      "Galtür                          0.003723\n",
      "Feletto Umberto - Udine - Ud    0.003723\n",
      "Sora - Frosinone                0.003723\n",
      "Casorate Sempione - Varese      0.003723\n",
      "Villers-Le-Bouillet             0.003723\n",
      "Name: proportion, Length: 5034, dtype: float64\n"
     ]
    }
   ],
   "source": [
    "# Calculate value counts as percentages\n",
    "value_counts_percentage = df['location_city'].value_counts(dropna=False, normalize=True) * 100\n",
    "\n",
    "# Display the percentages\n",
    "print(value_counts_percentage)"
   ]
  },
  {
   "cell_type": "code",
   "execution_count": 698,
   "id": "8d086745-aa03-4769-8985-4d6de35053e4",
   "metadata": {},
   "outputs": [],
   "source": [
    "df.drop(columns=['location_city'], inplace=True)"
   ]
  },
  {
   "cell_type": "markdown",
   "id": "0e3bb19b-c0f7-4298-98ae-8bccc54d4e0a",
   "metadata": {},
   "source": [
    "# safety_security"
   ]
  },
  {
   "cell_type": "raw",
   "id": "e7ef1bb3-51f9-4b0f-ac50-3a94fa62cfbe",
   "metadata": {},
   "source": [
    "        basic_security_keywords = ['Electronic stability control', 'ABS', 'Driver-side airbag',\n",
    "                                   'Passenger-side airbag', 'Side airbag', 'Traction control',\n",
    "                                   'Emergency system', 'Power steering', 'Daytime running lights',\n",
    "                                   'Immobilizer', 'Head airbag', 'Central door lock with remote control',\n",
    "                                   'Alarm system','Central door lock','Power steering']\n",
    "        enhanced_security_keywords = ['LED Daytime Running Lights',\n",
    "                                       'Traffic sign recognition','Isofix',\n",
    "                                      'Distance warning system', 'Fog lights','Xenon headlights']\n",
    "        advanced_security_keywords = ['Night view assist', 'Speed limit control system', 'Full-LED headlights',\n",
    "                                      'Glare-free high beam headlights', 'High beam assist', 'Driver drowsiness detection',\n",
    "                                      'Adaptive headlights', 'Blind spot monitor', 'Emergency brake assistant',\n",
    "                                      'Laser headlights', 'Adaptive Cruise Control','Rear airbag','LED Headlights','Lane departure warning system']"
   ]
  },
  {
   "cell_type": "code",
   "execution_count": 700,
   "id": "ec3a89ae-3f80-4881-a448-4cebba280d9a",
   "metadata": {
    "tags": []
   },
   "outputs": [
    {
     "name": "stdout",
     "output_type": "stream",
     "text": [
      "{'Passenger-side airbag', 'Immobilizer', 'Daytime running lights', 'Side airbag', 'Lane departure warning system', 'Driver-side airbag', 'High beam assist', 'Central door lock with remote control', 'Isofix', 'Driver drowsiness detection', 'Rear airbag', 'LED Daytime Running Lights', 'Distance warning system', 'Full-LED headlights', 'Laser headlights', 'Fog lights', 'Traffic sign recognition', 'Electronic stability control', 'Emergency brake assistant', 'Central door lock', 'Emergency system', 'Xenon headlights', 'LED Headlights', 'Power steering', 'Adaptive Cruise Control', 'Night view assist', 'Traction control', 'Glare-free high beam headlights', 'Adaptive headlights', 'Tire pressure monitoring system', 'Bi-Xenon headlights', 'ABS', 'Head airbag', 'Speed limit control system', 'Alarm system', 'Blind spot monitor'}\n"
     ]
    }
   ],
   "source": [
    "# Create an empty set to store unique values\n",
    "unique_features = set()\n",
    "\n",
    "# Iterate through each element in the 'features' column\n",
    "for row in df['safety_security_str']:\n",
    "    # Check if the row is not NaN\n",
    "    if pd.notna(row):\n",
    "        # Split the string by commas and add each element to the set\n",
    "        features_list = row.split(', ')\n",
    "        unique_features.update(features_list)\n",
    "\n",
    "print(unique_features)"
   ]
  },
  {
   "cell_type": "code",
   "execution_count": 701,
   "id": "78999da8-11ad-422e-b576-cef636be0856",
   "metadata": {
    "tags": []
   },
   "outputs": [
    {
     "data": {
      "text/plain": [
       "array([nan, 'Basic', 'Enhanced', 'Advanced'], dtype=object)"
      ]
     },
     "execution_count": 701,
     "metadata": {},
     "output_type": "execute_result"
    }
   ],
   "source": [
    "# Define the security keyword lists\n",
    "basic_security_keywords = [\n",
    "    'Electronic stability control', 'ABS', 'Driver-side airbag', 'Passenger-side airbag', \n",
    "    'Side airbag', 'Traction control', 'Emergency system', 'Power steering', \n",
    "    'Daytime running lights', 'Immobilizer', 'Head airbag', \n",
    "    'Central door lock with remote control', 'Alarm system', 'Central door lock'\n",
    "]\n",
    "\n",
    "enhanced_security_keywords = [\n",
    "    'LED Daytime Running Lights', 'Traffic sign recognition', 'Isofix', \n",
    "    'Distance warning system', 'Fog lights', 'Xenon headlights'\n",
    "]\n",
    "\n",
    "advanced_security_keywords = [\n",
    "    'Night view assist', 'Speed limit control system', 'Full-LED headlights', \n",
    "    'Glare-free high beam headlights', 'High beam assist', 'Driver drowsiness detection', \n",
    "    'Adaptive headlights', 'Blind spot monitor', 'Emergency brake assistant', \n",
    "    'Laser headlights', 'Adaptive Cruise Control', 'Rear airbag', \n",
    "    'LED Headlights', 'Lane departure warning system'\n",
    "]\n",
    "\n",
    "# Function to determine the safety package\n",
    "def determine_safety_package(features):\n",
    "    if pd.isna(features):\n",
    "        return np.nan\n",
    "    features_list = features.split(', ')\n",
    "    if any(feature in features_list for feature in advanced_security_keywords):\n",
    "        return 'Advanced'\n",
    "    elif any(feature in features_list for feature in enhanced_security_keywords):\n",
    "        return 'Enhanced'\n",
    "    elif any(feature in features_list for feature in basic_security_keywords):\n",
    "        return 'Basic'\n",
    "    else:\n",
    "        return np.nan\n",
    "\n",
    "# Apply the function to the DataFrame\n",
    "df['safety_security_package'] = df['safety_security_str'].astype(str).apply(determine_safety_package)\n",
    "df['safety_security_package'].unique()"
   ]
  },
  {
   "cell_type": "code",
   "execution_count": 702,
   "id": "30061060-c656-4c37-96c5-8960c1eef563",
   "metadata": {
    "tags": []
   },
   "outputs": [
    {
     "data": {
      "text/plain": [
       "safety_security_package\n",
       "Advanced    14776\n",
       "Enhanced     7449\n",
       "NaN          3096\n",
       "Basic        1540\n",
       "Name: count, dtype: int64"
      ]
     },
     "execution_count": 702,
     "metadata": {},
     "output_type": "execute_result"
    }
   ],
   "source": [
    "df['safety_security_package'].value_counts(dropna=False)"
   ]
  },
  {
   "cell_type": "markdown",
   "id": "f7c9e3b6-a6ec-4c45-b727-a1b1745d3b9c",
   "metadata": {},
   "source": [
    "# comfort_convenience"
   ]
  },
  {
   "cell_type": "raw",
   "id": "177d7be1-fb76-480d-bdf0-aac1a2707803",
   "metadata": {},
   "source": [
    "basic_comfort_keywords = ['Air conditioning', 'Power windows', 'Electrical side mirrors', 'Armrest', \n",
    "                          'Keyless central door lock', 'Multi-function steering wheel']\n",
    "enhanced_comfort_keywords = ['Automatic climate control', 'Leather steering wheel', 'Tinted windows', \n",
    "                             'Lumbar support', 'Seat heating', 'Sunroof', 'Auxiliary heating', \n",
    "                             'Fold flat passenger seat', 'Split rear seats', '2 zones']\n",
    "advanced_comfort_keywords = ['Massage seats', 'Air suspension', 'Electric backseat adjustment', '3 zones', \n",
    "                             'Electrically adjustable seats', '4 zones', 'Seat ventilation', 'Leather seats', \n",
    "                             'Heated steering wheel', 'Wind deflector']\n",
    "\n",
    "basic_convenience_keywords = ['Cruise control']\n",
    "enhanced_convenience_keywords = ['Rain sensor', 'Navigation system', 'Hill Holder', 'Sliding door left', 'Sliding door right']\n",
    "advanced_convenience_keywords = ['Electric tailgate', 'Parking assist system camera', 'Parking assist system self-steering', \n",
    "                                 '360° camera', 'Parking assist system sensors front', 'Parking assist system sensors rear', \n",
    "                                 'Heads-up display', 'Light sensor', 'Panorama roof', 'Park Distance Control', \n",
    "                                 'Electrically heated windshield', 'Start-stop system']"
   ]
  },
  {
   "cell_type": "code",
   "execution_count": 704,
   "id": "9f90e588-a2ee-4b28-91af-effefe598c3f",
   "metadata": {
    "tags": []
   },
   "outputs": [
    {
     "name": "stdout",
     "output_type": "stream",
     "text": [
      "{'Sliding door left', '360° camera', 'Air conditioning', 'Cruise control', 'Parking assist system self-steering', '2 zones', 'Sunroof', 'Hill Holder', 'Seat ventilation', 'Fold flat passenger seat', 'Rain sensor', 'Armrest', 'Light sensor', 'Seat heating', 'Leather steering wheel', 'Tinted windows', 'Electric tailgate', 'Electric backseat adjustment', 'Lumbar support', 'Auxiliary heating', 'Electrical side mirrors', 'Electrically adjustable seats', 'Electrically heated windshield', 'Parking assist system camera', 'Sliding door right', 'Heads-up display', 'Park Distance Control', 'Navigation system', 'Keyless central door lock', 'Parking assist system sensors front', '3 zones', 'Start-stop system', 'Power windows', 'Split rear seats', 'Parking assist system sensors rear', '4 zones', 'Massage seats', 'Automatic climate control', 'Panorama roof', 'Leather seats', 'Air suspension', 'Wind deflector', 'Heated steering wheel', 'Multi-function steering wheel'}\n"
     ]
    }
   ],
   "source": [
    "# Create an empty set to store unique values\n",
    "unique_features = set()\n",
    "\n",
    "# Iterate through each element in the 'features' column\n",
    "for row in df['comfort_convenience_str']:\n",
    "    # Check if the row is not NaN\n",
    "    if pd.notna(row):\n",
    "        # Split the string by commas and add each element to the set\n",
    "        features_list = row.split(', ')\n",
    "        unique_features.update(features_list)\n",
    "\n",
    "print(unique_features)"
   ]
  },
  {
   "cell_type": "code",
   "execution_count": 705,
   "id": "719dae39-c189-4813-b189-ce3ab0e8b0a0",
   "metadata": {
    "tags": []
   },
   "outputs": [
    {
     "data": {
      "text/plain": [
       "array([nan, 'Advanced', 'Enhanced', 'Basic'], dtype=object)"
      ]
     },
     "execution_count": 705,
     "metadata": {},
     "output_type": "execute_result"
    }
   ],
   "source": [
    "# Define keywords for each category\n",
    "basic_comfort_keywords = ['Power windows', 'Light sensor', 'Tinted windows', 'Leather steering wheel', 'Seat heating', \n",
    "                          'Armrest', 'Cruise control', 'Electrical side mirrors', 'Air conditioning', 'Split rear seats', \n",
    "                          'Start-stop system']\n",
    "\n",
    "enhanced_comfort_keywords = ['Rain sensor', 'Hill Holder', '2 zones', 'Parking assist system sensors front', \n",
    "                             'Parking assist system sensors rear', 'Navigation system', 'Multi-function steering wheel', \n",
    "                             'Panorama roof', 'Electrically adjustable seats', 'Electric tailgate', 'Sunroof']\n",
    "\n",
    "advanced_comfort_keywords = ['4 zones', 'Massage seats', 'Wind deflector', 'Lumbar support', 'Parking assist system camera', \n",
    "                             '360° camera', 'Automatic climate control', 'Electrically heated windshield', 'Air suspension', \n",
    "                             'Auxiliary heating', 'Fold flat passenger seat', 'Heads-up display', 'Heated steering wheel', \n",
    "                             'Park Distance Control', 'Leather seats', 'Electric backseat adjustment', '3 zones', \n",
    "                             'Sliding door left', 'Sliding door right', 'Parking assist system self-steering', \n",
    "                             'Seat ventilation']\n",
    "\n",
    "# Define a function to categorize the comfort_convenience features\n",
    "def categorize_comfort_convenience(features):\n",
    "    if isinstance(features, float) and np.isnan(features):\n",
    "        return np.nan\n",
    "    features_list = features.split(',')\n",
    "    categories = set()\n",
    "    for feature in features_list:\n",
    "        feature = feature.strip()\n",
    "        if feature in basic_comfort_keywords:\n",
    "            categories.add('Basic')\n",
    "        elif feature in enhanced_comfort_keywords:\n",
    "            categories.add('Enhanced')\n",
    "        elif feature in advanced_comfort_keywords:\n",
    "            categories.add('Advanced')\n",
    "    if 'Advanced' in categories:\n",
    "        return 'Advanced'\n",
    "    elif 'Enhanced' in categories:\n",
    "        return 'Enhanced'\n",
    "    elif 'Basic' in categories:\n",
    "        return 'Basic'\n",
    "    else:\n",
    "        return np.nan\n",
    "\n",
    "# Apply the function to the 'comfort_convenience_str' column\n",
    "df['comfort_convenience_package'] = df['comfort_convenience_str'].apply(categorize_comfort_convenience)\n",
    "df['comfort_convenience_package'].unique()"
   ]
  },
  {
   "cell_type": "code",
   "execution_count": 706,
   "id": "0dafec01-61c7-4b59-a165-2a5cc4ee3473",
   "metadata": {
    "tags": []
   },
   "outputs": [
    {
     "data": {
      "text/plain": [
       "comfort_convenience_package\n",
       "Advanced    18656\n",
       "NaN          3092\n",
       "Enhanced     2863\n",
       "Basic        2250\n",
       "Name: count, dtype: int64"
      ]
     },
     "execution_count": 706,
     "metadata": {},
     "output_type": "execute_result"
    }
   ],
   "source": [
    "df['comfort_convenience_package'].value_counts(dropna=False)"
   ]
  },
  {
   "cell_type": "markdown",
   "id": "d6e123d3-a15c-4875-bf3c-9b9d380261ca",
   "metadata": {},
   "source": [
    "# ent_media"
   ]
  },
  {
   "cell_type": "code",
   "execution_count": 708,
   "id": "21a37ff3-222a-4438-8ff9-1688fb16cb1a",
   "metadata": {
    "tags": []
   },
   "outputs": [
    {
     "name": "stdout",
     "output_type": "stream",
     "text": [
      "{'WLAN / WiFi hotspot', 'MP3', 'Induction charging for smartphones', 'Integrated music streaming', 'CD player', 'Sound system', 'Digital radio', 'USB', 'Digital cockpit', 'Android Auto', 'Bluetooth', 'Radio', 'Hands-free equipment', 'Apple CarPlay', 'On-board computer', 'Television'}\n"
     ]
    }
   ],
   "source": [
    "# Create an empty set to store unique values\n",
    "unique_features = set()\n",
    "\n",
    "# Iterate through each element in the 'features' column\n",
    "for row in df['ent_media_str']:\n",
    "    # Check if the row is not NaN\n",
    "    if pd.notna(row):\n",
    "        # Split the string by commas and add each element to the set\n",
    "        features_list = row.split(', ')\n",
    "        unique_features.update(features_list)\n",
    "\n",
    "print(unique_features)"
   ]
  },
  {
   "cell_type": "code",
   "execution_count": 709,
   "id": "c8f0cfaa-d01e-4a8b-8a18-9b03fd998cdf",
   "metadata": {
    "tags": []
   },
   "outputs": [
    {
     "data": {
      "text/plain": [
       "array([nan, 'Basic', 'Enhanced', 'Advanced'], dtype=object)"
      ]
     },
     "execution_count": 709,
     "metadata": {},
     "output_type": "execute_result"
    }
   ],
   "source": [
    "# Define keywords for each category\n",
    "basic_ent_media_keywords = ['CD player', 'Radio', 'MP3', 'USB']\n",
    "enhanced_ent_media_keywords = ['Bluetooth', 'Digital radio', 'Hands-free equipment', 'Sound system', 'On-board computer', 'Integrated music streaming']\n",
    "advanced_ent_media_keywords = ['Apple CarPlay', 'Android Auto', 'Induction charging for smartphones', 'Digital cockpit', 'Television', 'WLAN / WiFi hotspot']\n",
    "\n",
    "# Define a function to categorize 'ent_media_str' features\n",
    "def categorize_ent_media(features):\n",
    "    if isinstance(features, float) and np.isnan(features):\n",
    "        return np.nan\n",
    "    features_list = features.split(',')\n",
    "    categories = set()\n",
    "    for feature in features_list:\n",
    "        feature = feature.strip()\n",
    "        if feature in basic_ent_media_keywords:\n",
    "            categories.add('Basic')\n",
    "        elif feature in enhanced_ent_media_keywords:\n",
    "            categories.add('Enhanced')\n",
    "        elif feature in advanced_ent_media_keywords:\n",
    "            categories.add('Advanced')\n",
    "    if 'Advanced' in categories:\n",
    "        return 'Advanced'\n",
    "    elif 'Enhanced' in categories:\n",
    "        return 'Enhanced'\n",
    "    elif 'Basic' in categories:\n",
    "        return 'Basic'\n",
    "    else:\n",
    "        return np.nan\n",
    "\n",
    "# Apply the function to the 'ent_media_str' column\n",
    "df['ent_media_package'] = df['ent_media_str'].apply(categorize_ent_media)\n",
    "df['ent_media_package'].unique()"
   ]
  },
  {
   "cell_type": "code",
   "execution_count": 710,
   "id": "0df1b870-b351-4f6a-939c-19eaf4e56c17",
   "metadata": {
    "tags": []
   },
   "outputs": [
    {
     "data": {
      "text/plain": [
       "ent_media_package\n",
       "Enhanced    12676\n",
       "Advanced     8222\n",
       "NaN          4653\n",
       "Basic        1310\n",
       "Name: count, dtype: int64"
      ]
     },
     "execution_count": 710,
     "metadata": {},
     "output_type": "execute_result"
    }
   ],
   "source": [
    "df['ent_media_package'].value_counts(dropna=False)"
   ]
  },
  {
   "cell_type": "markdown",
   "id": "22dc0b69-8b0d-4421-8122-bfd3244617bd",
   "metadata": {},
   "source": [
    "# extras"
   ]
  },
  {
   "cell_type": "code",
   "execution_count": 712,
   "id": "914400f2-b4b0-4dcf-847e-3ecc365561df",
   "metadata": {
    "tags": []
   },
   "outputs": [
    {
     "name": "stdout",
     "output_type": "stream",
     "text": [
      "{'Alloy wheels (20\")', 'Alloy wheels (14\")', 'Automatically dimming interior mirror', 'Alloy wheels (23\")', 'Touch screen', 'Ski bag', 'Alloy wheels (17\")', 'Alloy wheels (19\")', 'Range extender', 'Awning', 'Cargo barrier', 'Alloy wheels (15\")', 'Alloy wheels (21\")', 'Winter package', 'Sport suspension', 'Sport seats', 'Winter tyres', 'Sport package', 'Voice Control', 'Right hand drive', 'E10-enabled', 'Sliding door', 'Emergency tyre', 'Spare tyre', 'Emergency tyre repair kit', 'Steel wheels', 'Handicapped enabled', 'Shift paddles', 'All season tyres', 'Roof rack', 'Tuned car', 'Alloy wheels', 'Ambient lighting', 'Alloy wheels (10\")', 'Trailer hitch', 'Alloy wheels (16\")', 'Headlight washer system', 'Biodiesel conversion', 'Alloy wheels (26\")', 'Catalytic Converter', 'Alloy wheels (22\")', 'Spoiler', 'Alloy wheels (18\")', \"Smoker's package\", 'Summer tyres', 'Electronic parking brake', 'Alloy wheels (13\")'}\n"
     ]
    }
   ],
   "source": [
    "# Create an empty set to store unique values\n",
    "unique_features = set()\n",
    "\n",
    "# Iterate through each element in the 'features' column\n",
    "for row in df['extras_str']:\n",
    "    # Check if the row is not NaN\n",
    "    if pd.notna(row):\n",
    "        # Split the string by commas and add each element to the set\n",
    "        features_list = row.split(', ')\n",
    "        unique_features.update(features_list)\n",
    "\n",
    "print(unique_features)"
   ]
  },
  {
   "cell_type": "code",
   "execution_count": 713,
   "id": "a0f56223-e76e-4a3f-8b66-9ccdfda11716",
   "metadata": {
    "tags": []
   },
   "outputs": [
    {
     "data": {
      "text/plain": [
       "array([nan, 'Enhanced', 'Advanced', 'Basic'], dtype=object)"
      ]
     },
     "execution_count": 713,
     "metadata": {},
     "output_type": "execute_result"
    }
   ],
   "source": [
    "# Define keywords for each category\n",
    "basic_extras_keywords = ['Alloy wheels', 'Summer tyres', 'Winter tyres', 'Voice Control', 'Electronic parking brake']\n",
    "enhanced_extras_keywords = ['Sport seats', 'Touch screen', 'Ambient lighting', 'Roof rack', 'Automatically dimming interior mirror']\n",
    "advanced_extras_keywords = ['Trailer hitch', 'Headlight washer system', 'Range extender', 'Spare tyre', 'Emergency tyre']\n",
    "\n",
    "# Define a function to categorize 'extras_str' features\n",
    "def categorize_extras(features):\n",
    "    if isinstance(features, float) and np.isnan(features):\n",
    "        return np.nan\n",
    "    features_list = features.split(', ')\n",
    "    categories = set()\n",
    "    for feature in features_list:\n",
    "        feature = feature.strip()\n",
    "        if feature in basic_extras_keywords:\n",
    "            categories.add('Basic')\n",
    "        elif feature in enhanced_extras_keywords:\n",
    "            categories.add('Enhanced')\n",
    "        elif feature in advanced_extras_keywords:\n",
    "            categories.add('Advanced')\n",
    "    if 'Advanced' in categories:\n",
    "        return 'Advanced'\n",
    "    elif 'Enhanced' in categories:\n",
    "        return 'Enhanced'\n",
    "    elif 'Basic' in categories:\n",
    "        return 'Basic'\n",
    "    else:\n",
    "        return np.nan\n",
    "\n",
    "# Apply the function to the 'extras_str' column\n",
    "df['extras_package'] = df['extras_str'].apply(categorize_extras)\n",
    "df['extras_package'].unique()"
   ]
  },
  {
   "cell_type": "code",
   "execution_count": 714,
   "id": "6897d075-2eb1-4a9d-88b3-4868d4ce2709",
   "metadata": {
    "tags": []
   },
   "outputs": [
    {
     "data": {
      "text/html": [
       "<div>\n",
       "<style scoped>\n",
       "    .dataframe tbody tr th:only-of-type {\n",
       "        vertical-align: middle;\n",
       "    }\n",
       "\n",
       "    .dataframe tbody tr th {\n",
       "        vertical-align: top;\n",
       "    }\n",
       "\n",
       "    .dataframe thead th {\n",
       "        text-align: right;\n",
       "    }\n",
       "</style>\n",
       "<table border=\"1\" class=\"dataframe\">\n",
       "  <thead>\n",
       "    <tr style=\"text-align: right;\">\n",
       "      <th></th>\n",
       "      <th>extras_str</th>\n",
       "      <th>num_of_extras</th>\n",
       "    </tr>\n",
       "  </thead>\n",
       "  <tbody>\n",
       "    <tr>\n",
       "      <th>22184</th>\n",
       "      <td>Alloy wheels, Ambient lighting, Automatically ...</td>\n",
       "      <td>8</td>\n",
       "    </tr>\n",
       "    <tr>\n",
       "      <th>9303</th>\n",
       "      <td>NaN</td>\n",
       "      <td>0</td>\n",
       "    </tr>\n",
       "    <tr>\n",
       "      <th>24177</th>\n",
       "      <td>Roof rack, Voice Control</td>\n",
       "      <td>2</td>\n",
       "    </tr>\n",
       "    <tr>\n",
       "      <th>10274</th>\n",
       "      <td>Steel wheels</td>\n",
       "      <td>1</td>\n",
       "    </tr>\n",
       "    <tr>\n",
       "      <th>21281</th>\n",
       "      <td>Alloy wheels, Ambient lighting, Automatically ...</td>\n",
       "      <td>13</td>\n",
       "    </tr>\n",
       "  </tbody>\n",
       "</table>\n",
       "</div>"
      ],
      "text/plain": [
       "                                              extras_str  num_of_extras\n",
       "22184  Alloy wheels, Ambient lighting, Automatically ...              8\n",
       "9303                                                 NaN              0\n",
       "24177                           Roof rack, Voice Control              2\n",
       "10274                                       Steel wheels              1\n",
       "21281  Alloy wheels, Ambient lighting, Automatically ...             13"
      ]
     },
     "execution_count": 714,
     "metadata": {},
     "output_type": "execute_result"
    }
   ],
   "source": [
    "# Creating the 'num_of_extras' column\n",
    "df['num_of_extras'] = df['extras_str'].apply(lambda x: len(x.split(', ')) if pd.notna(x) else 0)\n",
    "\n",
    "# Checking the result\n",
    "df[['extras_str', 'num_of_extras']].sample(5)"
   ]
  },
  {
   "cell_type": "code",
   "execution_count": 715,
   "id": "3e601154-df8b-49fd-b87d-0e027516c6be",
   "metadata": {
    "tags": []
   },
   "outputs": [
    {
     "data": {
      "text/plain": [
       "'Alloy wheels, Ambient lighting, Automatically dimming interior mirror, Cargo barrier, E10-enabled, Emergency tyre repair kit, Sport package, Sport seats, Sport suspension, Summer tyres, Touch screen, Voice Control'"
      ]
     },
     "execution_count": 715,
     "metadata": {},
     "output_type": "execute_result"
    }
   ],
   "source": [
    "df['extras_str'][4395]"
   ]
  },
  {
   "cell_type": "code",
   "execution_count": 716,
   "id": "50f8b942-aaf5-4824-b19c-7650c821e2b2",
   "metadata": {
    "tags": []
   },
   "outputs": [
    {
     "data": {
      "text/plain": [
       "12"
      ]
     },
     "execution_count": 716,
     "metadata": {},
     "output_type": "execute_result"
    }
   ],
   "source": [
    "df['num_of_extras'][4395]"
   ]
  },
  {
   "cell_type": "code",
   "execution_count": 717,
   "id": "35c31080-5917-4540-b58c-65ac2cdb508d",
   "metadata": {
    "tags": []
   },
   "outputs": [
    {
     "data": {
      "text/plain": [
       "extras_package\n",
       "Enhanced    10139\n",
       "Advanced     6284\n",
       "NaN          5874\n",
       "Basic        4564\n",
       "Name: count, dtype: int64"
      ]
     },
     "execution_count": 717,
     "metadata": {},
     "output_type": "execute_result"
    }
   ],
   "source": [
    "df['extras_package'].value_counts(dropna=False)"
   ]
  },
  {
   "cell_type": "code",
   "execution_count": 718,
   "id": "bba7ecbd",
   "metadata": {},
   "outputs": [
    {
     "data": {
      "text/html": [
       "<div>\n",
       "<style scoped>\n",
       "    .dataframe tbody tr th:only-of-type {\n",
       "        vertical-align: middle;\n",
       "    }\n",
       "\n",
       "    .dataframe tbody tr th {\n",
       "        vertical-align: top;\n",
       "    }\n",
       "\n",
       "    .dataframe thead th {\n",
       "        text-align: right;\n",
       "    }\n",
       "</style>\n",
       "<table border=\"1\" class=\"dataframe\">\n",
       "  <thead>\n",
       "    <tr style=\"text-align: right;\">\n",
       "      <th></th>\n",
       "      <th>0</th>\n",
       "      <th>1</th>\n",
       "      <th>2</th>\n",
       "      <th>3</th>\n",
       "      <th>4</th>\n",
       "      <th>5</th>\n",
       "      <th>6</th>\n",
       "      <th>7</th>\n",
       "      <th>8</th>\n",
       "      <th>9</th>\n",
       "      <th>...</th>\n",
       "      <th>26851</th>\n",
       "      <th>26852</th>\n",
       "      <th>26853</th>\n",
       "      <th>26854</th>\n",
       "      <th>26855</th>\n",
       "      <th>26856</th>\n",
       "      <th>26857</th>\n",
       "      <th>26858</th>\n",
       "      <th>26859</th>\n",
       "      <th>26860</th>\n",
       "    </tr>\n",
       "  </thead>\n",
       "  <tbody>\n",
       "    <tr>\n",
       "      <th>make_model</th>\n",
       "      <td>Mercedes-Benz A 160</td>\n",
       "      <td>Mercedes-Benz EQE 350</td>\n",
       "      <td>Mercedes-Benz A 45 AMG</td>\n",
       "      <td>Mercedes-Benz A 35 AMG</td>\n",
       "      <td>Mercedes-Benz A 45 AMG</td>\n",
       "      <td>Mercedes-Benz C 160</td>\n",
       "      <td>Mercedes-Benz CLA 180</td>\n",
       "      <td>Mercedes-Benz A 220</td>\n",
       "      <td>Mercedes-Benz A 35 AMG</td>\n",
       "      <td>Mercedes-Benz A 200</td>\n",
       "      <td>...</td>\n",
       "      <td>Volvo S90</td>\n",
       "      <td>Volvo S90</td>\n",
       "      <td>Volvo S90</td>\n",
       "      <td>Volvo V40</td>\n",
       "      <td>Volvo S60</td>\n",
       "      <td>Volvo S90</td>\n",
       "      <td>Volvo S40</td>\n",
       "      <td>Volvo C30</td>\n",
       "      <td>Volvo S90</td>\n",
       "      <td>Volvo S80</td>\n",
       "    </tr>\n",
       "    <tr>\n",
       "      <th>short_description</th>\n",
       "      <td>CDi</td>\n",
       "      <td>350+</td>\n",
       "      <td>S 4Matic+ 8G-DCT</td>\n",
       "      <td>4Matic+ 7G-DCT</td>\n",
       "      <td>200CDI BE Line 4M 7G-DCT</td>\n",
       "      <td>Sp. Ed. C-Klasse Sportcoupe!TÜV N.!24 Mon. Gew.</td>\n",
       "      <td>180D</td>\n",
       "      <td>7G-DCT</td>\n",
       "      <td>4MATIC</td>\n",
       "      <td>200CDI Autotronic</td>\n",
       "      <td>...</td>\n",
       "      <td>T6 AWD Geartronic R Design Vol!!</td>\n",
       "      <td>D4 R-Design Aut. 190 18</td>\n",
       "      <td>D4 R-Design Aut. 190 18</td>\n",
       "      <td>2.0 D2 Kinetic</td>\n",
       "      <td>2.5 T Momentum</td>\n",
       "      <td>T8 Twin Business Plus AWD Aut.</td>\n",
       "      <td>2.4i Momentum/ Airco/ NAP/ APK/ Elek. Ramen</td>\n",
       "      <td>1.6 D DRIVe Start/Stop R-design</td>\n",
       "      <td>T5 AUT(8) MOMENTUM BUSINESS SCHUIFDAK 360GR CA...</td>\n",
       "      <td>2.9 Executive G. NETTE AUTO! LEER! NAVI! CRUIS...</td>\n",
       "    </tr>\n",
       "    <tr>\n",
       "      <th>make</th>\n",
       "      <td>Mercedes-Benz</td>\n",
       "      <td>Mercedes-Benz</td>\n",
       "      <td>Mercedes-Benz</td>\n",
       "      <td>Mercedes-Benz</td>\n",
       "      <td>Mercedes-Benz</td>\n",
       "      <td>Mercedes-Benz</td>\n",
       "      <td>Mercedes-Benz</td>\n",
       "      <td>Mercedes-Benz</td>\n",
       "      <td>Mercedes-Benz</td>\n",
       "      <td>Mercedes-Benz</td>\n",
       "      <td>...</td>\n",
       "      <td>Volvo</td>\n",
       "      <td>Volvo</td>\n",
       "      <td>Volvo</td>\n",
       "      <td>Volvo</td>\n",
       "      <td>Volvo</td>\n",
       "      <td>Volvo</td>\n",
       "      <td>Volvo</td>\n",
       "      <td>Volvo</td>\n",
       "      <td>Volvo</td>\n",
       "      <td>Volvo</td>\n",
       "    </tr>\n",
       "    <tr>\n",
       "      <th>model</th>\n",
       "      <td>A 160</td>\n",
       "      <td>EQE 350</td>\n",
       "      <td>A 45 AMG</td>\n",
       "      <td>A 35 AMG</td>\n",
       "      <td>A 45 AMG</td>\n",
       "      <td>C 160</td>\n",
       "      <td>CLA 180</td>\n",
       "      <td>A 220</td>\n",
       "      <td>A 35 AMG</td>\n",
       "      <td>A 200</td>\n",
       "      <td>...</td>\n",
       "      <td>S90</td>\n",
       "      <td>S90</td>\n",
       "      <td>S90</td>\n",
       "      <td>V40</td>\n",
       "      <td>S60</td>\n",
       "      <td>S90</td>\n",
       "      <td>S40</td>\n",
       "      <td>C30</td>\n",
       "      <td>S90</td>\n",
       "      <td>S80</td>\n",
       "    </tr>\n",
       "    <tr>\n",
       "      <th>price</th>\n",
       "      <td>16950.0</td>\n",
       "      <td>80900.0</td>\n",
       "      <td>69900.0</td>\n",
       "      <td>46990.0</td>\n",
       "      <td>16800.0</td>\n",
       "      <td>4690.0</td>\n",
       "      <td>22550.0</td>\n",
       "      <td>26900.0</td>\n",
       "      <td>44999.0</td>\n",
       "      <td>23900.0</td>\n",
       "      <td>...</td>\n",
       "      <td>38000.0</td>\n",
       "      <td>27190.0</td>\n",
       "      <td>27190.0</td>\n",
       "      <td>13000.0</td>\n",
       "      <td>4999.0</td>\n",
       "      <td>37600.0</td>\n",
       "      <td>5499.0</td>\n",
       "      <td>7300.0</td>\n",
       "      <td>29900.0</td>\n",
       "      <td>4440.0</td>\n",
       "    </tr>\n",
       "    <tr>\n",
       "      <th>body_type</th>\n",
       "      <td>Compact</td>\n",
       "      <td>Compact</td>\n",
       "      <td>Compact</td>\n",
       "      <td>Compact</td>\n",
       "      <td>Compact</td>\n",
       "      <td>Compact</td>\n",
       "      <td>Compact</td>\n",
       "      <td>Compact</td>\n",
       "      <td>Compact</td>\n",
       "      <td>Compact</td>\n",
       "      <td>...</td>\n",
       "      <td>Sedan</td>\n",
       "      <td>Sedan</td>\n",
       "      <td>Sedan</td>\n",
       "      <td>Sedan</td>\n",
       "      <td>Sedan</td>\n",
       "      <td>Sedan</td>\n",
       "      <td>Sedan</td>\n",
       "      <td>Sedan</td>\n",
       "      <td>Sedan</td>\n",
       "      <td>Sedan</td>\n",
       "    </tr>\n",
       "    <tr>\n",
       "      <th>type</th>\n",
       "      <td>Used</td>\n",
       "      <td>Pre-registered</td>\n",
       "      <td>Used</td>\n",
       "      <td>Used</td>\n",
       "      <td>Used</td>\n",
       "      <td>Used</td>\n",
       "      <td>Used</td>\n",
       "      <td>Used</td>\n",
       "      <td>Used</td>\n",
       "      <td>Used</td>\n",
       "      <td>...</td>\n",
       "      <td>Used</td>\n",
       "      <td>Used</td>\n",
       "      <td>Used</td>\n",
       "      <td>Used</td>\n",
       "      <td>Used</td>\n",
       "      <td>Used</td>\n",
       "      <td>Used</td>\n",
       "      <td>Used</td>\n",
       "      <td>Used</td>\n",
       "      <td>Used</td>\n",
       "    </tr>\n",
       "    <tr>\n",
       "      <th>doors</th>\n",
       "      <td>5.0</td>\n",
       "      <td>4.0</td>\n",
       "      <td>5.0</td>\n",
       "      <td>5.0</td>\n",
       "      <td>5.0</td>\n",
       "      <td>3.0</td>\n",
       "      <td>5.0</td>\n",
       "      <td>5.0</td>\n",
       "      <td>5.0</td>\n",
       "      <td>5.0</td>\n",
       "      <td>...</td>\n",
       "      <td>4.0</td>\n",
       "      <td>4.0</td>\n",
       "      <td>4.0</td>\n",
       "      <td>5.0</td>\n",
       "      <td>4.0</td>\n",
       "      <td>4.0</td>\n",
       "      <td>4.0</td>\n",
       "      <td>3.0</td>\n",
       "      <td>4.0</td>\n",
       "      <td>4.0</td>\n",
       "    </tr>\n",
       "    <tr>\n",
       "      <th>country_version</th>\n",
       "      <td>Spain</td>\n",
       "      <td>Spain</td>\n",
       "      <td>Spain</td>\n",
       "      <td>Spain</td>\n",
       "      <td>Spain</td>\n",
       "      <td>Germany</td>\n",
       "      <td>Spain</td>\n",
       "      <td>Spain</td>\n",
       "      <td>Belgium</td>\n",
       "      <td>Spain</td>\n",
       "      <td>...</td>\n",
       "      <td>Netherlands</td>\n",
       "      <td>Spain</td>\n",
       "      <td>Spain</td>\n",
       "      <td>Belgium</td>\n",
       "      <td>Spain</td>\n",
       "      <td>Spain</td>\n",
       "      <td>Netherlands</td>\n",
       "      <td>Belgium</td>\n",
       "      <td>Netherlands</td>\n",
       "      <td>Netherlands</td>\n",
       "    </tr>\n",
       "    <tr>\n",
       "      <th>offer_number</th>\n",
       "      <td>7468157</td>\n",
       "      <td>7054863</td>\n",
       "      <td>7410454</td>\n",
       "      <td>7464503</td>\n",
       "      <td>7127931</td>\n",
       "      <td>NaN</td>\n",
       "      <td>7201260</td>\n",
       "      <td>7329555</td>\n",
       "      <td>j107114</td>\n",
       "      <td>7454322</td>\n",
       "      <td>...</td>\n",
       "      <td>NaN</td>\n",
       "      <td>7283863</td>\n",
       "      <td>7284145</td>\n",
       "      <td>NaN</td>\n",
       "      <td>7408379</td>\n",
       "      <td>7449968</td>\n",
       "      <td>09-PF-XS</td>\n",
       "      <td>NaN</td>\n",
       "      <td>2791</td>\n",
       "      <td>43-JR-LR</td>\n",
       "    </tr>\n",
       "    <tr>\n",
       "      <th>warranty</th>\n",
       "      <td>Yes</td>\n",
       "      <td>Yes</td>\n",
       "      <td>Yes</td>\n",
       "      <td>Yes</td>\n",
       "      <td>Yes</td>\n",
       "      <td>No</td>\n",
       "      <td>Yes</td>\n",
       "      <td>Yes</td>\n",
       "      <td>No</td>\n",
       "      <td>Yes</td>\n",
       "      <td>...</td>\n",
       "      <td>No</td>\n",
       "      <td>Yes</td>\n",
       "      <td>Yes</td>\n",
       "      <td>No</td>\n",
       "      <td>Yes</td>\n",
       "      <td>Yes</td>\n",
       "      <td>No</td>\n",
       "      <td>Yes</td>\n",
       "      <td>Yes</td>\n",
       "      <td>No</td>\n",
       "    </tr>\n",
       "    <tr>\n",
       "      <th>mileage</th>\n",
       "      <td>120200.0</td>\n",
       "      <td>5000.0</td>\n",
       "      <td>18900.0</td>\n",
       "      <td>18995.0</td>\n",
       "      <td>197000.0</td>\n",
       "      <td>165000.0</td>\n",
       "      <td>83339.0</td>\n",
       "      <td>48900.0</td>\n",
       "      <td>56876.0</td>\n",
       "      <td>21854.0</td>\n",
       "      <td>...</td>\n",
       "      <td>44873.0</td>\n",
       "      <td>93757.0</td>\n",
       "      <td>93757.0</td>\n",
       "      <td>114000.0</td>\n",
       "      <td>166512.0</td>\n",
       "      <td>40345.0</td>\n",
       "      <td>145000.0</td>\n",
       "      <td>96000.0</td>\n",
       "      <td>94343.0</td>\n",
       "      <td>230047.0</td>\n",
       "    </tr>\n",
       "    <tr>\n",
       "      <th>first_registration</th>\n",
       "      <td>2016-06-01 00:00:00</td>\n",
       "      <td>2022-06-01 00:00:00</td>\n",
       "      <td>2020-07-01 00:00:00</td>\n",
       "      <td>2020-01-01 00:00:00</td>\n",
       "      <td>2015-09-01 00:00:00</td>\n",
       "      <td>2005-08-01 00:00:00</td>\n",
       "      <td>2018-07-01 00:00:00</td>\n",
       "      <td>2019-10-01 00:00:00</td>\n",
       "      <td>2019-06-01 00:00:00</td>\n",
       "      <td>2018-08-01 00:00:00</td>\n",
       "      <td>...</td>\n",
       "      <td>2018-07-01 00:00:00</td>\n",
       "      <td>2018-01-01 00:00:00</td>\n",
       "      <td>2018-01-01 00:00:00</td>\n",
       "      <td>2018-08-01 00:00:00</td>\n",
       "      <td>2004-11-01 00:00:00</td>\n",
       "      <td>2019-08-01 00:00:00</td>\n",
       "      <td>2004-06-01 00:00:00</td>\n",
       "      <td>2011-04-01 00:00:00</td>\n",
       "      <td>2017-11-01 00:00:00</td>\n",
       "      <td>2002-07-01 00:00:00</td>\n",
       "    </tr>\n",
       "    <tr>\n",
       "      <th>gearbox</th>\n",
       "      <td>Manual</td>\n",
       "      <td>Automatic</td>\n",
       "      <td>Automatic</td>\n",
       "      <td>Automatic</td>\n",
       "      <td>Automatic</td>\n",
       "      <td>Manual</td>\n",
       "      <td>Manual</td>\n",
       "      <td>Automatic</td>\n",
       "      <td>Automatic</td>\n",
       "      <td>Automatic</td>\n",
       "      <td>...</td>\n",
       "      <td>Automatic</td>\n",
       "      <td>Automatic</td>\n",
       "      <td>Automatic</td>\n",
       "      <td>Manual</td>\n",
       "      <td>Manual</td>\n",
       "      <td>Automatic</td>\n",
       "      <td>Automatic</td>\n",
       "      <td>Manual</td>\n",
       "      <td>Automatic</td>\n",
       "      <td>Automatic</td>\n",
       "    </tr>\n",
       "    <tr>\n",
       "      <th>fuel_type</th>\n",
       "      <td>Diesel</td>\n",
       "      <td>Electric</td>\n",
       "      <td>Benzine</td>\n",
       "      <td>Benzine</td>\n",
       "      <td>Diesel</td>\n",
       "      <td>Benzine</td>\n",
       "      <td>Diesel</td>\n",
       "      <td>Benzine</td>\n",
       "      <td>Benzine</td>\n",
       "      <td>Diesel</td>\n",
       "      <td>...</td>\n",
       "      <td>Benzine</td>\n",
       "      <td>Diesel</td>\n",
       "      <td>Diesel</td>\n",
       "      <td>Diesel</td>\n",
       "      <td>Benzine</td>\n",
       "      <td>Electric</td>\n",
       "      <td>Benzine</td>\n",
       "      <td>Diesel</td>\n",
       "      <td>Benzine</td>\n",
       "      <td>Benzine</td>\n",
       "    </tr>\n",
       "    <tr>\n",
       "      <th>colour</th>\n",
       "      <td>Black</td>\n",
       "      <td>Black</td>\n",
       "      <td>Grey</td>\n",
       "      <td>Yellow</td>\n",
       "      <td>White</td>\n",
       "      <td>Black</td>\n",
       "      <td>Silver</td>\n",
       "      <td>Grey</td>\n",
       "      <td>Grey</td>\n",
       "      <td>White</td>\n",
       "      <td>...</td>\n",
       "      <td>Black</td>\n",
       "      <td>Black</td>\n",
       "      <td>Black</td>\n",
       "      <td>Grey</td>\n",
       "      <td>Black</td>\n",
       "      <td>Black</td>\n",
       "      <td>Grey</td>\n",
       "      <td>Grey</td>\n",
       "      <td>Blue</td>\n",
       "      <td>Grey</td>\n",
       "    </tr>\n",
       "    <tr>\n",
       "      <th>paint</th>\n",
       "      <td>Metallic</td>\n",
       "      <td>non_metallic</td>\n",
       "      <td>non_metallic</td>\n",
       "      <td>non_metallic</td>\n",
       "      <td>Metallic</td>\n",
       "      <td>Metallic</td>\n",
       "      <td>non_metallic</td>\n",
       "      <td>Metallic</td>\n",
       "      <td>non_metallic</td>\n",
       "      <td>non_metallic</td>\n",
       "      <td>...</td>\n",
       "      <td>Metallic</td>\n",
       "      <td>non_metallic</td>\n",
       "      <td>non_metallic</td>\n",
       "      <td>Metallic</td>\n",
       "      <td>non_metallic</td>\n",
       "      <td>non_metallic</td>\n",
       "      <td>non_metallic</td>\n",
       "      <td>Metallic</td>\n",
       "      <td>Metallic</td>\n",
       "      <td>non_metallic</td>\n",
       "    </tr>\n",
       "    <tr>\n",
       "      <th>seller</th>\n",
       "      <td>Dealer</td>\n",
       "      <td>Dealer</td>\n",
       "      <td>Dealer</td>\n",
       "      <td>Dealer</td>\n",
       "      <td>Dealer</td>\n",
       "      <td>Dealer</td>\n",
       "      <td>Dealer</td>\n",
       "      <td>Dealer</td>\n",
       "      <td>Dealer</td>\n",
       "      <td>Dealer</td>\n",
       "      <td>...</td>\n",
       "      <td>Private seller</td>\n",
       "      <td>Dealer</td>\n",
       "      <td>Dealer</td>\n",
       "      <td>Private seller</td>\n",
       "      <td>Dealer</td>\n",
       "      <td>Dealer</td>\n",
       "      <td>Dealer</td>\n",
       "      <td>Dealer</td>\n",
       "      <td>Dealer</td>\n",
       "      <td>Dealer</td>\n",
       "    </tr>\n",
       "    <tr>\n",
       "      <th>seats</th>\n",
       "      <td>5.0</td>\n",
       "      <td>5.0</td>\n",
       "      <td>5.0</td>\n",
       "      <td>5.0</td>\n",
       "      <td>5.0</td>\n",
       "      <td>4.0</td>\n",
       "      <td>5.0</td>\n",
       "      <td>5.0</td>\n",
       "      <td>5.0</td>\n",
       "      <td>5.0</td>\n",
       "      <td>...</td>\n",
       "      <td>5.0</td>\n",
       "      <td>5.0</td>\n",
       "      <td>5.0</td>\n",
       "      <td>5.0</td>\n",
       "      <td>5.0</td>\n",
       "      <td>4.0</td>\n",
       "      <td>5.0</td>\n",
       "      <td>4.0</td>\n",
       "      <td>5.0</td>\n",
       "      <td>5.0</td>\n",
       "    </tr>\n",
       "    <tr>\n",
       "      <th>engine_size</th>\n",
       "      <td>1509.0</td>\n",
       "      <td>1.0</td>\n",
       "      <td>1991.0</td>\n",
       "      <td>1991.0</td>\n",
       "      <td>2143.0</td>\n",
       "      <td>1799.0</td>\n",
       "      <td>1342.0</td>\n",
       "      <td>1991.0</td>\n",
       "      <td>1991.0</td>\n",
       "      <td>1991.0</td>\n",
       "      <td>...</td>\n",
       "      <td>1969.0</td>\n",
       "      <td>1969.0</td>\n",
       "      <td>1969.0</td>\n",
       "      <td>1969.0</td>\n",
       "      <td>2521.0</td>\n",
       "      <td>1969.0</td>\n",
       "      <td>2435.0</td>\n",
       "      <td>1560.0</td>\n",
       "      <td>1969.0</td>\n",
       "      <td>2922.0</td>\n",
       "    </tr>\n",
       "    <tr>\n",
       "      <th>gears</th>\n",
       "      <td>5.0</td>\n",
       "      <td>9.0</td>\n",
       "      <td>8.0</td>\n",
       "      <td>7.0</td>\n",
       "      <td>7.0</td>\n",
       "      <td>6.0</td>\n",
       "      <td>7.0</td>\n",
       "      <td>7.0</td>\n",
       "      <td>7.0</td>\n",
       "      <td>1.0</td>\n",
       "      <td>...</td>\n",
       "      <td>8.0</td>\n",
       "      <td>8.0</td>\n",
       "      <td>8.0</td>\n",
       "      <td>6.0</td>\n",
       "      <td>5.0</td>\n",
       "      <td>8.0</td>\n",
       "      <td>5.0</td>\n",
       "      <td>6.0</td>\n",
       "      <td>8.0</td>\n",
       "      <td>6.0</td>\n",
       "    </tr>\n",
       "    <tr>\n",
       "      <th>co2_emissions</th>\n",
       "      <td>119.0</td>\n",
       "      <td>0.0</td>\n",
       "      <td>159.0</td>\n",
       "      <td>159.0</td>\n",
       "      <td>125.0</td>\n",
       "      <td>196.0</td>\n",
       "      <td>128.0</td>\n",
       "      <td>159.0</td>\n",
       "      <td>168.0</td>\n",
       "      <td>163.0</td>\n",
       "      <td>...</td>\n",
       "      <td>151.0</td>\n",
       "      <td>126.0</td>\n",
       "      <td>126.0</td>\n",
       "      <td>94.0</td>\n",
       "      <td>218.0</td>\n",
       "      <td>56.0</td>\n",
       "      <td>217.0</td>\n",
       "      <td>99.0</td>\n",
       "      <td>149.0</td>\n",
       "      <td>251.0</td>\n",
       "    </tr>\n",
       "    <tr>\n",
       "      <th>drivetrain</th>\n",
       "      <td>Front</td>\n",
       "      <td>4WD</td>\n",
       "      <td>4WD</td>\n",
       "      <td>4WD</td>\n",
       "      <td>4WD</td>\n",
       "      <td>Rear</td>\n",
       "      <td>Front</td>\n",
       "      <td>Front</td>\n",
       "      <td>4WD</td>\n",
       "      <td>Front</td>\n",
       "      <td>...</td>\n",
       "      <td>4WD</td>\n",
       "      <td>Front</td>\n",
       "      <td>Front</td>\n",
       "      <td>Front</td>\n",
       "      <td>Front</td>\n",
       "      <td>4WD</td>\n",
       "      <td>Front</td>\n",
       "      <td>Front</td>\n",
       "      <td>4WD</td>\n",
       "      <td>Front</td>\n",
       "    </tr>\n",
       "    <tr>\n",
       "      <th>cylinders</th>\n",
       "      <td>4.0</td>\n",
       "      <td>4.0</td>\n",
       "      <td>4.0</td>\n",
       "      <td>4.0</td>\n",
       "      <td>4.0</td>\n",
       "      <td>4.0</td>\n",
       "      <td>4.0</td>\n",
       "      <td>4.0</td>\n",
       "      <td>4.0</td>\n",
       "      <td>4.0</td>\n",
       "      <td>...</td>\n",
       "      <td>4.0</td>\n",
       "      <td>4.0</td>\n",
       "      <td>4.0</td>\n",
       "      <td>4.0</td>\n",
       "      <td>5.0</td>\n",
       "      <td>4.0</td>\n",
       "      <td>5.0</td>\n",
       "      <td>4.0</td>\n",
       "      <td>4.0</td>\n",
       "      <td>6.0</td>\n",
       "    </tr>\n",
       "    <tr>\n",
       "      <th>empty_weight</th>\n",
       "      <td>1271.0</td>\n",
       "      <td>2383.0</td>\n",
       "      <td>1539.0</td>\n",
       "      <td>1516.0</td>\n",
       "      <td>1545.0</td>\n",
       "      <td>1465.0</td>\n",
       "      <td>1428.0</td>\n",
       "      <td>1450.0</td>\n",
       "      <td>1516.0</td>\n",
       "      <td>1365.0</td>\n",
       "      <td>...</td>\n",
       "      <td>1930.0</td>\n",
       "      <td>1683.0</td>\n",
       "      <td>1683.0</td>\n",
       "      <td>1532.0</td>\n",
       "      <td>1550.0</td>\n",
       "      <td>2077.0</td>\n",
       "      <td>1357.0</td>\n",
       "      <td>1356.0</td>\n",
       "      <td>1617.0</td>\n",
       "      <td>1573.0</td>\n",
       "    </tr>\n",
       "    <tr>\n",
       "      <th>service_history</th>\n",
       "      <td>No</td>\n",
       "      <td>No</td>\n",
       "      <td>No</td>\n",
       "      <td>No</td>\n",
       "      <td>No</td>\n",
       "      <td>Yes</td>\n",
       "      <td>No</td>\n",
       "      <td>No</td>\n",
       "      <td>No</td>\n",
       "      <td>No</td>\n",
       "      <td>...</td>\n",
       "      <td>Yes</td>\n",
       "      <td>No</td>\n",
       "      <td>No</td>\n",
       "      <td>Yes</td>\n",
       "      <td>No</td>\n",
       "      <td>No</td>\n",
       "      <td>Yes</td>\n",
       "      <td>Yes</td>\n",
       "      <td>Yes</td>\n",
       "      <td>No</td>\n",
       "    </tr>\n",
       "    <tr>\n",
       "      <th>non_smoker</th>\n",
       "      <td>No</td>\n",
       "      <td>No</td>\n",
       "      <td>No</td>\n",
       "      <td>No</td>\n",
       "      <td>No</td>\n",
       "      <td>Yes</td>\n",
       "      <td>No</td>\n",
       "      <td>No</td>\n",
       "      <td>No</td>\n",
       "      <td>No</td>\n",
       "      <td>...</td>\n",
       "      <td>Yes</td>\n",
       "      <td>No</td>\n",
       "      <td>No</td>\n",
       "      <td>No</td>\n",
       "      <td>No</td>\n",
       "      <td>No</td>\n",
       "      <td>No</td>\n",
       "      <td>No</td>\n",
       "      <td>No</td>\n",
       "      <td>No</td>\n",
       "    </tr>\n",
       "    <tr>\n",
       "      <th>emission_sticker</th>\n",
       "      <td>No sticker</td>\n",
       "      <td>Yellow</td>\n",
       "      <td>Yellow</td>\n",
       "      <td>Green</td>\n",
       "      <td>Green</td>\n",
       "      <td>Green</td>\n",
       "      <td>Green</td>\n",
       "      <td>Green</td>\n",
       "      <td>Green</td>\n",
       "      <td>Green</td>\n",
       "      <td>...</td>\n",
       "      <td>Green</td>\n",
       "      <td>Green</td>\n",
       "      <td>Green</td>\n",
       "      <td>Green</td>\n",
       "      <td>Green</td>\n",
       "      <td>Green</td>\n",
       "      <td>Green</td>\n",
       "      <td>Green</td>\n",
       "      <td>No sticker</td>\n",
       "      <td>Green</td>\n",
       "    </tr>\n",
       "    <tr>\n",
       "      <th>upholstery_color</th>\n",
       "      <td>Black</td>\n",
       "      <td>Black</td>\n",
       "      <td>Black</td>\n",
       "      <td>Black</td>\n",
       "      <td>Black</td>\n",
       "      <td>Black</td>\n",
       "      <td>Black</td>\n",
       "      <td>Black</td>\n",
       "      <td>Grey</td>\n",
       "      <td>Grey</td>\n",
       "      <td>...</td>\n",
       "      <td>Grey</td>\n",
       "      <td>Black</td>\n",
       "      <td>Grey</td>\n",
       "      <td>Black</td>\n",
       "      <td>Other</td>\n",
       "      <td>Brown</td>\n",
       "      <td>Black</td>\n",
       "      <td>Other</td>\n",
       "      <td>Grey</td>\n",
       "      <td>Black</td>\n",
       "    </tr>\n",
       "    <tr>\n",
       "      <th>upholstery</th>\n",
       "      <td>Full leather</td>\n",
       "      <td>Cloth</td>\n",
       "      <td>Cloth</td>\n",
       "      <td>Cloth</td>\n",
       "      <td>Cloth</td>\n",
       "      <td>Other</td>\n",
       "      <td>Cloth</td>\n",
       "      <td>Cloth</td>\n",
       "      <td>Cloth</td>\n",
       "      <td>Cloth</td>\n",
       "      <td>...</td>\n",
       "      <td>Full leather</td>\n",
       "      <td>Full leather</td>\n",
       "      <td>Full leather</td>\n",
       "      <td>Full leather</td>\n",
       "      <td>Full leather</td>\n",
       "      <td>Full leather</td>\n",
       "      <td>Full leather</td>\n",
       "      <td>Full leather</td>\n",
       "      <td>Full leather</td>\n",
       "      <td>Full leather</td>\n",
       "    </tr>\n",
       "    <tr>\n",
       "      <th>pro_date</th>\n",
       "      <td>2009-01-01 00:00:00</td>\n",
       "      <td>2017-07-02 12:00:00</td>\n",
       "      <td>2010-01-01 00:00:00</td>\n",
       "      <td>2010-01-01 00:00:00</td>\n",
       "      <td>2011-01-01 00:00:00</td>\n",
       "      <td>2013-07-02 12:00:00</td>\n",
       "      <td>2017-01-01 00:00:00</td>\n",
       "      <td>2017-01-01 00:00:00</td>\n",
       "      <td>2017-01-01 00:00:00</td>\n",
       "      <td>2017-01-01 00:00:00</td>\n",
       "      <td>...</td>\n",
       "      <td>2022-01-01 00:00:00</td>\n",
       "      <td>2018-01-01 00:00:00</td>\n",
       "      <td>2007-01-01 00:00:00</td>\n",
       "      <td>2017-01-01 00:00:00</td>\n",
       "      <td>2021-01-01 00:00:00</td>\n",
       "      <td>2015-01-01 00:00:00</td>\n",
       "      <td>2021-01-01 00:00:00</td>\n",
       "      <td>2018-01-01 00:00:00</td>\n",
       "      <td>2019-01-01 00:00:00</td>\n",
       "      <td>2019-07-02 12:00:00</td>\n",
       "    </tr>\n",
       "    <tr>\n",
       "      <th>available</th>\n",
       "      <td>yes</td>\n",
       "      <td>yes</td>\n",
       "      <td>yes</td>\n",
       "      <td>yes</td>\n",
       "      <td>yes</td>\n",
       "      <td>yes</td>\n",
       "      <td>yes</td>\n",
       "      <td>yes</td>\n",
       "      <td>yes</td>\n",
       "      <td>yes</td>\n",
       "      <td>...</td>\n",
       "      <td>yes</td>\n",
       "      <td>yes</td>\n",
       "      <td>yes</td>\n",
       "      <td>yes</td>\n",
       "      <td>yes</td>\n",
       "      <td>yes</td>\n",
       "      <td>yes</td>\n",
       "      <td>yes</td>\n",
       "      <td>yes</td>\n",
       "      <td>yes</td>\n",
       "    </tr>\n",
       "    <tr>\n",
       "      <th>taxi_rental</th>\n",
       "      <td>No</td>\n",
       "      <td>No</td>\n",
       "      <td>No</td>\n",
       "      <td>No</td>\n",
       "      <td>No</td>\n",
       "      <td>No</td>\n",
       "      <td>No</td>\n",
       "      <td>No</td>\n",
       "      <td>No</td>\n",
       "      <td>No</td>\n",
       "      <td>...</td>\n",
       "      <td>No</td>\n",
       "      <td>No</td>\n",
       "      <td>No</td>\n",
       "      <td>No</td>\n",
       "      <td>No</td>\n",
       "      <td>No</td>\n",
       "      <td>No</td>\n",
       "      <td>No</td>\n",
       "      <td>No</td>\n",
       "      <td>No</td>\n",
       "    </tr>\n",
       "    <tr>\n",
       "      <th>power_kW</th>\n",
       "      <td>66.333333</td>\n",
       "      <td>215.0</td>\n",
       "      <td>310.0</td>\n",
       "      <td>225.0</td>\n",
       "      <td>100.0</td>\n",
       "      <td>90.0</td>\n",
       "      <td>80.0</td>\n",
       "      <td>140.0</td>\n",
       "      <td>225.0</td>\n",
       "      <td>102.0</td>\n",
       "      <td>...</td>\n",
       "      <td>228.0</td>\n",
       "      <td>140.0</td>\n",
       "      <td>140.0</td>\n",
       "      <td>88.0</td>\n",
       "      <td>154.0</td>\n",
       "      <td>288.0</td>\n",
       "      <td>125.0</td>\n",
       "      <td>84.0</td>\n",
       "      <td>187.0</td>\n",
       "      <td>147.0</td>\n",
       "    </tr>\n",
       "    <tr>\n",
       "      <th>power_hp</th>\n",
       "      <td>90.333333</td>\n",
       "      <td>292.0</td>\n",
       "      <td>421.0</td>\n",
       "      <td>306.0</td>\n",
       "      <td>136.0</td>\n",
       "      <td>122.0</td>\n",
       "      <td>109.0</td>\n",
       "      <td>190.0</td>\n",
       "      <td>306.0</td>\n",
       "      <td>139.0</td>\n",
       "      <td>...</td>\n",
       "      <td>310.0</td>\n",
       "      <td>190.0</td>\n",
       "      <td>190.0</td>\n",
       "      <td>120.0</td>\n",
       "      <td>209.0</td>\n",
       "      <td>392.0</td>\n",
       "      <td>170.0</td>\n",
       "      <td>114.0</td>\n",
       "      <td>254.0</td>\n",
       "      <td>200.0</td>\n",
       "    </tr>\n",
       "    <tr>\n",
       "      <th>fuel_consumption_comb</th>\n",
       "      <td>3.8</td>\n",
       "      <td>3.447727</td>\n",
       "      <td>8.4</td>\n",
       "      <td>7.3</td>\n",
       "      <td>4.9</td>\n",
       "      <td>8.2</td>\n",
       "      <td>4.832077</td>\n",
       "      <td>6.1</td>\n",
       "      <td>7.405556</td>\n",
       "      <td>5.4</td>\n",
       "      <td>...</td>\n",
       "      <td>7.6</td>\n",
       "      <td>4.4</td>\n",
       "      <td>4.4</td>\n",
       "      <td>3.6</td>\n",
       "      <td>9.1</td>\n",
       "      <td>3.066667</td>\n",
       "      <td>9.1</td>\n",
       "      <td>3.8</td>\n",
       "      <td>6.5</td>\n",
       "      <td>10.4</td>\n",
       "    </tr>\n",
       "    <tr>\n",
       "      <th>location_country</th>\n",
       "      <td>Spain</td>\n",
       "      <td>Spain</td>\n",
       "      <td>Spain</td>\n",
       "      <td>Spain</td>\n",
       "      <td>Spain</td>\n",
       "      <td>Germany</td>\n",
       "      <td>Spain</td>\n",
       "      <td>Spain</td>\n",
       "      <td>Belgium</td>\n",
       "      <td>Spain</td>\n",
       "      <td>...</td>\n",
       "      <td>Netherlands</td>\n",
       "      <td>Spain</td>\n",
       "      <td>Spain</td>\n",
       "      <td>Belgium</td>\n",
       "      <td>Spain</td>\n",
       "      <td>Spain</td>\n",
       "      <td>Netherlands</td>\n",
       "      <td>Belgium</td>\n",
       "      <td>Netherlands</td>\n",
       "      <td>Netherlands</td>\n",
       "    </tr>\n",
       "    <tr>\n",
       "      <th>ent_media_str</th>\n",
       "      <td>NaN</td>\n",
       "      <td>NaN</td>\n",
       "      <td>NaN</td>\n",
       "      <td>USB</td>\n",
       "      <td>Bluetooth, CD player, MP3, USB</td>\n",
       "      <td>CD player, On-board computer, Radio</td>\n",
       "      <td>NaN</td>\n",
       "      <td>USB</td>\n",
       "      <td>NaN</td>\n",
       "      <td>NaN</td>\n",
       "      <td>...</td>\n",
       "      <td>Android Auto, Apple CarPlay, Bluetooth, CD pla...</td>\n",
       "      <td>Hands-free equipment, USB</td>\n",
       "      <td>Hands-free equipment, USB</td>\n",
       "      <td>Bluetooth, Hands-free equipment, On-board comp...</td>\n",
       "      <td>On-board computer</td>\n",
       "      <td>Bluetooth, USB</td>\n",
       "      <td>On-board computer, Radio</td>\n",
       "      <td>Bluetooth, CD player, Hands-free equipment, MP...</td>\n",
       "      <td>Android Auto, Apple CarPlay, Bluetooth, Hands-...</td>\n",
       "      <td>On-board computer</td>\n",
       "    </tr>\n",
       "    <tr>\n",
       "      <th>desc_str</th>\n",
       "      <td>, Precio al contado: 16950 euros,  ,  , Vehíc...</td>\n",
       "      <td>, Precio al contado: 88900 euros,  , AUTO OJA...</td>\n",
       "      <td>Gris MANUFAKTUR mountaingrau magno,  , Linea/E...</td>\n",
       "      <td>, Precio al contado: 48990 euros,  ,  , BONIF...</td>\n",
       "      <td>, Precio al contado: 17400 euros,  , Vehículo...</td>\n",
       "      <td>Sonderausstattung:, Panorama-Schiebedach elekt...</td>\n",
       "      <td>, Precio al contado: 24900 euros,  , LIQUIDAC...</td>\n",
       "      <td>, Precio al contado: 28900 euros,  , OPORTUNI...</td>\n",
       "      <td>440 - Snelheidsregelaar TEMPOMAT met variabele...</td>\n",
       "      <td>, Precio al contado: 25900 euros,  ,  , Extra...</td>\n",
       "      <td>...</td>\n",
       "      <td>BTW Verrekenbaar!, Zeer mooie auto met VOL opt...</td>\n",
       "      <td>, Precio al contado: 30890 euros,  , En HRMOT...</td>\n",
       "      <td>, Precio al contado: 30890 euros,  , En HRMOT...</td>\n",
       "      <td>Volvo V40 Kinetic D2. Kmstand: 114000. 2de eig...</td>\n",
       "      <td>, Precio al contado: 4999 euros,  , %BACK TO ...</td>\n",
       "      <td>, Precio al contado: 41400 euros,  , Os prese...</td>\n",
       "      <td>Een goed rijdende auto met APK + NAP + Elektri...</td>\n",
       "      <td>*** VOLVO C30 2011 TRES PROPRE EN PARFAIT ETAT...</td>\n",
       "      <td>Bekijk deze auto in unieke 360 graden presenta...</td>\n",
       "      <td>YOUNGTIMER !, Bedrijfsinformatie, NEEM VOOR U ...</td>\n",
       "    </tr>\n",
       "    <tr>\n",
       "      <th>comfort_convenience_str</th>\n",
       "      <td>NaN</td>\n",
       "      <td>NaN</td>\n",
       "      <td>NaN</td>\n",
       "      <td>Air conditioning, Automatic climate control, P...</td>\n",
       "      <td>Air conditioning, Electrical side mirrors, Mul...</td>\n",
       "      <td>Air conditioning, Armrest, Automatic climate c...</td>\n",
       "      <td>NaN</td>\n",
       "      <td>Air conditioning, Automatic climate control, P...</td>\n",
       "      <td>Multi-function steering wheel, Navigation syst...</td>\n",
       "      <td>Air conditioning, Automatic climate control, E...</td>\n",
       "      <td>...</td>\n",
       "      <td>360° camera, Air conditioning, Armrest, Automa...</td>\n",
       "      <td>Air conditioning, Automatic climate control, M...</td>\n",
       "      <td>Air conditioning, Automatic climate control, M...</td>\n",
       "      <td>Air conditioning, Armrest, Automatic climate c...</td>\n",
       "      <td>Air conditioning, Automatic climate control, E...</td>\n",
       "      <td>Air conditioning, Automatic climate control, M...</td>\n",
       "      <td>Air conditioning, Armrest, Automatic climate c...</td>\n",
       "      <td>Air conditioning, Armrest, Automatic climate c...</td>\n",
       "      <td>Air conditioning, Armrest, Automatic climate c...</td>\n",
       "      <td>Air conditioning, Armrest, Cruise control, Ele...</td>\n",
       "    </tr>\n",
       "    <tr>\n",
       "      <th>safety_security_str</th>\n",
       "      <td>NaN</td>\n",
       "      <td>NaN</td>\n",
       "      <td>NaN</td>\n",
       "      <td>ABS, Central door lock, Driver-side airbag, El...</td>\n",
       "      <td>ABS, Central door lock, Driver-side airbag, El...</td>\n",
       "      <td>ABS, Bi-Xenon headlights, Central door lock, D...</td>\n",
       "      <td>NaN</td>\n",
       "      <td>ABS, Central door lock, Driver-side airbag, El...</td>\n",
       "      <td>Emergency brake assistant</td>\n",
       "      <td>ABS, Central door lock, Driver-side airbag, El...</td>\n",
       "      <td>...</td>\n",
       "      <td>ABS, Adaptive Cruise Control, Adaptive headlig...</td>\n",
       "      <td>ABS, Central door lock, Driver-side airbag, El...</td>\n",
       "      <td>ABS, Central door lock, Driver-side airbag, El...</td>\n",
       "      <td>ABS, Alarm system, Central door lock with remo...</td>\n",
       "      <td>ABS, Central door lock, Driver-side airbag, El...</td>\n",
       "      <td>ABS, Central door lock, Driver-side airbag, El...</td>\n",
       "      <td>ABS, Central door lock, Central door lock with...</td>\n",
       "      <td>ABS, Alarm system, Central door lock with remo...</td>\n",
       "      <td>Adaptive Cruise Control, Adaptive headlights, ...</td>\n",
       "      <td>ABS, Alarm system, Central door lock, Central ...</td>\n",
       "    </tr>\n",
       "    <tr>\n",
       "      <th>extras_str</th>\n",
       "      <td>NaN</td>\n",
       "      <td>NaN</td>\n",
       "      <td>NaN</td>\n",
       "      <td>Sport seats</td>\n",
       "      <td>NaN</td>\n",
       "      <td>Alloy wheels (17\"), Catalytic Converter, Emerg...</td>\n",
       "      <td>NaN</td>\n",
       "      <td>NaN</td>\n",
       "      <td>Sport package</td>\n",
       "      <td>Alloy wheels</td>\n",
       "      <td>...</td>\n",
       "      <td>Alloy wheels (21\"), Ambient lighting, Automati...</td>\n",
       "      <td>Alloy wheels</td>\n",
       "      <td>Alloy wheels</td>\n",
       "      <td>All season tyres, Ambient lighting, Cargo barr...</td>\n",
       "      <td>Alloy wheels</td>\n",
       "      <td>Alloy wheels</td>\n",
       "      <td>Alloy wheels (16\"), Trailer hitch</td>\n",
       "      <td>Alloy wheels, Automatically dimming interior m...</td>\n",
       "      <td>Alloy wheels (18\"), Automatically dimming inte...</td>\n",
       "      <td>Alloy wheels, Automatically dimming interior m...</td>\n",
       "    </tr>\n",
       "    <tr>\n",
       "      <th>prev_km</th>\n",
       "      <td>NaN</td>\n",
       "      <td>NaN</td>\n",
       "      <td>NaN</td>\n",
       "      <td>NaN</td>\n",
       "      <td>NaN</td>\n",
       "      <td>NaN</td>\n",
       "      <td>NaN</td>\n",
       "      <td>NaN</td>\n",
       "      <td>NaN</td>\n",
       "      <td>NaN</td>\n",
       "      <td>...</td>\n",
       "      <td>44873.0</td>\n",
       "      <td>NaN</td>\n",
       "      <td>NaN</td>\n",
       "      <td>114000.0</td>\n",
       "      <td>NaN</td>\n",
       "      <td>NaN</td>\n",
       "      <td>NaN</td>\n",
       "      <td>96000.0</td>\n",
       "      <td>NaN</td>\n",
       "      <td>230047.0</td>\n",
       "    </tr>\n",
       "    <tr>\n",
       "      <th>prev_date</th>\n",
       "      <td>NaT</td>\n",
       "      <td>NaT</td>\n",
       "      <td>NaT</td>\n",
       "      <td>NaT</td>\n",
       "      <td>NaT</td>\n",
       "      <td>NaT</td>\n",
       "      <td>NaT</td>\n",
       "      <td>NaT</td>\n",
       "      <td>NaT</td>\n",
       "      <td>NaT</td>\n",
       "      <td>...</td>\n",
       "      <td>2018-07-01 00:00:00</td>\n",
       "      <td>NaT</td>\n",
       "      <td>NaT</td>\n",
       "      <td>2018-08-01 00:00:00</td>\n",
       "      <td>NaT</td>\n",
       "      <td>NaT</td>\n",
       "      <td>NaT</td>\n",
       "      <td>2011-04-01 00:00:00</td>\n",
       "      <td>NaT</td>\n",
       "      <td>2002-07-01 00:00:00</td>\n",
       "    </tr>\n",
       "    <tr>\n",
       "      <th>owner_count</th>\n",
       "      <td>NaN</td>\n",
       "      <td>NaN</td>\n",
       "      <td>NaN</td>\n",
       "      <td>NaN</td>\n",
       "      <td>NaN</td>\n",
       "      <td>NaN</td>\n",
       "      <td>NaN</td>\n",
       "      <td>NaN</td>\n",
       "      <td>NaN</td>\n",
       "      <td>NaN</td>\n",
       "      <td>...</td>\n",
       "      <td>1.0</td>\n",
       "      <td>NaN</td>\n",
       "      <td>NaN</td>\n",
       "      <td>1.0</td>\n",
       "      <td>NaN</td>\n",
       "      <td>NaN</td>\n",
       "      <td>NaN</td>\n",
       "      <td>1.0</td>\n",
       "      <td>NaN</td>\n",
       "      <td>5.0</td>\n",
       "    </tr>\n",
       "    <tr>\n",
       "      <th>power_cons_wltp_numeric</th>\n",
       "      <td>NaN</td>\n",
       "      <td>NaN</td>\n",
       "      <td>NaN</td>\n",
       "      <td>NaN</td>\n",
       "      <td>NaN</td>\n",
       "      <td>NaN</td>\n",
       "      <td>NaN</td>\n",
       "      <td>NaN</td>\n",
       "      <td>NaN</td>\n",
       "      <td>NaN</td>\n",
       "      <td>...</td>\n",
       "      <td>NaN</td>\n",
       "      <td>NaN</td>\n",
       "      <td>NaN</td>\n",
       "      <td>NaN</td>\n",
       "      <td>NaN</td>\n",
       "      <td>NaN</td>\n",
       "      <td>NaN</td>\n",
       "      <td>NaN</td>\n",
       "      <td>NaN</td>\n",
       "      <td>NaN</td>\n",
       "    </tr>\n",
       "    <tr>\n",
       "      <th>power_cons_numeric</th>\n",
       "      <td>NaN</td>\n",
       "      <td>NaN</td>\n",
       "      <td>NaN</td>\n",
       "      <td>NaN</td>\n",
       "      <td>NaN</td>\n",
       "      <td>NaN</td>\n",
       "      <td>NaN</td>\n",
       "      <td>NaN</td>\n",
       "      <td>NaN</td>\n",
       "      <td>NaN</td>\n",
       "      <td>...</td>\n",
       "      <td>NaN</td>\n",
       "      <td>NaN</td>\n",
       "      <td>NaN</td>\n",
       "      <td>NaN</td>\n",
       "      <td>NaN</td>\n",
       "      <td>NaN</td>\n",
       "      <td>NaN</td>\n",
       "      <td>NaN</td>\n",
       "      <td>NaN</td>\n",
       "      <td>NaN</td>\n",
       "    </tr>\n",
       "    <tr>\n",
       "      <th>fuel_wltp_numeric</th>\n",
       "      <td>NaN</td>\n",
       "      <td>NaN</td>\n",
       "      <td>NaN</td>\n",
       "      <td>NaN</td>\n",
       "      <td>NaN</td>\n",
       "      <td>NaN</td>\n",
       "      <td>NaN</td>\n",
       "      <td>NaN</td>\n",
       "      <td>NaN</td>\n",
       "      <td>NaN</td>\n",
       "      <td>...</td>\n",
       "      <td>NaN</td>\n",
       "      <td>NaN</td>\n",
       "      <td>NaN</td>\n",
       "      <td>NaN</td>\n",
       "      <td>NaN</td>\n",
       "      <td>NaN</td>\n",
       "      <td>NaN</td>\n",
       "      <td>NaN</td>\n",
       "      <td>NaN</td>\n",
       "      <td>NaN</td>\n",
       "    </tr>\n",
       "    <tr>\n",
       "      <th>co2_wltp_numeric</th>\n",
       "      <td>NaN</td>\n",
       "      <td>NaN</td>\n",
       "      <td>NaN</td>\n",
       "      <td>NaN</td>\n",
       "      <td>NaN</td>\n",
       "      <td>NaN</td>\n",
       "      <td>NaN</td>\n",
       "      <td>NaN</td>\n",
       "      <td>NaN</td>\n",
       "      <td>NaN</td>\n",
       "      <td>...</td>\n",
       "      <td>NaN</td>\n",
       "      <td>NaN</td>\n",
       "      <td>NaN</td>\n",
       "      <td>NaN</td>\n",
       "      <td>NaN</td>\n",
       "      <td>NaN</td>\n",
       "      <td>NaN</td>\n",
       "      <td>NaN</td>\n",
       "      <td>NaN</td>\n",
       "      <td>NaN</td>\n",
       "    </tr>\n",
       "    <tr>\n",
       "      <th>avg_elec_range</th>\n",
       "      <td>NaN</td>\n",
       "      <td>NaN</td>\n",
       "      <td>NaN</td>\n",
       "      <td>NaN</td>\n",
       "      <td>NaN</td>\n",
       "      <td>NaN</td>\n",
       "      <td>NaN</td>\n",
       "      <td>NaN</td>\n",
       "      <td>NaN</td>\n",
       "      <td>NaN</td>\n",
       "      <td>...</td>\n",
       "      <td>NaN</td>\n",
       "      <td>NaN</td>\n",
       "      <td>NaN</td>\n",
       "      <td>NaN</td>\n",
       "      <td>NaN</td>\n",
       "      <td>NaN</td>\n",
       "      <td>NaN</td>\n",
       "      <td>NaN</td>\n",
       "      <td>NaN</td>\n",
       "      <td>NaN</td>\n",
       "    </tr>\n",
       "    <tr>\n",
       "      <th>age</th>\n",
       "      <td>6.0</td>\n",
       "      <td>0.0</td>\n",
       "      <td>2.0</td>\n",
       "      <td>2.0</td>\n",
       "      <td>7.0</td>\n",
       "      <td>17.0</td>\n",
       "      <td>4.0</td>\n",
       "      <td>3.0</td>\n",
       "      <td>3.0</td>\n",
       "      <td>4.0</td>\n",
       "      <td>...</td>\n",
       "      <td>4.0</td>\n",
       "      <td>4.0</td>\n",
       "      <td>4.0</td>\n",
       "      <td>4.0</td>\n",
       "      <td>18.0</td>\n",
       "      <td>3.0</td>\n",
       "      <td>18.0</td>\n",
       "      <td>11.0</td>\n",
       "      <td>5.0</td>\n",
       "      <td>20.0</td>\n",
       "    </tr>\n",
       "    <tr>\n",
       "      <th>inspection_status</th>\n",
       "      <td>no</td>\n",
       "      <td>no</td>\n",
       "      <td>no</td>\n",
       "      <td>no</td>\n",
       "      <td>no</td>\n",
       "      <td>no</td>\n",
       "      <td>no</td>\n",
       "      <td>no</td>\n",
       "      <td>no</td>\n",
       "      <td>no</td>\n",
       "      <td>...</td>\n",
       "      <td>yes</td>\n",
       "      <td>no</td>\n",
       "      <td>no</td>\n",
       "      <td>yes</td>\n",
       "      <td>no</td>\n",
       "      <td>no</td>\n",
       "      <td>yes</td>\n",
       "      <td>no</td>\n",
       "      <td>no</td>\n",
       "      <td>yes</td>\n",
       "    </tr>\n",
       "    <tr>\n",
       "      <th>energy_efficiency_class</th>\n",
       "      <td>Efficient</td>\n",
       "      <td>Efficient</td>\n",
       "      <td>Inefficient</td>\n",
       "      <td>Inefficient</td>\n",
       "      <td>Inefficient</td>\n",
       "      <td>Efficient</td>\n",
       "      <td>Inefficient</td>\n",
       "      <td>Efficient</td>\n",
       "      <td>Inefficient</td>\n",
       "      <td>Efficient</td>\n",
       "      <td>...</td>\n",
       "      <td>Efficient</td>\n",
       "      <td>Efficient</td>\n",
       "      <td>Efficient</td>\n",
       "      <td>Efficient</td>\n",
       "      <td>Efficient</td>\n",
       "      <td>Efficient</td>\n",
       "      <td>Efficient</td>\n",
       "      <td>Inefficient</td>\n",
       "      <td>Efficient</td>\n",
       "      <td>Efficient</td>\n",
       "    </tr>\n",
       "    <tr>\n",
       "      <th>safety_security_package</th>\n",
       "      <td>NaN</td>\n",
       "      <td>NaN</td>\n",
       "      <td>NaN</td>\n",
       "      <td>Basic</td>\n",
       "      <td>Enhanced</td>\n",
       "      <td>Advanced</td>\n",
       "      <td>NaN</td>\n",
       "      <td>Basic</td>\n",
       "      <td>Advanced</td>\n",
       "      <td>Enhanced</td>\n",
       "      <td>...</td>\n",
       "      <td>Advanced</td>\n",
       "      <td>Enhanced</td>\n",
       "      <td>Enhanced</td>\n",
       "      <td>Advanced</td>\n",
       "      <td>Enhanced</td>\n",
       "      <td>Enhanced</td>\n",
       "      <td>Enhanced</td>\n",
       "      <td>Advanced</td>\n",
       "      <td>Advanced</td>\n",
       "      <td>Enhanced</td>\n",
       "    </tr>\n",
       "    <tr>\n",
       "      <th>comfort_convenience_package</th>\n",
       "      <td>NaN</td>\n",
       "      <td>NaN</td>\n",
       "      <td>NaN</td>\n",
       "      <td>Advanced</td>\n",
       "      <td>Enhanced</td>\n",
       "      <td>Advanced</td>\n",
       "      <td>NaN</td>\n",
       "      <td>Advanced</td>\n",
       "      <td>Advanced</td>\n",
       "      <td>Advanced</td>\n",
       "      <td>...</td>\n",
       "      <td>Advanced</td>\n",
       "      <td>Advanced</td>\n",
       "      <td>Advanced</td>\n",
       "      <td>Advanced</td>\n",
       "      <td>Advanced</td>\n",
       "      <td>Advanced</td>\n",
       "      <td>Advanced</td>\n",
       "      <td>Advanced</td>\n",
       "      <td>Advanced</td>\n",
       "      <td>Advanced</td>\n",
       "    </tr>\n",
       "    <tr>\n",
       "      <th>ent_media_package</th>\n",
       "      <td>NaN</td>\n",
       "      <td>NaN</td>\n",
       "      <td>NaN</td>\n",
       "      <td>Basic</td>\n",
       "      <td>Enhanced</td>\n",
       "      <td>Enhanced</td>\n",
       "      <td>NaN</td>\n",
       "      <td>Basic</td>\n",
       "      <td>NaN</td>\n",
       "      <td>NaN</td>\n",
       "      <td>...</td>\n",
       "      <td>Advanced</td>\n",
       "      <td>Enhanced</td>\n",
       "      <td>Enhanced</td>\n",
       "      <td>Enhanced</td>\n",
       "      <td>Enhanced</td>\n",
       "      <td>Enhanced</td>\n",
       "      <td>Enhanced</td>\n",
       "      <td>Enhanced</td>\n",
       "      <td>Advanced</td>\n",
       "      <td>Enhanced</td>\n",
       "    </tr>\n",
       "    <tr>\n",
       "      <th>extras_package</th>\n",
       "      <td>NaN</td>\n",
       "      <td>NaN</td>\n",
       "      <td>NaN</td>\n",
       "      <td>Enhanced</td>\n",
       "      <td>NaN</td>\n",
       "      <td>Advanced</td>\n",
       "      <td>NaN</td>\n",
       "      <td>NaN</td>\n",
       "      <td>NaN</td>\n",
       "      <td>Basic</td>\n",
       "      <td>...</td>\n",
       "      <td>Advanced</td>\n",
       "      <td>Basic</td>\n",
       "      <td>Basic</td>\n",
       "      <td>Advanced</td>\n",
       "      <td>Basic</td>\n",
       "      <td>Basic</td>\n",
       "      <td>Advanced</td>\n",
       "      <td>Enhanced</td>\n",
       "      <td>Enhanced</td>\n",
       "      <td>Advanced</td>\n",
       "    </tr>\n",
       "    <tr>\n",
       "      <th>num_of_extras</th>\n",
       "      <td>0</td>\n",
       "      <td>0</td>\n",
       "      <td>0</td>\n",
       "      <td>1</td>\n",
       "      <td>0</td>\n",
       "      <td>7</td>\n",
       "      <td>0</td>\n",
       "      <td>0</td>\n",
       "      <td>1</td>\n",
       "      <td>1</td>\n",
       "      <td>...</td>\n",
       "      <td>17</td>\n",
       "      <td>1</td>\n",
       "      <td>1</td>\n",
       "      <td>9</td>\n",
       "      <td>1</td>\n",
       "      <td>1</td>\n",
       "      <td>2</td>\n",
       "      <td>3</td>\n",
       "      <td>2</td>\n",
       "      <td>4</td>\n",
       "    </tr>\n",
       "  </tbody>\n",
       "</table>\n",
       "<p>58 rows × 26861 columns</p>\n",
       "</div>"
      ],
      "text/plain": [
       "                                                                         0      \\\n",
       "make_model                                                 Mercedes-Benz A 160   \n",
       "short_description                                                          CDi   \n",
       "make                                                             Mercedes-Benz   \n",
       "model                                                                   A 160    \n",
       "price                                                                  16950.0   \n",
       "body_type                                                              Compact   \n",
       "type                                                                      Used   \n",
       "doors                                                                      5.0   \n",
       "country_version                                                          Spain   \n",
       "offer_number                                                           7468157   \n",
       "warranty                                                                   Yes   \n",
       "mileage                                                               120200.0   \n",
       "first_registration                                         2016-06-01 00:00:00   \n",
       "gearbox                                                                 Manual   \n",
       "fuel_type                                                               Diesel   \n",
       "colour                                                                   Black   \n",
       "paint                                                                 Metallic   \n",
       "seller                                                                  Dealer   \n",
       "seats                                                                      5.0   \n",
       "engine_size                                                             1509.0   \n",
       "gears                                                                      5.0   \n",
       "co2_emissions                                                            119.0   \n",
       "drivetrain                                                               Front   \n",
       "cylinders                                                                  4.0   \n",
       "empty_weight                                                            1271.0   \n",
       "service_history                                                             No   \n",
       "non_smoker                                                                  No   \n",
       "emission_sticker                                                    No sticker   \n",
       "upholstery_color                                                         Black   \n",
       "upholstery                                                        Full leather   \n",
       "pro_date                                                   2009-01-01 00:00:00   \n",
       "available                                                                  yes   \n",
       "taxi_rental                                                                 No   \n",
       "power_kW                                                             66.333333   \n",
       "power_hp                                                             90.333333   \n",
       "fuel_consumption_comb                                                      3.8   \n",
       "location_country                                                         Spain   \n",
       "ent_media_str                                                              NaN   \n",
       "desc_str                      , Precio al contado: 16950 euros,  ,  , Vehíc...   \n",
       "comfort_convenience_str                                                    NaN   \n",
       "safety_security_str                                                        NaN   \n",
       "extras_str                                                                 NaN   \n",
       "prev_km                                                                    NaN   \n",
       "prev_date                                                                  NaT   \n",
       "owner_count                                                                NaN   \n",
       "power_cons_wltp_numeric                                                    NaN   \n",
       "power_cons_numeric                                                         NaN   \n",
       "fuel_wltp_numeric                                                          NaN   \n",
       "co2_wltp_numeric                                                           NaN   \n",
       "avg_elec_range                                                             NaN   \n",
       "age                                                                        6.0   \n",
       "inspection_status                                                           no   \n",
       "energy_efficiency_class                                              Efficient   \n",
       "safety_security_package                                                    NaN   \n",
       "comfort_convenience_package                                                NaN   \n",
       "ent_media_package                                                          NaN   \n",
       "extras_package                                                             NaN   \n",
       "num_of_extras                                                                0   \n",
       "\n",
       "                                                                         1      \\\n",
       "make_model                                               Mercedes-Benz EQE 350   \n",
       "short_description                                                         350+   \n",
       "make                                                             Mercedes-Benz   \n",
       "model                                                                 EQE 350    \n",
       "price                                                                  80900.0   \n",
       "body_type                                                              Compact   \n",
       "type                                                            Pre-registered   \n",
       "doors                                                                      4.0   \n",
       "country_version                                                          Spain   \n",
       "offer_number                                                           7054863   \n",
       "warranty                                                                   Yes   \n",
       "mileage                                                                 5000.0   \n",
       "first_registration                                         2022-06-01 00:00:00   \n",
       "gearbox                                                              Automatic   \n",
       "fuel_type                                                             Electric   \n",
       "colour                                                                   Black   \n",
       "paint                                                             non_metallic   \n",
       "seller                                                                  Dealer   \n",
       "seats                                                                      5.0   \n",
       "engine_size                                                                1.0   \n",
       "gears                                                                      9.0   \n",
       "co2_emissions                                                              0.0   \n",
       "drivetrain                                                                 4WD   \n",
       "cylinders                                                                  4.0   \n",
       "empty_weight                                                            2383.0   \n",
       "service_history                                                             No   \n",
       "non_smoker                                                                  No   \n",
       "emission_sticker                                                        Yellow   \n",
       "upholstery_color                                                         Black   \n",
       "upholstery                                                               Cloth   \n",
       "pro_date                                                   2017-07-02 12:00:00   \n",
       "available                                                                  yes   \n",
       "taxi_rental                                                                 No   \n",
       "power_kW                                                                 215.0   \n",
       "power_hp                                                                 292.0   \n",
       "fuel_consumption_comb                                                 3.447727   \n",
       "location_country                                                         Spain   \n",
       "ent_media_str                                                              NaN   \n",
       "desc_str                      , Precio al contado: 88900 euros,  , AUTO OJA...   \n",
       "comfort_convenience_str                                                    NaN   \n",
       "safety_security_str                                                        NaN   \n",
       "extras_str                                                                 NaN   \n",
       "prev_km                                                                    NaN   \n",
       "prev_date                                                                  NaT   \n",
       "owner_count                                                                NaN   \n",
       "power_cons_wltp_numeric                                                    NaN   \n",
       "power_cons_numeric                                                         NaN   \n",
       "fuel_wltp_numeric                                                          NaN   \n",
       "co2_wltp_numeric                                                           NaN   \n",
       "avg_elec_range                                                             NaN   \n",
       "age                                                                        0.0   \n",
       "inspection_status                                                           no   \n",
       "energy_efficiency_class                                              Efficient   \n",
       "safety_security_package                                                    NaN   \n",
       "comfort_convenience_package                                                NaN   \n",
       "ent_media_package                                                          NaN   \n",
       "extras_package                                                             NaN   \n",
       "num_of_extras                                                                0   \n",
       "\n",
       "                                                                         2      \\\n",
       "make_model                                              Mercedes-Benz A 45 AMG   \n",
       "short_description                                             S 4Matic+ 8G-DCT   \n",
       "make                                                             Mercedes-Benz   \n",
       "model                                                                A 45 AMG    \n",
       "price                                                                  69900.0   \n",
       "body_type                                                              Compact   \n",
       "type                                                                      Used   \n",
       "doors                                                                      5.0   \n",
       "country_version                                                          Spain   \n",
       "offer_number                                                           7410454   \n",
       "warranty                                                                   Yes   \n",
       "mileage                                                                18900.0   \n",
       "first_registration                                         2020-07-01 00:00:00   \n",
       "gearbox                                                              Automatic   \n",
       "fuel_type                                                              Benzine   \n",
       "colour                                                                    Grey   \n",
       "paint                                                             non_metallic   \n",
       "seller                                                                  Dealer   \n",
       "seats                                                                      5.0   \n",
       "engine_size                                                             1991.0   \n",
       "gears                                                                      8.0   \n",
       "co2_emissions                                                            159.0   \n",
       "drivetrain                                                                 4WD   \n",
       "cylinders                                                                  4.0   \n",
       "empty_weight                                                            1539.0   \n",
       "service_history                                                             No   \n",
       "non_smoker                                                                  No   \n",
       "emission_sticker                                                        Yellow   \n",
       "upholstery_color                                                         Black   \n",
       "upholstery                                                               Cloth   \n",
       "pro_date                                                   2010-01-01 00:00:00   \n",
       "available                                                                  yes   \n",
       "taxi_rental                                                                 No   \n",
       "power_kW                                                                 310.0   \n",
       "power_hp                                                                 421.0   \n",
       "fuel_consumption_comb                                                      8.4   \n",
       "location_country                                                         Spain   \n",
       "ent_media_str                                                              NaN   \n",
       "desc_str                     Gris MANUFAKTUR mountaingrau magno,  , Linea/E...   \n",
       "comfort_convenience_str                                                    NaN   \n",
       "safety_security_str                                                        NaN   \n",
       "extras_str                                                                 NaN   \n",
       "prev_km                                                                    NaN   \n",
       "prev_date                                                                  NaT   \n",
       "owner_count                                                                NaN   \n",
       "power_cons_wltp_numeric                                                    NaN   \n",
       "power_cons_numeric                                                         NaN   \n",
       "fuel_wltp_numeric                                                          NaN   \n",
       "co2_wltp_numeric                                                           NaN   \n",
       "avg_elec_range                                                             NaN   \n",
       "age                                                                        2.0   \n",
       "inspection_status                                                           no   \n",
       "energy_efficiency_class                                            Inefficient   \n",
       "safety_security_package                                                    NaN   \n",
       "comfort_convenience_package                                                NaN   \n",
       "ent_media_package                                                          NaN   \n",
       "extras_package                                                             NaN   \n",
       "num_of_extras                                                                0   \n",
       "\n",
       "                                                                         3      \\\n",
       "make_model                                              Mercedes-Benz A 35 AMG   \n",
       "short_description                                               4Matic+ 7G-DCT   \n",
       "make                                                             Mercedes-Benz   \n",
       "model                                                                A 35 AMG    \n",
       "price                                                                  46990.0   \n",
       "body_type                                                              Compact   \n",
       "type                                                                      Used   \n",
       "doors                                                                      5.0   \n",
       "country_version                                                          Spain   \n",
       "offer_number                                                           7464503   \n",
       "warranty                                                                   Yes   \n",
       "mileage                                                                18995.0   \n",
       "first_registration                                         2020-01-01 00:00:00   \n",
       "gearbox                                                              Automatic   \n",
       "fuel_type                                                              Benzine   \n",
       "colour                                                                  Yellow   \n",
       "paint                                                             non_metallic   \n",
       "seller                                                                  Dealer   \n",
       "seats                                                                      5.0   \n",
       "engine_size                                                             1991.0   \n",
       "gears                                                                      7.0   \n",
       "co2_emissions                                                            159.0   \n",
       "drivetrain                                                                 4WD   \n",
       "cylinders                                                                  4.0   \n",
       "empty_weight                                                            1516.0   \n",
       "service_history                                                             No   \n",
       "non_smoker                                                                  No   \n",
       "emission_sticker                                                         Green   \n",
       "upholstery_color                                                         Black   \n",
       "upholstery                                                               Cloth   \n",
       "pro_date                                                   2010-01-01 00:00:00   \n",
       "available                                                                  yes   \n",
       "taxi_rental                                                                 No   \n",
       "power_kW                                                                 225.0   \n",
       "power_hp                                                                 306.0   \n",
       "fuel_consumption_comb                                                      7.3   \n",
       "location_country                                                         Spain   \n",
       "ent_media_str                                                              USB   \n",
       "desc_str                      , Precio al contado: 48990 euros,  ,  , BONIF...   \n",
       "comfort_convenience_str      Air conditioning, Automatic climate control, P...   \n",
       "safety_security_str          ABS, Central door lock, Driver-side airbag, El...   \n",
       "extras_str                                                         Sport seats   \n",
       "prev_km                                                                    NaN   \n",
       "prev_date                                                                  NaT   \n",
       "owner_count                                                                NaN   \n",
       "power_cons_wltp_numeric                                                    NaN   \n",
       "power_cons_numeric                                                         NaN   \n",
       "fuel_wltp_numeric                                                          NaN   \n",
       "co2_wltp_numeric                                                           NaN   \n",
       "avg_elec_range                                                             NaN   \n",
       "age                                                                        2.0   \n",
       "inspection_status                                                           no   \n",
       "energy_efficiency_class                                            Inefficient   \n",
       "safety_security_package                                                  Basic   \n",
       "comfort_convenience_package                                           Advanced   \n",
       "ent_media_package                                                        Basic   \n",
       "extras_package                                                        Enhanced   \n",
       "num_of_extras                                                                1   \n",
       "\n",
       "                                                                         4      \\\n",
       "make_model                                              Mercedes-Benz A 45 AMG   \n",
       "short_description                                     200CDI BE Line 4M 7G-DCT   \n",
       "make                                                             Mercedes-Benz   \n",
       "model                                                                A 45 AMG    \n",
       "price                                                                  16800.0   \n",
       "body_type                                                              Compact   \n",
       "type                                                                      Used   \n",
       "doors                                                                      5.0   \n",
       "country_version                                                          Spain   \n",
       "offer_number                                                           7127931   \n",
       "warranty                                                                   Yes   \n",
       "mileage                                                               197000.0   \n",
       "first_registration                                         2015-09-01 00:00:00   \n",
       "gearbox                                                              Automatic   \n",
       "fuel_type                                                               Diesel   \n",
       "colour                                                                   White   \n",
       "paint                                                                 Metallic   \n",
       "seller                                                                  Dealer   \n",
       "seats                                                                      5.0   \n",
       "engine_size                                                             2143.0   \n",
       "gears                                                                      7.0   \n",
       "co2_emissions                                                            125.0   \n",
       "drivetrain                                                                 4WD   \n",
       "cylinders                                                                  4.0   \n",
       "empty_weight                                                            1545.0   \n",
       "service_history                                                             No   \n",
       "non_smoker                                                                  No   \n",
       "emission_sticker                                                         Green   \n",
       "upholstery_color                                                         Black   \n",
       "upholstery                                                               Cloth   \n",
       "pro_date                                                   2011-01-01 00:00:00   \n",
       "available                                                                  yes   \n",
       "taxi_rental                                                                 No   \n",
       "power_kW                                                                 100.0   \n",
       "power_hp                                                                 136.0   \n",
       "fuel_consumption_comb                                                      4.9   \n",
       "location_country                                                         Spain   \n",
       "ent_media_str                                   Bluetooth, CD player, MP3, USB   \n",
       "desc_str                      , Precio al contado: 17400 euros,  , Vehículo...   \n",
       "comfort_convenience_str      Air conditioning, Electrical side mirrors, Mul...   \n",
       "safety_security_str          ABS, Central door lock, Driver-side airbag, El...   \n",
       "extras_str                                                                 NaN   \n",
       "prev_km                                                                    NaN   \n",
       "prev_date                                                                  NaT   \n",
       "owner_count                                                                NaN   \n",
       "power_cons_wltp_numeric                                                    NaN   \n",
       "power_cons_numeric                                                         NaN   \n",
       "fuel_wltp_numeric                                                          NaN   \n",
       "co2_wltp_numeric                                                           NaN   \n",
       "avg_elec_range                                                             NaN   \n",
       "age                                                                        7.0   \n",
       "inspection_status                                                           no   \n",
       "energy_efficiency_class                                            Inefficient   \n",
       "safety_security_package                                               Enhanced   \n",
       "comfort_convenience_package                                           Enhanced   \n",
       "ent_media_package                                                     Enhanced   \n",
       "extras_package                                                             NaN   \n",
       "num_of_extras                                                                0   \n",
       "\n",
       "                                                                         5      \\\n",
       "make_model                                                 Mercedes-Benz C 160   \n",
       "short_description              Sp. Ed. C-Klasse Sportcoupe!TÜV N.!24 Mon. Gew.   \n",
       "make                                                             Mercedes-Benz   \n",
       "model                                                                   C 160    \n",
       "price                                                                   4690.0   \n",
       "body_type                                                              Compact   \n",
       "type                                                                      Used   \n",
       "doors                                                                      3.0   \n",
       "country_version                                                        Germany   \n",
       "offer_number                                                               NaN   \n",
       "warranty                                                                    No   \n",
       "mileage                                                               165000.0   \n",
       "first_registration                                         2005-08-01 00:00:00   \n",
       "gearbox                                                                 Manual   \n",
       "fuel_type                                                              Benzine   \n",
       "colour                                                                   Black   \n",
       "paint                                                                 Metallic   \n",
       "seller                                                                  Dealer   \n",
       "seats                                                                      4.0   \n",
       "engine_size                                                             1799.0   \n",
       "gears                                                                      6.0   \n",
       "co2_emissions                                                            196.0   \n",
       "drivetrain                                                                Rear   \n",
       "cylinders                                                                  4.0   \n",
       "empty_weight                                                            1465.0   \n",
       "service_history                                                            Yes   \n",
       "non_smoker                                                                 Yes   \n",
       "emission_sticker                                                         Green   \n",
       "upholstery_color                                                         Black   \n",
       "upholstery                                                               Other   \n",
       "pro_date                                                   2013-07-02 12:00:00   \n",
       "available                                                                  yes   \n",
       "taxi_rental                                                                 No   \n",
       "power_kW                                                                  90.0   \n",
       "power_hp                                                                 122.0   \n",
       "fuel_consumption_comb                                                      8.2   \n",
       "location_country                                                       Germany   \n",
       "ent_media_str                              CD player, On-board computer, Radio   \n",
       "desc_str                     Sonderausstattung:, Panorama-Schiebedach elekt...   \n",
       "comfort_convenience_str      Air conditioning, Armrest, Automatic climate c...   \n",
       "safety_security_str          ABS, Bi-Xenon headlights, Central door lock, D...   \n",
       "extras_str                   Alloy wheels (17\"), Catalytic Converter, Emerg...   \n",
       "prev_km                                                                    NaN   \n",
       "prev_date                                                                  NaT   \n",
       "owner_count                                                                NaN   \n",
       "power_cons_wltp_numeric                                                    NaN   \n",
       "power_cons_numeric                                                         NaN   \n",
       "fuel_wltp_numeric                                                          NaN   \n",
       "co2_wltp_numeric                                                           NaN   \n",
       "avg_elec_range                                                             NaN   \n",
       "age                                                                       17.0   \n",
       "inspection_status                                                           no   \n",
       "energy_efficiency_class                                              Efficient   \n",
       "safety_security_package                                               Advanced   \n",
       "comfort_convenience_package                                           Advanced   \n",
       "ent_media_package                                                     Enhanced   \n",
       "extras_package                                                        Advanced   \n",
       "num_of_extras                                                                7   \n",
       "\n",
       "                                                                         6      \\\n",
       "make_model                                               Mercedes-Benz CLA 180   \n",
       "short_description                                                         180D   \n",
       "make                                                             Mercedes-Benz   \n",
       "model                                                                 CLA 180    \n",
       "price                                                                  22550.0   \n",
       "body_type                                                              Compact   \n",
       "type                                                                      Used   \n",
       "doors                                                                      5.0   \n",
       "country_version                                                          Spain   \n",
       "offer_number                                                           7201260   \n",
       "warranty                                                                   Yes   \n",
       "mileage                                                                83339.0   \n",
       "first_registration                                         2018-07-01 00:00:00   \n",
       "gearbox                                                                 Manual   \n",
       "fuel_type                                                               Diesel   \n",
       "colour                                                                  Silver   \n",
       "paint                                                             non_metallic   \n",
       "seller                                                                  Dealer   \n",
       "seats                                                                      5.0   \n",
       "engine_size                                                             1342.0   \n",
       "gears                                                                      7.0   \n",
       "co2_emissions                                                            128.0   \n",
       "drivetrain                                                               Front   \n",
       "cylinders                                                                  4.0   \n",
       "empty_weight                                                            1428.0   \n",
       "service_history                                                             No   \n",
       "non_smoker                                                                  No   \n",
       "emission_sticker                                                         Green   \n",
       "upholstery_color                                                         Black   \n",
       "upholstery                                                               Cloth   \n",
       "pro_date                                                   2017-01-01 00:00:00   \n",
       "available                                                                  yes   \n",
       "taxi_rental                                                                 No   \n",
       "power_kW                                                                  80.0   \n",
       "power_hp                                                                 109.0   \n",
       "fuel_consumption_comb                                                 4.832077   \n",
       "location_country                                                         Spain   \n",
       "ent_media_str                                                              NaN   \n",
       "desc_str                      , Precio al contado: 24900 euros,  , LIQUIDAC...   \n",
       "comfort_convenience_str                                                    NaN   \n",
       "safety_security_str                                                        NaN   \n",
       "extras_str                                                                 NaN   \n",
       "prev_km                                                                    NaN   \n",
       "prev_date                                                                  NaT   \n",
       "owner_count                                                                NaN   \n",
       "power_cons_wltp_numeric                                                    NaN   \n",
       "power_cons_numeric                                                         NaN   \n",
       "fuel_wltp_numeric                                                          NaN   \n",
       "co2_wltp_numeric                                                           NaN   \n",
       "avg_elec_range                                                             NaN   \n",
       "age                                                                        4.0   \n",
       "inspection_status                                                           no   \n",
       "energy_efficiency_class                                            Inefficient   \n",
       "safety_security_package                                                    NaN   \n",
       "comfort_convenience_package                                                NaN   \n",
       "ent_media_package                                                          NaN   \n",
       "extras_package                                                             NaN   \n",
       "num_of_extras                                                                0   \n",
       "\n",
       "                                                                         7      \\\n",
       "make_model                                                 Mercedes-Benz A 220   \n",
       "short_description                                                       7G-DCT   \n",
       "make                                                             Mercedes-Benz   \n",
       "model                                                                   A 220    \n",
       "price                                                                  26900.0   \n",
       "body_type                                                              Compact   \n",
       "type                                                                      Used   \n",
       "doors                                                                      5.0   \n",
       "country_version                                                          Spain   \n",
       "offer_number                                                           7329555   \n",
       "warranty                                                                   Yes   \n",
       "mileage                                                                48900.0   \n",
       "first_registration                                         2019-10-01 00:00:00   \n",
       "gearbox                                                              Automatic   \n",
       "fuel_type                                                              Benzine   \n",
       "colour                                                                    Grey   \n",
       "paint                                                                 Metallic   \n",
       "seller                                                                  Dealer   \n",
       "seats                                                                      5.0   \n",
       "engine_size                                                             1991.0   \n",
       "gears                                                                      7.0   \n",
       "co2_emissions                                                            159.0   \n",
       "drivetrain                                                               Front   \n",
       "cylinders                                                                  4.0   \n",
       "empty_weight                                                            1450.0   \n",
       "service_history                                                             No   \n",
       "non_smoker                                                                  No   \n",
       "emission_sticker                                                         Green   \n",
       "upholstery_color                                                         Black   \n",
       "upholstery                                                               Cloth   \n",
       "pro_date                                                   2017-01-01 00:00:00   \n",
       "available                                                                  yes   \n",
       "taxi_rental                                                                 No   \n",
       "power_kW                                                                 140.0   \n",
       "power_hp                                                                 190.0   \n",
       "fuel_consumption_comb                                                      6.1   \n",
       "location_country                                                         Spain   \n",
       "ent_media_str                                                              USB   \n",
       "desc_str                      , Precio al contado: 28900 euros,  , OPORTUNI...   \n",
       "comfort_convenience_str      Air conditioning, Automatic climate control, P...   \n",
       "safety_security_str          ABS, Central door lock, Driver-side airbag, El...   \n",
       "extras_str                                                                 NaN   \n",
       "prev_km                                                                    NaN   \n",
       "prev_date                                                                  NaT   \n",
       "owner_count                                                                NaN   \n",
       "power_cons_wltp_numeric                                                    NaN   \n",
       "power_cons_numeric                                                         NaN   \n",
       "fuel_wltp_numeric                                                          NaN   \n",
       "co2_wltp_numeric                                                           NaN   \n",
       "avg_elec_range                                                             NaN   \n",
       "age                                                                        3.0   \n",
       "inspection_status                                                           no   \n",
       "energy_efficiency_class                                              Efficient   \n",
       "safety_security_package                                                  Basic   \n",
       "comfort_convenience_package                                           Advanced   \n",
       "ent_media_package                                                        Basic   \n",
       "extras_package                                                             NaN   \n",
       "num_of_extras                                                                0   \n",
       "\n",
       "                                                                         8      \\\n",
       "make_model                                              Mercedes-Benz A 35 AMG   \n",
       "short_description                                                       4MATIC   \n",
       "make                                                             Mercedes-Benz   \n",
       "model                                                                A 35 AMG    \n",
       "price                                                                  44999.0   \n",
       "body_type                                                              Compact   \n",
       "type                                                                      Used   \n",
       "doors                                                                      5.0   \n",
       "country_version                                                        Belgium   \n",
       "offer_number                                                           j107114   \n",
       "warranty                                                                    No   \n",
       "mileage                                                                56876.0   \n",
       "first_registration                                         2019-06-01 00:00:00   \n",
       "gearbox                                                              Automatic   \n",
       "fuel_type                                                              Benzine   \n",
       "colour                                                                    Grey   \n",
       "paint                                                             non_metallic   \n",
       "seller                                                                  Dealer   \n",
       "seats                                                                      5.0   \n",
       "engine_size                                                             1991.0   \n",
       "gears                                                                      7.0   \n",
       "co2_emissions                                                            168.0   \n",
       "drivetrain                                                                 4WD   \n",
       "cylinders                                                                  4.0   \n",
       "empty_weight                                                            1516.0   \n",
       "service_history                                                             No   \n",
       "non_smoker                                                                  No   \n",
       "emission_sticker                                                         Green   \n",
       "upholstery_color                                                          Grey   \n",
       "upholstery                                                               Cloth   \n",
       "pro_date                                                   2017-01-01 00:00:00   \n",
       "available                                                                  yes   \n",
       "taxi_rental                                                                 No   \n",
       "power_kW                                                                 225.0   \n",
       "power_hp                                                                 306.0   \n",
       "fuel_consumption_comb                                                 7.405556   \n",
       "location_country                                                       Belgium   \n",
       "ent_media_str                                                              NaN   \n",
       "desc_str                     440 - Snelheidsregelaar TEMPOMAT met variabele...   \n",
       "comfort_convenience_str      Multi-function steering wheel, Navigation syst...   \n",
       "safety_security_str                                  Emergency brake assistant   \n",
       "extras_str                                                       Sport package   \n",
       "prev_km                                                                    NaN   \n",
       "prev_date                                                                  NaT   \n",
       "owner_count                                                                NaN   \n",
       "power_cons_wltp_numeric                                                    NaN   \n",
       "power_cons_numeric                                                         NaN   \n",
       "fuel_wltp_numeric                                                          NaN   \n",
       "co2_wltp_numeric                                                           NaN   \n",
       "avg_elec_range                                                             NaN   \n",
       "age                                                                        3.0   \n",
       "inspection_status                                                           no   \n",
       "energy_efficiency_class                                            Inefficient   \n",
       "safety_security_package                                               Advanced   \n",
       "comfort_convenience_package                                           Advanced   \n",
       "ent_media_package                                                          NaN   \n",
       "extras_package                                                             NaN   \n",
       "num_of_extras                                                                1   \n",
       "\n",
       "                                                                         9      \\\n",
       "make_model                                                 Mercedes-Benz A 200   \n",
       "short_description                                            200CDI Autotronic   \n",
       "make                                                             Mercedes-Benz   \n",
       "model                                                                   A 200    \n",
       "price                                                                  23900.0   \n",
       "body_type                                                              Compact   \n",
       "type                                                                      Used   \n",
       "doors                                                                      5.0   \n",
       "country_version                                                          Spain   \n",
       "offer_number                                                           7454322   \n",
       "warranty                                                                   Yes   \n",
       "mileage                                                                21854.0   \n",
       "first_registration                                         2018-08-01 00:00:00   \n",
       "gearbox                                                              Automatic   \n",
       "fuel_type                                                               Diesel   \n",
       "colour                                                                   White   \n",
       "paint                                                             non_metallic   \n",
       "seller                                                                  Dealer   \n",
       "seats                                                                      5.0   \n",
       "engine_size                                                             1991.0   \n",
       "gears                                                                      1.0   \n",
       "co2_emissions                                                            163.0   \n",
       "drivetrain                                                               Front   \n",
       "cylinders                                                                  4.0   \n",
       "empty_weight                                                            1365.0   \n",
       "service_history                                                             No   \n",
       "non_smoker                                                                  No   \n",
       "emission_sticker                                                         Green   \n",
       "upholstery_color                                                          Grey   \n",
       "upholstery                                                               Cloth   \n",
       "pro_date                                                   2017-01-01 00:00:00   \n",
       "available                                                                  yes   \n",
       "taxi_rental                                                                 No   \n",
       "power_kW                                                                 102.0   \n",
       "power_hp                                                                 139.0   \n",
       "fuel_consumption_comb                                                      5.4   \n",
       "location_country                                                         Spain   \n",
       "ent_media_str                                                              NaN   \n",
       "desc_str                      , Precio al contado: 25900 euros,  ,  , Extra...   \n",
       "comfort_convenience_str      Air conditioning, Automatic climate control, E...   \n",
       "safety_security_str          ABS, Central door lock, Driver-side airbag, El...   \n",
       "extras_str                                                        Alloy wheels   \n",
       "prev_km                                                                    NaN   \n",
       "prev_date                                                                  NaT   \n",
       "owner_count                                                                NaN   \n",
       "power_cons_wltp_numeric                                                    NaN   \n",
       "power_cons_numeric                                                         NaN   \n",
       "fuel_wltp_numeric                                                          NaN   \n",
       "co2_wltp_numeric                                                           NaN   \n",
       "avg_elec_range                                                             NaN   \n",
       "age                                                                        4.0   \n",
       "inspection_status                                                           no   \n",
       "energy_efficiency_class                                              Efficient   \n",
       "safety_security_package                                               Enhanced   \n",
       "comfort_convenience_package                                           Advanced   \n",
       "ent_media_package                                                          NaN   \n",
       "extras_package                                                           Basic   \n",
       "num_of_extras                                                                1   \n",
       "\n",
       "                             ...  \\\n",
       "make_model                   ...   \n",
       "short_description            ...   \n",
       "make                         ...   \n",
       "model                        ...   \n",
       "price                        ...   \n",
       "body_type                    ...   \n",
       "type                         ...   \n",
       "doors                        ...   \n",
       "country_version              ...   \n",
       "offer_number                 ...   \n",
       "warranty                     ...   \n",
       "mileage                      ...   \n",
       "first_registration           ...   \n",
       "gearbox                      ...   \n",
       "fuel_type                    ...   \n",
       "colour                       ...   \n",
       "paint                        ...   \n",
       "seller                       ...   \n",
       "seats                        ...   \n",
       "engine_size                  ...   \n",
       "gears                        ...   \n",
       "co2_emissions                ...   \n",
       "drivetrain                   ...   \n",
       "cylinders                    ...   \n",
       "empty_weight                 ...   \n",
       "service_history              ...   \n",
       "non_smoker                   ...   \n",
       "emission_sticker             ...   \n",
       "upholstery_color             ...   \n",
       "upholstery                   ...   \n",
       "pro_date                     ...   \n",
       "available                    ...   \n",
       "taxi_rental                  ...   \n",
       "power_kW                     ...   \n",
       "power_hp                     ...   \n",
       "fuel_consumption_comb        ...   \n",
       "location_country             ...   \n",
       "ent_media_str                ...   \n",
       "desc_str                     ...   \n",
       "comfort_convenience_str      ...   \n",
       "safety_security_str          ...   \n",
       "extras_str                   ...   \n",
       "prev_km                      ...   \n",
       "prev_date                    ...   \n",
       "owner_count                  ...   \n",
       "power_cons_wltp_numeric      ...   \n",
       "power_cons_numeric           ...   \n",
       "fuel_wltp_numeric            ...   \n",
       "co2_wltp_numeric             ...   \n",
       "avg_elec_range               ...   \n",
       "age                          ...   \n",
       "inspection_status            ...   \n",
       "energy_efficiency_class      ...   \n",
       "safety_security_package      ...   \n",
       "comfort_convenience_package  ...   \n",
       "ent_media_package            ...   \n",
       "extras_package               ...   \n",
       "num_of_extras                ...   \n",
       "\n",
       "                                                                         26851  \\\n",
       "make_model                                                           Volvo S90   \n",
       "short_description                             T6 AWD Geartronic R Design Vol!!   \n",
       "make                                                                     Volvo   \n",
       "model                                                                     S90    \n",
       "price                                                                  38000.0   \n",
       "body_type                                                                Sedan   \n",
       "type                                                                      Used   \n",
       "doors                                                                      4.0   \n",
       "country_version                                                    Netherlands   \n",
       "offer_number                                                               NaN   \n",
       "warranty                                                                    No   \n",
       "mileage                                                                44873.0   \n",
       "first_registration                                         2018-07-01 00:00:00   \n",
       "gearbox                                                              Automatic   \n",
       "fuel_type                                                              Benzine   \n",
       "colour                                                                   Black   \n",
       "paint                                                                 Metallic   \n",
       "seller                                                          Private seller   \n",
       "seats                                                                      5.0   \n",
       "engine_size                                                             1969.0   \n",
       "gears                                                                      8.0   \n",
       "co2_emissions                                                            151.0   \n",
       "drivetrain                                                                 4WD   \n",
       "cylinders                                                                  4.0   \n",
       "empty_weight                                                            1930.0   \n",
       "service_history                                                            Yes   \n",
       "non_smoker                                                                 Yes   \n",
       "emission_sticker                                                         Green   \n",
       "upholstery_color                                                          Grey   \n",
       "upholstery                                                        Full leather   \n",
       "pro_date                                                   2022-01-01 00:00:00   \n",
       "available                                                                  yes   \n",
       "taxi_rental                                                                 No   \n",
       "power_kW                                                                 228.0   \n",
       "power_hp                                                                 310.0   \n",
       "fuel_consumption_comb                                                      7.6   \n",
       "location_country                                                   Netherlands   \n",
       "ent_media_str                Android Auto, Apple CarPlay, Bluetooth, CD pla...   \n",
       "desc_str                     BTW Verrekenbaar!, Zeer mooie auto met VOL opt...   \n",
       "comfort_convenience_str      360° camera, Air conditioning, Armrest, Automa...   \n",
       "safety_security_str          ABS, Adaptive Cruise Control, Adaptive headlig...   \n",
       "extras_str                   Alloy wheels (21\"), Ambient lighting, Automati...   \n",
       "prev_km                                                                44873.0   \n",
       "prev_date                                                  2018-07-01 00:00:00   \n",
       "owner_count                                                                1.0   \n",
       "power_cons_wltp_numeric                                                    NaN   \n",
       "power_cons_numeric                                                         NaN   \n",
       "fuel_wltp_numeric                                                          NaN   \n",
       "co2_wltp_numeric                                                           NaN   \n",
       "avg_elec_range                                                             NaN   \n",
       "age                                                                        4.0   \n",
       "inspection_status                                                          yes   \n",
       "energy_efficiency_class                                              Efficient   \n",
       "safety_security_package                                               Advanced   \n",
       "comfort_convenience_package                                           Advanced   \n",
       "ent_media_package                                                     Advanced   \n",
       "extras_package                                                        Advanced   \n",
       "num_of_extras                                                               17   \n",
       "\n",
       "                                                                         26852  \\\n",
       "make_model                                                           Volvo S90   \n",
       "short_description                                      D4 R-Design Aut. 190 18   \n",
       "make                                                                     Volvo   \n",
       "model                                                                     S90    \n",
       "price                                                                  27190.0   \n",
       "body_type                                                                Sedan   \n",
       "type                                                                      Used   \n",
       "doors                                                                      4.0   \n",
       "country_version                                                          Spain   \n",
       "offer_number                                                           7283863   \n",
       "warranty                                                                   Yes   \n",
       "mileage                                                                93757.0   \n",
       "first_registration                                         2018-01-01 00:00:00   \n",
       "gearbox                                                              Automatic   \n",
       "fuel_type                                                               Diesel   \n",
       "colour                                                                   Black   \n",
       "paint                                                             non_metallic   \n",
       "seller                                                                  Dealer   \n",
       "seats                                                                      5.0   \n",
       "engine_size                                                             1969.0   \n",
       "gears                                                                      8.0   \n",
       "co2_emissions                                                            126.0   \n",
       "drivetrain                                                               Front   \n",
       "cylinders                                                                  4.0   \n",
       "empty_weight                                                            1683.0   \n",
       "service_history                                                             No   \n",
       "non_smoker                                                                  No   \n",
       "emission_sticker                                                         Green   \n",
       "upholstery_color                                                         Black   \n",
       "upholstery                                                        Full leather   \n",
       "pro_date                                                   2018-01-01 00:00:00   \n",
       "available                                                                  yes   \n",
       "taxi_rental                                                                 No   \n",
       "power_kW                                                                 140.0   \n",
       "power_hp                                                                 190.0   \n",
       "fuel_consumption_comb                                                      4.4   \n",
       "location_country                                                         Spain   \n",
       "ent_media_str                                        Hands-free equipment, USB   \n",
       "desc_str                      , Precio al contado: 30890 euros,  , En HRMOT...   \n",
       "comfort_convenience_str      Air conditioning, Automatic climate control, M...   \n",
       "safety_security_str          ABS, Central door lock, Driver-side airbag, El...   \n",
       "extras_str                                                        Alloy wheels   \n",
       "prev_km                                                                    NaN   \n",
       "prev_date                                                                  NaT   \n",
       "owner_count                                                                NaN   \n",
       "power_cons_wltp_numeric                                                    NaN   \n",
       "power_cons_numeric                                                         NaN   \n",
       "fuel_wltp_numeric                                                          NaN   \n",
       "co2_wltp_numeric                                                           NaN   \n",
       "avg_elec_range                                                             NaN   \n",
       "age                                                                        4.0   \n",
       "inspection_status                                                           no   \n",
       "energy_efficiency_class                                              Efficient   \n",
       "safety_security_package                                               Enhanced   \n",
       "comfort_convenience_package                                           Advanced   \n",
       "ent_media_package                                                     Enhanced   \n",
       "extras_package                                                           Basic   \n",
       "num_of_extras                                                                1   \n",
       "\n",
       "                                                                         26853  \\\n",
       "make_model                                                           Volvo S90   \n",
       "short_description                                      D4 R-Design Aut. 190 18   \n",
       "make                                                                     Volvo   \n",
       "model                                                                     S90    \n",
       "price                                                                  27190.0   \n",
       "body_type                                                                Sedan   \n",
       "type                                                                      Used   \n",
       "doors                                                                      4.0   \n",
       "country_version                                                          Spain   \n",
       "offer_number                                                           7284145   \n",
       "warranty                                                                   Yes   \n",
       "mileage                                                                93757.0   \n",
       "first_registration                                         2018-01-01 00:00:00   \n",
       "gearbox                                                              Automatic   \n",
       "fuel_type                                                               Diesel   \n",
       "colour                                                                   Black   \n",
       "paint                                                             non_metallic   \n",
       "seller                                                                  Dealer   \n",
       "seats                                                                      5.0   \n",
       "engine_size                                                             1969.0   \n",
       "gears                                                                      8.0   \n",
       "co2_emissions                                                            126.0   \n",
       "drivetrain                                                               Front   \n",
       "cylinders                                                                  4.0   \n",
       "empty_weight                                                            1683.0   \n",
       "service_history                                                             No   \n",
       "non_smoker                                                                  No   \n",
       "emission_sticker                                                         Green   \n",
       "upholstery_color                                                          Grey   \n",
       "upholstery                                                        Full leather   \n",
       "pro_date                                                   2007-01-01 00:00:00   \n",
       "available                                                                  yes   \n",
       "taxi_rental                                                                 No   \n",
       "power_kW                                                                 140.0   \n",
       "power_hp                                                                 190.0   \n",
       "fuel_consumption_comb                                                      4.4   \n",
       "location_country                                                         Spain   \n",
       "ent_media_str                                        Hands-free equipment, USB   \n",
       "desc_str                      , Precio al contado: 30890 euros,  , En HRMOT...   \n",
       "comfort_convenience_str      Air conditioning, Automatic climate control, M...   \n",
       "safety_security_str          ABS, Central door lock, Driver-side airbag, El...   \n",
       "extras_str                                                        Alloy wheels   \n",
       "prev_km                                                                    NaN   \n",
       "prev_date                                                                  NaT   \n",
       "owner_count                                                                NaN   \n",
       "power_cons_wltp_numeric                                                    NaN   \n",
       "power_cons_numeric                                                         NaN   \n",
       "fuel_wltp_numeric                                                          NaN   \n",
       "co2_wltp_numeric                                                           NaN   \n",
       "avg_elec_range                                                             NaN   \n",
       "age                                                                        4.0   \n",
       "inspection_status                                                           no   \n",
       "energy_efficiency_class                                              Efficient   \n",
       "safety_security_package                                               Enhanced   \n",
       "comfort_convenience_package                                           Advanced   \n",
       "ent_media_package                                                     Enhanced   \n",
       "extras_package                                                           Basic   \n",
       "num_of_extras                                                                1   \n",
       "\n",
       "                                                                         26854  \\\n",
       "make_model                                                           Volvo V40   \n",
       "short_description                                               2.0 D2 Kinetic   \n",
       "make                                                                     Volvo   \n",
       "model                                                                     V40    \n",
       "price                                                                  13000.0   \n",
       "body_type                                                                Sedan   \n",
       "type                                                                      Used   \n",
       "doors                                                                      5.0   \n",
       "country_version                                                        Belgium   \n",
       "offer_number                                                               NaN   \n",
       "warranty                                                                    No   \n",
       "mileage                                                               114000.0   \n",
       "first_registration                                         2018-08-01 00:00:00   \n",
       "gearbox                                                                 Manual   \n",
       "fuel_type                                                               Diesel   \n",
       "colour                                                                    Grey   \n",
       "paint                                                                 Metallic   \n",
       "seller                                                          Private seller   \n",
       "seats                                                                      5.0   \n",
       "engine_size                                                             1969.0   \n",
       "gears                                                                      6.0   \n",
       "co2_emissions                                                             94.0   \n",
       "drivetrain                                                               Front   \n",
       "cylinders                                                                  4.0   \n",
       "empty_weight                                                            1532.0   \n",
       "service_history                                                            Yes   \n",
       "non_smoker                                                                  No   \n",
       "emission_sticker                                                         Green   \n",
       "upholstery_color                                                         Black   \n",
       "upholstery                                                        Full leather   \n",
       "pro_date                                                   2017-01-01 00:00:00   \n",
       "available                                                                  yes   \n",
       "taxi_rental                                                                 No   \n",
       "power_kW                                                                  88.0   \n",
       "power_hp                                                                 120.0   \n",
       "fuel_consumption_comb                                                      3.6   \n",
       "location_country                                                       Belgium   \n",
       "ent_media_str                Bluetooth, Hands-free equipment, On-board comp...   \n",
       "desc_str                     Volvo V40 Kinetic D2. Kmstand: 114000. 2de eig...   \n",
       "comfort_convenience_str      Air conditioning, Armrest, Automatic climate c...   \n",
       "safety_security_str          ABS, Alarm system, Central door lock with remo...   \n",
       "extras_str                   All season tyres, Ambient lighting, Cargo barr...   \n",
       "prev_km                                                               114000.0   \n",
       "prev_date                                                  2018-08-01 00:00:00   \n",
       "owner_count                                                                1.0   \n",
       "power_cons_wltp_numeric                                                    NaN   \n",
       "power_cons_numeric                                                         NaN   \n",
       "fuel_wltp_numeric                                                          NaN   \n",
       "co2_wltp_numeric                                                           NaN   \n",
       "avg_elec_range                                                             NaN   \n",
       "age                                                                        4.0   \n",
       "inspection_status                                                          yes   \n",
       "energy_efficiency_class                                              Efficient   \n",
       "safety_security_package                                               Advanced   \n",
       "comfort_convenience_package                                           Advanced   \n",
       "ent_media_package                                                     Enhanced   \n",
       "extras_package                                                        Advanced   \n",
       "num_of_extras                                                                9   \n",
       "\n",
       "                                                                         26855  \\\n",
       "make_model                                                           Volvo S60   \n",
       "short_description                                               2.5 T Momentum   \n",
       "make                                                                     Volvo   \n",
       "model                                                                     S60    \n",
       "price                                                                   4999.0   \n",
       "body_type                                                                Sedan   \n",
       "type                                                                      Used   \n",
       "doors                                                                      4.0   \n",
       "country_version                                                          Spain   \n",
       "offer_number                                                           7408379   \n",
       "warranty                                                                   Yes   \n",
       "mileage                                                               166512.0   \n",
       "first_registration                                         2004-11-01 00:00:00   \n",
       "gearbox                                                                 Manual   \n",
       "fuel_type                                                              Benzine   \n",
       "colour                                                                   Black   \n",
       "paint                                                             non_metallic   \n",
       "seller                                                                  Dealer   \n",
       "seats                                                                      5.0   \n",
       "engine_size                                                             2521.0   \n",
       "gears                                                                      5.0   \n",
       "co2_emissions                                                            218.0   \n",
       "drivetrain                                                               Front   \n",
       "cylinders                                                                  5.0   \n",
       "empty_weight                                                            1550.0   \n",
       "service_history                                                             No   \n",
       "non_smoker                                                                  No   \n",
       "emission_sticker                                                         Green   \n",
       "upholstery_color                                                         Other   \n",
       "upholstery                                                        Full leather   \n",
       "pro_date                                                   2021-01-01 00:00:00   \n",
       "available                                                                  yes   \n",
       "taxi_rental                                                                 No   \n",
       "power_kW                                                                 154.0   \n",
       "power_hp                                                                 209.0   \n",
       "fuel_consumption_comb                                                      9.1   \n",
       "location_country                                                         Spain   \n",
       "ent_media_str                                                On-board computer   \n",
       "desc_str                      , Precio al contado: 4999 euros,  , %BACK TO ...   \n",
       "comfort_convenience_str      Air conditioning, Automatic climate control, E...   \n",
       "safety_security_str          ABS, Central door lock, Driver-side airbag, El...   \n",
       "extras_str                                                        Alloy wheels   \n",
       "prev_km                                                                    NaN   \n",
       "prev_date                                                                  NaT   \n",
       "owner_count                                                                NaN   \n",
       "power_cons_wltp_numeric                                                    NaN   \n",
       "power_cons_numeric                                                         NaN   \n",
       "fuel_wltp_numeric                                                          NaN   \n",
       "co2_wltp_numeric                                                           NaN   \n",
       "avg_elec_range                                                             NaN   \n",
       "age                                                                       18.0   \n",
       "inspection_status                                                           no   \n",
       "energy_efficiency_class                                              Efficient   \n",
       "safety_security_package                                               Enhanced   \n",
       "comfort_convenience_package                                           Advanced   \n",
       "ent_media_package                                                     Enhanced   \n",
       "extras_package                                                           Basic   \n",
       "num_of_extras                                                                1   \n",
       "\n",
       "                                                                         26856  \\\n",
       "make_model                                                           Volvo S90   \n",
       "short_description                               T8 Twin Business Plus AWD Aut.   \n",
       "make                                                                     Volvo   \n",
       "model                                                                     S90    \n",
       "price                                                                  37600.0   \n",
       "body_type                                                                Sedan   \n",
       "type                                                                      Used   \n",
       "doors                                                                      4.0   \n",
       "country_version                                                          Spain   \n",
       "offer_number                                                           7449968   \n",
       "warranty                                                                   Yes   \n",
       "mileage                                                                40345.0   \n",
       "first_registration                                         2019-08-01 00:00:00   \n",
       "gearbox                                                              Automatic   \n",
       "fuel_type                                                             Electric   \n",
       "colour                                                                   Black   \n",
       "paint                                                             non_metallic   \n",
       "seller                                                                  Dealer   \n",
       "seats                                                                      4.0   \n",
       "engine_size                                                             1969.0   \n",
       "gears                                                                      8.0   \n",
       "co2_emissions                                                             56.0   \n",
       "drivetrain                                                                 4WD   \n",
       "cylinders                                                                  4.0   \n",
       "empty_weight                                                            2077.0   \n",
       "service_history                                                             No   \n",
       "non_smoker                                                                  No   \n",
       "emission_sticker                                                         Green   \n",
       "upholstery_color                                                         Brown   \n",
       "upholstery                                                        Full leather   \n",
       "pro_date                                                   2015-01-01 00:00:00   \n",
       "available                                                                  yes   \n",
       "taxi_rental                                                                 No   \n",
       "power_kW                                                                 288.0   \n",
       "power_hp                                                                 392.0   \n",
       "fuel_consumption_comb                                                 3.066667   \n",
       "location_country                                                         Spain   \n",
       "ent_media_str                                                   Bluetooth, USB   \n",
       "desc_str                      , Precio al contado: 41400 euros,  , Os prese...   \n",
       "comfort_convenience_str      Air conditioning, Automatic climate control, M...   \n",
       "safety_security_str          ABS, Central door lock, Driver-side airbag, El...   \n",
       "extras_str                                                        Alloy wheels   \n",
       "prev_km                                                                    NaN   \n",
       "prev_date                                                                  NaT   \n",
       "owner_count                                                                NaN   \n",
       "power_cons_wltp_numeric                                                    NaN   \n",
       "power_cons_numeric                                                         NaN   \n",
       "fuel_wltp_numeric                                                          NaN   \n",
       "co2_wltp_numeric                                                           NaN   \n",
       "avg_elec_range                                                             NaN   \n",
       "age                                                                        3.0   \n",
       "inspection_status                                                           no   \n",
       "energy_efficiency_class                                              Efficient   \n",
       "safety_security_package                                               Enhanced   \n",
       "comfort_convenience_package                                           Advanced   \n",
       "ent_media_package                                                     Enhanced   \n",
       "extras_package                                                           Basic   \n",
       "num_of_extras                                                                1   \n",
       "\n",
       "                                                                         26857  \\\n",
       "make_model                                                           Volvo S40   \n",
       "short_description                  2.4i Momentum/ Airco/ NAP/ APK/ Elek. Ramen   \n",
       "make                                                                     Volvo   \n",
       "model                                                                     S40    \n",
       "price                                                                   5499.0   \n",
       "body_type                                                                Sedan   \n",
       "type                                                                      Used   \n",
       "doors                                                                      4.0   \n",
       "country_version                                                    Netherlands   \n",
       "offer_number                                                          09-PF-XS   \n",
       "warranty                                                                    No   \n",
       "mileage                                                               145000.0   \n",
       "first_registration                                         2004-06-01 00:00:00   \n",
       "gearbox                                                              Automatic   \n",
       "fuel_type                                                              Benzine   \n",
       "colour                                                                    Grey   \n",
       "paint                                                             non_metallic   \n",
       "seller                                                                  Dealer   \n",
       "seats                                                                      5.0   \n",
       "engine_size                                                             2435.0   \n",
       "gears                                                                      5.0   \n",
       "co2_emissions                                                            217.0   \n",
       "drivetrain                                                               Front   \n",
       "cylinders                                                                  5.0   \n",
       "empty_weight                                                            1357.0   \n",
       "service_history                                                            Yes   \n",
       "non_smoker                                                                  No   \n",
       "emission_sticker                                                         Green   \n",
       "upholstery_color                                                         Black   \n",
       "upholstery                                                        Full leather   \n",
       "pro_date                                                   2021-01-01 00:00:00   \n",
       "available                                                                  yes   \n",
       "taxi_rental                                                                 No   \n",
       "power_kW                                                                 125.0   \n",
       "power_hp                                                                 170.0   \n",
       "fuel_consumption_comb                                                      9.1   \n",
       "location_country                                                   Netherlands   \n",
       "ent_media_str                                         On-board computer, Radio   \n",
       "desc_str                     Een goed rijdende auto met APK + NAP + Elektri...   \n",
       "comfort_convenience_str      Air conditioning, Armrest, Automatic climate c...   \n",
       "safety_security_str          ABS, Central door lock, Central door lock with...   \n",
       "extras_str                                   Alloy wheels (16\"), Trailer hitch   \n",
       "prev_km                                                                    NaN   \n",
       "prev_date                                                                  NaT   \n",
       "owner_count                                                                NaN   \n",
       "power_cons_wltp_numeric                                                    NaN   \n",
       "power_cons_numeric                                                         NaN   \n",
       "fuel_wltp_numeric                                                          NaN   \n",
       "co2_wltp_numeric                                                           NaN   \n",
       "avg_elec_range                                                             NaN   \n",
       "age                                                                       18.0   \n",
       "inspection_status                                                          yes   \n",
       "energy_efficiency_class                                              Efficient   \n",
       "safety_security_package                                               Enhanced   \n",
       "comfort_convenience_package                                           Advanced   \n",
       "ent_media_package                                                     Enhanced   \n",
       "extras_package                                                        Advanced   \n",
       "num_of_extras                                                                2   \n",
       "\n",
       "                                                                         26858  \\\n",
       "make_model                                                           Volvo C30   \n",
       "short_description                              1.6 D DRIVe Start/Stop R-design   \n",
       "make                                                                     Volvo   \n",
       "model                                                                     C30    \n",
       "price                                                                   7300.0   \n",
       "body_type                                                                Sedan   \n",
       "type                                                                      Used   \n",
       "doors                                                                      3.0   \n",
       "country_version                                                        Belgium   \n",
       "offer_number                                                               NaN   \n",
       "warranty                                                                   Yes   \n",
       "mileage                                                                96000.0   \n",
       "first_registration                                         2011-04-01 00:00:00   \n",
       "gearbox                                                                 Manual   \n",
       "fuel_type                                                               Diesel   \n",
       "colour                                                                    Grey   \n",
       "paint                                                                 Metallic   \n",
       "seller                                                                  Dealer   \n",
       "seats                                                                      4.0   \n",
       "engine_size                                                             1560.0   \n",
       "gears                                                                      6.0   \n",
       "co2_emissions                                                             99.0   \n",
       "drivetrain                                                               Front   \n",
       "cylinders                                                                  4.0   \n",
       "empty_weight                                                            1356.0   \n",
       "service_history                                                            Yes   \n",
       "non_smoker                                                                  No   \n",
       "emission_sticker                                                         Green   \n",
       "upholstery_color                                                         Other   \n",
       "upholstery                                                        Full leather   \n",
       "pro_date                                                   2018-01-01 00:00:00   \n",
       "available                                                                  yes   \n",
       "taxi_rental                                                                 No   \n",
       "power_kW                                                                  84.0   \n",
       "power_hp                                                                 114.0   \n",
       "fuel_consumption_comb                                                      3.8   \n",
       "location_country                                                       Belgium   \n",
       "ent_media_str                Bluetooth, CD player, Hands-free equipment, MP...   \n",
       "desc_str                     *** VOLVO C30 2011 TRES PROPRE EN PARFAIT ETAT...   \n",
       "comfort_convenience_str      Air conditioning, Armrest, Automatic climate c...   \n",
       "safety_security_str          ABS, Alarm system, Central door lock with remo...   \n",
       "extras_str                   Alloy wheels, Automatically dimming interior m...   \n",
       "prev_km                                                                96000.0   \n",
       "prev_date                                                  2011-04-01 00:00:00   \n",
       "owner_count                                                                1.0   \n",
       "power_cons_wltp_numeric                                                    NaN   \n",
       "power_cons_numeric                                                         NaN   \n",
       "fuel_wltp_numeric                                                          NaN   \n",
       "co2_wltp_numeric                                                           NaN   \n",
       "avg_elec_range                                                             NaN   \n",
       "age                                                                       11.0   \n",
       "inspection_status                                                           no   \n",
       "energy_efficiency_class                                            Inefficient   \n",
       "safety_security_package                                               Advanced   \n",
       "comfort_convenience_package                                           Advanced   \n",
       "ent_media_package                                                     Enhanced   \n",
       "extras_package                                                        Enhanced   \n",
       "num_of_extras                                                                3   \n",
       "\n",
       "                                                                         26859  \\\n",
       "make_model                                                           Volvo S90   \n",
       "short_description            T5 AUT(8) MOMENTUM BUSINESS SCHUIFDAK 360GR CA...   \n",
       "make                                                                     Volvo   \n",
       "model                                                                     S90    \n",
       "price                                                                  29900.0   \n",
       "body_type                                                                Sedan   \n",
       "type                                                                      Used   \n",
       "doors                                                                      4.0   \n",
       "country_version                                                    Netherlands   \n",
       "offer_number                                                              2791   \n",
       "warranty                                                                   Yes   \n",
       "mileage                                                                94343.0   \n",
       "first_registration                                         2017-11-01 00:00:00   \n",
       "gearbox                                                              Automatic   \n",
       "fuel_type                                                              Benzine   \n",
       "colour                                                                    Blue   \n",
       "paint                                                                 Metallic   \n",
       "seller                                                                  Dealer   \n",
       "seats                                                                      5.0   \n",
       "engine_size                                                             1969.0   \n",
       "gears                                                                      8.0   \n",
       "co2_emissions                                                            149.0   \n",
       "drivetrain                                                                 4WD   \n",
       "cylinders                                                                  4.0   \n",
       "empty_weight                                                            1617.0   \n",
       "service_history                                                            Yes   \n",
       "non_smoker                                                                  No   \n",
       "emission_sticker                                                    No sticker   \n",
       "upholstery_color                                                          Grey   \n",
       "upholstery                                                        Full leather   \n",
       "pro_date                                                   2019-01-01 00:00:00   \n",
       "available                                                                  yes   \n",
       "taxi_rental                                                                 No   \n",
       "power_kW                                                                 187.0   \n",
       "power_hp                                                                 254.0   \n",
       "fuel_consumption_comb                                                      6.5   \n",
       "location_country                                                   Netherlands   \n",
       "ent_media_str                Android Auto, Apple CarPlay, Bluetooth, Hands-...   \n",
       "desc_str                     Bekijk deze auto in unieke 360 graden presenta...   \n",
       "comfort_convenience_str      Air conditioning, Armrest, Automatic climate c...   \n",
       "safety_security_str          Adaptive Cruise Control, Adaptive headlights, ...   \n",
       "extras_str                   Alloy wheels (18\"), Automatically dimming inte...   \n",
       "prev_km                                                                    NaN   \n",
       "prev_date                                                                  NaT   \n",
       "owner_count                                                                NaN   \n",
       "power_cons_wltp_numeric                                                    NaN   \n",
       "power_cons_numeric                                                         NaN   \n",
       "fuel_wltp_numeric                                                          NaN   \n",
       "co2_wltp_numeric                                                           NaN   \n",
       "avg_elec_range                                                             NaN   \n",
       "age                                                                        5.0   \n",
       "inspection_status                                                           no   \n",
       "energy_efficiency_class                                              Efficient   \n",
       "safety_security_package                                               Advanced   \n",
       "comfort_convenience_package                                           Advanced   \n",
       "ent_media_package                                                     Advanced   \n",
       "extras_package                                                        Enhanced   \n",
       "num_of_extras                                                                2   \n",
       "\n",
       "                                                                         26860  \n",
       "make_model                                                           Volvo S80  \n",
       "short_description            2.9 Executive G. NETTE AUTO! LEER! NAVI! CRUIS...  \n",
       "make                                                                     Volvo  \n",
       "model                                                                     S80   \n",
       "price                                                                   4440.0  \n",
       "body_type                                                                Sedan  \n",
       "type                                                                      Used  \n",
       "doors                                                                      4.0  \n",
       "country_version                                                    Netherlands  \n",
       "offer_number                                                          43-JR-LR  \n",
       "warranty                                                                    No  \n",
       "mileage                                                               230047.0  \n",
       "first_registration                                         2002-07-01 00:00:00  \n",
       "gearbox                                                              Automatic  \n",
       "fuel_type                                                              Benzine  \n",
       "colour                                                                    Grey  \n",
       "paint                                                             non_metallic  \n",
       "seller                                                                  Dealer  \n",
       "seats                                                                      5.0  \n",
       "engine_size                                                             2922.0  \n",
       "gears                                                                      6.0  \n",
       "co2_emissions                                                            251.0  \n",
       "drivetrain                                                               Front  \n",
       "cylinders                                                                  6.0  \n",
       "empty_weight                                                            1573.0  \n",
       "service_history                                                             No  \n",
       "non_smoker                                                                  No  \n",
       "emission_sticker                                                         Green  \n",
       "upholstery_color                                                         Black  \n",
       "upholstery                                                        Full leather  \n",
       "pro_date                                                   2019-07-02 12:00:00  \n",
       "available                                                                  yes  \n",
       "taxi_rental                                                                 No  \n",
       "power_kW                                                                 147.0  \n",
       "power_hp                                                                 200.0  \n",
       "fuel_consumption_comb                                                     10.4  \n",
       "location_country                                                   Netherlands  \n",
       "ent_media_str                                                On-board computer  \n",
       "desc_str                     YOUNGTIMER !, Bedrijfsinformatie, NEEM VOOR U ...  \n",
       "comfort_convenience_str      Air conditioning, Armrest, Cruise control, Ele...  \n",
       "safety_security_str          ABS, Alarm system, Central door lock, Central ...  \n",
       "extras_str                   Alloy wheels, Automatically dimming interior m...  \n",
       "prev_km                                                               230047.0  \n",
       "prev_date                                                  2002-07-01 00:00:00  \n",
       "owner_count                                                                5.0  \n",
       "power_cons_wltp_numeric                                                    NaN  \n",
       "power_cons_numeric                                                         NaN  \n",
       "fuel_wltp_numeric                                                          NaN  \n",
       "co2_wltp_numeric                                                           NaN  \n",
       "avg_elec_range                                                             NaN  \n",
       "age                                                                       20.0  \n",
       "inspection_status                                                          yes  \n",
       "energy_efficiency_class                                              Efficient  \n",
       "safety_security_package                                               Enhanced  \n",
       "comfort_convenience_package                                           Advanced  \n",
       "ent_media_package                                                     Enhanced  \n",
       "extras_package                                                        Advanced  \n",
       "num_of_extras                                                                4  \n",
       "\n",
       "[58 rows x 26861 columns]"
      ]
     },
     "execution_count": 718,
     "metadata": {},
     "output_type": "execute_result"
    }
   ],
   "source": [
    "df.T"
   ]
  },
  {
   "cell_type": "markdown",
   "id": "6aa51b7e-732c-4d70-b425-cce6ffd09009",
   "metadata": {},
   "source": [
    "# ent_media: missing values"
   ]
  },
  {
   "cell_type": "raw",
   "id": "ef70bb16-fb72-41e0-857b-6c6fbc7e5752",
   "metadata": {},
   "source": [
    "{'On-board computer', 'Television', 'USB', 'Digital cockpit', 'Apple CarPlay', 'MP3', 'Induction charging for smartphones', 'CD player', 'Radio', 'Hands-free equipment', 'Sound system', 'Integrated music streaming', 'WLAN / WiFi hotspot', 'Android Auto', 'Bluetooth', 'Digital radio'}"
   ]
  },
  {
   "cell_type": "code",
   "execution_count": 720,
   "id": "6cdfa601-dc9d-49d7-bc6f-ebda7d036d1a",
   "metadata": {
    "tags": []
   },
   "outputs": [
    {
     "data": {
      "text/plain": [
       "4653"
      ]
     },
     "execution_count": 720,
     "metadata": {},
     "output_type": "execute_result"
    }
   ],
   "source": [
    "df['ent_media_str'].isna().sum()"
   ]
  },
  {
   "cell_type": "code",
   "execution_count": 721,
   "id": "635f7786",
   "metadata": {},
   "outputs": [
    {
     "data": {
      "text/plain": [
       "ent_media_str\n",
       "NaN                                                                                                                                                              4653\n",
       "Bluetooth, USB                                                                                                                                                    710\n",
       "On-board computer                                                                                                                                                 609\n",
       "Bluetooth                                                                                                                                                         562\n",
       "CD player, On-board computer, Radio                                                                                                                               533\n",
       "                                                                                                                                                                 ... \n",
       "Bluetooth, CD player, Hands-free equipment, Integrated music streaming, On-board computer, USB                                                                      1\n",
       "Android Auto, Apple CarPlay, Bluetooth, CD player, Digital radio, Hands-free equipment, Integrated music streaming, MP3, On-board computer, Sound system, USB       1\n",
       "Bluetooth, CD player, Digital cockpit, Digital radio, Hands-free equipment, MP3, On-board computer, Radio, Television, USB                                          1\n",
       "Bluetooth, Digital cockpit, Hands-free equipment, MP3, On-board computer, Sound system, USB                                                                         1\n",
       "Hands-free equipment, Integrated music streaming, On-board computer, Radio, USB                                                                                     1\n",
       "Name: count, Length: 1945, dtype: int64"
      ]
     },
     "execution_count": 721,
     "metadata": {},
     "output_type": "execute_result"
    }
   ],
   "source": [
    "df['ent_media_str'].value_counts(dropna=False)"
   ]
  },
  {
   "cell_type": "code",
   "execution_count": 722,
   "id": "056e7828-57cc-447a-8925-9598e8fed749",
   "metadata": {
    "id": "8mgL_Bd0s1MG",
    "tags": []
   },
   "outputs": [],
   "source": [
    "# Function to fill NaN with mode within each group\n",
    "def fill_with_group_mode(group):\n",
    "    mode_value = group['ent_media_str'].mode()\n",
    "    if not mode_value.empty:\n",
    "        group['ent_media_str'] = group['ent_media_str'].fillna(mode_value.iloc[0])\n",
    "    return group\n",
    "\n",
    "# Apply the function to each group\n",
    "df = df.groupby(['make_model', 'age']).apply(fill_with_group_mode).reset_index(drop=True)"
   ]
  },
  {
   "cell_type": "code",
   "execution_count": 723,
   "id": "edd265a1-9df6-4569-a288-72050416ee0f",
   "metadata": {
    "id": "faDyWTC9s1MJ",
    "tags": []
   },
   "outputs": [
    {
     "data": {
      "text/plain": [
       "707"
      ]
     },
     "execution_count": 723,
     "metadata": {},
     "output_type": "execute_result"
    }
   ],
   "source": [
    "df['ent_media_str'].isna().sum()"
   ]
  },
  {
   "cell_type": "code",
   "execution_count": 724,
   "id": "40b96ed7-f2d4-4124-b5cd-8801b454edc0",
   "metadata": {
    "tags": []
   },
   "outputs": [
    {
     "data": {
      "text/plain": [
       "ent_media_str\n",
       "Bluetooth, USB                                                                                                                                                                             935\n",
       "On-board computer                                                                                                                                                                          919\n",
       "Bluetooth                                                                                                                                                                                  828\n",
       "NaN                                                                                                                                                                                        707\n",
       "CD player, On-board computer, Radio                                                                                                                                                        688\n",
       "                                                                                                                                                                                          ... \n",
       "Android Auto, Apple CarPlay, Bluetooth, Digital cockpit, Digital radio, On-board computer, Radio, Sound system                                                                               1\n",
       "Android Auto, Bluetooth, Digital radio, Hands-free equipment, On-board computer, USB, WLAN / WiFi hotspot                                                                                    1\n",
       "Bluetooth, Digital radio, Induction charging for smartphones, On-board computer, Radio                                                                                                       1\n",
       "Android Auto, Apple CarPlay, Bluetooth, Digital radio, Hands-free equipment, Induction charging for smartphones, Integrated music streaming, Radio, Sound system, USB                        1\n",
       "Apple CarPlay, Bluetooth, CD player, Digital cockpit, Digital radio, Hands-free equipment, Integrated music streaming, On-board computer, Radio, Sound system, USB, WLAN / WiFi hotspot      1\n",
       "Name: count, Length: 1944, dtype: int64"
      ]
     },
     "execution_count": 724,
     "metadata": {},
     "output_type": "execute_result"
    }
   ],
   "source": [
    "df.ent_media_str.value_counts(dropna=False)"
   ]
  },
  {
   "cell_type": "code",
   "execution_count": 725,
   "id": "62c45295",
   "metadata": {},
   "outputs": [],
   "source": [
    "# Function to fill NaN with mode within each group\n",
    "def fill_with_group_mode(group):\n",
    "    mode_value = group['ent_media_str'].mode()\n",
    "    if not mode_value.empty:\n",
    "        group['ent_media_str'] = group['ent_media_str'].fillna(mode_value.iloc[0])\n",
    "    return group\n",
    "\n",
    "# Apply the function to each group\n",
    "df = df.groupby('make_model').apply(fill_with_group_mode).reset_index(drop=True)"
   ]
  },
  {
   "cell_type": "code",
   "execution_count": 726,
   "id": "64f67836",
   "metadata": {},
   "outputs": [
    {
     "data": {
      "text/plain": [
       "ent_media_str\n",
       "Bluetooth, USB                                                                                                                                                                             944\n",
       "On-board computer                                                                                                                                                                          931\n",
       "Bluetooth                                                                                                                                                                                  841\n",
       "Radio                                                                                                                                                                                      728\n",
       "CD player, On-board computer, Radio                                                                                                                                                        712\n",
       "                                                                                                                                                                                          ... \n",
       "Bluetooth, CD player, Digital cockpit, Hands-free equipment, On-board computer, Radio, Sound system, Television, USB, WLAN / WiFi hotspot                                                    1\n",
       "Bluetooth, CD player, Digital cockpit, Digital radio, Hands-free equipment, On-board computer, Radio, Sound system, Television, USB, WLAN / WiFi hotspot                                     1\n",
       "CD player, Digital cockpit, Integrated music streaming, On-board computer, Radio                                                                                                             1\n",
       "CD player, Digital cockpit, MP3, Radio, Sound system, Television                                                                                                                             1\n",
       "Apple CarPlay, Bluetooth, CD player, Digital cockpit, Digital radio, Hands-free equipment, Integrated music streaming, On-board computer, Radio, Sound system, USB, WLAN / WiFi hotspot      1\n",
       "Name: count, Length: 1944, dtype: int64"
      ]
     },
     "execution_count": 726,
     "metadata": {},
     "output_type": "execute_result"
    }
   ],
   "source": [
    "df.ent_media_str.value_counts(dropna=False)"
   ]
  },
  {
   "cell_type": "code",
   "execution_count": 727,
   "id": "16db5fc6",
   "metadata": {},
   "outputs": [
    {
     "data": {
      "text/plain": [
       "152"
      ]
     },
     "execution_count": 727,
     "metadata": {},
     "output_type": "execute_result"
    }
   ],
   "source": [
    "df['ent_media_str'].isna().sum()"
   ]
  },
  {
   "cell_type": "code",
   "execution_count": 728,
   "id": "ec3da084",
   "metadata": {},
   "outputs": [],
   "source": [
    "# Function to fill NaN with mode within each group\n",
    "def fill_with_group_mode(group):\n",
    "    mode_value = group['ent_media_str'].mode()\n",
    "    if not mode_value.empty:\n",
    "        group['ent_media_str'] = group['ent_media_str'].fillna(mode_value.iloc[0])\n",
    "    return group\n",
    "\n",
    "# Apply the function to each group\n",
    "df = df.groupby('age').apply(fill_with_group_mode).reset_index(drop=True)"
   ]
  },
  {
   "cell_type": "code",
   "execution_count": 729,
   "id": "c9aac701",
   "metadata": {},
   "outputs": [
    {
     "data": {
      "text/plain": [
       "9"
      ]
     },
     "execution_count": 729,
     "metadata": {},
     "output_type": "execute_result"
    }
   ],
   "source": [
    "df['ent_media_str'].isna().sum()"
   ]
  },
  {
   "cell_type": "code",
   "execution_count": 730,
   "id": "84cffc10",
   "metadata": {},
   "outputs": [],
   "source": [
    "# Fill NaN with the mode\n",
    "mode_value = df['ent_media_str'].mode()[0]\n",
    "df['ent_media_str'].fillna(mode_value, inplace=True)"
   ]
  },
  {
   "cell_type": "code",
   "execution_count": 731,
   "id": "a06cfa18",
   "metadata": {},
   "outputs": [
    {
     "data": {
      "text/plain": [
       "0"
      ]
     },
     "execution_count": 731,
     "metadata": {},
     "output_type": "execute_result"
    }
   ],
   "source": [
    "df['ent_media_str'].isna().sum()"
   ]
  },
  {
   "cell_type": "markdown",
   "id": "b6fc25e0-37ef-46c0-b297-b631a6830251",
   "metadata": {},
   "source": [
    "# safety_security: missing values"
   ]
  },
  {
   "cell_type": "raw",
   "id": "f549247e-f65b-447a-b45b-75222479bc9c",
   "metadata": {},
   "source": [
    "{'Full-LED headlights', 'Blind spot monitor', 'Immobilizer', 'Xenon headlights', 'Bi-Xenon headlights', 'Glare-free high beam headlights', 'Rear airbag', 'Distance warning system', 'LED Headlights', 'High beam assist', 'Speed limit control system', 'Emergency brake assistant', 'Daytime running lights', 'Night view assist', 'Traffic sign recognition', 'Central door lock', 'Lane departure warning system', 'Head airbag', 'Adaptive Cruise Control', 'Electronic stability control', 'Laser headlights', 'Isofix', 'Driver drowsiness detection', 'Adaptive headlights', 'Fog lights', 'Power steering', 'Side airbag', 'Tire pressure monitoring system', 'Central door lock with remote control', 'ABS', 'Driver-side airbag', 'LED Daytime Running Lights', 'Alarm system', 'Emergency system', 'Traction control', 'Passenger-side airbag'}"
   ]
  },
  {
   "cell_type": "code",
   "execution_count": 733,
   "id": "50c8d82a-29bf-4611-a1f9-03402c5ff503",
   "metadata": {
    "tags": []
   },
   "outputs": [
    {
     "name": "stdout",
     "output_type": "stream",
     "text": [
      "<class 'pandas.core.series.Series'>\n",
      "RangeIndex: 26859 entries, 0 to 26858\n",
      "Series name: safety_security_str\n",
      "Non-Null Count  Dtype \n",
      "--------------  ----- \n",
      "23765 non-null  object\n",
      "dtypes: object(1)\n",
      "memory usage: 210.0+ KB\n"
     ]
    }
   ],
   "source": [
    "df['safety_security_str'].info()"
   ]
  },
  {
   "cell_type": "code",
   "execution_count": 734,
   "id": "5c40ff5a-fd82-4a26-9b31-e347c6bbdd70",
   "metadata": {
    "tags": []
   },
   "outputs": [],
   "source": [
    "# Function to fill NaN with mode within each group\n",
    "def fill_with_group_mode(group):\n",
    "    mode_value = group['safety_security_str'].mode()\n",
    "    if not mode_value.empty:\n",
    "        group['safety_security_str'] = group['safety_security_str'].fillna(mode_value.iloc[0])\n",
    "    return group\n",
    "\n",
    "# Apply the function to each group\n",
    "df = df.groupby(['make_model', 'age']).apply(fill_with_group_mode).reset_index(drop=True)"
   ]
  },
  {
   "cell_type": "code",
   "execution_count": 735,
   "id": "3d4ddc1c-3652-4c0d-b829-c1bc17950bf3",
   "metadata": {
    "tags": []
   },
   "outputs": [
    {
     "data": {
      "text/plain": [
       "524"
      ]
     },
     "execution_count": 735,
     "metadata": {},
     "output_type": "execute_result"
    }
   ],
   "source": [
    "df['safety_security_str'].isna().sum()"
   ]
  },
  {
   "cell_type": "code",
   "execution_count": 736,
   "id": "ae487acf",
   "metadata": {},
   "outputs": [],
   "source": [
    "# Function to fill NaN with mode within each group\n",
    "def fill_with_group_mode(group):\n",
    "    mode_value = group['safety_security_str'].mode()\n",
    "    if not mode_value.empty:\n",
    "        group['safety_security_str'] = group['safety_security_str'].fillna(mode_value.iloc[0])\n",
    "    return group\n",
    "\n",
    "# Apply the function to each group\n",
    "df = df.groupby('make_model').apply(fill_with_group_mode).reset_index(drop=True)"
   ]
  },
  {
   "cell_type": "code",
   "execution_count": 737,
   "id": "c91b61ff",
   "metadata": {},
   "outputs": [
    {
     "data": {
      "text/plain": [
       "136"
      ]
     },
     "execution_count": 737,
     "metadata": {},
     "output_type": "execute_result"
    }
   ],
   "source": [
    "df['safety_security_str'].isna().sum()"
   ]
  },
  {
   "cell_type": "code",
   "execution_count": 738,
   "id": "5d179b13",
   "metadata": {},
   "outputs": [],
   "source": [
    "# Function to fill NaN with mode within each group\n",
    "def fill_with_group_mode(group):\n",
    "    mode_value = group['safety_security_str'].mode()\n",
    "    if not mode_value.empty:\n",
    "        group['safety_security_str'] = group['safety_security_str'].fillna(mode_value.iloc[0])\n",
    "    return group\n",
    "\n",
    "# Apply the function to each group\n",
    "df = df.groupby('age').apply(fill_with_group_mode).reset_index(drop=True)"
   ]
  },
  {
   "cell_type": "code",
   "execution_count": 739,
   "id": "1d25f731",
   "metadata": {},
   "outputs": [
    {
     "data": {
      "text/plain": [
       "8"
      ]
     },
     "execution_count": 739,
     "metadata": {},
     "output_type": "execute_result"
    }
   ],
   "source": [
    "df['safety_security_str'].isna().sum()"
   ]
  },
  {
   "cell_type": "code",
   "execution_count": 740,
   "id": "c043700c-e563-4d4b-b34a-aea892f04b40",
   "metadata": {
    "tags": []
   },
   "outputs": [],
   "source": [
    "# Fill NaN with the mode\n",
    "mode_value = df['safety_security_str'].mode()[0]\n",
    "df['safety_security_str'].fillna(mode_value, inplace=True)"
   ]
  },
  {
   "cell_type": "code",
   "execution_count": 741,
   "id": "03957f4f",
   "metadata": {},
   "outputs": [
    {
     "data": {
      "text/plain": [
       "0"
      ]
     },
     "execution_count": 741,
     "metadata": {},
     "output_type": "execute_result"
    }
   ],
   "source": [
    "df['safety_security_str'].isna().sum()"
   ]
  },
  {
   "cell_type": "markdown",
   "id": "99b6125f-7ecc-41e7-9992-29b4cbfae1a6",
   "metadata": {
    "tags": []
   },
   "source": [
    "# comfort_convenience: missing values"
   ]
  },
  {
   "cell_type": "raw",
   "id": "ed04e0ba-462c-47a5-95a0-86dd9144f2ed",
   "metadata": {},
   "source": [
    "{'Lumbar support', 'Keyless central door lock', 'Air suspension', 'Leather seats', '360° camera', 'Auxiliary heating', 'Cruise control', 'Split rear seats', 'Parking assist system sensors rear', 'Electrically adjustable seats', 'Electric tailgate', '3 zones', 'Armrest', 'Parking assist system self-steering', 'Automatic climate control', 'Wind deflector', 'Hill Holder', 'Light sensor', 'Fold flat passenger seat', 'Electric backseat adjustment', 'Rain sensor', 'Tinted windows', 'Start-stop system', 'Heated steering wheel', 'Air conditioning', 'Panorama roof', 'Electrically heated windshield', '2 zones', 'Park Distance Control', '4 zones', 'Parking assist system camera', 'Navigation system', 'Sliding door left', 'Electrical side mirrors', 'Seat ventilation', 'Multi-function steering wheel', 'Sunroof', 'Seat heating', 'Parking assist system sensors front', 'Heads-up display', 'Massage seats', 'Power windows', 'Leather steering wheel', 'Sliding door right'}"
   ]
  },
  {
   "cell_type": "code",
   "execution_count": 743,
   "id": "076949a1-b52e-493a-936d-8d006d262d17",
   "metadata": {
    "tags": []
   },
   "outputs": [
    {
     "name": "stdout",
     "output_type": "stream",
     "text": [
      "<class 'pandas.core.series.Series'>\n",
      "RangeIndex: 26859 entries, 0 to 26858\n",
      "Series name: comfort_convenience_str\n",
      "Non-Null Count  Dtype \n",
      "--------------  ----- \n",
      "23769 non-null  object\n",
      "dtypes: object(1)\n",
      "memory usage: 210.0+ KB\n"
     ]
    }
   ],
   "source": [
    "df['comfort_convenience_str'].info()"
   ]
  },
  {
   "cell_type": "code",
   "execution_count": 744,
   "id": "1d52133f-fd56-4d49-92c1-338453da4930",
   "metadata": {
    "tags": []
   },
   "outputs": [],
   "source": [
    "# Function to fill NaN with mode within each group\n",
    "def fill_with_group_mode(group):\n",
    "    mode_value = group['comfort_convenience_str'].mode()\n",
    "    if not mode_value.empty:\n",
    "        group['comfort_convenience_str'] = group['comfort_convenience_str'].fillna(mode_value.iloc[0])\n",
    "    return group\n",
    "\n",
    "# Apply the function to each group\n",
    "df = df.groupby(['make_model', 'age']).apply(fill_with_group_mode).reset_index(drop=True)"
   ]
  },
  {
   "cell_type": "code",
   "execution_count": 745,
   "id": "8fe22518-466c-4243-b05e-f323d015e74f",
   "metadata": {
    "tags": []
   },
   "outputs": [
    {
     "data": {
      "text/plain": [
       "544"
      ]
     },
     "execution_count": 745,
     "metadata": {},
     "output_type": "execute_result"
    }
   ],
   "source": [
    "df['comfort_convenience_str'].isna().sum()"
   ]
  },
  {
   "cell_type": "code",
   "execution_count": 746,
   "id": "a54c844d-1c36-46e6-8c94-f73f16f36ee7",
   "metadata": {
    "tags": []
   },
   "outputs": [],
   "source": [
    "# Function to fill NaN with mode within each group\n",
    "def fill_with_group_mode(group):\n",
    "    mode_value = group['comfort_convenience_str'].mode()\n",
    "    if not mode_value.empty:\n",
    "        group['comfort_convenience_str'] = group['comfort_convenience_str'].fillna(mode_value.iloc[0])\n",
    "    return group\n",
    "\n",
    "# Apply the function to each group\n",
    "df = df.groupby('make_model').apply(fill_with_group_mode).reset_index(drop=True)"
   ]
  },
  {
   "cell_type": "code",
   "execution_count": 747,
   "id": "6d345c59",
   "metadata": {},
   "outputs": [
    {
     "data": {
      "text/plain": [
       "91"
      ]
     },
     "execution_count": 747,
     "metadata": {},
     "output_type": "execute_result"
    }
   ],
   "source": [
    "df['comfort_convenience_str'].isna().sum()"
   ]
  },
  {
   "cell_type": "code",
   "execution_count": 748,
   "id": "79601768",
   "metadata": {},
   "outputs": [],
   "source": [
    "# Function to fill NaN with mode within each group\n",
    "def fill_with_group_mode(group):\n",
    "    mode_value = group['comfort_convenience_str'].mode()\n",
    "    if not mode_value.empty:\n",
    "        group['comfort_convenience_str'] = group['comfort_convenience_str'].fillna(mode_value.iloc[0])\n",
    "    return group\n",
    "\n",
    "# Apply the function to each group\n",
    "df = df.groupby('age').apply(fill_with_group_mode).reset_index(drop=True)"
   ]
  },
  {
   "cell_type": "code",
   "execution_count": 749,
   "id": "6c5911c2",
   "metadata": {},
   "outputs": [
    {
     "data": {
      "text/plain": [
       "4"
      ]
     },
     "execution_count": 749,
     "metadata": {},
     "output_type": "execute_result"
    }
   ],
   "source": [
    "df['comfort_convenience_str'].isna().sum()"
   ]
  },
  {
   "cell_type": "code",
   "execution_count": 750,
   "id": "58078cdf",
   "metadata": {},
   "outputs": [],
   "source": [
    "# Fill NaN with the mode\n",
    "mode_value = df['comfort_convenience_str'].mode()[0]\n",
    "df['comfort_convenience_str'].fillna(mode_value, inplace=True)"
   ]
  },
  {
   "cell_type": "code",
   "execution_count": 751,
   "id": "763fd214",
   "metadata": {},
   "outputs": [
    {
     "data": {
      "text/plain": [
       "0"
      ]
     },
     "execution_count": 751,
     "metadata": {},
     "output_type": "execute_result"
    }
   ],
   "source": [
    "df['comfort_convenience_str'].isna().sum()"
   ]
  },
  {
   "cell_type": "markdown",
   "id": "3ab0f34f-dea9-4f9e-be1f-527be77ab739",
   "metadata": {},
   "source": [
    "# extras: missing values"
   ]
  },
  {
   "cell_type": "raw",
   "id": "dbfeb376-0e4b-46b6-82f8-e2367dbdf23d",
   "metadata": {},
   "source": [
    "{'Sport suspension', 'Sport seats', 'Tuned car', 'Ski bag', 'Emergency tyre', 'Alloy wheels (13\")', 'Awning', 'Sport package', 'Electronic parking brake', 'Range extender', 'Alloy wheels (16\")', 'Alloy wheels (19\")', 'Shift paddles', 'Trailer hitch', 'Alloy wheels (14\")', 'Catalytic Converter', 'Sliding door', 'Emergency tyre repair kit', 'Voice Control', 'Automatically dimming interior mirror', 'Ambient lighting', 'Alloy wheels (20\")', 'Spoiler', 'Alloy wheels (22\")', 'Winter tyres', 'Alloy wheels (10\")', 'Spare tyre', 'Summer tyres', 'Alloy wheels (18\")', 'E10-enabled', 'Touch screen', 'Handicapped enabled', 'Alloy wheels', 'Alloy wheels (26\")', 'Winter package', 'Cargo barrier', \"Smoker's package\", 'Right hand drive', 'Headlight washer system', 'Alloy wheels (23\")', 'Alloy wheels (21\")', 'Biodiesel conversion', 'Alloy wheels (17\")', 'All season tyres', 'Steel wheels', 'Roof rack', 'Alloy wheels (15\")'}"
   ]
  },
  {
   "cell_type": "code",
   "execution_count": 753,
   "id": "c05d4d82-dea6-4a59-bb1c-e19611d36907",
   "metadata": {
    "tags": []
   },
   "outputs": [
    {
     "name": "stdout",
     "output_type": "stream",
     "text": [
      "<class 'pandas.core.series.Series'>\n",
      "RangeIndex: 26859 entries, 0 to 26858\n",
      "Series name: extras_str\n",
      "Non-Null Count  Dtype \n",
      "--------------  ----- \n",
      "21901 non-null  object\n",
      "dtypes: object(1)\n",
      "memory usage: 210.0+ KB\n"
     ]
    }
   ],
   "source": [
    "df['extras_str'].info()"
   ]
  },
  {
   "cell_type": "code",
   "execution_count": 754,
   "id": "07f3e927-e197-432f-a0c2-57b493550d76",
   "metadata": {
    "tags": []
   },
   "outputs": [],
   "source": [
    "# Function to fill NaN with mode within each group\n",
    "def fill_with_group_mode(group):\n",
    "    mode_value = group['extras_str'].mode()\n",
    "    if not mode_value.empty:\n",
    "        group['extras_str'] = group['extras_str'].fillna(mode_value.iloc[0])\n",
    "    return group\n",
    "\n",
    "# Apply the function to each group\n",
    "df = df.groupby(['make_model', 'age']).apply(fill_with_group_mode).reset_index(drop=True)"
   ]
  },
  {
   "cell_type": "code",
   "execution_count": 755,
   "id": "6238e1f7-032e-4212-8c3e-56f7cd3fbafb",
   "metadata": {
    "tags": []
   },
   "outputs": [
    {
     "data": {
      "text/plain": [
       "598"
      ]
     },
     "execution_count": 755,
     "metadata": {},
     "output_type": "execute_result"
    }
   ],
   "source": [
    "df['extras_str'].isna().sum()"
   ]
  },
  {
   "cell_type": "code",
   "execution_count": 756,
   "id": "b9f942f7-5539-4945-89fc-e00699b1080c",
   "metadata": {
    "tags": []
   },
   "outputs": [],
   "source": [
    "# Function to fill NaN with mode within each group\n",
    "def fill_with_group_mode(group):\n",
    "    mode_value = group['extras_str'].mode()\n",
    "    if not mode_value.empty:\n",
    "        group['extras_str'] = group['extras_str'].fillna(mode_value.iloc[0])\n",
    "    return group\n",
    "\n",
    "# Apply the function to each group\n",
    "df = df.groupby('make_model').apply(fill_with_group_mode).reset_index(drop=True)"
   ]
  },
  {
   "cell_type": "code",
   "execution_count": 757,
   "id": "b333aa55",
   "metadata": {},
   "outputs": [
    {
     "data": {
      "text/plain": [
       "110"
      ]
     },
     "execution_count": 757,
     "metadata": {},
     "output_type": "execute_result"
    }
   ],
   "source": [
    "df['extras_str'].isna().sum()"
   ]
  },
  {
   "cell_type": "code",
   "execution_count": 758,
   "id": "a2202c61",
   "metadata": {},
   "outputs": [],
   "source": [
    "# Function to fill NaN with mode within each group\n",
    "def fill_with_group_mode(group):\n",
    "    mode_value = group['extras_str'].mode()\n",
    "    if not mode_value.empty:\n",
    "        group['extras_str'] = group['extras_str'].fillna(mode_value.iloc[0])\n",
    "    return group\n",
    "\n",
    "# Apply the function to each group\n",
    "df = df.groupby('age').apply(fill_with_group_mode).reset_index(drop=True)"
   ]
  },
  {
   "cell_type": "code",
   "execution_count": 759,
   "id": "c17983b9",
   "metadata": {},
   "outputs": [
    {
     "data": {
      "text/plain": [
       "1"
      ]
     },
     "execution_count": 759,
     "metadata": {},
     "output_type": "execute_result"
    }
   ],
   "source": [
    "df['extras_str'].isna().sum()"
   ]
  },
  {
   "cell_type": "code",
   "execution_count": 760,
   "id": "3552d09f",
   "metadata": {},
   "outputs": [],
   "source": [
    "# Fill NaN with the mode\n",
    "mode_value = df['extras_str'].mode()[0]\n",
    "df['extras_str'].fillna(mode_value, inplace=True)"
   ]
  },
  {
   "cell_type": "code",
   "execution_count": 761,
   "id": "e8bff4ff",
   "metadata": {},
   "outputs": [
    {
     "data": {
      "text/plain": [
       "0"
      ]
     },
     "execution_count": 761,
     "metadata": {},
     "output_type": "execute_result"
    }
   ],
   "source": [
    "df['extras_str'].isna().sum()"
   ]
  },
  {
   "cell_type": "markdown",
   "id": "d072ff01",
   "metadata": {},
   "source": [
    "# safety_security_segment"
   ]
  },
  {
   "cell_type": "code",
   "execution_count": 763,
   "id": "bcbef7cd",
   "metadata": {},
   "outputs": [
    {
     "data": {
      "text/plain": [
       "0"
      ]
     },
     "execution_count": 763,
     "metadata": {},
     "output_type": "execute_result"
    }
   ],
   "source": [
    "df['safety_security_str'].isna().sum()"
   ]
  },
  {
   "cell_type": "code",
   "execution_count": 764,
   "id": "88d53aa8",
   "metadata": {},
   "outputs": [],
   "source": [
    "basic_security_keywords = [\n",
    "    'Electronic stability control', 'ABS', 'Driver-side airbag', 'Passenger-side airbag', \n",
    "    'Side airbag', 'Traction control', 'Emergency system', 'Power steering', \n",
    "    'Daytime running lights', 'Immobilizer', 'Head airbag', \n",
    "    'Central door lock with remote control', 'Alarm system', 'Central door lock'\n",
    "]\n",
    "enhanced_security_keywords = [\n",
    "    'LED Daytime Running Lights', 'Traffic sign recognition', 'Isofix', \n",
    "    'Distance warning system', 'Fog lights', 'Xenon headlights'\n",
    "]\n",
    "advanced_security_keywords = [\n",
    "    'Night view assist', 'Speed limit control system', 'Full-LED headlights', \n",
    "    'Glare-free high beam headlights', 'High beam assist', 'Driver drowsiness detection', \n",
    "    'Adaptive headlights', 'Blind spot monitor', 'Emergency brake assistant', \n",
    "    'Laser headlights', 'Adaptive Cruise Control', 'Rear airbag', \n",
    "    'LED Headlights', 'Lane departure warning system'\n",
    "]"
   ]
  },
  {
   "cell_type": "code",
   "execution_count": 765,
   "id": "2787bb40",
   "metadata": {},
   "outputs": [
    {
     "name": "stdout",
     "output_type": "stream",
     "text": [
      "{'Passenger-side airbag', 'Immobilizer', 'Daytime running lights', 'Side airbag', 'Lane departure warning system', 'Driver-side airbag', 'High beam assist', 'Central door lock with remote control', 'Isofix', 'Driver drowsiness detection', 'Rear airbag', 'LED Daytime Running Lights', 'Distance warning system', 'Full-LED headlights', 'Laser headlights', 'Fog lights', 'Traffic sign recognition', 'Electronic stability control', 'Emergency brake assistant', 'Central door lock', 'Emergency system', 'Xenon headlights', 'LED Headlights', 'Power steering', 'Adaptive Cruise Control', 'Night view assist', 'Traction control', 'Glare-free high beam headlights', 'Adaptive headlights', 'Tire pressure monitoring system', 'Speed limit control system', 'ABS', 'Head airbag', 'Bi-Xenon headlights', 'Alarm system', 'Blind spot monitor'}\n"
     ]
    }
   ],
   "source": [
    "# Create an empty set to store unique values\n",
    "unique_features = set()\n",
    "\n",
    "# Iterate through each element in the 'features' column\n",
    "for row in df['safety_security_str']:\n",
    "    # Check if the row is not NaN\n",
    "    if pd.notna(row):\n",
    "        # Split the string by commas and add each element to the set\n",
    "        features_list = row.split(', ')\n",
    "        unique_features.update(features_list)\n",
    "\n",
    "print(unique_features)"
   ]
  },
  {
   "cell_type": "code",
   "execution_count": 766,
   "id": "60da9b68",
   "metadata": {},
   "outputs": [
    {
     "data": {
      "text/plain": [
       "array(['Advanced', 'Enhanced', 'Basic'], dtype=object)"
      ]
     },
     "execution_count": 766,
     "metadata": {},
     "output_type": "execute_result"
    }
   ],
   "source": [
    "# Define the security keyword lists\n",
    "basic_security_keywords = [\n",
    "    'Electronic stability control', 'ABS', 'Driver-side airbag', 'Passenger-side airbag', \n",
    "    'Side airbag', 'Traction control', 'Emergency system', 'Power steering', \n",
    "    'Daytime running lights', 'Immobilizer', 'Head airbag', \n",
    "    'Central door lock with remote control', 'Alarm system', 'Central door lock'\n",
    "]\n",
    "\n",
    "enhanced_security_keywords = [\n",
    "    'LED Daytime Running Lights', 'Traffic sign recognition', 'Isofix', \n",
    "    'Distance warning system', 'Fog lights', 'Xenon headlights', 'Tire pressure monitoring system'\n",
    "]\n",
    "\n",
    "advanced_security_keywords = [\n",
    "    'Night view assist', 'Speed limit control system', 'Full-LED headlights', \n",
    "    'Glare-free high beam headlights', 'High beam assist', 'Driver drowsiness detection', \n",
    "    'Adaptive headlights', 'Blind spot monitor', 'Emergency brake assistant', \n",
    "    'Laser headlights', 'Adaptive Cruise Control', 'Rear airbag', \n",
    "    'LED Headlights', 'Lane departure warning system'\n",
    "]\n",
    "\n",
    "# Function to determine the safety package\n",
    "def determine_safety_package(features):\n",
    "    if pd.isna(features):\n",
    "        return np.nan\n",
    "    features_list = features.split(', ')\n",
    "    if any(feature in features_list for feature in advanced_security_keywords):\n",
    "        return 'Advanced'\n",
    "    elif any(feature in features_list for feature in enhanced_security_keywords):\n",
    "        return 'Enhanced'\n",
    "    elif any(feature in features_list for feature in basic_security_keywords):\n",
    "        return 'Basic'\n",
    "    else:\n",
    "        return np.nan\n",
    "\n",
    "# Apply the function to the DataFrame\n",
    "df['safety_security_package'] = df['safety_security_str'].astype(str).apply(determine_safety_package)\n",
    "df['safety_security_package'].unique()"
   ]
  },
  {
   "cell_type": "code",
   "execution_count": 767,
   "id": "9745c42e",
   "metadata": {},
   "outputs": [
    {
     "data": {
      "text/plain": [
       "0"
      ]
     },
     "execution_count": 767,
     "metadata": {},
     "output_type": "execute_result"
    }
   ],
   "source": [
    "df['safety_security_package'].isna().sum()"
   ]
  },
  {
   "cell_type": "markdown",
   "id": "ec875df3",
   "metadata": {},
   "source": [
    "# comfort_convenience_package"
   ]
  },
  {
   "cell_type": "code",
   "execution_count": 769,
   "id": "99d2a91b",
   "metadata": {},
   "outputs": [
    {
     "name": "stdout",
     "output_type": "stream",
     "text": [
      "{'Sliding door left', '360° camera', 'Air conditioning', 'Cruise control', 'Parking assist system self-steering', '2 zones', 'Sunroof', 'Hill Holder', 'Fold flat passenger seat', 'Seat ventilation', 'Rain sensor', 'Armrest', 'Light sensor', 'Seat heating', 'Leather steering wheel', 'Tinted windows', 'Electric tailgate', 'Electric backseat adjustment', 'Lumbar support', 'Auxiliary heating', 'Electrical side mirrors', 'Electrically adjustable seats', 'Electrically heated windshield', 'Parking assist system camera', 'Sliding door right', 'Heads-up display', 'Park Distance Control', 'Navigation system', 'Keyless central door lock', 'Parking assist system sensors front', '3 zones', 'Start-stop system', 'Power windows', 'Split rear seats', 'Parking assist system sensors rear', '4 zones', 'Massage seats', 'Panorama roof', 'Automatic climate control', 'Leather seats', 'Air suspension', 'Wind deflector', 'Heated steering wheel', 'Multi-function steering wheel'}\n"
     ]
    }
   ],
   "source": [
    "# Create an empty set to store unique values\n",
    "unique_features = set()\n",
    "\n",
    "# Iterate through each element in the 'features' column\n",
    "for row in df['comfort_convenience_str']:\n",
    "    # Check if the row is not NaN\n",
    "    if pd.notna(row):\n",
    "        # Split the string by commas and add each element to the set\n",
    "        features_list = row.split(', ')\n",
    "        unique_features.update(features_list)\n",
    "\n",
    "print(unique_features)"
   ]
  },
  {
   "cell_type": "code",
   "execution_count": 770,
   "id": "2e281aaf",
   "metadata": {},
   "outputs": [
    {
     "data": {
      "text/plain": [
       "array(['Enhanced', 'Advanced', 'Basic'], dtype=object)"
      ]
     },
     "execution_count": 770,
     "metadata": {},
     "output_type": "execute_result"
    }
   ],
   "source": [
    "basic_comfort_keywords = [\n",
    "    'Power windows', 'Light sensor', 'Tinted windows', 'Leather steering wheel', 'Seat heating', \n",
    "    'Armrest', 'Cruise control', 'Electrical side mirrors', 'Air conditioning', 'Split rear seats', \n",
    "    'Start-stop system'\n",
    "]\n",
    "enhanced_comfort_keywords = [\n",
    "    'Rain sensor', 'Hill Holder', '2 zones', 'Parking assist system sensors front', \n",
    "    'Parking assist system sensors rear', 'Navigation system', 'Multi-function steering wheel', \n",
    "    'Panorama roof', 'Electrically adjustable seats', 'Electric tailgate', 'Sunroof'\n",
    "]\n",
    "advanced_comfort_keywords = [\n",
    "    '4 zones', 'Massage seats', 'Wind deflector', 'Lumbar support', 'Parking assist system camera', \n",
    "    '360° camera', 'Automatic climate control', 'Electrically heated windshield', 'Air suspension', \n",
    "    'Auxiliary heating', 'Fold flat passenger seat', 'Heads-up display', 'Heated steering wheel', \n",
    "    'Park Distance Control', 'Leather seats', 'Electric backseat adjustment', '3 zones', \n",
    "    'Sliding door left', 'Sliding door right', 'Parking assist system self-steering', \n",
    "    'Seat ventilation','Keyless central door lock'\n",
    "]\n",
    "\n",
    "\n",
    "# Function to determine the safety package\n",
    "def determine_comfort_package(features):\n",
    "    if pd.isna(features):\n",
    "        return np.nan\n",
    "    features_list = features.split(', ')\n",
    "    if any(feature in features_list for feature in advanced_comfort_keywords):\n",
    "        return 'Advanced'\n",
    "    elif any(feature in features_list for feature in enhanced_comfort_keywords):\n",
    "        return 'Enhanced'\n",
    "    elif any(feature in features_list for feature in basic_comfort_keywords):\n",
    "        return 'Basic'\n",
    "    else:\n",
    "        return np.nan\n",
    "\n",
    "# Apply the function to the DataFrame\n",
    "df['comfort_convenience_package'] = df['comfort_convenience_str'].astype(str).apply(determine_comfort_package)\n",
    "df['comfort_convenience_package'].unique()"
   ]
  },
  {
   "cell_type": "code",
   "execution_count": 771,
   "id": "c2e403ae",
   "metadata": {},
   "outputs": [
    {
     "data": {
      "text/plain": [
       "0"
      ]
     },
     "execution_count": 771,
     "metadata": {},
     "output_type": "execute_result"
    }
   ],
   "source": [
    "df['comfort_convenience_package'].isna().sum()"
   ]
  },
  {
   "cell_type": "markdown",
   "id": "e311fd78",
   "metadata": {},
   "source": [
    "# num_of_extras"
   ]
  },
  {
   "cell_type": "code",
   "execution_count": 773,
   "id": "977dedbb",
   "metadata": {},
   "outputs": [
    {
     "data": {
      "text/html": [
       "<div>\n",
       "<style scoped>\n",
       "    .dataframe tbody tr th:only-of-type {\n",
       "        vertical-align: middle;\n",
       "    }\n",
       "\n",
       "    .dataframe tbody tr th {\n",
       "        vertical-align: top;\n",
       "    }\n",
       "\n",
       "    .dataframe thead th {\n",
       "        text-align: right;\n",
       "    }\n",
       "</style>\n",
       "<table border=\"1\" class=\"dataframe\">\n",
       "  <thead>\n",
       "    <tr style=\"text-align: right;\">\n",
       "      <th></th>\n",
       "      <th>extras_str</th>\n",
       "      <th>num_of_extras</th>\n",
       "    </tr>\n",
       "  </thead>\n",
       "  <tbody>\n",
       "    <tr>\n",
       "      <th>20674</th>\n",
       "      <td>Alloy wheels (15\")</td>\n",
       "      <td>1</td>\n",
       "    </tr>\n",
       "    <tr>\n",
       "      <th>13211</th>\n",
       "      <td>All season tyres, Alloy wheels, Cargo barrier,...</td>\n",
       "      <td>6</td>\n",
       "    </tr>\n",
       "    <tr>\n",
       "      <th>22124</th>\n",
       "      <td>Alloy wheels, Automatically dimming interior m...</td>\n",
       "      <td>6</td>\n",
       "    </tr>\n",
       "    <tr>\n",
       "      <th>2993</th>\n",
       "      <td>Alloy wheels, Sport seats, Sport suspension, T...</td>\n",
       "      <td>5</td>\n",
       "    </tr>\n",
       "    <tr>\n",
       "      <th>20461</th>\n",
       "      <td>Alloy wheels (17\"), Catalytic Converter, E10-e...</td>\n",
       "      <td>12</td>\n",
       "    </tr>\n",
       "  </tbody>\n",
       "</table>\n",
       "</div>"
      ],
      "text/plain": [
       "                                              extras_str  num_of_extras\n",
       "20674                                 Alloy wheels (15\")              1\n",
       "13211  All season tyres, Alloy wheels, Cargo barrier,...              6\n",
       "22124  Alloy wheels, Automatically dimming interior m...              6\n",
       "2993   Alloy wheels, Sport seats, Sport suspension, T...              5\n",
       "20461  Alloy wheels (17\"), Catalytic Converter, E10-e...             12"
      ]
     },
     "execution_count": 773,
     "metadata": {},
     "output_type": "execute_result"
    }
   ],
   "source": [
    "# Creating the 'num_of_extras' column\n",
    "df['num_of_extras'] = df['extras_str'].apply(lambda x: len(x.split(', ')) if pd.notna(x) else 0)\n",
    "# Checking the result\n",
    "df[['extras_str', 'num_of_extras']].sample(5)"
   ]
  },
  {
   "cell_type": "code",
   "execution_count": 774,
   "id": "f2e2371c",
   "metadata": {},
   "outputs": [
    {
     "data": {
      "text/plain": [
       "0"
      ]
     },
     "execution_count": 774,
     "metadata": {},
     "output_type": "execute_result"
    }
   ],
   "source": [
    "df['num_of_extras'].isna().sum()"
   ]
  },
  {
   "cell_type": "markdown",
   "id": "fe392ac5",
   "metadata": {},
   "source": [
    "# ent_media_package"
   ]
  },
  {
   "cell_type": "code",
   "execution_count": 776,
   "id": "b3d3ec0c",
   "metadata": {},
   "outputs": [
    {
     "name": "stdout",
     "output_type": "stream",
     "text": [
      "{'WLAN / WiFi hotspot', 'MP3', 'Induction charging for smartphones', 'Integrated music streaming', 'Sound system', 'CD player', 'Digital radio', 'USB', 'Android Auto', 'Digital cockpit', 'Bluetooth', 'Radio', 'Hands-free equipment', 'Apple CarPlay', 'On-board computer', 'Television'}\n"
     ]
    }
   ],
   "source": [
    "# Create an empty set to store unique values\n",
    "unique_features = set()\n",
    "\n",
    "# Iterate through each element in the 'features' column\n",
    "for row in df['ent_media_str']:\n",
    "    # Check if the row is not NaN\n",
    "    if pd.notna(row):\n",
    "        # Split the string by commas and add each element to the set\n",
    "        features_list = row.split(', ')\n",
    "        unique_features.update(features_list)\n",
    "\n",
    "print(unique_features)"
   ]
  },
  {
   "cell_type": "code",
   "execution_count": 777,
   "id": "2c267bdd",
   "metadata": {},
   "outputs": [
    {
     "data": {
      "text/plain": [
       "array(['Advanced', 'Enhanced', 'Basic'], dtype=object)"
      ]
     },
     "execution_count": 777,
     "metadata": {},
     "output_type": "execute_result"
    }
   ],
   "source": [
    "basic_ent_media_keywords = [\n",
    "    'Radio', 'CD player', 'Sound system',\n",
    "]\n",
    "enhanced_ent_media_keywords = [\n",
    "    'Television', 'USB', 'MP3', 'Android Auto', 'Digital radio','Apple CarPlay', 'Bluetooth'\n",
    "]\n",
    "advanced_ent_media_keywords = [\n",
    "    'Digital cockpit', 'Induction charging for smartphones', \n",
    "    'Integrated music streaming', 'WLAN / WiFi hotspot','Hands-free equipment', 'On-board computer',\n",
    "    \n",
    "]\n",
    "\n",
    "# Function to determine the safety package\n",
    "def determine_ent_media_package(features):\n",
    "    if pd.isna(features):\n",
    "        return np.nan\n",
    "    features_list = features.split(', ')\n",
    "    if any(feature in features_list for feature in basic_ent_media_keywords):\n",
    "        return 'Advanced'\n",
    "    elif any(feature in features_list for feature in enhanced_ent_media_keywords):\n",
    "        return 'Enhanced'\n",
    "    elif any(feature in features_list for feature in advanced_ent_media_keywords):\n",
    "        return 'Basic'\n",
    "    else:\n",
    "        return np.nan\n",
    "\n",
    "# Apply the function to the DataFrame\n",
    "df['ent_media_package'] = df['ent_media_str'].astype(str).apply(determine_ent_media_package)\n",
    "df['ent_media_package'].unique()"
   ]
  },
  {
   "cell_type": "code",
   "execution_count": 778,
   "id": "7d0ef177",
   "metadata": {},
   "outputs": [
    {
     "data": {
      "text/plain": [
       "0"
      ]
     },
     "execution_count": 778,
     "metadata": {},
     "output_type": "execute_result"
    }
   ],
   "source": [
    "df['ent_media_package'].isna().sum()"
   ]
  },
  {
   "cell_type": "code",
   "execution_count": 779,
   "id": "19686f9a",
   "metadata": {},
   "outputs": [
    {
     "data": {
      "text/plain": [
       "ent_media_package\n",
       "Advanced    22217\n",
       "Enhanced     3579\n",
       "Basic        1063\n",
       "Name: count, dtype: int64"
      ]
     },
     "execution_count": 779,
     "metadata": {},
     "output_type": "execute_result"
    }
   ],
   "source": [
    "df['ent_media_package'].value_counts(dropna=False)"
   ]
  },
  {
   "cell_type": "code",
   "execution_count": 780,
   "id": "b66407cd",
   "metadata": {},
   "outputs": [
    {
     "name": "stdout",
     "output_type": "stream",
     "text": [
      "<class 'pandas.core.frame.DataFrame'>\n",
      "RangeIndex: 26859 entries, 0 to 26858\n",
      "Data columns (total 58 columns):\n",
      " #   Column                       Non-Null Count  Dtype         \n",
      "---  ------                       --------------  -----         \n",
      " 0   make_model                   26859 non-null  object        \n",
      " 1   short_description            26655 non-null  object        \n",
      " 2   make                         26859 non-null  object        \n",
      " 3   model                        26859 non-null  object        \n",
      " 4   price                        26859 non-null  float64       \n",
      " 5   body_type                    26859 non-null  object        \n",
      " 6   type                         26859 non-null  object        \n",
      " 7   doors                        26859 non-null  float64       \n",
      " 8   country_version              26859 non-null  object        \n",
      " 9   offer_number                 21679 non-null  object        \n",
      " 10  warranty                     26859 non-null  object        \n",
      " 11  mileage                      26859 non-null  float64       \n",
      " 12  first_registration           26859 non-null  datetime64[ns]\n",
      " 13  gearbox                      26859 non-null  object        \n",
      " 14  fuel_type                    26859 non-null  object        \n",
      " 15  colour                       26859 non-null  object        \n",
      " 16  paint                        26859 non-null  object        \n",
      " 17  seller                       26859 non-null  object        \n",
      " 18  seats                        26859 non-null  float64       \n",
      " 19  engine_size                  26859 non-null  float64       \n",
      " 20  gears                        26859 non-null  float64       \n",
      " 21  co2_emissions                26859 non-null  float64       \n",
      " 22  drivetrain                   26859 non-null  object        \n",
      " 23  cylinders                    26859 non-null  float64       \n",
      " 24  empty_weight                 26859 non-null  float64       \n",
      " 25  service_history              26859 non-null  object        \n",
      " 26  non_smoker                   26859 non-null  object        \n",
      " 27  emission_sticker             26859 non-null  object        \n",
      " 28  upholstery_color             26859 non-null  object        \n",
      " 29  upholstery                   26859 non-null  object        \n",
      " 30  pro_date                     26007 non-null  datetime64[ns]\n",
      " 31  available                    26859 non-null  object        \n",
      " 32  taxi_rental                  26859 non-null  object        \n",
      " 33  power_kW                     26859 non-null  float64       \n",
      " 34  power_hp                     26859 non-null  float64       \n",
      " 35  fuel_consumption_comb        26859 non-null  float64       \n",
      " 36  location_country             26859 non-null  object        \n",
      " 37  ent_media_str                26859 non-null  object        \n",
      " 38  desc_str                     26215 non-null  object        \n",
      " 39  comfort_convenience_str      26859 non-null  object        \n",
      " 40  safety_security_str          26859 non-null  object        \n",
      " 41  extras_str                   26859 non-null  object        \n",
      " 42  prev_km                      13108 non-null  float64       \n",
      " 43  prev_date                    13108 non-null  datetime64[ns]\n",
      " 44  owner_count                  13108 non-null  float64       \n",
      " 45  power_cons_wltp_numeric      16 non-null     float64       \n",
      " 46  power_cons_numeric           462 non-null    float64       \n",
      " 47  fuel_wltp_numeric            99 non-null     float64       \n",
      " 48  co2_wltp_numeric             113 non-null    float64       \n",
      " 49  avg_elec_range               16 non-null     float64       \n",
      " 50  age                          26859 non-null  float64       \n",
      " 51  inspection_status            26859 non-null  object        \n",
      " 52  energy_efficiency_class      26859 non-null  object        \n",
      " 53  safety_security_package      26859 non-null  object        \n",
      " 54  comfort_convenience_package  26859 non-null  object        \n",
      " 55  ent_media_package            26859 non-null  object        \n",
      " 56  extras_package               20985 non-null  object        \n",
      " 57  num_of_extras                26859 non-null  int64         \n",
      "dtypes: datetime64[ns](3), float64(20), int64(1), object(34)\n",
      "memory usage: 11.9+ MB\n"
     ]
    }
   ],
   "source": [
    "df.info()"
   ]
  },
  {
   "cell_type": "code",
   "execution_count": 781,
   "id": "e1478928",
   "metadata": {},
   "outputs": [],
   "source": [
    "df.drop(columns=['short_description'], inplace=True)\n"
   ]
  },
  {
   "cell_type": "code",
   "execution_count": 782,
   "id": "7318ea7d",
   "metadata": {},
   "outputs": [],
   "source": [
    "df.drop(columns=['make'], inplace=True)"
   ]
  },
  {
   "cell_type": "code",
   "execution_count": 783,
   "id": "98ffe130",
   "metadata": {},
   "outputs": [],
   "source": [
    "df.drop(columns=['model'], inplace=True)"
   ]
  },
  {
   "cell_type": "code",
   "execution_count": 784,
   "id": "560b3e22",
   "metadata": {},
   "outputs": [],
   "source": [
    "df.drop(columns=['offer_number'], inplace=True)"
   ]
  },
  {
   "cell_type": "code",
   "execution_count": 785,
   "id": "b218bba9",
   "metadata": {},
   "outputs": [],
   "source": [
    "df.drop(columns=['country_version'], inplace=True)"
   ]
  },
  {
   "cell_type": "code",
   "execution_count": 786,
   "id": "a1c16780",
   "metadata": {},
   "outputs": [],
   "source": [
    "df.drop(columns=['first_registration'], inplace=True)"
   ]
  },
  {
   "cell_type": "code",
   "execution_count": 787,
   "id": "9a88c3a8",
   "metadata": {},
   "outputs": [],
   "source": [
    "df.drop(columns=['pro_date'], inplace=True)"
   ]
  },
  {
   "cell_type": "code",
   "execution_count": 788,
   "id": "1d706ac2",
   "metadata": {},
   "outputs": [],
   "source": [
    "df.drop(columns=['power_hp'], inplace=True)"
   ]
  },
  {
   "cell_type": "code",
   "execution_count": 789,
   "id": "196fab5a",
   "metadata": {},
   "outputs": [],
   "source": [
    "df.drop(columns=['ent_media_str'], inplace=True)"
   ]
  },
  {
   "cell_type": "code",
   "execution_count": 790,
   "id": "144ec7ca",
   "metadata": {},
   "outputs": [],
   "source": [
    "df.drop(columns=['desc_str'], inplace=True)"
   ]
  },
  {
   "cell_type": "code",
   "execution_count": 791,
   "id": "8db4876c",
   "metadata": {},
   "outputs": [],
   "source": [
    "df.drop(columns=['comfort_convenience_str'], inplace=True)"
   ]
  },
  {
   "cell_type": "code",
   "execution_count": 792,
   "id": "ca46bd63",
   "metadata": {},
   "outputs": [],
   "source": [
    "df.drop(columns=['extras_str'], inplace=True)"
   ]
  },
  {
   "cell_type": "code",
   "execution_count": 793,
   "id": "624094b4",
   "metadata": {},
   "outputs": [],
   "source": [
    "df.drop(columns=['safety_security_str'], inplace=True)"
   ]
  },
  {
   "cell_type": "code",
   "execution_count": 794,
   "id": "2eecfb63",
   "metadata": {},
   "outputs": [],
   "source": [
    "df.drop(columns=['prev_km'], inplace=True)"
   ]
  },
  {
   "cell_type": "code",
   "execution_count": 795,
   "id": "57bf3d53",
   "metadata": {},
   "outputs": [],
   "source": [
    "df.drop(columns=['prev_date'], inplace=True)"
   ]
  },
  {
   "cell_type": "code",
   "execution_count": 796,
   "id": "8499d59a",
   "metadata": {},
   "outputs": [],
   "source": [
    "df.drop(columns=['owner_count'], inplace=True)"
   ]
  },
  {
   "cell_type": "code",
   "execution_count": 797,
   "id": "5f9eef88",
   "metadata": {},
   "outputs": [],
   "source": [
    "df.drop(columns=['power_cons_wltp_numeric'], inplace=True)"
   ]
  },
  {
   "cell_type": "code",
   "execution_count": 798,
   "id": "cc85656b",
   "metadata": {},
   "outputs": [],
   "source": [
    "df.drop(columns=['power_cons_numeric'], inplace=True)"
   ]
  },
  {
   "cell_type": "code",
   "execution_count": 799,
   "id": "aa4a9256",
   "metadata": {},
   "outputs": [],
   "source": [
    "df.drop(columns=['fuel_wltp_numeric'], inplace=True)"
   ]
  },
  {
   "cell_type": "code",
   "execution_count": 800,
   "id": "f677a281",
   "metadata": {},
   "outputs": [],
   "source": [
    "df.drop(columns=['co2_wltp_numeric'], inplace=True)"
   ]
  },
  {
   "cell_type": "code",
   "execution_count": 801,
   "id": "48b1e066",
   "metadata": {},
   "outputs": [],
   "source": [
    "df.drop(columns=['avg_elec_range'], inplace=True)"
   ]
  },
  {
   "cell_type": "code",
   "execution_count": 802,
   "id": "dcc16e2a",
   "metadata": {},
   "outputs": [],
   "source": [
    "df.drop(columns=['extras_package'], inplace=True)"
   ]
  },
  {
   "cell_type": "code",
   "execution_count": 803,
   "id": "d343a332",
   "metadata": {},
   "outputs": [
    {
     "name": "stdout",
     "output_type": "stream",
     "text": [
      "<class 'pandas.core.frame.DataFrame'>\n",
      "RangeIndex: 26859 entries, 0 to 26858\n",
      "Data columns (total 36 columns):\n",
      " #   Column                       Non-Null Count  Dtype  \n",
      "---  ------                       --------------  -----  \n",
      " 0   make_model                   26859 non-null  object \n",
      " 1   price                        26859 non-null  float64\n",
      " 2   body_type                    26859 non-null  object \n",
      " 3   type                         26859 non-null  object \n",
      " 4   doors                        26859 non-null  float64\n",
      " 5   warranty                     26859 non-null  object \n",
      " 6   mileage                      26859 non-null  float64\n",
      " 7   gearbox                      26859 non-null  object \n",
      " 8   fuel_type                    26859 non-null  object \n",
      " 9   colour                       26859 non-null  object \n",
      " 10  paint                        26859 non-null  object \n",
      " 11  seller                       26859 non-null  object \n",
      " 12  seats                        26859 non-null  float64\n",
      " 13  engine_size                  26859 non-null  float64\n",
      " 14  gears                        26859 non-null  float64\n",
      " 15  co2_emissions                26859 non-null  float64\n",
      " 16  drivetrain                   26859 non-null  object \n",
      " 17  cylinders                    26859 non-null  float64\n",
      " 18  empty_weight                 26859 non-null  float64\n",
      " 19  service_history              26859 non-null  object \n",
      " 20  non_smoker                   26859 non-null  object \n",
      " 21  emission_sticker             26859 non-null  object \n",
      " 22  upholstery_color             26859 non-null  object \n",
      " 23  upholstery                   26859 non-null  object \n",
      " 24  available                    26859 non-null  object \n",
      " 25  taxi_rental                  26859 non-null  object \n",
      " 26  power_kW                     26859 non-null  float64\n",
      " 27  fuel_consumption_comb        26859 non-null  float64\n",
      " 28  location_country             26859 non-null  object \n",
      " 29  age                          26859 non-null  float64\n",
      " 30  inspection_status            26859 non-null  object \n",
      " 31  energy_efficiency_class      26859 non-null  object \n",
      " 32  safety_security_package      26859 non-null  object \n",
      " 33  comfort_convenience_package  26859 non-null  object \n",
      " 34  ent_media_package            26859 non-null  object \n",
      " 35  num_of_extras                26859 non-null  int64  \n",
      "dtypes: float64(12), int64(1), object(23)\n",
      "memory usage: 7.4+ MB\n"
     ]
    }
   ],
   "source": [
    "df.info()"
   ]
  },
  {
   "cell_type": "code",
   "execution_count": 804,
   "id": "4e73c6f9",
   "metadata": {},
   "outputs": [
    {
     "data": {
      "text/html": [
       "<div>\n",
       "<style scoped>\n",
       "    .dataframe tbody tr th:only-of-type {\n",
       "        vertical-align: middle;\n",
       "    }\n",
       "\n",
       "    .dataframe tbody tr th {\n",
       "        vertical-align: top;\n",
       "    }\n",
       "\n",
       "    .dataframe thead th {\n",
       "        text-align: right;\n",
       "    }\n",
       "</style>\n",
       "<table border=\"1\" class=\"dataframe\">\n",
       "  <thead>\n",
       "    <tr style=\"text-align: right;\">\n",
       "      <th></th>\n",
       "      <th>0</th>\n",
       "      <th>1</th>\n",
       "      <th>2</th>\n",
       "      <th>3</th>\n",
       "      <th>4</th>\n",
       "      <th>5</th>\n",
       "      <th>6</th>\n",
       "      <th>7</th>\n",
       "      <th>8</th>\n",
       "      <th>9</th>\n",
       "      <th>...</th>\n",
       "      <th>26849</th>\n",
       "      <th>26850</th>\n",
       "      <th>26851</th>\n",
       "      <th>26852</th>\n",
       "      <th>26853</th>\n",
       "      <th>26854</th>\n",
       "      <th>26855</th>\n",
       "      <th>26856</th>\n",
       "      <th>26857</th>\n",
       "      <th>26858</th>\n",
       "    </tr>\n",
       "  </thead>\n",
       "  <tbody>\n",
       "    <tr>\n",
       "      <th>make_model</th>\n",
       "      <td>Renault Clio</td>\n",
       "      <td>Fiat 500 Abarth</td>\n",
       "      <td>Nissan Micra</td>\n",
       "      <td>Dacia</td>\n",
       "      <td>Dacia</td>\n",
       "      <td>Dacia</td>\n",
       "      <td>Dacia Break</td>\n",
       "      <td>Dacia Dokker</td>\n",
       "      <td>Dacia Duster</td>\n",
       "      <td>Dacia Duster</td>\n",
       "      <td>...</td>\n",
       "      <td>Fiat</td>\n",
       "      <td>Ford  V8</td>\n",
       "      <td>Ford  V8</td>\n",
       "      <td>Ford  V8</td>\n",
       "      <td>Ford  Roadster</td>\n",
       "      <td>Peugeot</td>\n",
       "      <td>Ford M</td>\n",
       "      <td>Ford</td>\n",
       "      <td>Ford Bronco</td>\n",
       "      <td>Hyundai IONIQ</td>\n",
       "    </tr>\n",
       "    <tr>\n",
       "      <th>price</th>\n",
       "      <td>16990.0</td>\n",
       "      <td>17995.0</td>\n",
       "      <td>3250.0</td>\n",
       "      <td>22299.0</td>\n",
       "      <td>22479.0</td>\n",
       "      <td>21799.0</td>\n",
       "      <td>20500.0</td>\n",
       "      <td>16900.0</td>\n",
       "      <td>21000.0</td>\n",
       "      <td>21000.0</td>\n",
       "      <td>...</td>\n",
       "      <td>159000.0</td>\n",
       "      <td>40000.0</td>\n",
       "      <td>54990.0</td>\n",
       "      <td>49900.0</td>\n",
       "      <td>40000.0</td>\n",
       "      <td>8950.0</td>\n",
       "      <td>20000.0</td>\n",
       "      <td>14490.0</td>\n",
       "      <td>57480.0</td>\n",
       "      <td>26991.0</td>\n",
       "    </tr>\n",
       "    <tr>\n",
       "      <th>body_type</th>\n",
       "      <td>Sedan</td>\n",
       "      <td>Compact</td>\n",
       "      <td>Convertible</td>\n",
       "      <td>Compact</td>\n",
       "      <td>Compact</td>\n",
       "      <td>Station wagon</td>\n",
       "      <td>Station wagon</td>\n",
       "      <td>Station wagon</td>\n",
       "      <td>Off-Road/Pick-up</td>\n",
       "      <td>Off-Road/Pick-up</td>\n",
       "      <td>...</td>\n",
       "      <td>Convertible</td>\n",
       "      <td>Convertible</td>\n",
       "      <td>Convertible</td>\n",
       "      <td>Convertible</td>\n",
       "      <td>Convertible</td>\n",
       "      <td>Coupe</td>\n",
       "      <td>Convertible</td>\n",
       "      <td>Convertible</td>\n",
       "      <td>Off-Road/Pick-up</td>\n",
       "      <td>Sedan</td>\n",
       "    </tr>\n",
       "    <tr>\n",
       "      <th>type</th>\n",
       "      <td>Used</td>\n",
       "      <td>Used</td>\n",
       "      <td>Used</td>\n",
       "      <td>Pre-registered</td>\n",
       "      <td>Pre-registered</td>\n",
       "      <td>Demonstration</td>\n",
       "      <td>Demonstration</td>\n",
       "      <td>Used</td>\n",
       "      <td>Pre-registered</td>\n",
       "      <td>Pre-registered</td>\n",
       "      <td>...</td>\n",
       "      <td>Used</td>\n",
       "      <td>Used</td>\n",
       "      <td>Used</td>\n",
       "      <td>Used</td>\n",
       "      <td>Used</td>\n",
       "      <td>Used</td>\n",
       "      <td>Used</td>\n",
       "      <td>Used</td>\n",
       "      <td>Used</td>\n",
       "      <td>Used</td>\n",
       "    </tr>\n",
       "    <tr>\n",
       "      <th>doors</th>\n",
       "      <td>5.0</td>\n",
       "      <td>3.0</td>\n",
       "      <td>2.0</td>\n",
       "      <td>5.0</td>\n",
       "      <td>5.0</td>\n",
       "      <td>5.0</td>\n",
       "      <td>4.0</td>\n",
       "      <td>6.0</td>\n",
       "      <td>5.0</td>\n",
       "      <td>5.0</td>\n",
       "      <td>...</td>\n",
       "      <td>4.0</td>\n",
       "      <td>2.0</td>\n",
       "      <td>2.0</td>\n",
       "      <td>2.0</td>\n",
       "      <td>2.0</td>\n",
       "      <td>2.0</td>\n",
       "      <td>4.0</td>\n",
       "      <td>2.0</td>\n",
       "      <td>5.0</td>\n",
       "      <td>5.0</td>\n",
       "    </tr>\n",
       "    <tr>\n",
       "      <th>warranty</th>\n",
       "      <td>No</td>\n",
       "      <td>No</td>\n",
       "      <td>No</td>\n",
       "      <td>No</td>\n",
       "      <td>No</td>\n",
       "      <td>No</td>\n",
       "      <td>Yes</td>\n",
       "      <td>Yes</td>\n",
       "      <td>Yes</td>\n",
       "      <td>Yes</td>\n",
       "      <td>...</td>\n",
       "      <td>No</td>\n",
       "      <td>No</td>\n",
       "      <td>No</td>\n",
       "      <td>No</td>\n",
       "      <td>No</td>\n",
       "      <td>No</td>\n",
       "      <td>No</td>\n",
       "      <td>No</td>\n",
       "      <td>No</td>\n",
       "      <td>No</td>\n",
       "    </tr>\n",
       "    <tr>\n",
       "      <th>mileage</th>\n",
       "      <td>20926.0</td>\n",
       "      <td>59629.0</td>\n",
       "      <td>147985.0</td>\n",
       "      <td>110.0</td>\n",
       "      <td>110.0</td>\n",
       "      <td>2000.0</td>\n",
       "      <td>999.0</td>\n",
       "      <td>90.0</td>\n",
       "      <td>1000.0</td>\n",
       "      <td>1000.0</td>\n",
       "      <td>...</td>\n",
       "      <td>999999.0</td>\n",
       "      <td>15000.0</td>\n",
       "      <td>25600.0</td>\n",
       "      <td>3500.0</td>\n",
       "      <td>60000.0</td>\n",
       "      <td>1233.0</td>\n",
       "      <td>65515.0</td>\n",
       "      <td>5000.0</td>\n",
       "      <td>10.0</td>\n",
       "      <td>29961.0</td>\n",
       "    </tr>\n",
       "    <tr>\n",
       "      <th>gearbox</th>\n",
       "      <td>Manual</td>\n",
       "      <td>Manual</td>\n",
       "      <td>Manual</td>\n",
       "      <td>Automatic</td>\n",
       "      <td>Automatic</td>\n",
       "      <td>Manual</td>\n",
       "      <td>Manual</td>\n",
       "      <td>Manual</td>\n",
       "      <td>Manual</td>\n",
       "      <td>Manual</td>\n",
       "      <td>...</td>\n",
       "      <td>Manual</td>\n",
       "      <td>Manual</td>\n",
       "      <td>Automatic</td>\n",
       "      <td>Automatic</td>\n",
       "      <td>Manual</td>\n",
       "      <td>Manual</td>\n",
       "      <td>Manual</td>\n",
       "      <td>Automatic</td>\n",
       "      <td>Automatic</td>\n",
       "      <td>Automatic</td>\n",
       "    </tr>\n",
       "    <tr>\n",
       "      <th>fuel_type</th>\n",
       "      <td>LPG</td>\n",
       "      <td>Benzine</td>\n",
       "      <td>Benzine</td>\n",
       "      <td>Electric</td>\n",
       "      <td>Electric</td>\n",
       "      <td>Benzine</td>\n",
       "      <td>Benzine</td>\n",
       "      <td>LPG</td>\n",
       "      <td>Diesel</td>\n",
       "      <td>Diesel</td>\n",
       "      <td>...</td>\n",
       "      <td>Benzine</td>\n",
       "      <td>Benzine</td>\n",
       "      <td>Benzine</td>\n",
       "      <td>Benzine</td>\n",
       "      <td>Benzine</td>\n",
       "      <td>Benzine</td>\n",
       "      <td>Benzine</td>\n",
       "      <td>Benzine</td>\n",
       "      <td>Benzine</td>\n",
       "      <td>Electric</td>\n",
       "    </tr>\n",
       "    <tr>\n",
       "      <th>colour</th>\n",
       "      <td>Grey</td>\n",
       "      <td>Grey</td>\n",
       "      <td>Blue</td>\n",
       "      <td>Black</td>\n",
       "      <td>Black</td>\n",
       "      <td>Grey</td>\n",
       "      <td>Brown</td>\n",
       "      <td>White</td>\n",
       "      <td>Orange</td>\n",
       "      <td>Orange</td>\n",
       "      <td>...</td>\n",
       "      <td>Brown</td>\n",
       "      <td>Black</td>\n",
       "      <td>Red</td>\n",
       "      <td>Black</td>\n",
       "      <td>Black</td>\n",
       "      <td>White</td>\n",
       "      <td>Green</td>\n",
       "      <td>Red</td>\n",
       "      <td>Silver</td>\n",
       "      <td>Grey</td>\n",
       "    </tr>\n",
       "    <tr>\n",
       "      <th>paint</th>\n",
       "      <td>non_metallic</td>\n",
       "      <td>non_metallic</td>\n",
       "      <td>non_metallic</td>\n",
       "      <td>Metallic</td>\n",
       "      <td>Metallic</td>\n",
       "      <td>Metallic</td>\n",
       "      <td>non_metallic</td>\n",
       "      <td>non_metallic</td>\n",
       "      <td>non_metallic</td>\n",
       "      <td>non_metallic</td>\n",
       "      <td>...</td>\n",
       "      <td>non_metallic</td>\n",
       "      <td>non_metallic</td>\n",
       "      <td>non_metallic</td>\n",
       "      <td>non_metallic</td>\n",
       "      <td>non_metallic</td>\n",
       "      <td>non_metallic</td>\n",
       "      <td>non_metallic</td>\n",
       "      <td>Metallic</td>\n",
       "      <td>non_metallic</td>\n",
       "      <td>Metallic</td>\n",
       "    </tr>\n",
       "    <tr>\n",
       "      <th>seller</th>\n",
       "      <td>Dealer</td>\n",
       "      <td>Dealer</td>\n",
       "      <td>Dealer</td>\n",
       "      <td>Dealer</td>\n",
       "      <td>Dealer</td>\n",
       "      <td>Dealer</td>\n",
       "      <td>Dealer</td>\n",
       "      <td>Dealer</td>\n",
       "      <td>Dealer</td>\n",
       "      <td>Dealer</td>\n",
       "      <td>...</td>\n",
       "      <td>Dealer</td>\n",
       "      <td>Private seller</td>\n",
       "      <td>Dealer</td>\n",
       "      <td>Dealer</td>\n",
       "      <td>Private seller</td>\n",
       "      <td>Dealer</td>\n",
       "      <td>Dealer</td>\n",
       "      <td>Dealer</td>\n",
       "      <td>Dealer</td>\n",
       "      <td>Dealer</td>\n",
       "    </tr>\n",
       "    <tr>\n",
       "      <th>seats</th>\n",
       "      <td>5.0</td>\n",
       "      <td>4.0</td>\n",
       "      <td>4.0</td>\n",
       "      <td>5.0</td>\n",
       "      <td>5.0</td>\n",
       "      <td>7.0</td>\n",
       "      <td>5.0</td>\n",
       "      <td>5.0</td>\n",
       "      <td>5.0</td>\n",
       "      <td>5.0</td>\n",
       "      <td>...</td>\n",
       "      <td>4.0</td>\n",
       "      <td>2.0</td>\n",
       "      <td>2.0</td>\n",
       "      <td>4.0</td>\n",
       "      <td>2.0</td>\n",
       "      <td>2.0</td>\n",
       "      <td>4.0</td>\n",
       "      <td>2.0</td>\n",
       "      <td>5.0</td>\n",
       "      <td>5.0</td>\n",
       "    </tr>\n",
       "    <tr>\n",
       "      <th>engine_size</th>\n",
       "      <td>999.0</td>\n",
       "      <td>1368.0</td>\n",
       "      <td>1598.0</td>\n",
       "      <td>0.0</td>\n",
       "      <td>0.0</td>\n",
       "      <td>999.0</td>\n",
       "      <td>1659.0</td>\n",
       "      <td>16597.0</td>\n",
       "      <td>1461.0</td>\n",
       "      <td>1461.0</td>\n",
       "      <td>...</td>\n",
       "      <td>2518.0</td>\n",
       "      <td>5788.0</td>\n",
       "      <td>5300.0</td>\n",
       "      <td>5788.0</td>\n",
       "      <td>5700.0</td>\n",
       "      <td>1122.0</td>\n",
       "      <td>2043.0</td>\n",
       "      <td>3375.0</td>\n",
       "      <td>2000.0</td>\n",
       "      <td>1580.0</td>\n",
       "    </tr>\n",
       "    <tr>\n",
       "      <th>gears</th>\n",
       "      <td>5.0</td>\n",
       "      <td>5.0</td>\n",
       "      <td>5.0</td>\n",
       "      <td>1.0</td>\n",
       "      <td>1.0</td>\n",
       "      <td>1.0</td>\n",
       "      <td>6.0</td>\n",
       "      <td>5.0</td>\n",
       "      <td>6.0</td>\n",
       "      <td>6.0</td>\n",
       "      <td>...</td>\n",
       "      <td>4.0</td>\n",
       "      <td>3.0</td>\n",
       "      <td>3.0</td>\n",
       "      <td>3.0</td>\n",
       "      <td>3.0</td>\n",
       "      <td>3.0</td>\n",
       "      <td>6.0</td>\n",
       "      <td>4.0</td>\n",
       "      <td>8.0</td>\n",
       "      <td>6.0</td>\n",
       "    </tr>\n",
       "    <tr>\n",
       "      <th>co2_emissions</th>\n",
       "      <td>106.0</td>\n",
       "      <td>139.0</td>\n",
       "      <td>160.0</td>\n",
       "      <td>0.0</td>\n",
       "      <td>0.0</td>\n",
       "      <td>130.0</td>\n",
       "      <td>144.0</td>\n",
       "      <td>121.0</td>\n",
       "      <td>106.0</td>\n",
       "      <td>106.0</td>\n",
       "      <td>...</td>\n",
       "      <td>152.0</td>\n",
       "      <td>148.0</td>\n",
       "      <td>148.0</td>\n",
       "      <td>148.0</td>\n",
       "      <td>148.0</td>\n",
       "      <td>52.0</td>\n",
       "      <td>148.0</td>\n",
       "      <td>113.0</td>\n",
       "      <td>194.0</td>\n",
       "      <td>26.0</td>\n",
       "    </tr>\n",
       "    <tr>\n",
       "      <th>drivetrain</th>\n",
       "      <td>Front</td>\n",
       "      <td>Front</td>\n",
       "      <td>Front</td>\n",
       "      <td>Front</td>\n",
       "      <td>Front</td>\n",
       "      <td>Front</td>\n",
       "      <td>Front</td>\n",
       "      <td>Front</td>\n",
       "      <td>Front</td>\n",
       "      <td>Front</td>\n",
       "      <td>...</td>\n",
       "      <td>Rear</td>\n",
       "      <td>Front</td>\n",
       "      <td>Front</td>\n",
       "      <td>Front</td>\n",
       "      <td>Rear</td>\n",
       "      <td>Rear</td>\n",
       "      <td>Front</td>\n",
       "      <td>Rear</td>\n",
       "      <td>4WD</td>\n",
       "      <td>Front</td>\n",
       "    </tr>\n",
       "    <tr>\n",
       "      <th>cylinders</th>\n",
       "      <td>4.0</td>\n",
       "      <td>4.0</td>\n",
       "      <td>4.0</td>\n",
       "      <td>4.0</td>\n",
       "      <td>4.0</td>\n",
       "      <td>4.0</td>\n",
       "      <td>4.0</td>\n",
       "      <td>4.0</td>\n",
       "      <td>4.0</td>\n",
       "      <td>4.0</td>\n",
       "      <td>...</td>\n",
       "      <td>5.0</td>\n",
       "      <td>8.0</td>\n",
       "      <td>8.0</td>\n",
       "      <td>8.0</td>\n",
       "      <td>8.0</td>\n",
       "      <td>4.0</td>\n",
       "      <td>8.0</td>\n",
       "      <td>7.0</td>\n",
       "      <td>4.0</td>\n",
       "      <td>4.0</td>\n",
       "    </tr>\n",
       "    <tr>\n",
       "      <th>empty_weight</th>\n",
       "      <td>1128.0</td>\n",
       "      <td>1010.0</td>\n",
       "      <td>1125.0</td>\n",
       "      <td>990.0</td>\n",
       "      <td>990.0</td>\n",
       "      <td>990.0</td>\n",
       "      <td>1473.0</td>\n",
       "      <td>1265.0</td>\n",
       "      <td>1395.0</td>\n",
       "      <td>1395.0</td>\n",
       "      <td>...</td>\n",
       "      <td>1135.0</td>\n",
       "      <td>1444.0</td>\n",
       "      <td>1444.0</td>\n",
       "      <td>1444.0</td>\n",
       "      <td>1444.0</td>\n",
       "      <td>890.0</td>\n",
       "      <td>1444.0</td>\n",
       "      <td>1660.0</td>\n",
       "      <td>2173.0</td>\n",
       "      <td>1626.0</td>\n",
       "    </tr>\n",
       "    <tr>\n",
       "      <th>service_history</th>\n",
       "      <td>No</td>\n",
       "      <td>Yes</td>\n",
       "      <td>No</td>\n",
       "      <td>Yes</td>\n",
       "      <td>Yes</td>\n",
       "      <td>No</td>\n",
       "      <td>No</td>\n",
       "      <td>No</td>\n",
       "      <td>No</td>\n",
       "      <td>No</td>\n",
       "      <td>...</td>\n",
       "      <td>No</td>\n",
       "      <td>No</td>\n",
       "      <td>No</td>\n",
       "      <td>No</td>\n",
       "      <td>Yes</td>\n",
       "      <td>No</td>\n",
       "      <td>No</td>\n",
       "      <td>Yes</td>\n",
       "      <td>No</td>\n",
       "      <td>Yes</td>\n",
       "    </tr>\n",
       "    <tr>\n",
       "      <th>non_smoker</th>\n",
       "      <td>No</td>\n",
       "      <td>Yes</td>\n",
       "      <td>No</td>\n",
       "      <td>Yes</td>\n",
       "      <td>Yes</td>\n",
       "      <td>Yes</td>\n",
       "      <td>No</td>\n",
       "      <td>No</td>\n",
       "      <td>No</td>\n",
       "      <td>No</td>\n",
       "      <td>...</td>\n",
       "      <td>No</td>\n",
       "      <td>No</td>\n",
       "      <td>No</td>\n",
       "      <td>No</td>\n",
       "      <td>No</td>\n",
       "      <td>No</td>\n",
       "      <td>Yes</td>\n",
       "      <td>Yes</td>\n",
       "      <td>Yes</td>\n",
       "      <td>Yes</td>\n",
       "    </tr>\n",
       "    <tr>\n",
       "      <th>emission_sticker</th>\n",
       "      <td>Green</td>\n",
       "      <td>Green</td>\n",
       "      <td>Green</td>\n",
       "      <td>Green</td>\n",
       "      <td>Green</td>\n",
       "      <td>Green</td>\n",
       "      <td>Green</td>\n",
       "      <td>Green</td>\n",
       "      <td>Green</td>\n",
       "      <td>Green</td>\n",
       "      <td>...</td>\n",
       "      <td>Green</td>\n",
       "      <td>No sticker</td>\n",
       "      <td>Green</td>\n",
       "      <td>No sticker</td>\n",
       "      <td>No sticker</td>\n",
       "      <td>No sticker</td>\n",
       "      <td>No sticker</td>\n",
       "      <td>Green</td>\n",
       "      <td>No sticker</td>\n",
       "      <td>Green</td>\n",
       "    </tr>\n",
       "    <tr>\n",
       "      <th>upholstery_color</th>\n",
       "      <td>Black</td>\n",
       "      <td>Black</td>\n",
       "      <td>Black</td>\n",
       "      <td>Black</td>\n",
       "      <td>Black</td>\n",
       "      <td>Black</td>\n",
       "      <td>Black</td>\n",
       "      <td>Black</td>\n",
       "      <td>Black</td>\n",
       "      <td>Black</td>\n",
       "      <td>...</td>\n",
       "      <td>Black</td>\n",
       "      <td>Black</td>\n",
       "      <td>Other</td>\n",
       "      <td>Black</td>\n",
       "      <td>Black</td>\n",
       "      <td>Black</td>\n",
       "      <td>Grey</td>\n",
       "      <td>Red</td>\n",
       "      <td>Black</td>\n",
       "      <td>Beige</td>\n",
       "    </tr>\n",
       "    <tr>\n",
       "      <th>upholstery</th>\n",
       "      <td>Cloth</td>\n",
       "      <td>Full leather</td>\n",
       "      <td>Full leather</td>\n",
       "      <td>Full leather</td>\n",
       "      <td>Full leather</td>\n",
       "      <td>Cloth</td>\n",
       "      <td>Full leather</td>\n",
       "      <td>Cloth</td>\n",
       "      <td>Other</td>\n",
       "      <td>Cloth</td>\n",
       "      <td>...</td>\n",
       "      <td>Full leather</td>\n",
       "      <td>Cloth</td>\n",
       "      <td>Cloth</td>\n",
       "      <td>Cloth</td>\n",
       "      <td>Cloth</td>\n",
       "      <td>Cloth</td>\n",
       "      <td>Part leather</td>\n",
       "      <td>Cloth</td>\n",
       "      <td>Cloth</td>\n",
       "      <td>Cloth</td>\n",
       "    </tr>\n",
       "    <tr>\n",
       "      <th>available</th>\n",
       "      <td>yes</td>\n",
       "      <td>yes</td>\n",
       "      <td>yes</td>\n",
       "      <td>no</td>\n",
       "      <td>no</td>\n",
       "      <td>no</td>\n",
       "      <td>yes</td>\n",
       "      <td>yes</td>\n",
       "      <td>yes</td>\n",
       "      <td>yes</td>\n",
       "      <td>...</td>\n",
       "      <td>yes</td>\n",
       "      <td>yes</td>\n",
       "      <td>yes</td>\n",
       "      <td>yes</td>\n",
       "      <td>yes</td>\n",
       "      <td>yes</td>\n",
       "      <td>yes</td>\n",
       "      <td>yes</td>\n",
       "      <td>yes</td>\n",
       "      <td>yes</td>\n",
       "    </tr>\n",
       "    <tr>\n",
       "      <th>taxi_rental</th>\n",
       "      <td>No</td>\n",
       "      <td>No</td>\n",
       "      <td>No</td>\n",
       "      <td>No</td>\n",
       "      <td>No</td>\n",
       "      <td>No</td>\n",
       "      <td>No</td>\n",
       "      <td>No</td>\n",
       "      <td>No</td>\n",
       "      <td>No</td>\n",
       "      <td>...</td>\n",
       "      <td>No</td>\n",
       "      <td>No</td>\n",
       "      <td>No</td>\n",
       "      <td>No</td>\n",
       "      <td>No</td>\n",
       "      <td>No</td>\n",
       "      <td>No</td>\n",
       "      <td>No</td>\n",
       "      <td>No</td>\n",
       "      <td>No</td>\n",
       "    </tr>\n",
       "    <tr>\n",
       "      <th>power_kW</th>\n",
       "      <td>71.142857</td>\n",
       "      <td>107.0</td>\n",
       "      <td>81.0</td>\n",
       "      <td>33.0</td>\n",
       "      <td>33.0</td>\n",
       "      <td>81.0</td>\n",
       "      <td>123.592744</td>\n",
       "      <td>80.0</td>\n",
       "      <td>85.0</td>\n",
       "      <td>85.0</td>\n",
       "      <td>...</td>\n",
       "      <td>38.0</td>\n",
       "      <td>51.0</td>\n",
       "      <td>187.0</td>\n",
       "      <td>184.0</td>\n",
       "      <td>162.0</td>\n",
       "      <td>17.0</td>\n",
       "      <td>21.0</td>\n",
       "      <td>1.0</td>\n",
       "      <td>180.0</td>\n",
       "      <td>103.0</td>\n",
       "    </tr>\n",
       "    <tr>\n",
       "      <th>fuel_consumption_comb</th>\n",
       "      <td>6.2125</td>\n",
       "      <td>6.4</td>\n",
       "      <td>6.640678</td>\n",
       "      <td>3.447727</td>\n",
       "      <td>3.447727</td>\n",
       "      <td>5.6</td>\n",
       "      <td>6.698559</td>\n",
       "      <td>6.45</td>\n",
       "      <td>4.584946</td>\n",
       "      <td>4.584946</td>\n",
       "      <td>...</td>\n",
       "      <td>6.5</td>\n",
       "      <td>6.698559</td>\n",
       "      <td>6.698559</td>\n",
       "      <td>6.698559</td>\n",
       "      <td>6.698559</td>\n",
       "      <td>6.698559</td>\n",
       "      <td>6.698559</td>\n",
       "      <td>6.698559</td>\n",
       "      <td>8.3</td>\n",
       "      <td>1.1</td>\n",
       "    </tr>\n",
       "    <tr>\n",
       "      <th>location_country</th>\n",
       "      <td>France</td>\n",
       "      <td>Netherlands</td>\n",
       "      <td>Netherlands</td>\n",
       "      <td>Germany</td>\n",
       "      <td>Germany</td>\n",
       "      <td>Germany</td>\n",
       "      <td>Belgium</td>\n",
       "      <td>Belgium</td>\n",
       "      <td>Spain</td>\n",
       "      <td>Spain</td>\n",
       "      <td>...</td>\n",
       "      <td>Germany</td>\n",
       "      <td>Netherlands</td>\n",
       "      <td>France</td>\n",
       "      <td>France</td>\n",
       "      <td>Germany</td>\n",
       "      <td>Belgium</td>\n",
       "      <td>Belgium</td>\n",
       "      <td>Belgium</td>\n",
       "      <td>Germany</td>\n",
       "      <td>Germany</td>\n",
       "    </tr>\n",
       "    <tr>\n",
       "      <th>age</th>\n",
       "      <td>-180.0</td>\n",
       "      <td>-3.0</td>\n",
       "      <td>-1.0</td>\n",
       "      <td>0.0</td>\n",
       "      <td>0.0</td>\n",
       "      <td>0.0</td>\n",
       "      <td>0.0</td>\n",
       "      <td>0.0</td>\n",
       "      <td>0.0</td>\n",
       "      <td>0.0</td>\n",
       "      <td>...</td>\n",
       "      <td>89.0</td>\n",
       "      <td>90.0</td>\n",
       "      <td>90.0</td>\n",
       "      <td>90.0</td>\n",
       "      <td>92.0</td>\n",
       "      <td>92.0</td>\n",
       "      <td>93.0</td>\n",
       "      <td>94.0</td>\n",
       "      <td>122.0</td>\n",
       "      <td>122.0</td>\n",
       "    </tr>\n",
       "    <tr>\n",
       "      <th>inspection_status</th>\n",
       "      <td>no</td>\n",
       "      <td>no</td>\n",
       "      <td>no</td>\n",
       "      <td>no</td>\n",
       "      <td>no</td>\n",
       "      <td>no</td>\n",
       "      <td>no</td>\n",
       "      <td>no</td>\n",
       "      <td>no</td>\n",
       "      <td>no</td>\n",
       "      <td>...</td>\n",
       "      <td>no</td>\n",
       "      <td>no</td>\n",
       "      <td>no</td>\n",
       "      <td>no</td>\n",
       "      <td>yes</td>\n",
       "      <td>no</td>\n",
       "      <td>no</td>\n",
       "      <td>no</td>\n",
       "      <td>no</td>\n",
       "      <td>no</td>\n",
       "    </tr>\n",
       "    <tr>\n",
       "      <th>energy_efficiency_class</th>\n",
       "      <td>Inefficient</td>\n",
       "      <td>Inefficient</td>\n",
       "      <td>Efficient</td>\n",
       "      <td>Efficient</td>\n",
       "      <td>Efficient</td>\n",
       "      <td>Inefficient</td>\n",
       "      <td>Efficient</td>\n",
       "      <td>Inefficient</td>\n",
       "      <td>Inefficient</td>\n",
       "      <td>Inefficient</td>\n",
       "      <td>...</td>\n",
       "      <td>Efficient</td>\n",
       "      <td>Efficient</td>\n",
       "      <td>Efficient</td>\n",
       "      <td>Efficient</td>\n",
       "      <td>Efficient</td>\n",
       "      <td>Efficient</td>\n",
       "      <td>Efficient</td>\n",
       "      <td>Efficient</td>\n",
       "      <td>Efficient</td>\n",
       "      <td>Efficient</td>\n",
       "    </tr>\n",
       "    <tr>\n",
       "      <th>safety_security_package</th>\n",
       "      <td>Advanced</td>\n",
       "      <td>Enhanced</td>\n",
       "      <td>Enhanced</td>\n",
       "      <td>Enhanced</td>\n",
       "      <td>Enhanced</td>\n",
       "      <td>Enhanced</td>\n",
       "      <td>Advanced</td>\n",
       "      <td>Basic</td>\n",
       "      <td>Advanced</td>\n",
       "      <td>Advanced</td>\n",
       "      <td>...</td>\n",
       "      <td>Advanced</td>\n",
       "      <td>Enhanced</td>\n",
       "      <td>Enhanced</td>\n",
       "      <td>Enhanced</td>\n",
       "      <td>Enhanced</td>\n",
       "      <td>Enhanced</td>\n",
       "      <td>Enhanced</td>\n",
       "      <td>Advanced</td>\n",
       "      <td>Advanced</td>\n",
       "      <td>Advanced</td>\n",
       "    </tr>\n",
       "    <tr>\n",
       "      <th>comfort_convenience_package</th>\n",
       "      <td>Enhanced</td>\n",
       "      <td>Enhanced</td>\n",
       "      <td>Enhanced</td>\n",
       "      <td>Advanced</td>\n",
       "      <td>Advanced</td>\n",
       "      <td>Advanced</td>\n",
       "      <td>Advanced</td>\n",
       "      <td>Basic</td>\n",
       "      <td>Advanced</td>\n",
       "      <td>Advanced</td>\n",
       "      <td>...</td>\n",
       "      <td>Advanced</td>\n",
       "      <td>Enhanced</td>\n",
       "      <td>Enhanced</td>\n",
       "      <td>Enhanced</td>\n",
       "      <td>Basic</td>\n",
       "      <td>Basic</td>\n",
       "      <td>Basic</td>\n",
       "      <td>Advanced</td>\n",
       "      <td>Advanced</td>\n",
       "      <td>Advanced</td>\n",
       "    </tr>\n",
       "    <tr>\n",
       "      <th>ent_media_package</th>\n",
       "      <td>Advanced</td>\n",
       "      <td>Advanced</td>\n",
       "      <td>Advanced</td>\n",
       "      <td>Enhanced</td>\n",
       "      <td>Enhanced</td>\n",
       "      <td>Advanced</td>\n",
       "      <td>Enhanced</td>\n",
       "      <td>Advanced</td>\n",
       "      <td>Advanced</td>\n",
       "      <td>Advanced</td>\n",
       "      <td>...</td>\n",
       "      <td>Advanced</td>\n",
       "      <td>Enhanced</td>\n",
       "      <td>Enhanced</td>\n",
       "      <td>Enhanced</td>\n",
       "      <td>Enhanced</td>\n",
       "      <td>Enhanced</td>\n",
       "      <td>Enhanced</td>\n",
       "      <td>Advanced</td>\n",
       "      <td>Advanced</td>\n",
       "      <td>Advanced</td>\n",
       "    </tr>\n",
       "    <tr>\n",
       "      <th>num_of_extras</th>\n",
       "      <td>1</td>\n",
       "      <td>3</td>\n",
       "      <td>1</td>\n",
       "      <td>2</td>\n",
       "      <td>2</td>\n",
       "      <td>2</td>\n",
       "      <td>3</td>\n",
       "      <td>9</td>\n",
       "      <td>2</td>\n",
       "      <td>2</td>\n",
       "      <td>...</td>\n",
       "      <td>3</td>\n",
       "      <td>1</td>\n",
       "      <td>1</td>\n",
       "      <td>1</td>\n",
       "      <td>1</td>\n",
       "      <td>1</td>\n",
       "      <td>1</td>\n",
       "      <td>5</td>\n",
       "      <td>3</td>\n",
       "      <td>3</td>\n",
       "    </tr>\n",
       "  </tbody>\n",
       "</table>\n",
       "<p>36 rows × 26859 columns</p>\n",
       "</div>"
      ],
      "text/plain": [
       "                                    0                1             2      \\\n",
       "make_model                   Renault Clio  Fiat 500 Abarth  Nissan Micra   \n",
       "price                             16990.0          17995.0        3250.0   \n",
       "body_type                           Sedan          Compact   Convertible   \n",
       "type                                 Used             Used          Used   \n",
       "doors                                 5.0              3.0           2.0   \n",
       "warranty                               No               No            No   \n",
       "mileage                           20926.0          59629.0      147985.0   \n",
       "gearbox                            Manual           Manual        Manual   \n",
       "fuel_type                             LPG          Benzine       Benzine   \n",
       "colour                               Grey             Grey          Blue   \n",
       "paint                        non_metallic     non_metallic  non_metallic   \n",
       "seller                             Dealer           Dealer        Dealer   \n",
       "seats                                 5.0              4.0           4.0   \n",
       "engine_size                         999.0           1368.0        1598.0   \n",
       "gears                                 5.0              5.0           5.0   \n",
       "co2_emissions                       106.0            139.0         160.0   \n",
       "drivetrain                          Front            Front         Front   \n",
       "cylinders                             4.0              4.0           4.0   \n",
       "empty_weight                       1128.0           1010.0        1125.0   \n",
       "service_history                        No              Yes            No   \n",
       "non_smoker                             No              Yes            No   \n",
       "emission_sticker                    Green            Green         Green   \n",
       "upholstery_color                    Black            Black         Black   \n",
       "upholstery                          Cloth     Full leather  Full leather   \n",
       "available                             yes              yes           yes   \n",
       "taxi_rental                            No               No            No   \n",
       "power_kW                        71.142857            107.0          81.0   \n",
       "fuel_consumption_comb              6.2125              6.4      6.640678   \n",
       "location_country                   France      Netherlands   Netherlands   \n",
       "age                                -180.0             -3.0          -1.0   \n",
       "inspection_status                      no               no            no   \n",
       "energy_efficiency_class       Inefficient      Inefficient     Efficient   \n",
       "safety_security_package          Advanced         Enhanced      Enhanced   \n",
       "comfort_convenience_package      Enhanced         Enhanced      Enhanced   \n",
       "ent_media_package                Advanced         Advanced      Advanced   \n",
       "num_of_extras                           1                3             1   \n",
       "\n",
       "                                       3                4               5      \\\n",
       "make_model                            Dacia            Dacia           Dacia    \n",
       "price                                22299.0          22479.0         21799.0   \n",
       "body_type                            Compact          Compact   Station wagon   \n",
       "type                          Pre-registered   Pre-registered   Demonstration   \n",
       "doors                                    5.0              5.0             5.0   \n",
       "warranty                                  No               No              No   \n",
       "mileage                                110.0            110.0          2000.0   \n",
       "gearbox                            Automatic        Automatic          Manual   \n",
       "fuel_type                           Electric         Electric         Benzine   \n",
       "colour                                 Black            Black            Grey   \n",
       "paint                               Metallic         Metallic        Metallic   \n",
       "seller                                Dealer           Dealer          Dealer   \n",
       "seats                                    5.0              5.0             7.0   \n",
       "engine_size                              0.0              0.0           999.0   \n",
       "gears                                    1.0              1.0             1.0   \n",
       "co2_emissions                            0.0              0.0           130.0   \n",
       "drivetrain                             Front            Front           Front   \n",
       "cylinders                                4.0              4.0             4.0   \n",
       "empty_weight                           990.0            990.0           990.0   \n",
       "service_history                          Yes              Yes              No   \n",
       "non_smoker                               Yes              Yes             Yes   \n",
       "emission_sticker                       Green            Green           Green   \n",
       "upholstery_color                       Black            Black           Black   \n",
       "upholstery                      Full leather     Full leather           Cloth   \n",
       "available                                 no               no              no   \n",
       "taxi_rental                               No               No              No   \n",
       "power_kW                                33.0             33.0            81.0   \n",
       "fuel_consumption_comb               3.447727         3.447727             5.6   \n",
       "location_country                     Germany          Germany         Germany   \n",
       "age                                      0.0              0.0             0.0   \n",
       "inspection_status                         no               no              no   \n",
       "energy_efficiency_class            Efficient        Efficient     Inefficient   \n",
       "safety_security_package             Enhanced         Enhanced        Enhanced   \n",
       "comfort_convenience_package         Advanced         Advanced        Advanced   \n",
       "ent_media_package                   Enhanced         Enhanced        Advanced   \n",
       "num_of_extras                              2                2               2   \n",
       "\n",
       "                                      6               7      \\\n",
       "make_model                      Dacia Break    Dacia Dokker   \n",
       "price                               20500.0         16900.0   \n",
       "body_type                     Station wagon   Station wagon   \n",
       "type                          Demonstration            Used   \n",
       "doors                                   4.0             6.0   \n",
       "warranty                                Yes             Yes   \n",
       "mileage                               999.0            90.0   \n",
       "gearbox                              Manual          Manual   \n",
       "fuel_type                           Benzine             LPG   \n",
       "colour                                Brown           White   \n",
       "paint                          non_metallic    non_metallic   \n",
       "seller                               Dealer          Dealer   \n",
       "seats                                   5.0             5.0   \n",
       "engine_size                          1659.0         16597.0   \n",
       "gears                                   6.0             5.0   \n",
       "co2_emissions                         144.0           121.0   \n",
       "drivetrain                            Front           Front   \n",
       "cylinders                               4.0             4.0   \n",
       "empty_weight                         1473.0          1265.0   \n",
       "service_history                          No              No   \n",
       "non_smoker                               No              No   \n",
       "emission_sticker                      Green           Green   \n",
       "upholstery_color                      Black           Black   \n",
       "upholstery                     Full leather           Cloth   \n",
       "available                               yes             yes   \n",
       "taxi_rental                              No              No   \n",
       "power_kW                         123.592744            80.0   \n",
       "fuel_consumption_comb              6.698559            6.45   \n",
       "location_country                    Belgium         Belgium   \n",
       "age                                     0.0             0.0   \n",
       "inspection_status                        no              no   \n",
       "energy_efficiency_class           Efficient     Inefficient   \n",
       "safety_security_package            Advanced           Basic   \n",
       "comfort_convenience_package        Advanced           Basic   \n",
       "ent_media_package                  Enhanced        Advanced   \n",
       "num_of_extras                             3               9   \n",
       "\n",
       "                                         8                  9      ...  \\\n",
       "make_model                        Dacia Duster       Dacia Duster  ...   \n",
       "price                                  21000.0            21000.0  ...   \n",
       "body_type                     Off-Road/Pick-up   Off-Road/Pick-up  ...   \n",
       "type                            Pre-registered     Pre-registered  ...   \n",
       "doors                                      5.0                5.0  ...   \n",
       "warranty                                   Yes                Yes  ...   \n",
       "mileage                                 1000.0             1000.0  ...   \n",
       "gearbox                                 Manual             Manual  ...   \n",
       "fuel_type                               Diesel             Diesel  ...   \n",
       "colour                                  Orange             Orange  ...   \n",
       "paint                             non_metallic       non_metallic  ...   \n",
       "seller                                  Dealer             Dealer  ...   \n",
       "seats                                      5.0                5.0  ...   \n",
       "engine_size                             1461.0             1461.0  ...   \n",
       "gears                                      6.0                6.0  ...   \n",
       "co2_emissions                            106.0              106.0  ...   \n",
       "drivetrain                               Front              Front  ...   \n",
       "cylinders                                  4.0                4.0  ...   \n",
       "empty_weight                            1395.0             1395.0  ...   \n",
       "service_history                             No                 No  ...   \n",
       "non_smoker                                  No                 No  ...   \n",
       "emission_sticker                         Green              Green  ...   \n",
       "upholstery_color                         Black              Black  ...   \n",
       "upholstery                               Other              Cloth  ...   \n",
       "available                                  yes                yes  ...   \n",
       "taxi_rental                                 No                 No  ...   \n",
       "power_kW                                  85.0               85.0  ...   \n",
       "fuel_consumption_comb                 4.584946           4.584946  ...   \n",
       "location_country                         Spain              Spain  ...   \n",
       "age                                        0.0                0.0  ...   \n",
       "inspection_status                           no                 no  ...   \n",
       "energy_efficiency_class            Inefficient        Inefficient  ...   \n",
       "safety_security_package               Advanced           Advanced  ...   \n",
       "comfort_convenience_package           Advanced           Advanced  ...   \n",
       "ent_media_package                     Advanced           Advanced  ...   \n",
       "num_of_extras                                2                  2  ...   \n",
       "\n",
       "                                    26849           26850         26851  \\\n",
       "make_model                          Fiat         Ford  V8      Ford  V8   \n",
       "price                            159000.0         40000.0       54990.0   \n",
       "body_type                     Convertible     Convertible   Convertible   \n",
       "type                                 Used            Used          Used   \n",
       "doors                                 4.0             2.0           2.0   \n",
       "warranty                               No              No            No   \n",
       "mileage                          999999.0         15000.0       25600.0   \n",
       "gearbox                            Manual          Manual     Automatic   \n",
       "fuel_type                         Benzine         Benzine       Benzine   \n",
       "colour                              Brown           Black           Red   \n",
       "paint                        non_metallic    non_metallic  non_metallic   \n",
       "seller                             Dealer  Private seller        Dealer   \n",
       "seats                                 4.0             2.0           2.0   \n",
       "engine_size                        2518.0          5788.0        5300.0   \n",
       "gears                                 4.0             3.0           3.0   \n",
       "co2_emissions                       152.0           148.0         148.0   \n",
       "drivetrain                           Rear           Front         Front   \n",
       "cylinders                             5.0             8.0           8.0   \n",
       "empty_weight                       1135.0          1444.0        1444.0   \n",
       "service_history                        No              No            No   \n",
       "non_smoker                             No              No            No   \n",
       "emission_sticker                    Green      No sticker         Green   \n",
       "upholstery_color                    Black           Black         Other   \n",
       "upholstery                   Full leather           Cloth         Cloth   \n",
       "available                             yes             yes           yes   \n",
       "taxi_rental                            No              No            No   \n",
       "power_kW                             38.0            51.0         187.0   \n",
       "fuel_consumption_comb                 6.5        6.698559      6.698559   \n",
       "location_country                  Germany     Netherlands        France   \n",
       "age                                  89.0            90.0          90.0   \n",
       "inspection_status                      no              no            no   \n",
       "energy_efficiency_class         Efficient       Efficient     Efficient   \n",
       "safety_security_package          Advanced        Enhanced      Enhanced   \n",
       "comfort_convenience_package      Advanced        Enhanced      Enhanced   \n",
       "ent_media_package                Advanced        Enhanced      Enhanced   \n",
       "num_of_extras                           3               1             1   \n",
       "\n",
       "                                    26852           26853         26854  \\\n",
       "make_model                       Ford  V8  Ford  Roadster      Peugeot    \n",
       "price                             49900.0         40000.0        8950.0   \n",
       "body_type                     Convertible     Convertible         Coupe   \n",
       "type                                 Used            Used          Used   \n",
       "doors                                 2.0             2.0           2.0   \n",
       "warranty                               No              No            No   \n",
       "mileage                            3500.0         60000.0        1233.0   \n",
       "gearbox                         Automatic          Manual        Manual   \n",
       "fuel_type                         Benzine         Benzine       Benzine   \n",
       "colour                              Black           Black         White   \n",
       "paint                        non_metallic    non_metallic  non_metallic   \n",
       "seller                             Dealer  Private seller        Dealer   \n",
       "seats                                 4.0             2.0           2.0   \n",
       "engine_size                        5788.0          5700.0        1122.0   \n",
       "gears                                 3.0             3.0           3.0   \n",
       "co2_emissions                       148.0           148.0          52.0   \n",
       "drivetrain                          Front            Rear          Rear   \n",
       "cylinders                             8.0             8.0           4.0   \n",
       "empty_weight                       1444.0          1444.0         890.0   \n",
       "service_history                        No             Yes            No   \n",
       "non_smoker                             No              No            No   \n",
       "emission_sticker               No sticker      No sticker    No sticker   \n",
       "upholstery_color                    Black           Black         Black   \n",
       "upholstery                          Cloth           Cloth         Cloth   \n",
       "available                             yes             yes           yes   \n",
       "taxi_rental                            No              No            No   \n",
       "power_kW                            184.0           162.0          17.0   \n",
       "fuel_consumption_comb            6.698559        6.698559      6.698559   \n",
       "location_country                   France         Germany       Belgium   \n",
       "age                                  90.0            92.0          92.0   \n",
       "inspection_status                      no             yes            no   \n",
       "energy_efficiency_class         Efficient       Efficient     Efficient   \n",
       "safety_security_package          Enhanced        Enhanced      Enhanced   \n",
       "comfort_convenience_package      Enhanced           Basic         Basic   \n",
       "ent_media_package                Enhanced        Enhanced      Enhanced   \n",
       "num_of_extras                           1               1             1   \n",
       "\n",
       "                                    26855         26856              26857  \\\n",
       "make_model                         Ford M         Ford         Ford Bronco   \n",
       "price                             20000.0       14490.0            57480.0   \n",
       "body_type                     Convertible   Convertible   Off-Road/Pick-up   \n",
       "type                                 Used          Used               Used   \n",
       "doors                                 4.0           2.0                5.0   \n",
       "warranty                               No            No                 No   \n",
       "mileage                           65515.0        5000.0               10.0   \n",
       "gearbox                            Manual     Automatic          Automatic   \n",
       "fuel_type                         Benzine       Benzine            Benzine   \n",
       "colour                              Green           Red             Silver   \n",
       "paint                        non_metallic      Metallic       non_metallic   \n",
       "seller                             Dealer        Dealer             Dealer   \n",
       "seats                                 4.0           2.0                5.0   \n",
       "engine_size                        2043.0        3375.0             2000.0   \n",
       "gears                                 6.0           4.0                8.0   \n",
       "co2_emissions                       148.0         113.0              194.0   \n",
       "drivetrain                          Front          Rear                4WD   \n",
       "cylinders                             8.0           7.0                4.0   \n",
       "empty_weight                       1444.0        1660.0             2173.0   \n",
       "service_history                        No           Yes                 No   \n",
       "non_smoker                            Yes           Yes                Yes   \n",
       "emission_sticker               No sticker         Green         No sticker   \n",
       "upholstery_color                     Grey           Red              Black   \n",
       "upholstery                   Part leather         Cloth              Cloth   \n",
       "available                             yes           yes                yes   \n",
       "taxi_rental                            No            No                 No   \n",
       "power_kW                             21.0           1.0              180.0   \n",
       "fuel_consumption_comb            6.698559      6.698559                8.3   \n",
       "location_country                  Belgium       Belgium            Germany   \n",
       "age                                  93.0          94.0              122.0   \n",
       "inspection_status                      no            no                 no   \n",
       "energy_efficiency_class         Efficient     Efficient          Efficient   \n",
       "safety_security_package          Enhanced      Advanced           Advanced   \n",
       "comfort_convenience_package         Basic      Advanced           Advanced   \n",
       "ent_media_package                Enhanced      Advanced           Advanced   \n",
       "num_of_extras                           1             5                  3   \n",
       "\n",
       "                                     26858  \n",
       "make_model                   Hyundai IONIQ  \n",
       "price                              26991.0  \n",
       "body_type                            Sedan  \n",
       "type                                  Used  \n",
       "doors                                  5.0  \n",
       "warranty                                No  \n",
       "mileage                            29961.0  \n",
       "gearbox                          Automatic  \n",
       "fuel_type                         Electric  \n",
       "colour                                Grey  \n",
       "paint                             Metallic  \n",
       "seller                              Dealer  \n",
       "seats                                  5.0  \n",
       "engine_size                         1580.0  \n",
       "gears                                  6.0  \n",
       "co2_emissions                         26.0  \n",
       "drivetrain                           Front  \n",
       "cylinders                              4.0  \n",
       "empty_weight                        1626.0  \n",
       "service_history                        Yes  \n",
       "non_smoker                             Yes  \n",
       "emission_sticker                     Green  \n",
       "upholstery_color                     Beige  \n",
       "upholstery                           Cloth  \n",
       "available                              yes  \n",
       "taxi_rental                             No  \n",
       "power_kW                             103.0  \n",
       "fuel_consumption_comb                  1.1  \n",
       "location_country                   Germany  \n",
       "age                                  122.0  \n",
       "inspection_status                       no  \n",
       "energy_efficiency_class          Efficient  \n",
       "safety_security_package           Advanced  \n",
       "comfort_convenience_package       Advanced  \n",
       "ent_media_package                 Advanced  \n",
       "num_of_extras                            3  \n",
       "\n",
       "[36 rows x 26859 columns]"
      ]
     },
     "execution_count": 804,
     "metadata": {},
     "output_type": "execute_result"
    }
   ],
   "source": [
    "df.T\n"
   ]
  },
  {
   "cell_type": "code",
   "execution_count": 805,
   "id": "aaff2d4d",
   "metadata": {},
   "outputs": [],
   "source": [
    "# df.to_csv('Handling_Missing_Values.csv', index=False)"
   ]
  },
  {
   "cell_type": "markdown",
   "id": "4c5f4046",
   "metadata": {},
   "source": [
    "[CO2 efficiency ]{https://www.acriss.org/reference/co2-emissions-efficiency/}\n",
    "    "
   ]
  },
  {
   "cell_type": "markdown",
   "id": "c0b5469e",
   "metadata": {},
   "source": [
    "[different-car-body-types]{https://www.cartrade.com/blog/2013/auto-guides/different-car-body-types-494.html}"
   ]
  },
  {
   "cell_type": "markdown",
   "id": "e62874a4",
   "metadata": {},
   "source": [
    "[Most Populer Car Features]{https://www.cars.com/articles/10-most-popular-car-features-418445/}"
   ]
  },
  {
   "cell_type": "markdown",
   "id": "ec7fc5f7",
   "metadata": {},
   "source": [
    "[Safety Security Features]{https://www.holtsauto.com/holts/news/guide-cars-safety-features/}"
   ]
  },
  {
   "cell_type": "markdown",
   "id": "54eb1d71",
   "metadata": {},
   "source": [
    "[Safety Features]{https://www.nerdwallet.com/article/cars/car-shopping/car-safety-features-what-you-need-to-know}"
   ]
  },
  {
   "cell_type": "markdown",
   "id": "10908480",
   "metadata": {},
   "source": [
    "[Car Extras]{https://www.motoringresearch.com/advice/5-best-new-car-optional-extras-revealed/}"
   ]
  },
  {
   "cell_type": "markdown",
   "id": "92554efb",
   "metadata": {},
   "source": [
    "[Car Features]{https://www.spinny.com/blog/index.php/car-features-explained/}"
   ]
  },
  {
   "cell_type": "markdown",
   "id": "b9e08234",
   "metadata": {},
   "source": [
    "[Car Safety Features]{https://www.moneybarn.com/blog/researching-a-vehicle/car-safety-features/}"
   ]
  },
  {
   "cell_type": "code",
   "execution_count": null,
   "id": "ec98c28a",
   "metadata": {},
   "outputs": [],
   "source": []
  }
 ],
 "metadata": {
  "kernelspec": {
   "display_name": "Python 3 (ipykernel)",
   "language": "python",
   "name": "python3"
  },
  "language_info": {
   "codemirror_mode": {
    "name": "ipython",
    "version": 3
   },
   "file_extension": ".py",
   "mimetype": "text/x-python",
   "name": "python",
   "nbconvert_exporter": "python",
   "pygments_lexer": "ipython3",
   "version": "3.11.5"
  },
  "varInspector": {
   "cols": {
    "lenName": 16,
    "lenType": 16,
    "lenVar": 40
   },
   "kernels_config": {
    "python": {
     "delete_cmd_postfix": "",
     "delete_cmd_prefix": "del ",
     "library": "var_list.py",
     "varRefreshCmd": "print(var_dic_list())"
    },
    "r": {
     "delete_cmd_postfix": ") ",
     "delete_cmd_prefix": "rm(",
     "library": "var_list.r",
     "varRefreshCmd": "cat(var_dic_list()) "
    }
   },
   "types_to_exclude": [
    "module",
    "function",
    "builtin_function_or_method",
    "instance",
    "_Feature"
   ],
   "window_display": false
  }
 },
 "nbformat": 4,
 "nbformat_minor": 5
}
